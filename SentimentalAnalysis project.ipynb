{
 "cells": [
  {
   "cell_type": "markdown",
   "id": "527f91ee",
   "metadata": {
    "id": "527f91ee"
   },
   "source": [
    "# Import Libraries"
   ]
  },
  {
   "cell_type": "code",
   "execution_count": null,
   "id": "0988a93a",
   "metadata": {
    "id": "0988a93a"
   },
   "outputs": [],
   "source": [
    "##### Standard Libraries #####\n",
    "import numpy as np\n",
    "import pandas as pd\n",
    "import matplotlib.pyplot as plt\n",
    "import seaborn as sns\n",
    "\n",
    "sns.set_style(\"whitegrid\")\n",
    "sns.set_context(\"poster\")\n",
    "\n",
    "%matplotlib inline"
   ]
  },
  {
   "cell_type": "code",
   "execution_count": null,
   "id": "48c5fb02",
   "metadata": {
    "id": "48c5fb02"
   },
   "outputs": [],
   "source": [
    "##### Other Libraries #####\n",
    "\n",
    "## Classification Algorithms ##\n",
    "from sklearn.neighbors import KNeighborsClassifier\n",
    "from sklearn import tree\n",
    "from sklearn.ensemble import RandomForestClassifier\n",
    "\n",
    "## For building models ##\n",
    "from sklearn.model_selection import train_test_split\n",
    "from sklearn.utils import resample\n",
    "\n",
    "## For measuring performance ##\n",
    "from sklearn import metrics\n",
    "from sklearn.model_selection import cross_val_score\n",
    "\n",
    "## To visualize decision tree ##\n",
    "# from sklearn.externals.six import StringIO\n",
    "from IPython.display import Image\n",
    "from sklearn.tree import export_graphviz\n",
    "# import pydotplus\n",
    "\n",
    "## Ignore warnings ##\n",
    "import warnings\n",
    "warnings.filterwarnings('ignore')"
   ]
  },
  {
   "cell_type": "markdown",
   "id": "491e0530",
   "metadata": {
    "id": "491e0530"
   },
   "source": [
    "# Load the Datset and analyse"
   ]
  },
  {
   "cell_type": "code",
   "execution_count": null,
   "id": "2eadfa72",
   "metadata": {
    "id": "2eadfa72",
    "outputId": "552e99d8-a3f1-401d-ac0e-bde2c0ca51e6"
   },
   "outputs": [
    {
     "data": {
      "text/plain": [
       "(4846, 2)"
      ]
     },
     "execution_count": 9,
     "metadata": {},
     "output_type": "execute_result"
    }
   ],
   "source": [
    "Headlines=pd.read_csv(\"FinancialData.csv\",\n",
    "                      names = ['lables','messages'],encoding='ISO-8859-1')\n",
    "Headlines.shape"
   ]
  },
  {
   "cell_type": "code",
   "execution_count": null,
   "id": "fc31d937",
   "metadata": {
    "id": "fc31d937",
    "outputId": "f7dd77f8-cc7a-4a20-fce8-7f8ca6fbe555"
   },
   "outputs": [
    {
     "data": {
      "text/html": [
       "<div>\n",
       "<style scoped>\n",
       "    .dataframe tbody tr th:only-of-type {\n",
       "        vertical-align: middle;\n",
       "    }\n",
       "\n",
       "    .dataframe tbody tr th {\n",
       "        vertical-align: top;\n",
       "    }\n",
       "\n",
       "    .dataframe thead th {\n",
       "        text-align: right;\n",
       "    }\n",
       "</style>\n",
       "<table border=\"1\" class=\"dataframe\">\n",
       "  <thead>\n",
       "    <tr style=\"text-align: right;\">\n",
       "      <th></th>\n",
       "      <th>lables</th>\n",
       "      <th>messages</th>\n",
       "    </tr>\n",
       "  </thead>\n",
       "  <tbody>\n",
       "    <tr>\n",
       "      <th>0</th>\n",
       "      <td>neutral</td>\n",
       "      <td>According to Gran , the company has no plans t...</td>\n",
       "    </tr>\n",
       "    <tr>\n",
       "      <th>1</th>\n",
       "      <td>neutral</td>\n",
       "      <td>Technopolis plans to develop in stages an area...</td>\n",
       "    </tr>\n",
       "    <tr>\n",
       "      <th>2</th>\n",
       "      <td>negative</td>\n",
       "      <td>The international electronic industry company ...</td>\n",
       "    </tr>\n",
       "    <tr>\n",
       "      <th>3</th>\n",
       "      <td>positive</td>\n",
       "      <td>With the new production plant the company woul...</td>\n",
       "    </tr>\n",
       "    <tr>\n",
       "      <th>4</th>\n",
       "      <td>positive</td>\n",
       "      <td>According to the company 's updated strategy f...</td>\n",
       "    </tr>\n",
       "  </tbody>\n",
       "</table>\n",
       "</div>"
      ],
      "text/plain": [
       "     lables                                           messages\n",
       "0   neutral  According to Gran , the company has no plans t...\n",
       "1   neutral  Technopolis plans to develop in stages an area...\n",
       "2  negative  The international electronic industry company ...\n",
       "3  positive  With the new production plant the company woul...\n",
       "4  positive  According to the company 's updated strategy f..."
      ]
     },
     "execution_count": 6,
     "metadata": {},
     "output_type": "execute_result"
    }
   ],
   "source": [
    "Headlines.head()"
   ]
  },
  {
   "cell_type": "code",
   "execution_count": null,
   "id": "a6b907d8",
   "metadata": {
    "id": "a6b907d8",
    "outputId": "7b67f8ea-ca19-45b8-e906-960cb34ad96e"
   },
   "outputs": [
    {
     "name": "stdout",
     "output_type": "stream",
     "text": [
      "<class 'pandas.core.frame.DataFrame'>\n",
      "RangeIndex: 4846 entries, 0 to 4845\n",
      "Data columns (total 2 columns):\n",
      " #   Column    Non-Null Count  Dtype \n",
      "---  ------    --------------  ----- \n",
      " 0   lables    4846 non-null   object\n",
      " 1   messages  4846 non-null   object\n",
      "dtypes: object(2)\n",
      "memory usage: 75.8+ KB\n"
     ]
    }
   ],
   "source": [
    "Headlines.info()"
   ]
  },
  {
   "cell_type": "code",
   "execution_count": null,
   "id": "4b8bdf00",
   "metadata": {
    "id": "4b8bdf00",
    "outputId": "c4be165b-0aa6-4b48-d629-51b8535d3aaf"
   },
   "outputs": [
    {
     "data": {
      "text/plain": [
       "lables      0\n",
       "messages    0\n",
       "dtype: int64"
      ]
     },
     "execution_count": 8,
     "metadata": {},
     "output_type": "execute_result"
    }
   ],
   "source": [
    "Headlines.isnull().sum()"
   ]
  },
  {
   "cell_type": "markdown",
   "id": "e838926a",
   "metadata": {
    "id": "e838926a"
   },
   "source": [
    "No missing values"
   ]
  },
  {
   "cell_type": "markdown",
   "id": "52275f66",
   "metadata": {
    "id": "52275f66"
   },
   "source": [
    "# Introducing new column 'target'"
   ]
  },
  {
   "cell_type": "code",
   "execution_count": null,
   "id": "6d4bcf6b",
   "metadata": {
    "id": "6d4bcf6b",
    "outputId": "d30d2ce2-ccd4-42ee-b4bd-ae1cf68e52f8"
   },
   "outputs": [
    {
     "data": {
      "text/plain": [
       "(4846, 2)"
      ]
     },
     "execution_count": 15,
     "metadata": {},
     "output_type": "execute_result"
    }
   ],
   "source": [
    "News_copy=Headlines.copy()\n",
    "News_copy.shape"
   ]
  },
  {
   "cell_type": "code",
   "execution_count": null,
   "id": "24079c31",
   "metadata": {
    "id": "24079c31"
   },
   "outputs": [],
   "source": [
    "def func(df_new):\n",
    "    if df_new == 'neutral':\n",
    "        return 0\n",
    "    elif df_new == 'negative':\n",
    "        return 1\n",
    "    else:\n",
    "        return 2\n"
   ]
  },
  {
   "cell_type": "code",
   "execution_count": null,
   "id": "d3cd2225",
   "metadata": {
    "id": "d3cd2225",
    "outputId": "3b14829c-1cc0-466f-e879-a9c38e1198fe"
   },
   "outputs": [
    {
     "data": {
      "text/html": [
       "<div>\n",
       "<style scoped>\n",
       "    .dataframe tbody tr th:only-of-type {\n",
       "        vertical-align: middle;\n",
       "    }\n",
       "\n",
       "    .dataframe tbody tr th {\n",
       "        vertical-align: top;\n",
       "    }\n",
       "\n",
       "    .dataframe thead th {\n",
       "        text-align: right;\n",
       "    }\n",
       "</style>\n",
       "<table border=\"1\" class=\"dataframe\">\n",
       "  <thead>\n",
       "    <tr style=\"text-align: right;\">\n",
       "      <th></th>\n",
       "      <th>lables</th>\n",
       "      <th>messages</th>\n",
       "      <th>target</th>\n",
       "    </tr>\n",
       "  </thead>\n",
       "  <tbody>\n",
       "    <tr>\n",
       "      <th>0</th>\n",
       "      <td>neutral</td>\n",
       "      <td>According to Gran , the company has no plans t...</td>\n",
       "      <td>0</td>\n",
       "    </tr>\n",
       "    <tr>\n",
       "      <th>1</th>\n",
       "      <td>neutral</td>\n",
       "      <td>Technopolis plans to develop in stages an area...</td>\n",
       "      <td>0</td>\n",
       "    </tr>\n",
       "    <tr>\n",
       "      <th>2</th>\n",
       "      <td>negative</td>\n",
       "      <td>The international electronic industry company ...</td>\n",
       "      <td>1</td>\n",
       "    </tr>\n",
       "    <tr>\n",
       "      <th>3</th>\n",
       "      <td>positive</td>\n",
       "      <td>With the new production plant the company woul...</td>\n",
       "      <td>2</td>\n",
       "    </tr>\n",
       "    <tr>\n",
       "      <th>4</th>\n",
       "      <td>positive</td>\n",
       "      <td>According to the company 's updated strategy f...</td>\n",
       "      <td>2</td>\n",
       "    </tr>\n",
       "  </tbody>\n",
       "</table>\n",
       "</div>"
      ],
      "text/plain": [
       "     lables                                           messages  target\n",
       "0   neutral  According to Gran , the company has no plans t...       0\n",
       "1   neutral  Technopolis plans to develop in stages an area...       0\n",
       "2  negative  The international electronic industry company ...       1\n",
       "3  positive  With the new production plant the company woul...       2\n",
       "4  positive  According to the company 's updated strategy f...       2"
      ]
     },
     "execution_count": 18,
     "metadata": {},
     "output_type": "execute_result"
    }
   ],
   "source": [
    "News_copy['target'] = News_copy.lables.apply(func)\n",
    "News_copy.head()"
   ]
  },
  {
   "cell_type": "code",
   "execution_count": null,
   "id": "30334bf3",
   "metadata": {
    "id": "30334bf3"
   },
   "outputs": [],
   "source": []
  },
  {
   "cell_type": "markdown",
   "id": "76230fe5",
   "metadata": {
    "id": "76230fe5"
   },
   "source": [
    "# Visualization"
   ]
  },
  {
   "cell_type": "code",
   "execution_count": null,
   "id": "6e2dff02",
   "metadata": {
    "id": "6e2dff02",
    "outputId": "46d7f1d4-a171-4eb6-ea3f-fb03f7251ead"
   },
   "outputs": [
    {
     "data": {
      "text/plain": [
       "neutral     2879\n",
       "positive    1363\n",
       "negative     604\n",
       "Name: lables, dtype: int64"
      ]
     },
     "execution_count": 11,
     "metadata": {},
     "output_type": "execute_result"
    }
   ],
   "source": [
    "Headlines.lables.value_counts()"
   ]
  },
  {
   "cell_type": "code",
   "execution_count": null,
   "id": "4ec8f8c2",
   "metadata": {
    "id": "4ec8f8c2"
   },
   "outputs": [],
   "source": []
  },
  {
   "cell_type": "code",
   "execution_count": null,
   "id": "3b11cb0f",
   "metadata": {
    "id": "3b11cb0f",
    "outputId": "68b555b4-01e4-4f06-b57b-023752e89684",
    "scrolled": false
   },
   "outputs": [
    {
     "data": {
      "text/plain": [
       "Text(0.5, 1.0, 'Percentages of different lables to the headlines')"
      ]
     },
     "execution_count": 37,
     "metadata": {},
     "output_type": "execute_result"
    },
    {
     "data": {
      "image/png": "[encoded data removed]",
      "text/plain": [
       "<Figure size 432x504 with 1 Axes>"
      ]
     },
     "metadata": {},
     "output_type": "display_data"
    }
   ],
   "source": [
    "plt.figure(figsize=(6,7))\n",
    "\n",
    "Headlines.lables.value_counts().plot(kind='pie', autopct='%1.0f%%')\n",
    "plt.title(\"Percentages of different lables to the headlines\")"
   ]
  },
  {
   "cell_type": "code",
   "execution_count": null,
   "id": "248ab8b3",
   "metadata": {
    "id": "248ab8b3",
    "outputId": "845a179c-ef55-49ff-db7d-23b89d6d8ece"
   },
   "outputs": [
    {
     "data": {
      "image/png": "[encoded data removed]",
      "text/plain": [
       "<Figure size 432x504 with 1 Axes>"
      ]
     },
     "metadata": {
      "needs_background": "light"
     },
     "output_type": "display_data"
    }
   ],
   "source": [
    "# Count plot for labels feature\n",
    "plt.figure(figsize=(6,7))\n",
    "Headlines.lables.value_counts().plot(kind='bar',color=['blue','lime','red'])\n",
    "plt.xlabel(\"News Type\")\n",
    "plt.ylabel(\"count\")\n",
    "plt.title(\"Count Plot for labels\");"
   ]
  },
  {
   "cell_type": "markdown",
   "id": "f0981940",
   "metadata": {
    "id": "f0981940"
   },
   "source": [
    "# Data PreProcessing"
   ]
  },
  {
   "cell_type": "code",
   "execution_count": null,
   "id": "bca4581f",
   "metadata": {
    "id": "bca4581f"
   },
   "outputs": [],
   "source": [
    "#nltk\n",
    "import nltk\n",
    "# nltk.download()\n",
    "\n",
    "from nltk.corpus import stopwords\n",
    "from nltk.stem import PorterStemmer\n",
    "from nltk.corpus import stopwords\n",
    "\n",
    "import re"
   ]
  },
  {
   "cell_type": "code",
   "execution_count": null,
   "id": "7ee74f8c",
   "metadata": {
    "id": "7ee74f8c"
   },
   "outputs": [],
   "source": [
    "# Text preprocessing\n",
    "corpous = list()\n",
    "\n",
    "#Object for porterstem\n",
    "ps = PorterStemmer()\n",
    "\n",
    "for i in range(len(News_copy)):\n",
    "        # remove all single characters\n",
    "\n",
    "    text = re.sub(r'[^a-zA-Z]',' ',News_copy.messages[i])\n",
    "    text = text.lower()\n",
    "    text = text.split()\n",
    "    text = [ps.stem(word) for word in text if word not in set(stopwords.words('english'))]\n",
    "    text = ' '.join(text)\n",
    "    corpous.append(text)"
   ]
  },
  {
   "cell_type": "code",
   "execution_count": null,
   "id": "0922aead",
   "metadata": {
    "id": "0922aead",
    "outputId": "02d16362-d471-448d-f3ba-9bf0f9c070be"
   },
   "outputs": [
    {
     "data": {
      "text/plain": [
       "['accord gran compani plan move product russia although compani grow',\n",
       " 'technopoli plan develop stage area less squar meter order host compani work comput technolog telecommun statement said',\n",
       " 'intern electron industri compani elcoteq laid ten employe tallinn facil contrari earlier layoff compani contract rank offic worker daili postime report',\n",
       " 'new product plant compani would increas capac meet expect increas demand would improv use raw materi therefor increas product profit',\n",
       " 'accord compani updat strategi year baswar target long term net sale growth rang oper profit margin net sale',\n",
       " 'financ aspocomp growth aspocomp aggress pursu growth strategi increasingli focus technolog demand hdi print circuit board pcb',\n",
       " 'last quarter componenta net sale doubl eur eur period year earlier move zero pre tax profit pre tax loss eur',\n",
       " 'third quarter net sale increas eur mn oper profit eur mn',\n",
       " 'oper profit rose eur mn eur mn correspond period repres net sale',\n",
       " 'oper profit total eur mn eur mn repres net sale',\n",
       " 'teliasonera tlsn said offer line strategi increas ownership core busi hold would strengthen eesti telekom offer custom',\n",
       " 'stora enso norsk skog real upm kymmen credit suiss first boston cfsb rais fair valu share four largest nordic forestri group',\n",
       " 'purchas agreement ton gasolin deliveri hamina termin finland sign nest oil oyj averag platt index septemb plu eight us dollar per month',\n",
       " 'finnish talentum report oper profit increas eur mn eur mn net sale total eur mn eur mn',\n",
       " 'cloth retail chain sepp l sale increas eur mn oper profit rose eur mn eur mn',\n",
       " 'consolid net sale increas reach eur oper profit amount eur compar loss eur prior year period',\n",
       " 'foundri divis report sale increas eur mn eur mn correspond period sale machin shop divis increas eur mn eur mn correspond period',\n",
       " 'helsinki afx share close higher led nokia announc plan team sanyo manufactur g handset nokian tyre fourth quarter earn report beat analyst expect dealer said',\n",
       " 'incap contract manufactur servic pvt ltd subsidiari incap corpor finland plan doubl revenu',\n",
       " 'board director propos dividend eur per share eur per share paid',\n",
       " 'lifetre found revenu risen averag margin late',\n",
       " 'filippova trilater agreement invest construct technolog park st petersburg sign cours forum day russian economi open helsinki today',\n",
       " 'megafon subscrib base increas million user decemb market share number custom amount late late accord teliasonera estim',\n",
       " 'net incom life insur doubl eur mn eur mn net incom non life insur rose eur mn eur mn correspond period',\n",
       " 'net sale increas eur eur pretax profit rose eur eur usd',\n",
       " 'net sale surg eur telest said eur sale came acquisit made',\n",
       " 'nordea group oper profit increas percent year year billion euro total revenu percent billion euro',\n",
       " 'oper profit nine month period increas eur net sale increas eur compar correspond period',\n",
       " 'oper profit nine month period increas eur net sale increas eur compar correspond period',\n",
       " 'oper profit three month period increas eur revenu increas eur compar correspond period',\n",
       " 'brazilian unit finnish secur solut provid f secur sign new client last year onlin news sourc resel web quot divis commerci director vladimir brand say',\n",
       " 'compani net profit rose year million euro sale million euro year compani said earlier',\n",
       " 'lithuanian beer market made million liter januari rise percent year earlier figur lithuanian brewer associ report cite result member',\n",
       " 'vike line cargo revenu increas eur mn cargo volum increas cargo unit',\n",
       " 'fair valu properti portfolio doubl result kapite acquisit total eur million',\n",
       " 'februari finnish media compani sanoma oyj hel saa v said yesterday net profit almost tripl eur eur announc propos rais payout',\n",
       " 'helsinki eliiv today report ep eur increas ep eur',\n",
       " 'aspo plc stock exchang releas februari esl ship ltd part aspo group sign new long term contract rautaruukki corpor marin transport raw materi baltic sea',\n",
       " 'commiss incom increas eur mn lend volum rose',\n",
       " 'januari traffic measur revenu passeng kilometr rpk went capac measur avail seat kilometr ask rose',\n",
       " 'januari septemb fiskar net profit went year year eur million net sale eur million eur million',\n",
       " 'net incom life insur rose eur mn eur mn net incom non life insur eur mn eur mn',\n",
       " 'nyrstar also agre suppli talvivaara tonn sulphur acid per annum use talvivaara leach process period suppli zinc concentr',\n",
       " 'sale depart store divis hobbi hall increas sale cloth store subsidiari seppala decreas',\n",
       " 'sale risen export market',\n",
       " 'sale increas due grow market rate increas oper',\n",
       " 'agreement strengthen long term partnership nokia siemen network',\n",
       " 'agreement sign biohit healthcar ltd uk base subsidiari biohit oyj finnish public compani develop manufactur market liquid handl product diagnost test system',\n",
       " 'compani also estim alreadi carri invest lead increas net sale reach eur million',\n",
       " 'compani order book stood bln euro bln septemb pct year intern order amount mln euro mln',\n",
       " 'compani said paper demand increas main market includ public paper increas averag paper price percent compar last year',\n",
       " 'world second largest stainless steel maker said net profit three month period dec surg euro million us million euro us per share euro million euro per share previou year',\n",
       " 'within framework partnership nokia siemen network sign initi framework purchas agreement sitron subsidiari jsc mikron largest manufactur export microelectron compon russia',\n",
       " 'seppala revenu increas eur finland revenu went eur sale abroad rose eur sale increas baltic countri well russia ukrain',\n",
       " 'share standard charter stan rose ftse royal bank scotland rb share rose barclay share barc bc',\n",
       " 'share nokia corp rose thursday cell phone maker said third quarter earn almost doubl share global handset market increas',\n",
       " 'financi report publish friday seb said net profit soar sek bn year earlier sek bn propos dividend increas sek per share',\n",
       " 'sale depart store divis increas sale cloth store subsidiari seppala increas meanwhil sale hobbi hall decreas',\n",
       " 'request finnish media compani alma media newspap research manag jari kaivo oja finland futur research centr turku school econom drawn futur scenario finland nation economi use model develop univers denver',\n",
       " 'sweden gallerix accumul sek denomin sale eur denomin sale',\n",
       " 'compani support global custom develop new technolog offer fast rout product develop applic volum product',\n",
       " 'invest place atria plan expand moscow market',\n",
       " 'new agreement continu theagreement sign earlier year lemminkainen group wherebi cramo acquir entir construct machin fleet oflemminkainen talo oy ita ja pohjoi suomo sign asimilar agreement said tatu hauhio manag director ofcramo finland',\n",
       " 'first contract envisag construct three ferryboat option two unit confirm total valu mln euro mln',\n",
       " 'june sold percent stake nordstjernan invest group taken option acquir eqt remain share',\n",
       " 'kesko corpor stock exchang releas kesko corpor aspo plc today sign agreement aspo acquir share capit kauko telko ltd subsidiari wholli own kesko',\n",
       " 'sponda plc stock exchang releas decemb eur billion syndic credit facil sponda sponda sign agreement one year syndic credit facil total eur billion',\n",
       " 'stock exchang announc juli baswar share subscript warrant increas share capit total share subscrib baswar warrant program',\n",
       " 'contract cover hdo platform ac cxe optic fttb node design increas forward return path capac transmiss network',\n",
       " 'new plant plan electr gener capac megawatt mw heat gener capac',\n",
       " 'omx helsinki index pct helsinki cap portfolio index pct higher',\n",
       " 'sale growth car consider influenc tire market',\n",
       " 'maximum new share subscrib exercis b option stock option plan',\n",
       " 'result share issu number compani share increas share share capit total eur',\n",
       " 'finnish real estat investor sponda plc said wednesday march sign agreement dansk bank helsinki branch year eur credit facil ilmarinen mutual pension insur compani year eur credit facil',\n",
       " 'rout helsinki finland tallinn estonia cargo volum increas cargo volum finland sweden fell',\n",
       " 'measur includ increas synergi economi scale within grimaldi group personnel adjust divest redeliveri excess tonnag',\n",
       " 'rinkuskiai rais sale percent million liter sale kauno alu grew percent liter',\n",
       " 'telecomworldwir april tj group plc sell stake morn digit design oy finnish compani tj group plc said friday april sign agreement sell share morn digit design oy edita oyj',\n",
       " 'telecomworldwir april tj group plc sell stake morn digit design oy finnish compani tj group plc said friday april sign agreement sell share morn digit design oy edita oyj',\n",
       " 'new seri share becom subject trade helsinki stock exchang main list togeth old seri share juli',\n",
       " 'fuel purchas contract sign three month deliveri septemb novemb',\n",
       " 'tiimari oper store six countri includ core finnish market gener turnov mln eur',\n",
       " 'agreement biohit becom focu supplier pipettor dispos pipettor tip vwr custom throughout europ',\n",
       " 'combin servic enabl us offer complex strengthen servic chain limit baltic port connect also get access world wide grimaldi network mediterranean africa north america say uwe bakosch',\n",
       " 'blind spot come vantag point allow investig see whole stori high resolut unbroken video',\n",
       " 'compani still expect turnov slightli increas level ad market predict still poor trustworthi forecast market develop contract manufactur busi current year',\n",
       " 'acquisit consider increas kemira sale market posit russian metal industri coat market',\n",
       " 'januari septemb finnlin net sale rose eur mn eur mn correspond period',\n",
       " 'adjust chang group structur divis net sale increas',\n",
       " 'chang optim oper effici grow busi said julia prohaska director market commun fiskar',\n",
       " 'would invest physic infrastructur would also provid know manag develop scienc technolog park said sunris valley director andriu bagdona',\n",
       " 'februari finnish broadband data commun system provid telest oyj hel tlt v saw net profit jump eur last quarter eur period',\n",
       " 'finnish aktia group oper profit rose eur mn first quarter eur mn first quarter',\n",
       " 'finnish bank land consolid net oper profit increas eur mn first quarter eur mn first quarter',\n",
       " 'finnish financi group aktia report oper profit eur mn januari septemb eur mn correspond period',\n",
       " 'finnish high technolog provid vaahto group report net sale eur mn account period septemb februari increas year earlier',\n",
       " 'net sale finnish food industri compani l nnen tehtaat continu oper increas eur mn eur mn',\n",
       " 'individu promot also gener slightli higher expect revenu',\n",
       " 'biohit alreadi servic mani current genesi custom custom base expect expand result agreement',\n",
       " 'oper profit turnov three month period increas respect eur eur compar correspond period',\n",
       " 'circul revenu increas finland sweden',\n",
       " 'cloth chain sepp l net sale increas eur mn',\n",
       " 'construct volum meanwhil grow rate percent annual',\n",
       " 'finnish swedish construct market still experienc estim annual growth',\n",
       " 'howev biohit estim total net sale continu grow favour trend net sale lead profit',\n",
       " 'fiskar cash flow oper activ amount eur eur previou year',\n",
       " 'lithuania oper profit rose eur eur correspond period',\n",
       " 'fourth quarter net sale increas eur mn eur mn fourth quarter',\n",
       " 'intern sale rose eur mn',\n",
       " 'kalmar espana gener net sale mln euro mln',\n",
       " 'net sale grew period x ac million us million x ac million',\n",
       " 'net sale increas eur april june eur year earlier',\n",
       " 'net sale rose year year eur number charger deliv went million piec',\n",
       " 'net sale total eur mn eur mn correspond period',\n",
       " 'nokia also note averag sell price handset declin period though mobil phone profit margin rose percent percent year ago quarter',\n",
       " 'oper profit increas eur mn eur mn',\n",
       " 'oper profit margin increas',\n",
       " 'oper profit rose eur mn eur mn correspond period',\n",
       " 'oper profit rose eur mn eur mn fourth quarter',\n",
       " 'oper profit eur mn eur mn',\n",
       " 'ramir net sale second quarterend june euro million u million percent increas compar euro million thesecond quarter last year',\n",
       " 'revenu grew percent x ac million million x ac million',\n",
       " 'ruukki announc sign agreement aker solut norway suppli suction anchor septemb kalajoki unit finland',\n",
       " 'ruukki deliveri volum sell price show favour develop compani compar net sale grew year year eur ceo sakari tamminen said',\n",
       " 'sanoma magazin net sale estim grow',\n",
       " 'bank forecast finland gdp grow',\n",
       " 'circuit overal product rate weekli basi excess averag tonn per day volum excess tonn per day reach individu day',\n",
       " 'compani consolid oper profit amount eur mn eur mn year year',\n",
       " 'depart store divis report increas sale per cent',\n",
       " 'fair valu compani invest properti grew eur billion end march eur million year ago',\n",
       " 'last quarter best quarter net sale oper margin rose',\n",
       " 'major breweri increas domest beer sale per cent last year million litr million litr',\n",
       " 'transact doubl tecnomen workfors add fourth net sale',\n",
       " 'oper profit rose eur million',\n",
       " 'purchas cramo becom second largest rental servic provid latvian market',\n",
       " 'prioriti strengthen compani balanc sheet increas cash flow ceo hannu krook said',\n",
       " 'purchas oper part yit strategi expand offer build system servic geograph',\n",
       " 'octob finnish fish tackl compani rapala vmc corp hel rap v said today net profit rose eur first nine month eur period year earlier',\n",
       " 'structur bim build inform model softwar tekla model base softwar provid adopt construct manag deliveri univers project abu dhabi',\n",
       " 'accord finnish metso miner valu compani order gone eur bn month',\n",
       " 'finnish aldata solut sign contract suppli g l system two french retail chain',\n",
       " 'finnish bank land report oper profit rose eur mn second quarter eur mn correspond period',\n",
       " 'finnish financi group aktia oper profit increas eur mn eur mn',\n",
       " 'finnish forest machineri manufactur ponss net sale grew eur mn first quarter eur mn correspond period',\n",
       " 'finnish kci konecran rais net sale growth estim',\n",
       " 'finnish okmet manufactur process silicon wafer semiconductor sensor industri norwegian solar wafer compani norsun sign contract okmet suppli norsun mono silicon crystal use solar cell manufactur',\n",
       " 'finnish pharmaceut compani orion net sale rose eur mn first quarter eur mn first quarter',\n",
       " 'finnish ponss sign agreement babcock africa distribut support ponss forest machin harvest head inform system south africa',\n",
       " 'south african sappi becom largest foreign forest industri compani oper finland result acquisit finnish real corpor graphic paper busi unit',\n",
       " 'accord deputi md pekka silvennoinen aim doubl turnov next three year',\n",
       " 'accord hkscan finland plan increas j rvi suomen portti net sale eur mn eur mn',\n",
       " 'advertis circul revenu grew respect',\n",
       " 'takeov cramo becom second largest rental servic provid latvian market',\n",
       " 'signific sale increas russia',\n",
       " 'alma media expect net sale increas forecast previous',\n",
       " 'also lemmink inen profit account period went eur mn eur mn year ago',\n",
       " 'end march group order book eur mn correspond period',\n",
       " 'time profit compani increas h reach ls',\n",
       " 'aviat system mainten base kansa gener net sale usd million',\n",
       " 'besid increas share meat variou sausag offer number new tast grill product shish kebab segment paavel said',\n",
       " 'oper profit net sale month period increas respect eur eur compar financi year',\n",
       " 'oper profit net sale month period increas respect eur eur compar financi year',\n",
       " 'oper profit net sale month period increas respect eur eur compar',\n",
       " 'oper profit net sale month period increas respect eur eur compar',\n",
       " 'oper profit net sale nine month period increas respect compar correspond period',\n",
       " 'oper profit net sale six month period increas respect eur eur compar correspond period',\n",
       " 'oper profit net sale six month period increas respect eur eur compar correspond period',\n",
       " 'oper profit net sale six month period increas respect eur eur compar correspond period',\n",
       " 'oper profit net sale six month period increas respect eur eur compar correspond period',\n",
       " 'oper profit net sale three month period increas respect eur eur compar correspond period',\n",
       " 'oper profit net sale three month period increas respect eur eur compar correspond quarter',\n",
       " 'oper profit sale three month period increas respect eur eur compar correspond period',\n",
       " 'oper profit turnov nine month period increas respect eur eur compar correspond period year ago',\n",
       " 'oper profit turnov six month period increas respect eur eur compar correspond period',\n",
       " 'oper profit turnov six month period increas respect eur eur compar correspond period year ago',\n",
       " 'cargo volum grew',\n",
       " 'cargo volum increas approxim',\n",
       " 'compar oper profit total eur mn eur mn',\n",
       " 'digia said consolid net sale januari june eur period eur',\n",
       " 'dilut earn per share ep rose eur eur',\n",
       " 'dilut earn per share ep rose eur versu eur',\n",
       " 'dilut earn per share ep rose eur eur',\n",
       " 'dilut earn per share ep rose eur eur',\n",
       " 'dilut ep rose eur eur',\n",
       " 'ebit margin',\n",
       " 'editor note grimaldi gener bln euro bln turnov ansa report may',\n",
       " 'ep quarter eur compar eur third quarter repres group net sale third quarter eur compar eur third quarter',\n",
       " 'ep continu oper came eur',\n",
       " 'equiti ratio compar third quarter net sale frozen food busi total eur third quarter',\n",
       " 'eur q may finnish textil cloth design compani marimekko oyj hel mmo v said today net profit rose eur first quarter eur correspond period year earlier',\n",
       " 'finland base elcoteq se privat held provid electron manufactur servic commun compani said thursday sign long term manufactur suppli deal commun equip compani andrew corp',\n",
       " 'finnish cutleri hand tool maker fiskar oyj abp hel fisa said today net profit rose eur million usd third quarter eur million year earlier',\n",
       " 'finnish depart store chain stockmann oyj abp net profit rose mln euro mln first nine month mln euro mln period',\n",
       " 'finnish lift equip maker konecran oyj said juli net profit rose mln euro mln first half mln euro mln period',\n",
       " 'finnish messag solut develop tecnomen corpor omx helsinki tem v said thursday decemb receiv expans order converg charg solut latin america',\n",
       " 'finnish metal industri solut supplier outotec oyj net profit rose mln euro mln first nine month mln euro mln period',\n",
       " 'finnish metal product compani componenta oyj net profit rose mln euro mln first quarter mln euro mln period',\n",
       " 'finnish offic suppli comput accessori dealer beltton group plc said net profit rose mln euro mln mln euro mln',\n",
       " 'finnish secur privaci softwar solut develop stonesoft oyj said januari preliminari sale stoneg product grew pct year year mln euro mln fourth quarter',\n",
       " 'finnish silicon wafer technolog compani okmet oyj omx helsinki okm v report thursday august oper profit eur period januari june eur correspond period',\n",
       " 'finnish softwar develop done solut oyj said net profit increas mln euro mln mln euro mln',\n",
       " 'first quarter underli oper profit rose mln eur mln year earlier',\n",
       " 'follow acquisit relacom strengthen presenc finland serv oper offic market mobil fix network construct instal mainten servic',\n",
       " 'first nine month compani net profit rose eur eur correspond period',\n",
       " 'helsinki afx retail wholesal group kesko report net sale mln eur februari increas pct year year',\n",
       " 'howev net sale seen grown eur eur',\n",
       " 'howev sale return growth april june ceo pekka eloholma said',\n",
       " 'raguti control finnish breweri report per cent rise beer sale million litr held per cent market share',\n",
       " 'svyturi uteno alu control nordic group baltic beverag hold bbh post per cent growth beer sale januari may million litr',\n",
       " 'contempu gener revenu nok approx',\n",
       " 'addit kone sign two year mainten contract escal',\n",
       " 'decemb alon member lithuanian brewer associ sold total million liter beer increas percent sale million liter decemb',\n",
       " 'januari septemb group net interest incom increas eur mn eur mn januari septemb',\n",
       " 'q bank land net interest incom increas eur mn eur mn',\n",
       " 'sweden oper profit period review total eur mn correspond period',\n",
       " 'fourth quarter orion net profit went year year eur',\n",
       " 'second quarter group net profit rose eur million eur million april june',\n",
       " 'second quarter group net profit rose eur eur april june',\n",
       " 'third quarter net sale increas year year eur million compar currenc rate growth',\n",
       " 'third quarter net sale increas year year eur compar currenc rate growth',\n",
       " 'incap estim gener revenu mln euro mln indian oper',\n",
       " 'market share widen percent percent year earlier',\n",
       " 'total annual revenu come mln zloti mln mln euro',\n",
       " 'kesko agro eesti retail wholesal grain agricultur wareh machineri accessori net sale million euro increas one tenth preced year',\n",
       " 'kesko car import retail busi vv auto saw sale grow pct',\n",
       " 'kone net sale rose year year first nine month',\n",
       " 'adp news feb finnish manag softwar solut provid ixono oyj hel xn v said today net profit rose eur million usd eur million',\n",
       " 'adp news feb finnish solut provid affecto oyj hel afe v said today net profit rose eur million usd eur million',\n",
       " 'adp news feb finnish fish tackl compani rapala vmc corp hel rap v said today net profit rose eur million usd eur million',\n",
       " 'adp news nov finnish electron measur product solut maker vaisala oyj omx vaia said today net profit rose eur million usd first nine month eur',\n",
       " 'adp news oct finnish lift equip maker konecran oyj omx kcr v said today net profit rose eur million usd first nine month eur million',\n",
       " 'metso expect net sale increas compar exchang rate',\n",
       " 'real gener turnov eur bn employe',\n",
       " 'nest oil corp sign long term procur contract honkajoki oy findest protein oy own finnish food manufactur suppli anim fat biodiesel product nest b cd porvoo finland refineri',\n",
       " 'net interest incom increas eur mn eur mn',\n",
       " 'net interest incom eur mn eur mn',\n",
       " 'net interest incom eur mn eur mn',\n",
       " 'net sale veget oil busi rose eur mn eur mn',\n",
       " 'nokia multimedia net sale total eur bn correspond period',\n",
       " 'oper incom rose eur mn eur mn',\n",
       " 'oper profit kauppalehti group rose eur mn eur mn marketplac eur mn eur mn third quarter',\n",
       " 'oper profit rose eur mn eur mn',\n",
       " 'oper profit rose mln eur mln',\n",
       " 'oper profit rose eur mn eur mn correspond period',\n",
       " 'oper profit rose eur mn eur correspond period',\n",
       " 'oper profit rose eur mn eur mn correspond period',\n",
       " 'oper profit rose eur mn eur mn correspond period',\n",
       " 'oper profit rose eur mn eur mn',\n",
       " 'oper profit rose eur mn eur mn correspond period',\n",
       " 'oper profit rose eur mn eur mn',\n",
       " 'oper profit rose eur mn eur mn',\n",
       " 'oper profit rose eur mn eur mn correspond period',\n",
       " 'oper profit rose eur eur year earlier',\n",
       " 'oper profit surg eur eur',\n",
       " 'oper profit total eur mn slightli eur mn correspond period',\n",
       " 'oper profit total eur mn eur mn',\n",
       " 'oper profit eur mn eur mn',\n",
       " 'oper profit eur mn eur mn',\n",
       " 'order intak grew year year year year respect eur million eur billion respect januari septemb juli septemb period',\n",
       " 'order receiv grew year year eur',\n",
       " 'orion pharma oper profit increas',\n",
       " 'passeng volum rose account period',\n",
       " 'passeng relat revenu rose eur mn eur mn',\n",
       " 'press releas octob ruukki sign contract deliv instal steel structur bridg kyronsalmi strait savonlinna finland',\n",
       " 'pretax profit rose eur mn eur mn correspond period',\n",
       " 'pretax profit rose eur mn eur correspond period',\n",
       " 'pretax profit rose eur mn eur mn',\n",
       " 'pre tax profit total eur mn eur mn',\n",
       " 'previous compani guid ebit sale growth pct pct respect year',\n",
       " 'previous compani estim oper profit reach level',\n",
       " 'profit period total eur mn eur mn correspond period',\n",
       " 'profit period eur mn eur mn',\n",
       " 'profit period eur mn eur mn',\n",
       " 'revenu grew percent x ac billion us billion',\n",
       " 'revenu juli septemb grew percent euro million year earlier compani said thursday',\n",
       " 'revenu time grew percent million euro',\n",
       " 'ruukki sign contract deliv instal steel structur bridg kyronsalmi strait savonlinna finland',\n",
       " 'sale latin america increas eur mn total mn mobil devic sold area repres increas correspond period',\n",
       " 'sale cloth develop best',\n",
       " 'sanoma magazin finland net sale grew eur mn eur mn',\n",
       " 'satama net profit third quarter rose euro euro period',\n",
       " 'section region news demand finnair asian traffic measur passeng kilomet august compar last year',\n",
       " 'svyturi uteno alu control nordic group baltic beverag hold bbh post percent growth beer sale januari septemb million liter',\n",
       " 'would increas estim sale million last year',\n",
       " 'agreement expand tekla structur scope use bridg design',\n",
       " 'aim increas sale least one fifth',\n",
       " 'chain post sale million euro full rise percent year year',\n",
       " 'compani expect net sale increas',\n",
       " 'compani expect net sale first half reach previou year level',\n",
       " 'compani process build new fleet place order p max tanker dwt',\n",
       " 'compani oper incom ebit total eur mn eur mn year year',\n",
       " 'ep outlook increas pct pct',\n",
       " 'fair valu invest properti total eur mn eur mn',\n",
       " 'finnish govern announc wednesday sold percent stake chemic fertil group kemira oyj x ac million us million send compani share price percent',\n",
       " 'firm gener sale mln eur',\n",
       " 'german compani also sign code share agreement anoth oneworld member american airlin inc part us base amr corp nyse amr',\n",
       " 'helsinki base compani also own salomon atom suunto brand said net profit rose percent three month dec x ac million us million x ac million year earlier',\n",
       " 'increas capit stock regist finnish trade regist novemb',\n",
       " 'oper profit grain trade increas eur mn eur mn',\n",
       " 'stock rose second day wednesday bring two day rise gbx',\n",
       " 'stock rose third day tuesday bring three day rise gbx',\n",
       " 'transact line aspo strategi expand baltic sea region eastern market',\n",
       " 'transact would increas earn per share first quarter eur',\n",
       " 'recoveri base metal price increas demand metal china howev',\n",
       " 'new represent extend comptel global presenc total countri serv custom countri worldwid',\n",
       " 'tietoen use nokia intellisync mobil suit wireless email calendar devic manag capabl compani extend servic custom',\n",
       " 'total oper revenu grew year year eur',\n",
       " 'vacon cash flow oper grew eur mn eur mn year ago',\n",
       " 'vacon suppli drive ruselprom power rang kw mw',\n",
       " 'also strengthen exist partnership cybercom say telest cto esko myllyla',\n",
       " 'via satlan acquisit telest plan expand market presenc video servic partner cabl oper broadcast iptv servic provid',\n",
       " 'acquisit compani expand offer north central south america said',\n",
       " 'extens new contract eight engin plant produc mw said',\n",
       " 'yit say acquisit part strategi expans central eastern european market',\n",
       " 'baswar product sale grew strongli financi period percent',\n",
       " 'second quarter firstquart growth net sale sinc third quarter said magnu rosen ramir ceo',\n",
       " 'transact strengthen posit design brand good said fiskar presid ceo heikki allonen point two group rel overlap oper',\n",
       " 'februari finnish textil cloth compani marimekko oyj hel mmo v said today preliminari oper profit grew eur eur',\n",
       " 'finnish componenta publish new long term strategi period aim grow togeth custom',\n",
       " 'finnish larox sign contract talvivaara project deliveri filter talvivaara nickel mine sotkamo finland',\n",
       " 'affecto expect net sale whole increas level reach eur million',\n",
       " 'cash flow oper rose eur mn eur mn',\n",
       " 'commiss incom rose eur mn eur mn',\n",
       " 'componenta object agreement increas busi exist product line',\n",
       " 'earn per share januari june eur increas year year eur',\n",
       " 'earn per share ep rose eur eur',\n",
       " 'elisa said mobil subscript grew percent mainli custom adopt call third gener mobil technolog',\n",
       " 'ep quarter came eur eur year ago ahead forecast eur',\n",
       " 'ep grew eur eur',\n",
       " 'export grew percent million liter',\n",
       " 'finnish invest group panostaja oyj said net profit went mln euro mln fiscal end octob mln euro mln period fiscal',\n",
       " 'finnish metal compon supplier componenta oyj said net profit went mln euro mln mln euro mln',\n",
       " 'finnish silicon wafer technolog compani okmet oyj omx helsinki okm v report thursday octob oper profit eur januari septemb eur correspond period',\n",
       " 'fiskar brand report net sale eur mn eur mn',\n",
       " 'geosentr oyj geosolut busi unit gypsii mobil digit lifestyl applic geo mobil social network platform sign agreement nanj mynet make gypsii mobil social network platform avail custom china mobil',\n",
       " 'helsinki afx outokumpu technolog said sign mln eur agreement mongolia erdenet mine corpor engin first hydrocopp plant built erdenet mine site',\n",
       " 'howev proport paid stand order grew',\n",
       " 'addit demand finland export line stone product also increas',\n",
       " 'januari septemb group net sale continu oper rose eur mn eur mn correspond period',\n",
       " 'juli septemb yit net sale increas eur mn compar eur mn correspond period',\n",
       " 'report period net sale rose year year eur due busi acquisit realiz first half effect eur review period',\n",
       " 'report period compani oper profit grew eur million',\n",
       " 'last year net sale rose eur million eur million',\n",
       " 'last year compani rais turnov approxim million lita eur mln million lita',\n",
       " 'adp news nov finnish ac drive manufactur vacon oyj omx vac v said today set new repres offic romania ukrain serv grow market eastern southeastern europ',\n",
       " 'marimekko group full year net sale estim increas',\n",
       " 'net sale surg eur million',\n",
       " 'net sale went year year eur million affect busi acquisit realiz previou financi period effect eur million review period',\n",
       " 'nevertheless market share rose percent percent year earlier',\n",
       " 'nokia world largest mobil phone manufactur china postel china largest mobil phone distributor long stand partnership continu grow stronger time',\n",
       " 'octob decemb sale mln eur pct increas year year',\n",
       " 'olvi control percent stake raguti le coq said annual report publish earlier year lithuanian breweri sale reach million euro last year rise percent million euro',\n",
       " 'olvi expect sale market share increas first quarter',\n",
       " 'olvi target strengthen market share soft drink miner water cider long drink energi drink',\n",
       " 'oper profit increas eur mn eur mn correspond period',\n",
       " 'oper profit asian plant grew markedli',\n",
       " 'oper profit total eur mn eur mn',\n",
       " 'oper profit total eur mn eur mn year year',\n",
       " 'product capac increas tonn per year raw materi continu recycl paper board',\n",
       " 'profit period increas eur mn eur mn',\n",
       " 'profit per share eur eur',\n",
       " 'return capit employ rose percentag point',\n",
       " 'revenu juli septemb grew percent euro billion finnish compani said thursday',\n",
       " 'revenu grew percent euro million us million euro million',\n",
       " 'ruukki order book end year year quarter quarter',\n",
       " 'ruukki sign contract norwegian compani veidekk entreprenor',\n",
       " 'sale finland rose intern growth',\n",
       " 'sale secur system packag increas slightli',\n",
       " 'stora enso third quarter pre tax profit doubl eur mn',\n",
       " 'strongest growth seen new market russia czech republ slovakia',\n",
       " 'airlin order nine airbu aircraft deliveri becom lead airlin latest variant roll royc trent seri engin call',\n",
       " 'compani intensifi smelter oper increas annual product capac tonn copper',\n",
       " 'compani market share continu increas',\n",
       " 'compani schedul traffic measur revenu passeng kilometr rpk grew nearli passeng carri schedul flight februari',\n",
       " 'compani said invest new market area result sale increas sweden poland russia lithuania',\n",
       " 'dispos autotank also strengthen aspo capit structur comment gustav nyberg ceo aspo',\n",
       " 'earn per share quarter came eur eur quarter year earlier',\n",
       " 'econom occup rate sponda properti portfolio rose',\n",
       " 'finnish supplier bss oss va telecom oper tecnotre receiv expans order worth total us mn converg charg next gener messag solut latin america compani announc without specifi oper place order',\n",
       " 'group month oper profit grew percent million euro',\n",
       " 'growth activ talentum custom start end continu report period compani state',\n",
       " 'growth net sale first half compar first half',\n",
       " 'pretax profit group life insur busi increas eur million eur million',\n",
       " 'pretax profit group life insur busi increas eur eur',\n",
       " 'total deliveri volum paper busi tonn tonn',\n",
       " 'valu firm forestri hold increas sek bn',\n",
       " 'new deal strengthen partnership telemig celular tecnomen start sinc begin telemig prepaid oper',\n",
       " 'turnov rose eur eur',\n",
       " 'xerox stora enso team tailor igen short run demand packag market',\n",
       " 'yit construct town riihim ki sign leas contract wherebi town occupi travel centr offic facil',\n",
       " 'upgrad intend rais network capac mhz mhz sever citi enabl bi direct servic digit televis well broadband data',\n",
       " 'finnish compani stockmann sign contract compani technopoli',\n",
       " 'accord notic skandinaviska enskilda banken ab publ helsinki branch august divest total alma media share ilkka yhtyma oyj kaleva kustannu oy condit agreement made compani juli fulfil',\n",
       " 'previous announc geosentr oyj enter financ agreement lead investor june enabl compani receiv financ aggreg amount',\n",
       " 'time market autom liquid handl devic alreadi larger pipett accord biohit',\n",
       " 'efor ceo reijo maihaniemi said compani develop alreadi deliv power suppli unit respect system base technolog chines sector compani zte corp',\n",
       " 'finnish talvivaara mine co hel tlv v said thursday pick bofa merril lynch jpmorgan nyse jpm joint bookrunn plan issu convert note worth eur usd',\n",
       " 'lead product turn increas tonn would twofold increas current capac level zahariev said',\n",
       " 'lemminkainen oyj said sign credit agreement nordea bank sto nda pohjola bank hel poh sampo bank hel sama svenska handelsbanken sto shb',\n",
       " 'pohjola could increas stake',\n",
       " 'scandic feed also diversifi tosno product portfolio',\n",
       " 'separ yit corpor austrian firm e ag last week sign agreement sale e build system servic busi germani austria poland czech republ hungari romania eur mln',\n",
       " 'agreement jm one seri contract teliasonera sign recent month residenti construct real estat manag compani sweden',\n",
       " 'compani intend rais product capac',\n",
       " 'estim valu contract eur vaisala headquart helsinki finland develop manufactur electron measur system meteorolog environment scienc traffic industri',\n",
       " 'mall part baltic pearl develop project citi st petersburg baltic pearl cjsc subsidiari shanghai foreign joint invest compani develop home peopl',\n",
       " 'new facil known technopoli pulkovo introduc russian market entir new concept creat oper grow commerci fund scienc technolog park support growth knowledg intens compani',\n",
       " 'therebi compani expand offer north central south america',\n",
       " 'member partner use mostli appar increas effici result servic observ perttu puro tradeka',\n",
       " 'vacon control compani via invest fund power fund eur usd',\n",
       " 'order includ wartsila order book second quarter compani ad',\n",
       " 'manag decid end increas cathod copper capac',\n",
       " 'complet name sharehold otto henrik bernhard nyberg inform amount share transfer correspond total number share aspo plc',\n",
       " 'data process unit collect data calcul rvr valu provid data user via variou interfac',\n",
       " 'tinyurl link take user scam site promis user earn thousand dollar becom googl nasdaq goog cash advertis',\n",
       " 'alexandria va march pertti salmi hanna vuolteenaho oulu finland sami viitasaari ii finland develop ornament design handset u patent trademark offic announc',\n",
       " 'alexandria va oct markka oksanen harald kaaja helsinki finland juha salokannel kangasala finland arto palin viiala finland develop system provid commun secur',\n",
       " 'earlier report nokian tyre build plant town vsevolozhsk russia leningrad region annual product capac million tire',\n",
       " 'biohit inc expand mline famili pipettor addit new ml volum rang',\n",
       " 'capman finnish altern asset manag made acquisit helsinki focus vehicl real estat fund fund bought seven stori offic built underw refurbish end',\n",
       " 'compar ftse index rose point day rel price chang',\n",
       " 'compar ftse index rose point day rel price chang',\n",
       " 'compar ftse index rose point day rel price chang',\n",
       " 'deliveri start later volum increas year',\n",
       " 'finland nokian tyre kazakhstan ordabasi corpor sign agreement build plant astana produc car tire ordabasi chairman dinmukhamet idrisov said press confer',\n",
       " 'finnish busi softwar group affectogenimap oyj said sign agreement acquir share swedish sector compani intellibi ab mln euro mln debt free basi',\n",
       " 'finnish heat retain fireplac maker tulikivi oyj said august local tile stove util ceram subsidiari kermansavi oy merg tulikivi mean absorpt order streamlin latest corpor structur',\n",
       " 'finnish silicon wafer manufactur okmet oyj said june sign agreement nordea bank finland plc local subsidiari swedish commerci bank nordea bank ab refin okmet syndic bank facil amount mln euro mln',\n",
       " 'furthermor bung also sign licens agreement sunnuntai carlshamn mejeri brand',\n",
       " 'german commerzbank ag hamburg branch us jp morgan nyse jpm particip arrang dutch ing am inga co arrang',\n",
       " 'april nest separ parent compani finnish energi compani fortum becam list helsinki stock exchang',\n",
       " 'russia raisio food divis home market stretch way vladivostok',\n",
       " 'septemb finnish group agre buy danish compani rose poultri eur combin cash stock',\n",
       " 'increas number share base option right grant manag compani stock option plan',\n",
       " 'plan expand product portfolio harbor segment chief execut pekka lundmark told financi time deutschland',\n",
       " 'offic worldwid pct net sale gener outsid finland',\n",
       " 'branch finland annual revenu finland',\n",
       " 'kauko telko ltd press releas telko group kauko telko expand strateg partnership bp industri lubric servic bp il acquir total ownership bp swedish retail compani molub alloy ab',\n",
       " 'milan afx italian ship group grimaldi increas stake finnish compani finnlin pct pct held june accord news agenc ansa',\n",
       " 'nokia messag enabl custom receiv e mail e mail account mobil phone support pop imap e mail servic',\n",
       " 'product capac rise gradual tonn tonn',\n",
       " 'ramir danish subsidiari ramir today sign agreement acquir busi asset machineri rental compani jydsk materiel udlejn locat west jutland',\n",
       " 'share repurchas helsinki stock exchang behalf sampo plc dansk bank helsinki branch',\n",
       " 'solidium pick tikkurila share dividend book valu eur per share',\n",
       " 'takoma carri transact acquir entir share capit moventa parkano oy run factori parkano southern finland',\n",
       " 'agreement provid switch doubl convert capac whilst open manufactur locat china',\n",
       " 'build owner develop sun hung kai properti group one largest properti compani hong kong develop type premium residenti commerci project sale invest',\n",
       " 'compani aim final negoti sign contract start octob',\n",
       " 'compani sign letter intent sale septemb envisag seal actual agreement januari',\n",
       " 'compani also said novemb real estat fund ky sign agreement finnish window maker fenestra oy build window plant forssa southern finland',\n",
       " 'compani commit expand apollo portfolio',\n",
       " 'contract sign yesterday run five year includ two year extens option',\n",
       " 'contract cover instal train start servic',\n",
       " 'contract valu amount eur compani ad',\n",
       " 'contract sign acquir uranium produc sotkamo nickel zinc mine eastern finland own talvivaara',\n",
       " 'expand agreement cover sale market distribut benefon navig locat devic china',\n",
       " 'omx nordic omxn index compris trade nordic stock nasdaq omx exchang close point wednesday',\n",
       " 'omx nordic omxn index compris trade nordic stock nasdaq omx exchang close point friday',\n",
       " 'tietoen sign agreement acquir indian research develop r servic provid turnkey softwar solut develop fortuna technolog pvt ltd mln euro mln septemb',\n",
       " 'number one mean creat ad valu stakehold everyth',\n",
       " 'term take agreement talvivaara cameco provid front invest maximum million cover construct cost uranium extract circuit',\n",
       " 'vaisala oyj press releas septemb vaisala sign contract sell oxygen measur technolog busi sick maihak gmbh',\n",
       " 'beij xfn asia hong kong list standard charter bank said sign china mobil phone dealer financ agreement nokia make first foreign bank offer financ countri small medium enterpris lr',\n",
       " 'provid summari medic equip pipelin product compani develop',\n",
       " 'cours talk come new project involv materi handl konecran presid ceo pekka lundmark said ask whether talk relianc industri suppli equip upcom refineri jamnagar',\n",
       " 'lidsko pivo invest program forese integr modern product updat transport logist infrastructur develop new market instrument mikshi said',\n",
       " 'residentialconstruct particular pick sever market',\n",
       " 'ruukki includ djsi world second year run european djsi stoxx third year run',\n",
       " 'sale oxygen measur busi strengthen goal focu chosen market segment',\n",
       " 'correspond increas euro ahlstrom share capit enter trade regist today',\n",
       " 'august latvija finieri order product line new green veneer mill built ukmerg central lithuania',\n",
       " 'finnish hous manufactur target strongli grow one famili hous market russia',\n",
       " 'transact alma media rais stake talentum share vote right',\n",
       " 'aldata said still number oper aspect defin microsoft detail product market initi result agreement avail later date',\n",
       " 'alexandria va juli hannu kahonen juuka finland develop ornament design handl fire pit door u patent trademark offic announc',\n",
       " 'alexandria va may kenneth bower vista calif develop ornament design handset u patent trademark offic announc',\n",
       " 'largest elev market world chines output elev continu rise unit yr yr',\n",
       " 'aspocomp intend set plant manufactur print circuit board invest rs crore',\n",
       " 'baltic pearl cjsc subsidiari shanghai foreign joint invest compani develop project st petersburg compris million squar meter residenti space two hospit sever school nurseri',\n",
       " 'biohit oyj develop manufactur market liquid handl product diagnost test system use research healthcar industri laboratori',\n",
       " 'call switchboard directori servic decreas significantli sinc employe date contact inform colleagu custom phone place call directli',\n",
       " 'cargotec share capit increas total euro',\n",
       " 'cargotec share capit increas total eur',\n",
       " 'compar ftse index rose point day rel price chang',\n",
       " 'componenta increas stake turkish steel compani dokta dokumculuk ticaret sanayi pct stake march',\n",
       " 'earn per share ep seen eur eur',\n",
       " 'estonia beer market overal grew three percent last year million liter',\n",
       " 'finnish food compani raisio oyj hel raivv said friday wrap divest margarin oper us sector player bung ltd nyse bg eur usd',\n",
       " 'finnish lift equip maker konecran hel kcr v said juli rais stake austrian manipul maker ac konecran bought german sector player knight europ',\n",
       " 'finnish paper maker upm kymmen corp monday announc sale wrap unit walki wisa capman invest group move concentr core busi',\n",
       " 'follow increas compani eur tm capit total mln romanian lei mln mln euro',\n",
       " 'helsinki afx kci konecran said rais stake mmh hold inc owner us base morri materi handl pct pct',\n",
       " 'gener net sale eur million usd',\n",
       " 'august latvija finieri order product line new green veneer mill built ukmerg lithuania',\n",
       " 'deliv differ user experi enabl us widen market address',\n",
       " 'jacob support storengi invest develop storag site sinc owner engin',\n",
       " 'adpnew jun finnish stainless steel maker outokumpu oyj hel v said yesterday sign three year eur million usd bn revolv credit facil',\n",
       " 'increas net sale due acquisit swedish silva produc garden tool boat',\n",
       " 'mr ashley deputi execut chairman sport direct sold pc stake compani pound time float',\n",
       " 'one challeng oil product north sea scale format plug pipelin halt product',\n",
       " 'rental build equip account percent oper incom',\n",
       " 'ruukki deliveri includ steel structur includ instal krakeroy bascul bridg steel pile bridg foundat',\n",
       " 'sanoma continu focu invest digit media strengthen market posit',\n",
       " 'stockmann establish finland becam first foreign compani enter russia retail trade market',\n",
       " 'sysopen digia sign agreement main sharehold sentera hold total share capit vote sentera',\n",
       " 'acquisit part suomen helasto strategi expand lukkoexpert secur chain suomen helasto ceo kimmo uusimaki said',\n",
       " 'broad base wig index end thursday session pct pt blue chip wig pt',\n",
       " 'busi divest gener consolid net sale eur million annual current employe',\n",
       " 'compani gener net sale mln euro mln annual employ',\n",
       " 'compani plan expand intern market subsidiari distributor onward',\n",
       " 'compani plan spend proce right offer strengthen balanc sheet',\n",
       " 'contract cover manufactur surfac treatment instal steel structur',\n",
       " 'correspond increas share capit eur enter trade regist today',\n",
       " 'correspond increas share capit total eur regist finnish trade regist may',\n",
       " 'correspond increas share capit due subscript warrant total eur regist finnish trade regist januari',\n",
       " 'correspond share capit increas eur enter trade regist today',\n",
       " 'decis sell share lenenergo reach line fortum strateg plan invest mainli gener asset russia lenenergo grid compani press releas said',\n",
       " 'equip expand contain handl capac namibia main port walvi bay west coast',\n",
       " 'expans includ doubl floor space addit lift capac product equip',\n",
       " 'group aim increas net sale compar oper profit',\n",
       " 'order also includ start commiss servic',\n",
       " 'order consist capac expans mainten servic new charg function compani said',\n",
       " 'phone target first time user growth market',\n",
       " 'repay eur million debentur bond relat compani previou announc octob collect irrevoc sell commit holder subordin debentur bond',\n",
       " 'revenu busi reach nok million',\n",
       " 'subscript increas cargotec share capit euro',\n",
       " 'subscript increas cargotec share capit eur',\n",
       " 'total area gorelovo plant sq atria invest euro mn plant doubl atria russia product capac st petersburg area',\n",
       " 'tielinja gener net sale mln euro mln',\n",
       " 'tikkurila powder coat employe four paint plant gener revenu eur usd',\n",
       " 'u district judg dougla p woodlock yesterday extend jan temporari restrain order march',\n",
       " 'uk sarantel outsourc part process elcoteq plant estonia london oct bn british miniatur antenna maker sarantel sign agreement outsourc assembl test suppli chain process plant elcoteq estonian capit tallinn',\n",
       " 'rental agreement stockmann commit invest build bridg gogol street build underground tunnel cross street',\n",
       " 'made long term invest develop system implement model',\n",
       " 'launch new g handset nokia aim becom winner china g market g market',\n",
       " 'subscript fortum ownership tgk increas slightli share vote right',\n",
       " 'vnh gener annual net sale mln eur employ peopl',\n",
       " 'earn per share ep first quarter amount eur eur',\n",
       " 'jan ford struggl face slow truck suv sale surfeit date gotta car',\n",
       " 'rautakesko busi oper norway russia acquir juli includ figur compar period impact sale growth start august',\n",
       " 'oper profit eur mn eur mn',\n",
       " 'peer peugeot fell pct sale rose pct period last year',\n",
       " 'pharmaceut group orion corp report fall third quarter earn hit larger expenditur r market',\n",
       " 'howev growth margin slow due financi crisi',\n",
       " 'signific telest emphasis larg size grow economi well rapid develop tv servic distribut industri poland view attract market',\n",
       " 'reach agreement union flight continu normal finnair spokesman usko maatta said',\n",
       " 'finland insur compani pohjola finnish motorcyclist associ sign agreement aim improv motorcyclist traffic safeti',\n",
       " 'helsinki afx nokian tyre report fourth quarter pretax profit mln eur mln back strong sale',\n",
       " 'kalnapilio tauro grupe kalnapili taura group own denmark royal unibrew rais market share percent percent beer sale seven month jump percent million liter',\n",
       " 'kalnapilio tauro grupe kalnapili taura group own denmark royal unibrew rais market share percent percent beer sale nine month jump percent million liter',\n",
       " 'marimekko today novemb sign licens agreement swedish chain wherebi marimekko licens popular pattern h',\n",
       " 'staff recruit japan complement network close servic locat countri worldwid',\n",
       " 'nokian capacitor equip use rais capac reliabl indian grid',\n",
       " 'rautaruukki corpor stock exchang releas decemb noon ruukki construct engin divis improv adjust oper finland',\n",
       " 'ruukki romania local arm finnish metal produc ruukki increas capit euro mln cash contribut report septemb',\n",
       " 'stx finland oy sign preliminari agreement build environment friendli new gener cruis ferri vike line manag turku finland stockholm sweden withvik line abp',\n",
       " 'compani estim net sale increas consider oper result clearli posit',\n",
       " 'tower chose add due go oper summer increas total capac broadsheet tabloid page abil run page product side side',\n",
       " 'uponor made oper profit eur mn eur mn made record year',\n",
       " 'baswar corpor stock exchang releas august baswar sign larg deal intern industri group baswar deliv invoic autom solut connect servic intern industri group',\n",
       " 'estim oper profit improv third quarter',\n",
       " 'kazgiprotsvetmet outotec finland sign agreement strateg cooper market provid miner process metallurg plant relat servic kazakhstan surround countri',\n",
       " 'lemcon sign invest cooper agreement kaluga region administr last novemb',\n",
       " 'ruukki forecast annual sale growth posit pretax result',\n",
       " 'sale rose pct mln eur back strong volum favour currenc effect',\n",
       " 'growth net sale continu favour middl east africaand asia pacif',\n",
       " 'new agreement expand long establish cooper compani involv transfer certain engin document function larox etteplan',\n",
       " 'appoint kaupth bank aim co ordin capit market activ within group improv overal servic client',\n",
       " 'cencorp headquart virkkala finland develop suppli autom solut electron semiconductor industri enhanc product',\n",
       " 'follow increas huhtamaki oyj regist share capit eur number share outstand',\n",
       " 'follow increas huhtamaki regist share capit eur number share outstand',\n",
       " 'compani also suppli mw power gener equip number project papua new guinea includ engin wartsila type lihir gold',\n",
       " 'agreement pfizer fund bioti research activ pde phosphodiesteras inhibitor program sinc start late sole author develop discov compound',\n",
       " 'omx market forward matur may novat finland oy direct sharehold amer sport corpor exceed one fifth compani share vote right',\n",
       " 'prove effici china mobil system rod baber english climber climb mount everest summit success made call',\n",
       " 'test part larger campaign includ variou custom trial demonstr make lte mhz commerci viabl summer nokia siemen head lte busi line reino tammela said',\n",
       " 'finnish ahlstrom corpor doubl invest new specialti glassfib reinforc plant south carolina us',\n",
       " 'helsinki octob ssh commun secur corp board director inform pleas contact tomi laamanen chairman tel distribut nasdaq omx helsinki ltd',\n",
       " 'patrizia add acquisit portfolio alreadi worth eur bn',\n",
       " 'sale rose mln eur compar last year mln eur line mln eur consensu figur',\n",
       " 'contract sign august papua new guinea base lihir gold ltd asx lgl',\n",
       " 'offer million share aim rais x ac million us million expect complet oct outokumpu said',\n",
       " 'extens co oper also bolster sysopen digia posit domest oper market kallioranta add',\n",
       " 'agreement continu good cooperationand time releas capit tie ourmachineri oper',\n",
       " 'theodosopoulo said tellab could valu nokia siemen nortel given lead suppli statu verizon along high growth product',\n",
       " 'succeed increas market share sold apart comment mr kari kauniskanga head yit intern construct servic',\n",
       " 'capman partner abl develop busi continu focu provid qualiti restaur servic custom say christoph wynn ceo papa john russia',\n",
       " 'finnish suominen corpor specialis wet wipe nonwoven flexibl packag report net sale eur mn second quarter eur mn second quarter',\n",
       " 'finnish telecom softwar develop tecnomen oyj said decemb mln mln euro order suppli expans charg messag system mobil fix network brasil telecom',\n",
       " 'increas trust client yit seen apart sale acceler',\n",
       " 'adp news dec finnish construct engin compani outotec oyj omx ote v said today eur million usd order expand phosphat concentr siilinjarvi norwegian minera',\n",
       " 'mr priit kasak balti metsamasina owner said rakver base compani wish increas valmet market share third coupl year',\n",
       " 'ponss plan creat network base strong partnership particip product larger entiti present',\n",
       " 'bank see potenti geting share rise',\n",
       " 'compani record revenu e million fiscal year end decemb increas',\n",
       " 'cooper doubl switch convert capac',\n",
       " 'robust growth result inclus cloth chain lindex group decemb',\n",
       " 'six breweri record percent growth domest beer sale last year million liter million liter sold',\n",
       " 'truli take effici new height mr metso add',\n",
       " 'hope increas traffic volum open freight one scandinavia',\n",
       " 'januari ephc board director approv increas quarterli dividend per share',\n",
       " 'finnish cargotec kalmar busi area provid contain handl solut award order ten e one rubber tyre gantri rtg crane saigon newport compani snp vietnam',\n",
       " 'bilfing investor cheer agreement push share euro euro afternoon trade',\n",
       " 'kesko pursu strategi healthi focus growth concentr sale servic consum custom',\n",
       " 'london afx share rautaruukki corp upgrad hold sell abn amro price target rais eur said dealer',\n",
       " 'london marketwatch nokia nok said five year servic contract run hutchison essar network oper nine locat india',\n",
       " 'progress group qpr repres saudi arabia north africa sign framework agreement long term strateg relationship ise',\n",
       " 'raguti control finnish breweri olvi achiev percent rise beer sale million liter held percent market share',\n",
       " 'sq sq ft store copenhagen premier shop district inaugur today strengthen compani presenc nordic capit',\n",
       " 'metal gain percent year demand china world largest user increas',\n",
       " 'addit cramo peab sign exclus five year rental agreement finland extend exist rental agreement swedish market anoth five year',\n",
       " 'outotec oyj press releas decemb outotec establish new subsidiari kolkata outotec establish subsidiari india order better serv indian custom increas busi grow indian market',\n",
       " 'also pct month volum weight averag price stock',\n",
       " 'mobil phone shipment jump percent almost million unit finnish compani global market share rose percent percent',\n",
       " 'januari largest nordic bank nordea finnish retail chain stockmann launch region uniqu cooper project first introduc common mastercard credit card enabl payment differ state store',\n",
       " 'qpr establish intern custom base spread countri varieti organ includ bank manufactur compani servic compani govern author',\n",
       " 'select third parti logist leader transplac best class technolog procur capabl lead specialti packag manufactur employ complet pl solut suppli chain visibl transport effici increas servic level time deliveri',\n",
       " 'g allow custom use mobil broadband servic speed ten time higher today g',\n",
       " 'accord eijken publish much publish colour book publish provid valu ad inform individualis',\n",
       " 'base strong custom interest feedback use rpm mobil phone manufactur oper enterpris develop forum significantli increas product servic qualiti user experi cost effici tulonen continu',\n",
       " 'cameco provid upfront invest usd mn construct uranium extract circuit',\n",
       " 'cdp establish initi institut investor howev annual publish result also interest increas number custom interest group report compani',\n",
       " 'origin contract sign last summer',\n",
       " 'testament qualiti lte solut commit japanes market ad',\n",
       " 'ixono rich heritag develop leadership experi smartphon segment',\n",
       " 'acquisit elektro pavara complet kone market expans strategi baltic countri',\n",
       " 'januari finnish consult trainer hous oyj hel trh v said last friday resolv issu eur hybrid bond domest investor bid strengthen capit structur',\n",
       " 'alexandria va oct aaron moss hampshir great britain develop ornament design handset u patent trademark offic announc',\n",
       " 'hybrid bond januari finnish consult trainer hous oyj hel trh v said last friday resolv issu eur hybrid bond domest investor bid strengthen capit structur',\n",
       " 'repair mainten busi account net sale eur mn eur mn',\n",
       " 'money spent strengthen compani competit sphere sawmil product increas volum wood deliv process russia releas say',\n",
       " 'new technolog improv glass qualiti consist increas throughput',\n",
       " 'reason behind estim includ rise rent level sever fulli leas offic retail properti complet ad compani invest properti portfolio',\n",
       " 'vaisala group success intern technolog compani develop manufactur market electron measur system product',\n",
       " 'vuokatti unit develop focu especi manufactur prototyp ramp new product demand test sale servic',\n",
       " 'look forward help compani develop oper servic digit servic custom',\n",
       " 'agj record eur mln sale gener export custom western europ statement said',\n",
       " 'number collect error fell consider oper speed',\n",
       " 'combin exist solut singl platform comptel said reduc cost deploy',\n",
       " 'second quarter group pretax loss narrow eur eur',\n",
       " 'januari finnish metal product compani componenta oyj hel cth v said yesterday net loss narrow eur last quarter eur period year earlier',\n",
       " 'may finnish liquid handl product diagnost test system maker biohit oyj hel biobv said today may net loss narrow eur usd first quarter eur period',\n",
       " 'finnish fiber plastic product maker suominen corpor said net loss continu oper narrow mln euro mln mln euro mln',\n",
       " 'finnish metal product compani componenta oyj hel cth v said today net loss narrow eur usd last quarter eur million period year earlier',\n",
       " 'finnish sport equip maker amer sport oyj hel amea said today net loss narrow eur million usd second quarter eur million correspond period year earlier',\n",
       " 'finnish steel maker rautaruukki oyj hel rtrk ruukki said today net loss contract eur million usd first nine month eur million period year ago',\n",
       " 'first nine month talvivaara net loss narrow eur million eur million period',\n",
       " 'first nine month compani net loss narrow eur eur million correspond period',\n",
       " 'first nine month compani net loss narrow eur eur correspond period',\n",
       " 'adp news feb finnish comput servic compani proha oyj hel art v said today net loss narrow eur usd eur million',\n",
       " 'new factori work model reorganis would decreas nokian tyre cost factori eur million usd',\n",
       " 'octob finnish metal product compani componenta oyj hel cth v said yesterday net loss narrow eur first nine month eur period',\n",
       " 'finnish fiber plastic product maker suominen corpor said net loss narrow mln euro mln first nine month mln euro mln period',\n",
       " 'contrast compani net loss third quarter contract eur million eur million correspond period year ago',\n",
       " 'second quarter raut net loss narrow eur eur million period',\n",
       " 'adp news nov finnish print circuit board pcb maker aspocomp group oyj omx acg v said today net loss narrow eur million usd first nine month eur',\n",
       " 'metsaliitto howev narrow net loss second quarter mln euro mln mln euro mln year ago',\n",
       " 'narrow eur mo octob finnish softwar hardwar develop elektrobit oyj hel ebg v eb said today net loss narrow eur first nine month eur period year ago',\n",
       " 'dilut loss per share narrow eur eur',\n",
       " 'unit cost flight oper fell percent',\n",
       " 'loss third quarter eur mn smaller loss second quarter',\n",
       " 'airvana umt home base station femto cell use softwar base function shelf silicon acceler featur develop reduc product cost',\n",
       " 'accord sepp nen new technolog umt solut network build cost one third lower build g network oper mhz frequenc',\n",
       " 'cost new ropax vessel lower present one',\n",
       " 'last job loss relat reduct take place',\n",
       " 'program target structur cost reduct eur mn',\n",
       " 'third quarter result also includ euro provis size lure manufactur ireland',\n",
       " 'upm kymmen work close ship agent reduc fuel consumpt greenhous ga emiss',\n",
       " 'februari finland base steel maker rautaruukki oyj hel rtrk ruukki said today slip larger expect pretax loss eur fourth quarter year earlier profit eur',\n",
       " 'adpnew feb finland base steel maker rautaruukki oyj hel rtrk ruukki said today slip larger expect pretax loss eur million usd fourth quarter',\n",
       " 'result tax decreas nearli eur mn compar nearli eur mn previou account period',\n",
       " 'compani slip oper loss eur million profit eur million',\n",
       " 'april finnish construct engin compani outotec oyj hel ote v said today slip net loss eur first quarter net profit eur correspond period last year',\n",
       " 'cramo slip pretax loss eur million pretax profit eur million',\n",
       " 'finnish solut provid affecto oyj hel afe v said today slip net loss eur usd second quarter profit eur correspond period year earlier',\n",
       " 'comptel slip net loss eur profit eur previou year',\n",
       " 'q profit tax amount eur mn eur mn q',\n",
       " 'adpnew feb finnish real estat investor sponda oyj hel sda v said today slip net loss eur million usd profit eur million',\n",
       " 'adpnew jul finland base steel maker rautaruukki oyj ruukki hel rtrk said today slip net loss eur million usd first half net profit eur',\n",
       " 'profit tax amount eur mn eur mn year ago',\n",
       " 'profit tax decreas eur mn first nine month compar eur mn year earlier',\n",
       " 'profit tax decreas eur mn eur mn year',\n",
       " 'profit tax eur mn eur mn',\n",
       " 'compani profit tax fell eur mn third quarter compar eur mn correspond period',\n",
       " 'state program work legal provis develop rule norm document specifi function technolog park',\n",
       " 'august octob compani result tax total eur mn eur mn correspond period',\n",
       " 'finnish bore own rettig famili grown recent acquisit smaller ship compani',\n",
       " 'plan estim gener eur million usd cost save annual basi',\n",
       " 'finnish pharmaceut compani orion report profit tax eur mn third quarter eur mn correspond period',\n",
       " 'finnish sampo bank danish dansk bank group report profit tax eur mn eur mn',\n",
       " 'profit tax period eur eur last year',\n",
       " 'profit tax eur mn eur mn year earlier',\n",
       " 'also construct expens gone russia',\n",
       " 'nest oil said build biodiesel product facil rotterdam netherland estim cost million euro name franc base technip project main contractor',\n",
       " 'european central bank ecb anticip rais benchmark interest rate second half earliest',\n",
       " 'august finnish measur equip maker vaisala oyj hel vaia said today net loss widen eur first half eur correspond period year earlier',\n",
       " 'finnish power suppli solut system provid efor oyj said net loss widen mln euro mln first quarter fiscal end octob euro mln period fiscal',\n",
       " 'adp news apr finnish busi inform system develop solteq oyj hel stq v said today net loss widen eur usd first quarter eur peri',\n",
       " 'salonen ad data show produc pulp inventori north america declin',\n",
       " 'elcoteq group recent announc last three month previou year brought major loss half billion kroon eur mln fifth quarter run',\n",
       " 'current year raut expect net sale increas oper result posit',\n",
       " 'turnov surg eur eur due increas servic demand especi third quarter overal growth busi',\n",
       " 'result compani current anticip net sale increas oper result posit',\n",
       " 'asimilar agreement sign china mobil ltd sehk nyse chl largest mobil carrier thegp social network servic provid promot gypsii servic beij olymp game accord thelatest news',\n",
       " 'upm deliveri increas third quarter percent effici oper improv chief execut jussi pesonen said',\n",
       " 'global sport equip maker amer sport corp whose brand includ atom salomon wilson saw percent increas third quarter net profit euro million million strong sale cost cut',\n",
       " 'export make per cent sale name glaston also reflect truli intern oper compani explain kyro presid ceo mika seitovirta',\n",
       " 'westend ict plc new share increas share capit eur base resolut extraordinari sharehold meet decemb today regist trade regist',\n",
       " 'due rapid expans market share tallink term passeng carriag tallinna sadam port tallinn total percent novemb percent novemb',\n",
       " 'finnish industri investor panostaja oyj omx helsinki pnaa omx helsinki pnab said friday juli sign deal acquir entir share capit kospa oy manufactur wast dispos equip',\n",
       " 'stora enso r share rose pct eur upm kymmen also drag higher rise pct eur real b ad pct eur',\n",
       " 'cash flow oper recent quarter also reach eight year low',\n",
       " 'loan use financ strateg invest shop center redevelop project refinanc matur debt',\n",
       " 'stock price rose ore close sek end two day streak loss',\n",
       " 'earn per share ep amount eur loss eur',\n",
       " 'earn per share ep eur loss eur',\n",
       " 'oper profit total eur mn oper loss eur mn year year',\n",
       " 'oper profit total eur mn loss eur mn second quarter',\n",
       " 'oper result includ non recur item rose eur mn loss eur mn',\n",
       " 'tiimari finnish retail report geenrat quarterli revenu total eur mn th quarter eur mn loss',\n",
       " 'earn per share ep amount eur loss eur',\n",
       " 'oper profit total eur mn loss eur mn fourth quarter',\n",
       " 'oper profit eur mn loss eur mn year earlier',\n",
       " 'invest oper chang enabl addit optimis work hour therebi cost save',\n",
       " 'okmet product base high tech expertis gener ad valu custom innov product develop extrem effici product process',\n",
       " 'sharehold full name id code petri ailu born inform pleas contact isto hantila ceo tel',\n",
       " 'septemb finnish stationeri gift retail tiimari hel tii v said today net sale rose year year eur august driven growth finland demand baltic remain weak',\n",
       " 'cet monday share bavarian nordic climb dkk stock exchang copenhagen lost past month',\n",
       " 'exampl net sale increas first quarter ebitda increas neg eur mn first quarter',\n",
       " 'mobil phone sale rose billion euro enterpris solut sale drop million euro',\n",
       " 'rise cost forc packag produc huhtamaki axe job hampshir manufactur plant',\n",
       " 'howev rapidli increas cost strengthen euro challeng whole industri impact result',\n",
       " 'growth rate pay nation debt extrem pain',\n",
       " 'oper loss increas eur mn loss eur mn',\n",
       " 'payment million lita interest long term loan provid raguti major sharehold estonia le coq also ad loss',\n",
       " 'moment valio worri ban continu long may becom quit problem',\n",
       " 'sponda record profit sale mln euro mln',\n",
       " 'cencorp estim net sale last quarter earlier state eur eur oper profit ebit estim posit',\n",
       " 'custom satisfi baswar invoic autom solut extend implement new geographi',\n",
       " 'repeat see ebita pct sale',\n",
       " 'separ side busi abl faster expand develop tapro retail network',\n",
       " 'strateg cooper rentakran bring us new custom alreadi work relationship author new territori said jarmo laasanen senior manag cramo',\n",
       " 'patja work well us decad fujitsu new bid competit',\n",
       " 'share purchas complet financ also provid expand latvia broadband infrastructur develop new area busi includ acquisit compani',\n",
       " 'term profit earn best year histori chief execut veli matti mattila said',\n",
       " 'govern profession approach assess offer',\n",
       " 'margarin busi put good shape last two year make natur addit bung look leverag posit central northern european market raisio ceo matti rihko said statement',\n",
       " 'win oem target develop wimax product',\n",
       " 'portion million record part win prior patent disput finnish phone maker nokia oyj',\n",
       " 'finnish electron manufactur servic compani elcoteq sign cooper agreement japanes mobil phone manufactur bypass elcoteq tallinn say jan kotka ceo elcoteq tallinn',\n",
       " 'accord rehu manag director jouko lahtinen project stabilis cost improv suppli secur',\n",
       " 'accord ceo matti karppinen frozen food post good result',\n",
       " 'accord vike line manag director nil erik eklund compani board director satisfi vike line perform',\n",
       " 'action improv oper effici adjust oper expect deliv annualis perman cost save around eur million effect mostli first half',\n",
       " 'time sale develop russia boost open stockmann nevski centr st petersburg',\n",
       " 'benefon wireless gp technolog compani suppli karput twig navig platform gp satellit navig voic guidanc servic',\n",
       " 'biohit vwr close cooper number year us biohit one vwr focu supplier',\n",
       " 'combin deep domain expertis applic servic manag asm outsourc servic offer prove win combin',\n",
       " 'demand brisk expect order level remain high',\n",
       " 'past decad gradual divest noncor asset bought sever sport equip maker includ california base fit product intern spark nevada base atec lead maker basebal softbal pitch machin',\n",
       " 'espoon kaupunki award contract person care product',\n",
       " 'export account net sale repres time record compani',\n",
       " 'finland poyri energi contract advis builder new cogener power plant lithuania second biggest citi kauna supervis construct process',\n",
       " 'finnish construct compani yit oyj said novemb mln euro mln contract construct new offic build local properti compani tapiola real estat oy',\n",
       " 'cargotec net sale exceed eur billion',\n",
       " 'kone receiv order aker yard suppli customis elev first genesi cruis ship schedul complet',\n",
       " 'addit fireplac export demand line stone exceed level earlier part year continu clearli brisker remaind year',\n",
       " 'kalmar award new year contract suppli rough terrain contain handler rtch',\n",
       " 'major order india comptel corpor receiv signific long term order mediat provis solut use lead oper india',\n",
       " 'manag director kari inkinen say sponda leas oper develop highli favour',\n",
       " 'net cash flow oper expect remain posit',\n",
       " 'price kesko share mln euro mln recogn gain mln euro mln dispos includ result second quarter',\n",
       " 'olvi post strong set figur first six month year',\n",
       " 'oper profit improv eur mn eur mn',\n",
       " 'standardis servic met posit recept among custom well itella',\n",
       " 'perform second half exceed expect',\n",
       " 'ponss project forest machin market improv expect previou year',\n",
       " 'raguti base lithuania second largest citi kauna boost sale last year per cent million liter',\n",
       " 'raisio bid buy glisten win win deal compani chairman uk snack firm told food today februari',\n",
       " 'stora enso own percent bergvik earn therefor sek bn valu appreci',\n",
       " 'talvivaara also maintain assumpt turn cash flow posit year end',\n",
       " 'thanksto improv demand adjust made theutil rate cramo fleet substantiallyimprov',\n",
       " 'acquisit expect improv access chrome ore resourc turkey',\n",
       " 'aim annual improv ruukki construct oper profit eur million usd start',\n",
       " 'compani estim trend demand sport equip steadi amer report said',\n",
       " 'estim synergi benefit least eur annual',\n",
       " 'goal achiev via organ growth possibl supplement acquisit',\n",
       " 'group busi balanc broad portfolio sport presenc major market',\n",
       " 'group busi balanc broad portfolio sport presenc major market',\n",
       " 'object plan measur achiev signific save next year',\n",
       " 'rebuild design improv machin perform product qualiti',\n",
       " 'transact posit impact around eur earn ruukki recogn fourth quarter year',\n",
       " 'situat normalis compani abl increas amount residenti unit sale st petersburg moscow particular',\n",
       " 'repeat order follow success instal elev delhi metro system kone spokeswoman told thomson financi news',\n",
       " 'custom chanc make book servic want one locat said mikko tuomainen charg finnair internet sale',\n",
       " 'stonesoft see great promis futur ipv',\n",
       " 'combin activ creat valu sharehold good employe custom',\n",
       " 'trend sport leisur market favor first month year',\n",
       " 'continu activ focu r posit offer away point solut toward dynam end end solut ervio state',\n",
       " 'februari finnish industri machineri compani metso oyj hel meo v said today deliv miner process equip basic engin canadian miner northland resourc osl naur tse nau',\n",
       " 'januari finnish solut provid affecto oyj hel afe v said today eur usd contract state own lithuanian social insur institut sodra',\n",
       " 'accord finnish pension insur compani varma varma recipi two third revenu earn relat pension cover competit tender finland',\n",
       " 'finnish construct group lemmink inen award two road build contract lithuanian transport administr',\n",
       " 'finnish construct group yit award contract instal heat air condit cool system new head offic automobil associ adac munich germani',\n",
       " 'finnish flexibl packag manufactur suominen corpor report net sale eur mn first quarter compar eur mn year earlier',\n",
       " 'finnish forest machineri manufactur ponss agre volvo start cooper latin america',\n",
       " 'finnish metso paper award contract rebuild sabah forest industri sfi pulp mill sabah malaysia',\n",
       " 'finnish metso paper order suppli uncoat fine paper machin mcc paper yinh china',\n",
       " 'finnish outokumpu technolog award sever new grind technolog contract',\n",
       " 'finnish rautaruukki award contract suppli instal steel superstructur partihallsf rbindelsen bridg gothenburg sweden',\n",
       " 'lule municip award yit year contract properti manag one third municip properti total area sq metr',\n",
       " 'shop center open st petersburg russia novemb turn cash flow finnish depart store chain stockmann russian oper posit first time',\n",
       " 'accord atria presid ceo matti tikkakoski compani swedish oper significantli improv first quarter',\n",
       " 'accord ceo kai telann compani newspap achiev best financi result ever',\n",
       " 'accord kesko compani agre citi administr leas build resettl construct five star hotel hilton room',\n",
       " 'accord nordic financi group nordea analyst sami sarkami make nokia portfolio competit',\n",
       " 'accord ringman finnish paper compani acquir know capac paper recycl turn success strategi',\n",
       " 'accord schmardin nordea like tri win custom pension fund provid',\n",
       " 'accord ceo nordea bank estonia vahur kraft nordea finland stockmann cooper ten year',\n",
       " 'adanac molybdenum canada order grind technolog molybdenum project british columbia canada shalkiya zinc kazakhstan award contract grind technolog shalkiya zinc lead project kazakhstan',\n",
       " 'raisio divis record oper profit',\n",
       " 'estim pct mobil call made home franc telecom hope pct orang client sign servic end',\n",
       " 'broker repeat buy rate base expect current restructur lead clear improv perform europ',\n",
       " 'arvo vuorenmaa loviisa plant gener manag said applic new licenc standard procedur quit confid approv grant',\n",
       " 'domest busi best alreadi close finnish dog owner',\n",
       " 'baswar ceo ilkka sihvo comment conjunct interim report whole baswar succeed well second quarter',\n",
       " 'cash flow oper activ estim posit',\n",
       " 'cision say sale return u k oper profit',\n",
       " 'citigroup inc nyse c announc global transact servic gt busi award new mandat finland base pohjola bank group',\n",
       " 'comptel vendor dynam oper support system oss softwar select orascom telecom oth partner provis activ solut mobil servic',\n",
       " 'depart store sale improv eur mn',\n",
       " 'dmasia august benefon extend manufactur capabl asmobil digitalmediaasia com dma ltd',\n",
       " 'finland nation carrier finnair plc carri record million passeng increas percent previou year airlin report tuesday',\n",
       " 'finnair plc carri record million passeng increas percent previou year finnish nation carrier report tuesday',\n",
       " 'finnish consult engin group poyri plc omx helsinki poy said wednesday octob award contract tanqia dibba fzc owner engin wastewat system dibba emir fujairah uae',\n",
       " 'finnish financi solut develop baswar corpor omx helsinki ba v said tuesday septemb deliv complet invoic autom solut larg us engin construct technic servic organ',\n",
       " 'finnish handl system compani cargotec oyj hel cgcbv said today eur million usd contract deliv macgregor hatch cover ship order norwegian shipown grieg ship',\n",
       " 'finnish oper elisa aker yard sign long term servic deal elisa deliv necessari voic data servic aker yard finland',\n",
       " 'finnish steel maker rautaruukki oyj ruukki said juli mln euro mln contract suppli instal steel superstructur partihallsforbindelsen bridg project gothenburg western sweden',\n",
       " 'fiskar strong portfolio intern brand includ fiskar iittala gerber silva buster',\n",
       " 'telest acquisit mark entri servic busi market long establish signific supplier product',\n",
       " 'forestri also higher driven yesterday bullish analyst comment stora enso dagen industri dealer said',\n",
       " 'furthermor effici improv measur initi earlier bear fruit ceo jan lang said',\n",
       " 'global bank news septemb tieto corpor pohjola bank pink pojlf cooper swift servic',\n",
       " 'hearst abl consolid russian market advertis press purchas',\n",
       " 'helsingin uutiset vantaan sanomat lansivayla reach reader consum greater helsinki region',\n",
       " 'helsinki afx metso said upgrad one upm kymmen four paper machin latter mill jaemsaenkoski new coat color suppli system machin process control qualiti measur',\n",
       " 'howev simdax remain avail market alreadi approv market authoris submit applic countri orion ad',\n",
       " 'howev broker gave outperform recommend stock',\n",
       " 'howev total order receiv still last year level',\n",
       " 'accord strategi strengthen local presenc establish repres offic south africa octob',\n",
       " 'addit lehdentekijat oy start produc new membership magazin viisa raha wise money associ',\n",
       " 'futur compani intend look know outsid compani cooper actor sector',\n",
       " 'industri invest interest glaston solar energi project',\n",
       " 'also potenti client grow environment recycl technolog sector',\n",
       " 'lead privat road ambul servic compani finland',\n",
       " 'known post bank concept would see fidel bank roll offic ghana post premis provid financi servic peopl',\n",
       " 'kone factori locat ayanambakkam suburb west chennai fulli integr facil give capabl address cost',\n",
       " 'last year sysopen digia invest ibm product know build portal trade place system success implement custom solut support',\n",
       " 'adp news oct finnish consult engin compani poyri oyj omx poy v said today award eur million usd extens exist consult engin contract venezuel',\n",
       " 'adp news oct finnish food compani raisio oyj omx raivv said today net profit jump eur million usd first nine month eur million period',\n",
       " 'adp news sep finnish secur privaci softwar solut develop stonesoft oyj said today usd million eur order deliv stoneg network secur product unnam russian te',\n",
       " 'meanwhil electrowatt ekono philippin inc also award three year oper mainten contract fr cement corpor',\n",
       " 'meanwhil nokia said abl deliv complet rang servic deploy oper consult integr manag servic result buyout',\n",
       " 'metso paper deliveri compris advantag dct tissu machin includ qualiti control distribut control system qc dc',\n",
       " 'net sale total eur million oper margin',\n",
       " 'nevertheless fitch note busi fundament three bank current remain sound',\n",
       " 'nokia control percent phone sale india africa strong prosit emerg market',\n",
       " 'nokia provid indosat turnkey servic includ civil work network plan implement integr wcdma g hspa network',\n",
       " 'nordic busi report june metso corpor win eur equip order australia commun ltd finnish engin technolog group metso corpor said monday june receiv eur equip order australia',\n",
       " 'sale price sale gain mln euro mln recogn incap earn',\n",
       " 'outotec net profit second quarter jump mln euro mln mln euro mln year ago',\n",
       " 'panostaja oyj panostaja board director decid decemb new long term incent commit plan member manag team',\n",
       " 'pioneer librari system one librari municip art cultur higher educ scienc organ award grant particip big read largest feder read program u histori',\n",
       " 'pretax profit jump eur million eur million',\n",
       " 'profit ebit compar previou year period',\n",
       " 'raut corpor receiv order worth eur million ooo ilim bratsk dok russia',\n",
       " 'recoveri evid liquid handl busi particularli area outsid europ primarili north america asia',\n",
       " 'sale improv sek mn compar sek mn',\n",
       " 'savon koulutuskuntayhtyma finland base compani award contract specialist agricultur forestri machineri',\n",
       " 'skf april alandsbanken given buy recommend swedish industri compani skf ab sto skf b share price target sek',\n",
       " 'soni ericsson nokia domin list best sell handset five model',\n",
       " 'speak drink today spokesperson olvi said perform well four countri oper name finland estonia latvia lithuania',\n",
       " 'sport equip sale also progress well owe prolong winter season',\n",
       " 'stockmann mastercard widen scope cooper estonia latvia',\n",
       " 'stora enso record capit gain eur million non recur financi item fourth quarter result',\n",
       " 'tele affarsvarlden gave buy recommend mobil oper tele ab share price target crown euro',\n",
       " 'top consensu forecast earn euro share',\n",
       " 'acquisit kaupth sverig bring signific posit non recur addit group perform',\n",
       " 'acquisit immedi posit impact aspocomp financi result',\n",
       " 'amend propos simplifi propos plan increas incent key employe stay compani',\n",
       " 'australian compani mirabela nickel award outokumpu technolog contract grind technolog nickel sulfid project bahia state brazil',\n",
       " 'broker initi palfing ag konecran oyj buy recommend eur price target respect',\n",
       " 'buyer aim thu reinforc posit denmark martela group manag director heikki martela said',\n",
       " 'compani agre long term cooper mechanis harvest stora enso eucalyptu plantat southern china',\n",
       " 'compani aim maintain trend profit current year',\n",
       " 'compani also said poland profit program launch oborniki steel frame sandwich panel plant',\n",
       " 'compani establish g base station feet foot mount everest enabl mountain climber foot summit surf internet even send video exploit',\n",
       " 'compani also featur ethibel pioneer invest regist includ innovest global list world sustain corpor',\n",
       " 'compani goal achiev annual save eur million usd two third realiz',\n",
       " 'compani said observ current stabilis price potenti higher price deliveri first quarter',\n",
       " 'compani also compens act reserv batch plant',\n",
       " 'group also strong global posit fish categori',\n",
       " 'group cash flow oper posit',\n",
       " 'mill long tradit hold establish posit market',\n",
       " 'move aim boost sale cost effici market share finland',\n",
       " 'newspap alma media arena partner enter cooper agreement use alma marketplac servic respect region',\n",
       " 'origin name componenta l subsidiari finnish componenta group chang l compon compani seen growth q comparison q',\n",
       " 'parti also agre option allow uh extens implement later also function human resourc manag',\n",
       " 'pilot project prove rifd technolog ideal purpos comment olli saarinen materi handl supervisor yara',\n",
       " 'plan facil estim cost around million would largest biodiesel plant world use palm oil certifi roundtabl sustain palm oil rspo',\n",
       " 'combin foreign invest creat interest opportun solteq',\n",
       " 'done logist largest order norway diversifi group said',\n",
       " 'result improv sale figur sweden',\n",
       " 'choos baswar tool financi servic seem like natur continu cooper say tommi leskinen financi applic manag nest oil corpor',\n",
       " 'agreement geosentr provid gypsii power hotel inform reserv servic visitor china includ popular citi beij shanghai',\n",
       " 'vaisala also said expect net sale eur million compar eur million record',\n",
       " 'valid fgvoip client symbian sign repres signific step forward accomplish goal',\n",
       " 'wartsila contract octob plant instal manturovo kostroma region russia km northeast moscow russia',\n",
       " 'honor recogn gartner specialist busi process model analysi compani mani largest softwar vendor world',\n",
       " 'posit pursu novel clinic candid go forward',\n",
       " 'upm kymmen upgrad line underperform goldman sach',\n",
       " 'consum well receiv pack fresh meat',\n",
       " 'demand sport equip good',\n",
       " 'last year finnair record percent growth asian sector carri million passeng two contin',\n",
       " 'addit flight link mumbai helsinki dictat strong traffic demand asia europ',\n",
       " 'lower price us competitor show real estat market stabilis return balanc apart acquir fair price eye client',\n",
       " 'new structur provid better commun faster decis make cost save proha said',\n",
       " 'contract demonstr abil appli miner metal technolog adjac industri oil shale process',\n",
       " 'pleas deliv baswar invoic autom solut major retail compani us',\n",
       " 'tailor solut meet solel technic requir result cost effect manufactur highest qualiti reflector',\n",
       " 'feel quit posit region whole',\n",
       " 'decemb finnish industri machineri compani wartsila oyj abp hel wrt v said yesterday order design liquefi natur ga lng power platform suppli vessel psv norwegian oil servic provid eidesvik offshor asa osl eiof',\n",
       " 'finlan list food industri compani hkscan group control compani baltic improv revenu eur mn eur mn eur mn year',\n",
       " 'finnish airlin finnair deal uk public sector offici airlin flight london heathrow osaka japan well flight manchest uk helsinki finland',\n",
       " 'finnish cargotec award signific order total hiab loader crane bae system us',\n",
       " 'finnish cargotec kalmar receiv signific order us depart defens',\n",
       " 'finnish outotec award contract suppli new zinc roaster ga clean sulphur acid plant ozk kardzhali zinc smelter bulgaria',\n",
       " 'finnish p yri award engin contract cfr nation railway compani romania',\n",
       " 'accord report neomarkka kuitu finland custom interest buy compani product restart product',\n",
       " 'result distribut compani start distribut addit current product offer shimano reel rod shimano fish tackl product exclus basi',\n",
       " 'cargotec germani gmbh award contract stadtverwaltung mainz chassi bodi open procedur',\n",
       " 'ceo erkki j rvinen happi compani perform',\n",
       " 'deliveri start network readi launch soon',\n",
       " 'earn per share quarter also higher year year eur versu market expect eur',\n",
       " 'ebitda year improv eur compar eur',\n",
       " 'estonian telecom compani elisa custom number cross tallinn oct bn estonian telecommun compani elisa approxim new client nine month year bring number end septemb compani said',\n",
       " 'exel composit long term growth prospect remain favour howev',\n",
       " 'fi develop cooper keyword advertis microsoft',\n",
       " 'finnish construct group lemminkainen oyj hel lem said today contract provid technic servic nevski centr shop mall open novemb st petersburg russia',\n",
       " 'finnish mobil oper dna function subcontractor maingat respons telecommun connect',\n",
       " 'finnish softwar develop baswar oyj said novemb u subsidiari baswar inc order provid softwar contract lifecycl manag unnam u medic technolog compani',\n",
       " 'honka subsidiari franc germani also benefit exampl arrang custom event conjunct world cup ski competit',\n",
       " 'howev sale volum food industri expect remain rel good level finland scandinavia atria said',\n",
       " 'incap lankapaja aim enter actual agreement transfer sheet metal product buyer februari order complet transfer march',\n",
       " 'mr kivimeist said john deer former timberjack stand win situat control around estonia forest machineri market',\n",
       " 'nokia elisa work togeth bring superior mobil game experi elisa custom',\n",
       " 'nordea see return posit growth baltic countri',\n",
       " 'oper profit improv eur mn',\n",
       " 'oper profit improv eur mn eur mn',\n",
       " 'oper profit improv er mn eur mn',\n",
       " 'oper profit improv eur mn eur mn',\n",
       " 'outokumpu chief execut juha rantanen express confid china market',\n",
       " 'previous compani anticip oper profit improv period',\n",
       " 'product situat improv',\n",
       " 'rautaruukki said construct group yit award mln eur contract suppli steel structur new bridg span kemijoki river northern finland',\n",
       " 'sale came mln eur compar mln also beat consensu forecast mln eur',\n",
       " 'sale vat inclus expand percent million euro',\n",
       " 'strong growth continu also china',\n",
       " 'synergi benefit start materialis second quarter',\n",
       " 'telest sentri form integr partnership sentri advanc degre immers camera product line telest enterpris video manag system',\n",
       " 'thank multipli effect wagon perform transport much effici say develop manag juha malkia vr cargo',\n",
       " 'buy recommend reiter',\n",
       " 'aim achiev eur mn yearli save',\n",
       " 'borrow happi roadshow paid hit ratio high',\n",
       " 'compani make garden tool scissor consum good said earn boost mln eur incom receiv pct sharehold finnish engin group wartsila',\n",
       " 'compani anticip turnov whole surpass previou year eur million',\n",
       " 'compani negoti amend financi coven present credit agreement regard situat septemb',\n",
       " 'ep improv eur eur',\n",
       " 'expans aim attract new custom finland abroad',\n",
       " 'feder secretari transport commun mexico award poyri mexican partner sintra consult contract connect buenavista cuautitlan suburban railway',\n",
       " 'financi impact estim annual improv eur divis result fiscal year',\n",
       " 'financi impact estim meur annual improv divis result start fiscal year',\n",
       " 'finnish group anticip sale gain eur tax expens',\n",
       " 'launch plant june went well produc advanc fuel coupl week',\n",
       " 'parti agre negoti definit distribut licens agreement end june',\n",
       " 'ration oper seek achiev eur million yearli save second quarter current financi year',\n",
       " 'sale result gain eur million second quarter oriola kd support finnish compani strategi focu pharmaceut wholesal retail oper',\n",
       " 'stock new machin reason small new order bring work',\n",
       " 'third order award outokumpu technolog shalkiya zinc kazakhstan shalkiya zinc lead project kazakhstan',\n",
       " 'compani abl keep market posit',\n",
       " 'acquisit support strategi close custom around world offer equip relat servic',\n",
       " 'lay foundat sustain busi develop long term',\n",
       " 'turun kaupunkin finland base compani award contract lemminkainen talotekniikka oy electr instal work',\n",
       " 'world biggest magazin paper maker said program improv effici includ close sever least competit mill would cover compani oper result annual save euro million us million',\n",
       " 'moder signific chang result signific reduct estim cvd risk',\n",
       " 'uponor improv perform spite decreas residenti construct us',\n",
       " 'inventor issu u patent',\n",
       " 'isra cabl network oper hot telecom chosen telest intern technolog group exclus provid fttx equip israel accord telest today',\n",
       " ...]"
      ]
     },
     "execution_count": 47,
     "metadata": {},
     "output_type": "execute_result"
    }
   ],
   "source": [
    "corpous"
   ]
  },
  {
   "cell_type": "code",
   "execution_count": null,
   "id": "63d7eac4",
   "metadata": {
    "id": "63d7eac4",
    "outputId": "3b9f6bee-b587-44a1-adfc-da80be33e98e"
   },
   "outputs": [
    {
     "data": {
      "text/plain": [
       "0       According to Gran , the company has no plans t...\n",
       "1       Technopolis plans to develop in stages an area...\n",
       "2       The international electronic industry company ...\n",
       "3       With the new production plant the company woul...\n",
       "4       According to the company 's updated strategy f...\n",
       "                              ...                        \n",
       "4841    LONDON MarketWatch -- Share prices ended lower...\n",
       "4842    Rinkuskiai 's beer sales fell by 6.5 per cent ...\n",
       "4843    Operating profit fell to EUR 35.4 mn from EUR ...\n",
       "4844    Net sales of the Paper segment decreased to EU...\n",
       "4845    Sales in Finland decreased by 10.5 % in Januar...\n",
       "Name: messages, Length: 4846, dtype: object"
      ]
     },
     "execution_count": 41,
     "metadata": {},
     "output_type": "execute_result"
    }
   ],
   "source": [
    "Headlines['messages']"
   ]
  },
  {
   "cell_type": "markdown",
   "id": "8fcb5114",
   "metadata": {
    "id": "8fcb5114"
   },
   "source": [
    "# Model Building---Converting into Vectors"
   ]
  },
  {
   "cell_type": "code",
   "execution_count": null,
   "id": "5ff29208",
   "metadata": {
    "id": "5ff29208"
   },
   "outputs": [],
   "source": [
    "from sklearn.feature_extraction.text import CountVectorizer\n",
    "cv = CountVectorizer(max_features=5000,ngram_range=(1,3))\n",
    "X = cv.fit_transform(corpous).toarray()"
   ]
  },
  {
   "cell_type": "code",
   "execution_count": null,
   "id": "68aa396d",
   "metadata": {
    "id": "68aa396d"
   },
   "outputs": [],
   "source": [
    "# Dependent Feature\n",
    "y = News_copy.target"
   ]
  },
  {
   "cell_type": "code",
   "execution_count": null,
   "id": "a579038b",
   "metadata": {
    "id": "a579038b",
    "outputId": "6d09ef54-31c9-4b2e-b82c-fdba2bd98d2f"
   },
   "outputs": [
    {
     "data": {
      "text/plain": [
       "((4846, 5000), (4846,))"
      ]
     },
     "execution_count": 74,
     "metadata": {},
     "output_type": "execute_result"
    }
   ],
   "source": [
    "X.shape, y.shape"
   ]
  },
  {
   "cell_type": "code",
   "execution_count": null,
   "id": "b5a6932e",
   "metadata": {
    "id": "b5a6932e"
   },
   "outputs": [],
   "source": [
    "from sklearn.model_selection import train_test_split\n",
    "X_train,X_test,y_train,y_test = train_test_split(X,y,test_size=0.2,random_state=43)"
   ]
  },
  {
   "cell_type": "code",
   "execution_count": null,
   "id": "2505dfc2",
   "metadata": {
    "id": "2505dfc2",
    "outputId": "e2eaa9cd-d4b7-4b07-e67a-c820f86ca0bc"
   },
   "outputs": [
    {
     "data": {
      "text/plain": [
       "((3876, 5000), (970, 5000), (3876,), (970,))"
      ]
     },
     "execution_count": 76,
     "metadata": {},
     "output_type": "execute_result"
    }
   ],
   "source": [
    "X_train.shape ,X_test.shape, y_train.shape  , y_test.shape"
   ]
  },
  {
   "cell_type": "code",
   "execution_count": null,
   "id": "1cdeac69",
   "metadata": {
    "id": "1cdeac69",
    "outputId": "29ca2ebd-d13e-4c09-ca3d-a189428bf877"
   },
   "outputs": [
    {
     "data": {
      "text/plain": [
       "3832    0\n",
       "1258    0\n",
       "2644    1\n",
       "3817    0\n",
       "1280    0\n",
       "       ..\n",
       "307     2\n",
       "2064    2\n",
       "2325    0\n",
       "2303    2\n",
       "3392    0\n",
       "Name: target, Length: 3876, dtype: int64"
      ]
     },
     "execution_count": 91,
     "metadata": {},
     "output_type": "execute_result"
    }
   ],
   "source": [
    "y_train"
   ]
  },
  {
   "cell_type": "code",
   "execution_count": null,
   "id": "6f5d7634",
   "metadata": {
    "id": "6f5d7634",
    "outputId": "9ad3195e-3316-4dbf-f7a0-ac726a5a0539"
   },
   "outputs": [
    {
     "data": {
      "text/plain": [
       "['ab',\n",
       " 'ab sto',\n",
       " 'abb',\n",
       " 'abl',\n",
       " 'abp',\n",
       " 'abp hel',\n",
       " 'abroad',\n",
       " 'ac',\n",
       " 'ac drive',\n",
       " 'ac million']"
      ]
     },
     "execution_count": 78,
     "metadata": {},
     "output_type": "execute_result"
    }
   ],
   "source": [
    "cv.get_feature_names()[:10]"
   ]
  },
  {
   "cell_type": "code",
   "execution_count": null,
   "id": "cdacbcd4",
   "metadata": {
    "id": "cdacbcd4"
   },
   "outputs": [],
   "source": [
    "# Scikit-learn\n",
    "from sklearn.metrics import confusion_matrix,classification_report\n",
    "from sklearn.naive_bayes import MultinomialNB\n",
    "from sklearn.linear_model import LogisticRegression\n",
    "from sklearn.svm import SVC\n",
    "from sklearn.ensemble import RandomForestClassifier\n",
    "from sklearn.tree import DecisionTreeClassifier"
   ]
  },
  {
   "cell_type": "code",
   "execution_count": null,
   "id": "48e77247",
   "metadata": {
    "id": "48e77247"
   },
   "outputs": [],
   "source": [
    "# Build Models\n",
    "\n",
    "models = {\n",
    "    MultinomialNB():'Multinomial Naive Bayes',\n",
    "    LogisticRegression(max_iter=300):'Logistic Regression',\n",
    "    SVC(C=1.0, kernel='linear', degree=3, gamma='auto'):\"Support Vector Machine\",\n",
    "    DecisionTreeClassifier(): \"DecisionTreeClassifier\"\n",
    "}\n",
    "for m in models.keys():\n",
    "    m.fit(X_train,y_train)"
   ]
  },
  {
   "cell_type": "code",
   "execution_count": null,
   "id": "4374b183",
   "metadata": {
    "id": "4374b183"
   },
   "outputs": [],
   "source": []
  },
  {
   "cell_type": "code",
   "execution_count": null,
   "id": "f04e6074",
   "metadata": {
    "id": "f04e6074"
   },
   "outputs": [],
   "source": []
  },
  {
   "cell_type": "code",
   "execution_count": null,
   "id": "b97882de",
   "metadata": {
    "id": "b97882de",
    "outputId": "a9310419-f9ae-48b4-93db-ae494cd69ee4"
   },
   "outputs": [
    {
     "name": "stdout",
     "output_type": "stream",
     "text": [
      "Accuracy Score for Multinomial Naive Bayes is :  69.38144329896907 %\n",
      "Accuracy Score for Logistic Regression is :  75.87628865979381 %\n",
      "Accuracy Score for Support Vector Machine is :  71.75257731958763 %\n",
      "Accuracy Score for DecisionTreeClassifier is :  68.14432989690722 %\n"
     ]
    }
   ],
   "source": [
    "# Check Accuracy for each model\n",
    "for model,name in models.items():\n",
    "     print(f\"Accuracy Score for {name} is : \",model.score(X_test,y_test)*100,\"%\")"
   ]
  },
  {
   "cell_type": "code",
   "execution_count": null,
   "id": "908892ba",
   "metadata": {
    "id": "908892ba"
   },
   "outputs": [],
   "source": []
  },
  {
   "cell_type": "markdown",
   "id": "dab4e068",
   "metadata": {
    "id": "dab4e068"
   },
   "source": [
    "So the high accuracy model is from Logistic Regression, so lets build and save the model using Logistic Regression"
   ]
  },
  {
   "cell_type": "code",
   "execution_count": null,
   "id": "ade2879e",
   "metadata": {
    "id": "ade2879e"
   },
   "outputs": [],
   "source": []
  },
  {
   "cell_type": "code",
   "execution_count": null,
   "id": "fd2e01b9",
   "metadata": {
    "id": "fd2e01b9"
   },
   "outputs": [],
   "source": [
    "from sklearn.feature_selection import RFE\n",
    "from sklearn.linear_model import LogisticRegression\n"
   ]
  },
  {
   "cell_type": "code",
   "execution_count": null,
   "id": "e36093cc",
   "metadata": {
    "id": "e36093cc",
    "outputId": "e7489e12-9592-4617-c764-a01da61b9bdf"
   },
   "outputs": [
    {
     "data": {
      "text/html": [
       "<style>#sk-container-id-2 {color: black;background-color: white;}#sk-container-id-2 pre{padding: 0;}#sk-container-id-2 div.sk-toggleable {background-color: white;}#sk-container-id-2 label.sk-toggleable__label {cursor: pointer;display: block;width: 100%;margin-bottom: 0;padding: 0.3em;box-sizing: border-box;text-align: center;}#sk-container-id-2 label.sk-toggleable__label-arrow:before {content: \"▸\";float: left;margin-right: 0.25em;color: #696969;}#sk-container-id-2 label.sk-toggleable__label-arrow:hover:before {color: black;}#sk-container-id-2 div.sk-estimator:hover label.sk-toggleable__label-arrow:before {color: black;}#sk-container-id-2 div.sk-toggleable__content {max-height: 0;max-width: 0;overflow: hidden;text-align: left;background-color: #f0f8ff;}#sk-container-id-2 div.sk-toggleable__content pre {margin: 0.2em;color: black;border-radius: 0.25em;background-color: #f0f8ff;}#sk-container-id-2 input.sk-toggleable__control:checked~div.sk-toggleable__content {max-height: 200px;max-width: 100%;overflow: auto;}#sk-container-id-2 input.sk-toggleable__control:checked~label.sk-toggleable__label-arrow:before {content: \"▾\";}#sk-container-id-2 div.sk-estimator input.sk-toggleable__control:checked~label.sk-toggleable__label {background-color: #d4ebff;}#sk-container-id-2 div.sk-label input.sk-toggleable__control:checked~label.sk-toggleable__label {background-color: #d4ebff;}#sk-container-id-2 input.sk-hidden--visually {border: 0;clip: rect(1px 1px 1px 1px);clip: rect(1px, 1px, 1px, 1px);height: 1px;margin: -1px;overflow: hidden;padding: 0;position: absolute;width: 1px;}#sk-container-id-2 div.sk-estimator {font-family: monospace;background-color: #f0f8ff;border: 1px dotted black;border-radius: 0.25em;box-sizing: border-box;margin-bottom: 0.5em;}#sk-container-id-2 div.sk-estimator:hover {background-color: #d4ebff;}#sk-container-id-2 div.sk-parallel-item::after {content: \"\";width: 100%;border-bottom: 1px solid gray;flex-grow: 1;}#sk-container-id-2 div.sk-label:hover label.sk-toggleable__label {background-color: #d4ebff;}#sk-container-id-2 div.sk-serial::before {content: \"\";position: absolute;border-left: 1px solid gray;box-sizing: border-box;top: 0;bottom: 0;left: 50%;z-index: 0;}#sk-container-id-2 div.sk-serial {display: flex;flex-direction: column;align-items: center;background-color: white;padding-right: 0.2em;padding-left: 0.2em;position: relative;}#sk-container-id-2 div.sk-item {position: relative;z-index: 1;}#sk-container-id-2 div.sk-parallel {display: flex;align-items: stretch;justify-content: center;background-color: white;position: relative;}#sk-container-id-2 div.sk-item::before, #sk-container-id-2 div.sk-parallel-item::before {content: \"\";position: absolute;border-left: 1px solid gray;box-sizing: border-box;top: 0;bottom: 0;left: 50%;z-index: -1;}#sk-container-id-2 div.sk-parallel-item {display: flex;flex-direction: column;z-index: 1;position: relative;background-color: white;}#sk-container-id-2 div.sk-parallel-item:first-child::after {align-self: flex-end;width: 50%;}#sk-container-id-2 div.sk-parallel-item:last-child::after {align-self: flex-start;width: 50%;}#sk-container-id-2 div.sk-parallel-item:only-child::after {width: 0;}#sk-container-id-2 div.sk-dashed-wrapped {border: 1px dashed gray;margin: 0 0.4em 0.5em 0.4em;box-sizing: border-box;padding-bottom: 0.4em;background-color: white;}#sk-container-id-2 div.sk-label label {font-family: monospace;font-weight: bold;display: inline-block;line-height: 1.2em;}#sk-container-id-2 div.sk-label-container {text-align: center;}#sk-container-id-2 div.sk-container {/* jupyter's `normalize.less` sets `[hidden] { display: none; }` but bootstrap.min.css set `[hidden] { display: none !important; }` so we also need the `!important` here to be able to override the default hidden behavior on the sphinx rendered scikit-learn.org. See: https://github.com/scikit-learn/scikit-learn/issues/21755 */display: inline-block !important;position: relative;}#sk-container-id-2 div.sk-text-repr-fallback {display: none;}</style><div id=\"sk-container-id-2\" class=\"sk-top-container\"><div class=\"sk-text-repr-fallback\"><pre>LogisticRegression()</pre><b>In a Jupyter environment, please rerun this cell to show the HTML representation or trust the notebook. <br />On GitHub, the HTML representation is unable to render, please try loading this page with nbviewer.org.</b></div><div class=\"sk-container\" hidden><div class=\"sk-item\"><div class=\"sk-estimator sk-toggleable\"><input class=\"sk-toggleable__control sk-hidden--visually\" id=\"sk-estimator-id-2\" type=\"checkbox\" checked><label for=\"sk-estimator-id-2\" class=\"sk-toggleable__label sk-toggleable__label-arrow\">LogisticRegression</label><div class=\"sk-toggleable__content\"><pre>LogisticRegression()</pre></div></div></div></div></div>"
      ],
      "text/plain": [
       "LogisticRegression()"
      ]
     },
     "execution_count": 97,
     "metadata": {},
     "output_type": "execute_result"
    }
   ],
   "source": [
    "model = LogisticRegression()\n",
    "\n",
    "\n",
    "model.fit(X_train,y_train)\n"
   ]
  },
  {
   "cell_type": "code",
   "execution_count": null,
   "id": "1519f17b",
   "metadata": {
    "id": "1519f17b"
   },
   "outputs": [],
   "source": [
    "pred = model.predict(X_test)"
   ]
  },
  {
   "cell_type": "code",
   "execution_count": null,
   "id": "2d632247",
   "metadata": {
    "id": "2d632247",
    "outputId": "99365eb4-a179-4668-df83-ff7d877b0192"
   },
   "outputs": [
    {
     "data": {
      "text/plain": [
       "array([0, 2, 0, 0, 0, 0, 0, 0, 0, 2, 0, 0, 2, 0, 1, 0, 0, 0, 0, 1, 1, 1,\n",
       "       0, 0, 0, 0, 1, 0, 0, 1, 0, 0, 0, 0, 0, 0, 0, 0, 0, 0, 0, 0, 0, 0,\n",
       "       2, 0, 0, 0, 0, 0, 0, 1, 2, 0, 0, 0, 0, 0, 2, 0, 2, 0, 0, 1, 0, 1,\n",
       "       0, 2, 0, 0, 0, 0, 0, 0, 2, 0, 0, 0, 2, 0, 0, 0, 2, 1, 0, 0, 0, 0,\n",
       "       1, 2, 2, 2, 0, 0, 0, 0, 1, 2, 2, 0, 0, 0, 0, 0, 0, 0, 0, 0, 0, 0,\n",
       "       2, 2, 2, 0, 0, 0, 0, 0, 2, 0, 0, 1, 0, 0, 0, 0, 0, 0, 0, 0, 2, 2,\n",
       "       2, 0, 0, 0, 0, 2, 0, 0, 0, 0, 0, 0, 0, 2, 1, 0, 0, 2, 0, 2, 0, 0,\n",
       "       0, 2, 0, 0, 0, 0, 0, 0, 0, 0, 0, 2, 0, 0, 0, 2, 0, 0, 1, 0, 0, 0,\n",
       "       1, 1, 2, 2, 0, 0, 0, 0, 2, 0, 0, 0, 0, 1, 0, 1, 0, 0, 0, 0, 2, 0,\n",
       "       2, 1, 2, 0, 2, 2, 2, 0, 0, 0, 0, 0, 0, 2, 0, 2, 1, 0, 0, 2, 1, 0,\n",
       "       2, 0, 2, 2, 2, 0, 0, 2, 2, 0, 0, 2, 0, 2, 0, 1, 0, 1, 2, 0, 0, 2,\n",
       "       0, 0, 0, 0, 2, 0, 0, 0, 0, 0, 2, 0, 0, 0, 0, 0, 0, 1, 0, 0, 0, 1,\n",
       "       2, 0, 2, 0, 2, 2, 0, 0, 0, 0, 0, 0, 1, 2, 0, 0, 0, 0, 0, 0, 0, 1,\n",
       "       2, 2, 0, 0, 0, 2, 0, 2, 0, 0, 0, 0, 0, 0, 0, 0, 0, 0, 0, 0, 0, 0,\n",
       "       0, 0, 0, 2, 0, 0, 0, 0, 2, 0, 0, 0, 0, 2, 0, 0, 0, 0, 1, 1, 0, 0,\n",
       "       0, 1, 2, 0, 0, 2, 1, 2, 2, 2, 2, 2, 0, 2, 2, 0, 0, 0, 1, 0, 2, 0,\n",
       "       0, 0, 0, 0, 2, 0, 0, 0, 0, 2, 0, 2, 2, 0, 1, 0, 2, 0, 2, 0, 0, 1,\n",
       "       0, 0, 0, 1, 0, 0, 1, 0, 0, 0, 2, 0, 0, 0, 0, 0, 0, 0, 2, 2, 0, 2,\n",
       "       0, 0, 2, 0, 0, 0, 0, 2, 0, 2, 1, 0, 0, 1, 0, 0, 0, 2, 0, 0, 0, 0,\n",
       "       2, 2, 1, 2, 0, 1, 0, 0, 0, 0, 1, 2, 0, 0, 0, 0, 0, 0, 2, 2, 0, 0,\n",
       "       2, 2, 0, 0, 0, 1, 0, 0, 0, 0, 0, 0, 0, 2, 0, 0, 0, 2, 1, 0, 2, 0,\n",
       "       0, 0, 0, 0, 0, 2, 2, 0, 0, 0, 0, 2, 0, 0, 0, 2, 0, 0, 0, 0, 0, 2,\n",
       "       2, 0, 0, 2, 2, 0, 0, 0, 0, 0, 0, 0, 0, 0, 0, 1, 0, 0, 0, 0, 0, 2,\n",
       "       0, 0, 0, 0, 0, 1, 0, 0, 0, 0, 0, 0, 0, 0, 2, 0, 0, 0, 0, 0, 0, 0,\n",
       "       2, 0, 0, 0, 0, 1, 0, 0, 0, 0, 0, 2, 2, 0, 0, 0, 0, 2, 0, 0, 2, 1,\n",
       "       0, 0, 2, 0, 1, 0, 2, 0, 0, 0, 2, 0, 0, 2, 0, 1, 2, 0, 0, 2, 0, 1,\n",
       "       2, 1, 0, 0, 0, 0, 0, 0, 1, 0, 1, 0, 0, 0, 2, 0, 0, 1, 0, 0, 0, 0,\n",
       "       0, 0, 0, 0, 0, 0, 0, 0, 2, 0, 0, 0, 0, 2, 0, 0, 2, 0, 2, 0, 0, 2,\n",
       "       0, 1, 0, 0, 0, 0, 0, 0, 0, 0, 0, 0, 1, 0, 0, 0, 0, 0, 0, 0, 0, 0,\n",
       "       2, 0, 2, 0, 2, 2, 0, 0, 1, 2, 0, 0, 2, 0, 0, 0, 2, 1, 0, 0, 0, 1,\n",
       "       0, 0, 2, 0, 0, 0, 0, 1, 2, 0, 0, 0, 2, 2, 0, 0, 0, 0, 2, 0, 0, 0,\n",
       "       0, 2, 2, 0, 0, 0, 0, 2, 1, 0, 2, 2, 2, 2, 0, 1, 1, 1, 0, 0, 0, 2,\n",
       "       0, 0, 0, 0, 2, 0, 0, 0, 0, 0, 0, 2, 0, 1, 0, 2, 0, 0, 2, 0, 0, 0,\n",
       "       0, 2, 0, 2, 0, 0, 0, 0, 0, 0, 2, 0, 0, 0, 2, 0, 0, 1, 2, 2, 2, 0,\n",
       "       0, 1, 1, 0, 0, 0, 0, 1, 2, 0, 0, 0, 0, 2, 1, 2, 2, 0, 2, 1, 2, 2,\n",
       "       0, 1, 0, 0, 0, 2, 0, 0, 0, 0, 2, 0, 2, 2, 2, 0, 0, 2, 0, 0, 0, 2,\n",
       "       0, 0, 0, 2, 0, 0, 0, 0, 0, 0, 0, 0, 2, 2, 1, 2, 0, 0, 0, 2, 0, 0,\n",
       "       0, 0, 0, 2, 2, 0, 2, 0, 0, 0, 0, 0, 0, 0, 0, 0, 2, 0, 0, 0, 2, 0,\n",
       "       0, 1, 0, 2, 0, 0, 2, 0, 2, 0, 0, 0, 0, 2, 0, 0, 2, 0, 0, 0, 0, 0,\n",
       "       0, 0, 0, 0, 0, 0, 0, 0, 0, 0, 0, 2, 0, 2, 0, 0, 0, 0, 0, 0, 0, 0,\n",
       "       0, 0, 1, 0, 0, 0, 2, 0, 0, 0, 0, 0, 0, 0, 0, 0, 0, 2, 0, 2, 0, 0,\n",
       "       2, 0, 0, 0, 0, 0, 2, 0, 0, 0, 2, 0, 2, 0, 2, 0, 2, 0, 0, 0, 0, 1,\n",
       "       2, 0, 0, 1, 0, 0, 0, 0, 0, 0, 0, 0, 2, 1, 0, 2, 0, 0, 0, 0, 2, 0,\n",
       "       0, 2, 0, 1, 2, 1, 0, 2, 0, 0, 0, 0, 0, 0, 0, 0, 0, 2, 0, 1, 1, 0,\n",
       "       1, 1], dtype=int64)"
      ]
     },
     "execution_count": 99,
     "metadata": {},
     "output_type": "execute_result"
    }
   ],
   "source": [
    "pred"
   ]
  },
  {
   "cell_type": "code",
   "execution_count": null,
   "id": "6aab1a3f",
   "metadata": {
    "id": "6aab1a3f",
    "outputId": "477f1c66-22d4-46c0-d81c-09b7b41e93d8"
   },
   "outputs": [
    {
     "data": {
      "text/html": [
       "<div>\n",
       "<style scoped>\n",
       "    .dataframe tbody tr th:only-of-type {\n",
       "        vertical-align: middle;\n",
       "    }\n",
       "\n",
       "    .dataframe tbody tr th {\n",
       "        vertical-align: top;\n",
       "    }\n",
       "\n",
       "    .dataframe thead th {\n",
       "        text-align: right;\n",
       "    }\n",
       "</style>\n",
       "<table border=\"1\" class=\"dataframe\">\n",
       "  <thead>\n",
       "    <tr style=\"text-align: right;\">\n",
       "      <th></th>\n",
       "      <th>Predicted_neutral</th>\n",
       "      <th>Predicted_negative</th>\n",
       "      <th>Predicted_positive</th>\n",
       "    </tr>\n",
       "  </thead>\n",
       "  <tbody>\n",
       "    <tr>\n",
       "      <th>Actual_neutral</th>\n",
       "      <td>525</td>\n",
       "      <td>12</td>\n",
       "      <td>46</td>\n",
       "    </tr>\n",
       "    <tr>\n",
       "      <th>Actual_negative</th>\n",
       "      <td>38</td>\n",
       "      <td>64</td>\n",
       "      <td>15</td>\n",
       "    </tr>\n",
       "    <tr>\n",
       "      <th>Actual_positive</th>\n",
       "      <td>114</td>\n",
       "      <td>9</td>\n",
       "      <td>147</td>\n",
       "    </tr>\n",
       "  </tbody>\n",
       "</table>\n",
       "</div>"
      ],
      "text/plain": [
       "                 Predicted_neutral  Predicted_negative  Predicted_positive\n",
       "Actual_neutral                 525                  12                  46\n",
       "Actual_negative                 38                  64                  15\n",
       "Actual_positive                114                   9                 147"
      ]
     },
     "execution_count": 100,
     "metadata": {},
     "output_type": "execute_result"
    }
   ],
   "source": [
    "pd.DataFrame(confusion_matrix(y_test,pred),columns=[\"Predicted_neutral\", \"Predicted_negative\",\"Predicted_positive\"],\n",
    "            index=[\"Actual_neutral\", \"Actual_negative\",\"Actual_positive\"])"
   ]
  },
  {
   "cell_type": "code",
   "execution_count": null,
   "id": "e4ca6691",
   "metadata": {
    "id": "e4ca6691",
    "outputId": "9e46ab88-0001-4dae-f1e6-76acdd126dfa"
   },
   "outputs": [
    {
     "data": {
      "image/png": "[encoded data removed]",
      "text/plain": [
       "<Figure size 432x288 with 2 Axes>"
      ]
     },
     "metadata": {
      "needs_background": "light"
     },
     "output_type": "display_data"
    }
   ],
   "source": [
    "import seaborn as sns\n",
    "\n",
    "ax= plt.subplot()\n",
    "sns.heatmap(confusion_matrix(y_test, pred), annot=True, ax = ax, cmap = \"BuGn\");\n",
    "\n",
    "# labels, title and ticks\n",
    "ax.set_xlabel(\"Predicted labels\");\n",
    "ax.set_ylabel(\"True labels\"); \n",
    "ax.set_title(\"Confusion Matrix\"); \n",
    "ax.xaxis.set_ticklabels([\"neutral\", \"positive\", \"negative\"]);"
   ]
  },
  {
   "cell_type": "markdown",
   "id": "a561083f",
   "metadata": {
    "id": "a561083f"
   },
   "source": [
    "# Saving the model to pickle file"
   ]
  },
  {
   "cell_type": "code",
   "execution_count": null,
   "id": "70e93375",
   "metadata": {
    "id": "70e93375"
   },
   "outputs": [],
   "source": [
    "import pickle\n",
    "pickle.dump(model,open('Sentiment model.pkl','wb'))"
   ]
  },
  {
   "cell_type": "code",
   "execution_count": null,
   "id": "86bcfb0e",
   "metadata": {
    "id": "86bcfb0e"
   },
   "outputs": [],
   "source": []
  },
  {
   "cell_type": "code",
   "execution_count": null,
   "id": "d10672f2",
   "metadata": {
    "id": "d10672f2"
   },
   "outputs": [],
   "source": []
  }
 ],
 "metadata": {
  "colab": {
   "name": "Financial_SentimentalAnalysis.ipynb",
   "provenance": []
  },
  "kernelspec": {
   "display_name": "Python 3 (ipykernel)",
   "language": "python",
   "name": "python3"
  },
  "language_info": {
   "codemirror_mode": {
    "name": "ipython",
    "version": 3
   },
   "file_extension": ".py",
   "mimetype": "text/x-python",
   "name": "python",
   "nbconvert_exporter": "python",
   "pygments_lexer": "ipython3",
   "version": "3.9.12"
  }
 },
 "nbformat": 4,
 "nbformat_minor": 5
}
