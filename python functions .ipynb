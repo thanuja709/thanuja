{
 "cells": [
  {
   "cell_type": "code",
   "execution_count": null,
   "id": "8d61c70d",
   "metadata": {},
   "outputs": [],
   "source": [
    "def abc(name):\n",
    "    print(\"Hello\",name,\"nice to meet you!\")\n",
    "their_name=input(\"enter the name:\")\n",
    "abc(their_name)"
   ]
  },
  {
   "cell_type": "code",
   "execution_count": null,
   "id": "ddfdb56e",
   "metadata": {},
   "outputs": [],
   "source": [
    "def abc(a):\n",
    "    a = input(\" Enter the String : \")\n",
    "    total = 0\n",
    " \n",
    "    for i in a:\n",
    "        total = total + 1\n",
    " \n",
    "    print(\"Total Number of Characters in this String  \", total)\n",
    "abc()"
   ]
  },
  {
   "cell_type": "code",
   "execution_count": null,
   "id": "dc3d85a4",
   "metadata": {},
   "outputs": [],
   "source": [
    "x=float(input(\"enter the BMI:\"))\n",
    "if x<=19.5:\n",
    "    print(\"you are within the ideal weight range\")\n",
    "else:\n",
    "    print(\"you are overweight,you should consult the doctor\")"
   ]
  },
  {
   "cell_type": "code",
   "execution_count": null,
   "id": "5d14eb29",
   "metadata": {},
   "outputs": [],
   "source": [
    "month=int(input(\"enter the month num:\"))\n",
    "if month==1:\n",
    "    print(\"january\")\n",
    "elif month==2:\n",
    "    print(\"february\")\n",
    "elif month==3:\n",
    "    print(\"march\")\n",
    "elif month==4:\n",
    "    print(\"april\")\n",
    "elif month==5:\n",
    "    print(\"may\")\n",
    "elif month==6:\n",
    "    print(\"june\")\n",
    "elif month==7:\n",
    "    print(\"july\")\n",
    "elif month==8:\n",
    "    print(\"august\")\n",
    "elif month==9:\n",
    "    print(\"september\")\n",
    "elif month==10:\n",
    "    print(\"october\")\n",
    "elif month==11:\n",
    "    print(\"november\")\n",
    "elif month==12:\n",
    "    print(\"december\")\n",
    "else:\n",
    "    print(\"enter the correct value\")"
   ]
  },
  {
   "cell_type": "code",
   "execution_count": null,
   "id": "f48bc6b4",
   "metadata": {},
   "outputs": [],
   "source": [
    "def abc(str1,str2):\n",
    "    return sorted(str1) == sorted(str2)\n",
    "str1 = input(\"Enter the string 1 : \")\n",
    "str2 = input(\"Enter the string 2 : \")\n",
    "if abc(str1,str2):\n",
    "    print(\"Strings are anagram\")\n",
    "else:\n",
    "    print(\"Strings are not anagram\")"
   ]
  },
  {
   "cell_type": "code",
   "execution_count": null,
   "id": "1b90a01a",
   "metadata": {},
   "outputs": [],
   "source": []
  },
  {
   "cell_type": "code",
   "execution_count": null,
   "id": "307cb2cc",
   "metadata": {},
   "outputs": [],
   "source": []
  },
  {
   "cell_type": "code",
   "execution_count": null,
   "id": "ba43d5b1",
   "metadata": {},
   "outputs": [],
   "source": []
  },
  {
   "cell_type": "code",
   "execution_count": null,
   "id": "586daa97",
   "metadata": {},
   "outputs": [],
   "source": []
  },
  {
   "cell_type": "code",
   "execution_count": null,
   "id": "069cfcb9",
   "metadata": {},
   "outputs": [],
   "source": []
  }
 ],
 "metadata": {
  "kernelspec": {
   "display_name": "Python 3 (ipykernel)",
   "language": "python",
   "name": "python3"
  },
  "language_info": {
   "codemirror_mode": {
    "name": "ipython",
    "version": 3
   },
   "file_extension": ".py",
   "mimetype": "text/x-python",
   "name": "python",
   "nbconvert_exporter": "python",
   "pygments_lexer": "ipython3",
   "version": "3.9.7"
  }
 },
 "nbformat": 4,
 "nbformat_minor": 5
}
