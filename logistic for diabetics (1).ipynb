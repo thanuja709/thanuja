{
 "cells": [
  {
   "cell_type": "code",
   "execution_count": 1,
   "id": "22af3b26",
   "metadata": {},
   "outputs": [],
   "source": [
    "import numpy as np\n",
    "import pandas as pd\n",
    "import matplotlib.pyplot as plt\n",
    "import seaborn as sns\n",
    "from sklearn.model_selection import train_test_split\n",
    "from sklearn.linear_model import LogisticRegression\n",
    "from sklearn import metrics\n",
    "from sklearn.metrics import r2_score,mean_squared_error,mean_absolute_error\n",
    "from warnings import filterwarnings\n",
    "from sklearn import preprocessing\n",
    "from sklearn.preprocessing import StandardScaler\n",
    "from sklearn.metrics import ConfusionMatrixDisplay\n",
    "from sklearn.metrics import confusion_matrix\n",
    "from sklearn.metrics import accuracy_score\n",
    "from sklearn.metrics import classification_report"
   ]
  },
  {
   "cell_type": "code",
   "execution_count": 2,
   "id": "b1719e3e",
   "metadata": {},
   "outputs": [],
   "source": [
    "df=pd.read_csv(\"https://raw.githubusercontent.com/Premalatha-success/Datasets/main/h1n1_vaccine_prediction.csv\")"
   ]
  },
  {
   "cell_type": "code",
   "execution_count": 3,
   "id": "90a0d38f",
   "metadata": {},
   "outputs": [],
   "source": [
    "pd.set_option('display.max_columns', None)  # or 1000\n",
    "pd.set_option('display.max_rows', None)  # or 100"
   ]
  },
  {
   "cell_type": "code",
   "execution_count": 4,
   "id": "39fb69d9",
   "metadata": {},
   "outputs": [
    {
     "data": {
      "text/html": [
       "<div>\n",
       "<style scoped>\n",
       "    .dataframe tbody tr th:only-of-type {\n",
       "        vertical-align: middle;\n",
       "    }\n",
       "\n",
       "    .dataframe tbody tr th {\n",
       "        vertical-align: top;\n",
       "    }\n",
       "\n",
       "    .dataframe thead th {\n",
       "        text-align: right;\n",
       "    }\n",
       "</style>\n",
       "<table border=\"1\" class=\"dataframe\">\n",
       "  <thead>\n",
       "    <tr style=\"text-align: right;\">\n",
       "      <th></th>\n",
       "      <th>unique_id</th>\n",
       "      <th>h1n1_worry</th>\n",
       "      <th>h1n1_awareness</th>\n",
       "      <th>antiviral_medication</th>\n",
       "      <th>contact_avoidance</th>\n",
       "      <th>bought_face_mask</th>\n",
       "      <th>wash_hands_frequently</th>\n",
       "      <th>avoid_large_gatherings</th>\n",
       "      <th>reduced_outside_home_cont</th>\n",
       "      <th>avoid_touch_face</th>\n",
       "      <th>dr_recc_h1n1_vacc</th>\n",
       "      <th>dr_recc_seasonal_vacc</th>\n",
       "      <th>chronic_medic_condition</th>\n",
       "      <th>cont_child_undr_6_mnths</th>\n",
       "      <th>is_health_worker</th>\n",
       "      <th>has_health_insur</th>\n",
       "      <th>is_h1n1_vacc_effective</th>\n",
       "      <th>is_h1n1_risky</th>\n",
       "      <th>sick_from_h1n1_vacc</th>\n",
       "      <th>is_seas_vacc_effective</th>\n",
       "      <th>is_seas_risky</th>\n",
       "      <th>sick_from_seas_vacc</th>\n",
       "      <th>age_bracket</th>\n",
       "      <th>qualification</th>\n",
       "      <th>race</th>\n",
       "      <th>sex</th>\n",
       "      <th>income_level</th>\n",
       "      <th>marital_status</th>\n",
       "      <th>housing_status</th>\n",
       "      <th>employment</th>\n",
       "      <th>census_msa</th>\n",
       "      <th>no_of_adults</th>\n",
       "      <th>no_of_children</th>\n",
       "      <th>h1n1_vaccine</th>\n",
       "    </tr>\n",
       "  </thead>\n",
       "  <tbody>\n",
       "    <tr>\n",
       "      <th>0</th>\n",
       "      <td>0</td>\n",
       "      <td>1.0</td>\n",
       "      <td>0.0</td>\n",
       "      <td>0.0</td>\n",
       "      <td>0.0</td>\n",
       "      <td>0.0</td>\n",
       "      <td>0.0</td>\n",
       "      <td>0.0</td>\n",
       "      <td>1.0</td>\n",
       "      <td>1.0</td>\n",
       "      <td>0.0</td>\n",
       "      <td>0.0</td>\n",
       "      <td>0.0</td>\n",
       "      <td>0.0</td>\n",
       "      <td>0.0</td>\n",
       "      <td>1.0</td>\n",
       "      <td>3.0</td>\n",
       "      <td>1.0</td>\n",
       "      <td>2.0</td>\n",
       "      <td>2.0</td>\n",
       "      <td>1.0</td>\n",
       "      <td>2.0</td>\n",
       "      <td>55 - 64 Years</td>\n",
       "      <td>&lt; 12 Years</td>\n",
       "      <td>White</td>\n",
       "      <td>Female</td>\n",
       "      <td>Below Poverty</td>\n",
       "      <td>Not Married</td>\n",
       "      <td>Own</td>\n",
       "      <td>Not in Labor Force</td>\n",
       "      <td>Non-MSA</td>\n",
       "      <td>0.0</td>\n",
       "      <td>0.0</td>\n",
       "      <td>0</td>\n",
       "    </tr>\n",
       "    <tr>\n",
       "      <th>1</th>\n",
       "      <td>1</td>\n",
       "      <td>3.0</td>\n",
       "      <td>2.0</td>\n",
       "      <td>0.0</td>\n",
       "      <td>1.0</td>\n",
       "      <td>0.0</td>\n",
       "      <td>1.0</td>\n",
       "      <td>0.0</td>\n",
       "      <td>1.0</td>\n",
       "      <td>1.0</td>\n",
       "      <td>0.0</td>\n",
       "      <td>0.0</td>\n",
       "      <td>0.0</td>\n",
       "      <td>0.0</td>\n",
       "      <td>0.0</td>\n",
       "      <td>1.0</td>\n",
       "      <td>5.0</td>\n",
       "      <td>4.0</td>\n",
       "      <td>4.0</td>\n",
       "      <td>4.0</td>\n",
       "      <td>2.0</td>\n",
       "      <td>4.0</td>\n",
       "      <td>35 - 44 Years</td>\n",
       "      <td>12 Years</td>\n",
       "      <td>White</td>\n",
       "      <td>Male</td>\n",
       "      <td>Below Poverty</td>\n",
       "      <td>Not Married</td>\n",
       "      <td>Rent</td>\n",
       "      <td>Employed</td>\n",
       "      <td>MSA, Not Principle  City</td>\n",
       "      <td>0.0</td>\n",
       "      <td>0.0</td>\n",
       "      <td>0</td>\n",
       "    </tr>\n",
       "    <tr>\n",
       "      <th>2</th>\n",
       "      <td>2</td>\n",
       "      <td>1.0</td>\n",
       "      <td>1.0</td>\n",
       "      <td>0.0</td>\n",
       "      <td>1.0</td>\n",
       "      <td>0.0</td>\n",
       "      <td>0.0</td>\n",
       "      <td>0.0</td>\n",
       "      <td>0.0</td>\n",
       "      <td>0.0</td>\n",
       "      <td>NaN</td>\n",
       "      <td>NaN</td>\n",
       "      <td>1.0</td>\n",
       "      <td>0.0</td>\n",
       "      <td>0.0</td>\n",
       "      <td>NaN</td>\n",
       "      <td>3.0</td>\n",
       "      <td>1.0</td>\n",
       "      <td>1.0</td>\n",
       "      <td>4.0</td>\n",
       "      <td>1.0</td>\n",
       "      <td>2.0</td>\n",
       "      <td>18 - 34 Years</td>\n",
       "      <td>College Graduate</td>\n",
       "      <td>White</td>\n",
       "      <td>Male</td>\n",
       "      <td>&lt;= $75,000, Above Poverty</td>\n",
       "      <td>Not Married</td>\n",
       "      <td>Own</td>\n",
       "      <td>Employed</td>\n",
       "      <td>MSA, Not Principle  City</td>\n",
       "      <td>2.0</td>\n",
       "      <td>0.0</td>\n",
       "      <td>0</td>\n",
       "    </tr>\n",
       "    <tr>\n",
       "      <th>3</th>\n",
       "      <td>3</td>\n",
       "      <td>1.0</td>\n",
       "      <td>1.0</td>\n",
       "      <td>0.0</td>\n",
       "      <td>1.0</td>\n",
       "      <td>0.0</td>\n",
       "      <td>1.0</td>\n",
       "      <td>1.0</td>\n",
       "      <td>0.0</td>\n",
       "      <td>0.0</td>\n",
       "      <td>0.0</td>\n",
       "      <td>1.0</td>\n",
       "      <td>1.0</td>\n",
       "      <td>0.0</td>\n",
       "      <td>0.0</td>\n",
       "      <td>NaN</td>\n",
       "      <td>3.0</td>\n",
       "      <td>3.0</td>\n",
       "      <td>5.0</td>\n",
       "      <td>5.0</td>\n",
       "      <td>4.0</td>\n",
       "      <td>1.0</td>\n",
       "      <td>65+ Years</td>\n",
       "      <td>12 Years</td>\n",
       "      <td>White</td>\n",
       "      <td>Female</td>\n",
       "      <td>Below Poverty</td>\n",
       "      <td>Not Married</td>\n",
       "      <td>Rent</td>\n",
       "      <td>Not in Labor Force</td>\n",
       "      <td>MSA, Principle City</td>\n",
       "      <td>0.0</td>\n",
       "      <td>0.0</td>\n",
       "      <td>0</td>\n",
       "    </tr>\n",
       "    <tr>\n",
       "      <th>4</th>\n",
       "      <td>4</td>\n",
       "      <td>2.0</td>\n",
       "      <td>1.0</td>\n",
       "      <td>0.0</td>\n",
       "      <td>1.0</td>\n",
       "      <td>0.0</td>\n",
       "      <td>1.0</td>\n",
       "      <td>1.0</td>\n",
       "      <td>0.0</td>\n",
       "      <td>1.0</td>\n",
       "      <td>0.0</td>\n",
       "      <td>0.0</td>\n",
       "      <td>0.0</td>\n",
       "      <td>0.0</td>\n",
       "      <td>0.0</td>\n",
       "      <td>NaN</td>\n",
       "      <td>3.0</td>\n",
       "      <td>3.0</td>\n",
       "      <td>2.0</td>\n",
       "      <td>3.0</td>\n",
       "      <td>1.0</td>\n",
       "      <td>4.0</td>\n",
       "      <td>45 - 54 Years</td>\n",
       "      <td>Some College</td>\n",
       "      <td>White</td>\n",
       "      <td>Female</td>\n",
       "      <td>&lt;= $75,000, Above Poverty</td>\n",
       "      <td>Married</td>\n",
       "      <td>Own</td>\n",
       "      <td>Employed</td>\n",
       "      <td>MSA, Not Principle  City</td>\n",
       "      <td>1.0</td>\n",
       "      <td>0.0</td>\n",
       "      <td>0</td>\n",
       "    </tr>\n",
       "    <tr>\n",
       "      <th>5</th>\n",
       "      <td>5</td>\n",
       "      <td>3.0</td>\n",
       "      <td>1.0</td>\n",
       "      <td>0.0</td>\n",
       "      <td>1.0</td>\n",
       "      <td>0.0</td>\n",
       "      <td>1.0</td>\n",
       "      <td>0.0</td>\n",
       "      <td>0.0</td>\n",
       "      <td>1.0</td>\n",
       "      <td>0.0</td>\n",
       "      <td>1.0</td>\n",
       "      <td>0.0</td>\n",
       "      <td>0.0</td>\n",
       "      <td>0.0</td>\n",
       "      <td>NaN</td>\n",
       "      <td>5.0</td>\n",
       "      <td>2.0</td>\n",
       "      <td>1.0</td>\n",
       "      <td>5.0</td>\n",
       "      <td>4.0</td>\n",
       "      <td>4.0</td>\n",
       "      <td>65+ Years</td>\n",
       "      <td>12 Years</td>\n",
       "      <td>White</td>\n",
       "      <td>Male</td>\n",
       "      <td>&lt;= $75,000, Above Poverty</td>\n",
       "      <td>Married</td>\n",
       "      <td>Own</td>\n",
       "      <td>Employed</td>\n",
       "      <td>MSA, Principle City</td>\n",
       "      <td>2.0</td>\n",
       "      <td>3.0</td>\n",
       "      <td>0</td>\n",
       "    </tr>\n",
       "    <tr>\n",
       "      <th>6</th>\n",
       "      <td>6</td>\n",
       "      <td>0.0</td>\n",
       "      <td>0.0</td>\n",
       "      <td>0.0</td>\n",
       "      <td>0.0</td>\n",
       "      <td>0.0</td>\n",
       "      <td>0.0</td>\n",
       "      <td>0.0</td>\n",
       "      <td>0.0</td>\n",
       "      <td>0.0</td>\n",
       "      <td>0.0</td>\n",
       "      <td>0.0</td>\n",
       "      <td>0.0</td>\n",
       "      <td>0.0</td>\n",
       "      <td>0.0</td>\n",
       "      <td>NaN</td>\n",
       "      <td>4.0</td>\n",
       "      <td>1.0</td>\n",
       "      <td>1.0</td>\n",
       "      <td>4.0</td>\n",
       "      <td>2.0</td>\n",
       "      <td>1.0</td>\n",
       "      <td>55 - 64 Years</td>\n",
       "      <td>&lt; 12 Years</td>\n",
       "      <td>White</td>\n",
       "      <td>Male</td>\n",
       "      <td>&lt;= $75,000, Above Poverty</td>\n",
       "      <td>Not Married</td>\n",
       "      <td>Own</td>\n",
       "      <td>Employed</td>\n",
       "      <td>MSA, Not Principle  City</td>\n",
       "      <td>0.0</td>\n",
       "      <td>0.0</td>\n",
       "      <td>0</td>\n",
       "    </tr>\n",
       "    <tr>\n",
       "      <th>7</th>\n",
       "      <td>7</td>\n",
       "      <td>1.0</td>\n",
       "      <td>0.0</td>\n",
       "      <td>0.0</td>\n",
       "      <td>1.0</td>\n",
       "      <td>0.0</td>\n",
       "      <td>1.0</td>\n",
       "      <td>0.0</td>\n",
       "      <td>0.0</td>\n",
       "      <td>1.0</td>\n",
       "      <td>1.0</td>\n",
       "      <td>0.0</td>\n",
       "      <td>1.0</td>\n",
       "      <td>0.0</td>\n",
       "      <td>0.0</td>\n",
       "      <td>1.0</td>\n",
       "      <td>5.0</td>\n",
       "      <td>2.0</td>\n",
       "      <td>1.0</td>\n",
       "      <td>4.0</td>\n",
       "      <td>2.0</td>\n",
       "      <td>1.0</td>\n",
       "      <td>45 - 54 Years</td>\n",
       "      <td>Some College</td>\n",
       "      <td>White</td>\n",
       "      <td>Female</td>\n",
       "      <td>&lt;= $75,000, Above Poverty</td>\n",
       "      <td>Married</td>\n",
       "      <td>Own</td>\n",
       "      <td>Employed</td>\n",
       "      <td>Non-MSA</td>\n",
       "      <td>2.0</td>\n",
       "      <td>0.0</td>\n",
       "      <td>1</td>\n",
       "    </tr>\n",
       "    <tr>\n",
       "      <th>8</th>\n",
       "      <td>8</td>\n",
       "      <td>0.0</td>\n",
       "      <td>2.0</td>\n",
       "      <td>0.0</td>\n",
       "      <td>1.0</td>\n",
       "      <td>0.0</td>\n",
       "      <td>1.0</td>\n",
       "      <td>1.0</td>\n",
       "      <td>1.0</td>\n",
       "      <td>1.0</td>\n",
       "      <td>0.0</td>\n",
       "      <td>0.0</td>\n",
       "      <td>0.0</td>\n",
       "      <td>0.0</td>\n",
       "      <td>0.0</td>\n",
       "      <td>NaN</td>\n",
       "      <td>4.0</td>\n",
       "      <td>1.0</td>\n",
       "      <td>1.0</td>\n",
       "      <td>4.0</td>\n",
       "      <td>2.0</td>\n",
       "      <td>1.0</td>\n",
       "      <td>45 - 54 Years</td>\n",
       "      <td>College Graduate</td>\n",
       "      <td>White</td>\n",
       "      <td>Male</td>\n",
       "      <td>&gt; $75,000</td>\n",
       "      <td>Married</td>\n",
       "      <td>Own</td>\n",
       "      <td>Employed</td>\n",
       "      <td>MSA, Not Principle  City</td>\n",
       "      <td>1.0</td>\n",
       "      <td>0.0</td>\n",
       "      <td>0</td>\n",
       "    </tr>\n",
       "    <tr>\n",
       "      <th>9</th>\n",
       "      <td>9</td>\n",
       "      <td>2.0</td>\n",
       "      <td>1.0</td>\n",
       "      <td>0.0</td>\n",
       "      <td>1.0</td>\n",
       "      <td>0.0</td>\n",
       "      <td>0.0</td>\n",
       "      <td>1.0</td>\n",
       "      <td>0.0</td>\n",
       "      <td>1.0</td>\n",
       "      <td>0.0</td>\n",
       "      <td>0.0</td>\n",
       "      <td>1.0</td>\n",
       "      <td>0.0</td>\n",
       "      <td>0.0</td>\n",
       "      <td>1.0</td>\n",
       "      <td>4.0</td>\n",
       "      <td>2.0</td>\n",
       "      <td>2.0</td>\n",
       "      <td>4.0</td>\n",
       "      <td>2.0</td>\n",
       "      <td>2.0</td>\n",
       "      <td>55 - 64 Years</td>\n",
       "      <td>12 Years</td>\n",
       "      <td>White</td>\n",
       "      <td>Male</td>\n",
       "      <td>&lt;= $75,000, Above Poverty</td>\n",
       "      <td>Not Married</td>\n",
       "      <td>Own</td>\n",
       "      <td>Not in Labor Force</td>\n",
       "      <td>MSA, Not Principle  City</td>\n",
       "      <td>0.0</td>\n",
       "      <td>0.0</td>\n",
       "      <td>0</td>\n",
       "    </tr>\n",
       "  </tbody>\n",
       "</table>\n",
       "</div>"
      ],
      "text/plain": [
       "   unique_id  h1n1_worry  h1n1_awareness  antiviral_medication  \\\n",
       "0          0         1.0             0.0                   0.0   \n",
       "1          1         3.0             2.0                   0.0   \n",
       "2          2         1.0             1.0                   0.0   \n",
       "3          3         1.0             1.0                   0.0   \n",
       "4          4         2.0             1.0                   0.0   \n",
       "5          5         3.0             1.0                   0.0   \n",
       "6          6         0.0             0.0                   0.0   \n",
       "7          7         1.0             0.0                   0.0   \n",
       "8          8         0.0             2.0                   0.0   \n",
       "9          9         2.0             1.0                   0.0   \n",
       "\n",
       "   contact_avoidance  bought_face_mask  wash_hands_frequently  \\\n",
       "0                0.0               0.0                    0.0   \n",
       "1                1.0               0.0                    1.0   \n",
       "2                1.0               0.0                    0.0   \n",
       "3                1.0               0.0                    1.0   \n",
       "4                1.0               0.0                    1.0   \n",
       "5                1.0               0.0                    1.0   \n",
       "6                0.0               0.0                    0.0   \n",
       "7                1.0               0.0                    1.0   \n",
       "8                1.0               0.0                    1.0   \n",
       "9                1.0               0.0                    0.0   \n",
       "\n",
       "   avoid_large_gatherings  reduced_outside_home_cont  avoid_touch_face  \\\n",
       "0                     0.0                        1.0               1.0   \n",
       "1                     0.0                        1.0               1.0   \n",
       "2                     0.0                        0.0               0.0   \n",
       "3                     1.0                        0.0               0.0   \n",
       "4                     1.0                        0.0               1.0   \n",
       "5                     0.0                        0.0               1.0   \n",
       "6                     0.0                        0.0               0.0   \n",
       "7                     0.0                        0.0               1.0   \n",
       "8                     1.0                        1.0               1.0   \n",
       "9                     1.0                        0.0               1.0   \n",
       "\n",
       "   dr_recc_h1n1_vacc  dr_recc_seasonal_vacc  chronic_medic_condition  \\\n",
       "0                0.0                    0.0                      0.0   \n",
       "1                0.0                    0.0                      0.0   \n",
       "2                NaN                    NaN                      1.0   \n",
       "3                0.0                    1.0                      1.0   \n",
       "4                0.0                    0.0                      0.0   \n",
       "5                0.0                    1.0                      0.0   \n",
       "6                0.0                    0.0                      0.0   \n",
       "7                1.0                    0.0                      1.0   \n",
       "8                0.0                    0.0                      0.0   \n",
       "9                0.0                    0.0                      1.0   \n",
       "\n",
       "   cont_child_undr_6_mnths  is_health_worker  has_health_insur  \\\n",
       "0                      0.0               0.0               1.0   \n",
       "1                      0.0               0.0               1.0   \n",
       "2                      0.0               0.0               NaN   \n",
       "3                      0.0               0.0               NaN   \n",
       "4                      0.0               0.0               NaN   \n",
       "5                      0.0               0.0               NaN   \n",
       "6                      0.0               0.0               NaN   \n",
       "7                      0.0               0.0               1.0   \n",
       "8                      0.0               0.0               NaN   \n",
       "9                      0.0               0.0               1.0   \n",
       "\n",
       "   is_h1n1_vacc_effective  is_h1n1_risky  sick_from_h1n1_vacc  \\\n",
       "0                     3.0            1.0                  2.0   \n",
       "1                     5.0            4.0                  4.0   \n",
       "2                     3.0            1.0                  1.0   \n",
       "3                     3.0            3.0                  5.0   \n",
       "4                     3.0            3.0                  2.0   \n",
       "5                     5.0            2.0                  1.0   \n",
       "6                     4.0            1.0                  1.0   \n",
       "7                     5.0            2.0                  1.0   \n",
       "8                     4.0            1.0                  1.0   \n",
       "9                     4.0            2.0                  2.0   \n",
       "\n",
       "   is_seas_vacc_effective  is_seas_risky  sick_from_seas_vacc    age_bracket  \\\n",
       "0                     2.0            1.0                  2.0  55 - 64 Years   \n",
       "1                     4.0            2.0                  4.0  35 - 44 Years   \n",
       "2                     4.0            1.0                  2.0  18 - 34 Years   \n",
       "3                     5.0            4.0                  1.0      65+ Years   \n",
       "4                     3.0            1.0                  4.0  45 - 54 Years   \n",
       "5                     5.0            4.0                  4.0      65+ Years   \n",
       "6                     4.0            2.0                  1.0  55 - 64 Years   \n",
       "7                     4.0            2.0                  1.0  45 - 54 Years   \n",
       "8                     4.0            2.0                  1.0  45 - 54 Years   \n",
       "9                     4.0            2.0                  2.0  55 - 64 Years   \n",
       "\n",
       "      qualification   race     sex               income_level marital_status  \\\n",
       "0        < 12 Years  White  Female              Below Poverty    Not Married   \n",
       "1          12 Years  White    Male              Below Poverty    Not Married   \n",
       "2  College Graduate  White    Male  <= $75,000, Above Poverty    Not Married   \n",
       "3          12 Years  White  Female              Below Poverty    Not Married   \n",
       "4      Some College  White  Female  <= $75,000, Above Poverty        Married   \n",
       "5          12 Years  White    Male  <= $75,000, Above Poverty        Married   \n",
       "6        < 12 Years  White    Male  <= $75,000, Above Poverty    Not Married   \n",
       "7      Some College  White  Female  <= $75,000, Above Poverty        Married   \n",
       "8  College Graduate  White    Male                  > $75,000        Married   \n",
       "9          12 Years  White    Male  <= $75,000, Above Poverty    Not Married   \n",
       "\n",
       "  housing_status          employment                census_msa  no_of_adults  \\\n",
       "0            Own  Not in Labor Force                   Non-MSA           0.0   \n",
       "1           Rent            Employed  MSA, Not Principle  City           0.0   \n",
       "2            Own            Employed  MSA, Not Principle  City           2.0   \n",
       "3           Rent  Not in Labor Force       MSA, Principle City           0.0   \n",
       "4            Own            Employed  MSA, Not Principle  City           1.0   \n",
       "5            Own            Employed       MSA, Principle City           2.0   \n",
       "6            Own            Employed  MSA, Not Principle  City           0.0   \n",
       "7            Own            Employed                   Non-MSA           2.0   \n",
       "8            Own            Employed  MSA, Not Principle  City           1.0   \n",
       "9            Own  Not in Labor Force  MSA, Not Principle  City           0.0   \n",
       "\n",
       "   no_of_children  h1n1_vaccine  \n",
       "0             0.0             0  \n",
       "1             0.0             0  \n",
       "2             0.0             0  \n",
       "3             0.0             0  \n",
       "4             0.0             0  \n",
       "5             3.0             0  \n",
       "6             0.0             0  \n",
       "7             0.0             1  \n",
       "8             0.0             0  \n",
       "9             0.0             0  "
      ]
     },
     "execution_count": 4,
     "metadata": {},
     "output_type": "execute_result"
    }
   ],
   "source": [
    "df.head(10)"
   ]
  },
  {
   "cell_type": "code",
   "execution_count": 5,
   "id": "ad39c9be",
   "metadata": {},
   "outputs": [
    {
     "data": {
      "text/html": [
       "<div>\n",
       "<style scoped>\n",
       "    .dataframe tbody tr th:only-of-type {\n",
       "        vertical-align: middle;\n",
       "    }\n",
       "\n",
       "    .dataframe tbody tr th {\n",
       "        vertical-align: top;\n",
       "    }\n",
       "\n",
       "    .dataframe thead th {\n",
       "        text-align: right;\n",
       "    }\n",
       "</style>\n",
       "<table border=\"1\" class=\"dataframe\">\n",
       "  <thead>\n",
       "    <tr style=\"text-align: right;\">\n",
       "      <th></th>\n",
       "      <th>unique_id</th>\n",
       "      <th>h1n1_worry</th>\n",
       "      <th>h1n1_awareness</th>\n",
       "      <th>antiviral_medication</th>\n",
       "      <th>contact_avoidance</th>\n",
       "      <th>bought_face_mask</th>\n",
       "      <th>wash_hands_frequently</th>\n",
       "      <th>avoid_large_gatherings</th>\n",
       "      <th>reduced_outside_home_cont</th>\n",
       "      <th>avoid_touch_face</th>\n",
       "      <th>dr_recc_h1n1_vacc</th>\n",
       "      <th>dr_recc_seasonal_vacc</th>\n",
       "      <th>chronic_medic_condition</th>\n",
       "      <th>cont_child_undr_6_mnths</th>\n",
       "      <th>is_health_worker</th>\n",
       "      <th>has_health_insur</th>\n",
       "      <th>is_h1n1_vacc_effective</th>\n",
       "      <th>is_h1n1_risky</th>\n",
       "      <th>sick_from_h1n1_vacc</th>\n",
       "      <th>is_seas_vacc_effective</th>\n",
       "      <th>is_seas_risky</th>\n",
       "      <th>sick_from_seas_vacc</th>\n",
       "      <th>age_bracket</th>\n",
       "      <th>qualification</th>\n",
       "      <th>race</th>\n",
       "      <th>sex</th>\n",
       "      <th>income_level</th>\n",
       "      <th>marital_status</th>\n",
       "      <th>housing_status</th>\n",
       "      <th>employment</th>\n",
       "      <th>census_msa</th>\n",
       "      <th>no_of_adults</th>\n",
       "      <th>no_of_children</th>\n",
       "      <th>h1n1_vaccine</th>\n",
       "    </tr>\n",
       "  </thead>\n",
       "  <tbody>\n",
       "    <tr>\n",
       "      <th>26702</th>\n",
       "      <td>26702</td>\n",
       "      <td>2.0</td>\n",
       "      <td>0.0</td>\n",
       "      <td>0.0</td>\n",
       "      <td>1.0</td>\n",
       "      <td>0.0</td>\n",
       "      <td>0.0</td>\n",
       "      <td>0.0</td>\n",
       "      <td>1.0</td>\n",
       "      <td>0.0</td>\n",
       "      <td>0.0</td>\n",
       "      <td>0.0</td>\n",
       "      <td>0.0</td>\n",
       "      <td>0.0</td>\n",
       "      <td>0.0</td>\n",
       "      <td>NaN</td>\n",
       "      <td>3.0</td>\n",
       "      <td>1.0</td>\n",
       "      <td>1.0</td>\n",
       "      <td>5.0</td>\n",
       "      <td>2.0</td>\n",
       "      <td>2.0</td>\n",
       "      <td>65+ Years</td>\n",
       "      <td>Some College</td>\n",
       "      <td>White</td>\n",
       "      <td>Female</td>\n",
       "      <td>&lt;= $75,000, Above Poverty</td>\n",
       "      <td>Not Married</td>\n",
       "      <td>Own</td>\n",
       "      <td>Not in Labor Force</td>\n",
       "      <td>Non-MSA</td>\n",
       "      <td>0.0</td>\n",
       "      <td>0.0</td>\n",
       "      <td>0</td>\n",
       "    </tr>\n",
       "    <tr>\n",
       "      <th>26703</th>\n",
       "      <td>26703</td>\n",
       "      <td>1.0</td>\n",
       "      <td>2.0</td>\n",
       "      <td>0.0</td>\n",
       "      <td>1.0</td>\n",
       "      <td>0.0</td>\n",
       "      <td>1.0</td>\n",
       "      <td>0.0</td>\n",
       "      <td>0.0</td>\n",
       "      <td>0.0</td>\n",
       "      <td>1.0</td>\n",
       "      <td>1.0</td>\n",
       "      <td>0.0</td>\n",
       "      <td>0.0</td>\n",
       "      <td>1.0</td>\n",
       "      <td>1.0</td>\n",
       "      <td>4.0</td>\n",
       "      <td>2.0</td>\n",
       "      <td>2.0</td>\n",
       "      <td>5.0</td>\n",
       "      <td>1.0</td>\n",
       "      <td>1.0</td>\n",
       "      <td>18 - 34 Years</td>\n",
       "      <td>College Graduate</td>\n",
       "      <td>White</td>\n",
       "      <td>Male</td>\n",
       "      <td>&lt;= $75,000, Above Poverty</td>\n",
       "      <td>Not Married</td>\n",
       "      <td>Rent</td>\n",
       "      <td>Employed</td>\n",
       "      <td>MSA, Principle City</td>\n",
       "      <td>1.0</td>\n",
       "      <td>0.0</td>\n",
       "      <td>0</td>\n",
       "    </tr>\n",
       "    <tr>\n",
       "      <th>26704</th>\n",
       "      <td>26704</td>\n",
       "      <td>2.0</td>\n",
       "      <td>2.0</td>\n",
       "      <td>0.0</td>\n",
       "      <td>1.0</td>\n",
       "      <td>1.0</td>\n",
       "      <td>1.0</td>\n",
       "      <td>1.0</td>\n",
       "      <td>0.0</td>\n",
       "      <td>1.0</td>\n",
       "      <td>0.0</td>\n",
       "      <td>0.0</td>\n",
       "      <td>0.0</td>\n",
       "      <td>0.0</td>\n",
       "      <td>0.0</td>\n",
       "      <td>NaN</td>\n",
       "      <td>4.0</td>\n",
       "      <td>4.0</td>\n",
       "      <td>2.0</td>\n",
       "      <td>5.0</td>\n",
       "      <td>4.0</td>\n",
       "      <td>2.0</td>\n",
       "      <td>55 - 64 Years</td>\n",
       "      <td>Some College</td>\n",
       "      <td>White</td>\n",
       "      <td>Female</td>\n",
       "      <td>NaN</td>\n",
       "      <td>Not Married</td>\n",
       "      <td>Own</td>\n",
       "      <td>NaN</td>\n",
       "      <td>MSA, Not Principle  City</td>\n",
       "      <td>0.0</td>\n",
       "      <td>0.0</td>\n",
       "      <td>0</td>\n",
       "    </tr>\n",
       "    <tr>\n",
       "      <th>26705</th>\n",
       "      <td>26705</td>\n",
       "      <td>1.0</td>\n",
       "      <td>1.0</td>\n",
       "      <td>0.0</td>\n",
       "      <td>0.0</td>\n",
       "      <td>0.0</td>\n",
       "      <td>0.0</td>\n",
       "      <td>0.0</td>\n",
       "      <td>0.0</td>\n",
       "      <td>NaN</td>\n",
       "      <td>0.0</td>\n",
       "      <td>0.0</td>\n",
       "      <td>0.0</td>\n",
       "      <td>0.0</td>\n",
       "      <td>0.0</td>\n",
       "      <td>0.0</td>\n",
       "      <td>3.0</td>\n",
       "      <td>1.0</td>\n",
       "      <td>2.0</td>\n",
       "      <td>2.0</td>\n",
       "      <td>1.0</td>\n",
       "      <td>2.0</td>\n",
       "      <td>18 - 34 Years</td>\n",
       "      <td>Some College</td>\n",
       "      <td>Hispanic</td>\n",
       "      <td>Female</td>\n",
       "      <td>&lt;= $75,000, Above Poverty</td>\n",
       "      <td>Married</td>\n",
       "      <td>Rent</td>\n",
       "      <td>Employed</td>\n",
       "      <td>Non-MSA</td>\n",
       "      <td>1.0</td>\n",
       "      <td>0.0</td>\n",
       "      <td>0</td>\n",
       "    </tr>\n",
       "    <tr>\n",
       "      <th>26706</th>\n",
       "      <td>26706</td>\n",
       "      <td>0.0</td>\n",
       "      <td>0.0</td>\n",
       "      <td>0.0</td>\n",
       "      <td>1.0</td>\n",
       "      <td>0.0</td>\n",
       "      <td>0.0</td>\n",
       "      <td>0.0</td>\n",
       "      <td>0.0</td>\n",
       "      <td>0.0</td>\n",
       "      <td>0.0</td>\n",
       "      <td>0.0</td>\n",
       "      <td>0.0</td>\n",
       "      <td>0.0</td>\n",
       "      <td>0.0</td>\n",
       "      <td>1.0</td>\n",
       "      <td>5.0</td>\n",
       "      <td>1.0</td>\n",
       "      <td>1.0</td>\n",
       "      <td>5.0</td>\n",
       "      <td>1.0</td>\n",
       "      <td>1.0</td>\n",
       "      <td>65+ Years</td>\n",
       "      <td>Some College</td>\n",
       "      <td>White</td>\n",
       "      <td>Male</td>\n",
       "      <td>&lt;= $75,000, Above Poverty</td>\n",
       "      <td>Married</td>\n",
       "      <td>Own</td>\n",
       "      <td>Not in Labor Force</td>\n",
       "      <td>MSA, Principle City</td>\n",
       "      <td>1.0</td>\n",
       "      <td>0.0</td>\n",
       "      <td>0</td>\n",
       "    </tr>\n",
       "  </tbody>\n",
       "</table>\n",
       "</div>"
      ],
      "text/plain": [
       "       unique_id  h1n1_worry  h1n1_awareness  antiviral_medication  \\\n",
       "26702      26702         2.0             0.0                   0.0   \n",
       "26703      26703         1.0             2.0                   0.0   \n",
       "26704      26704         2.0             2.0                   0.0   \n",
       "26705      26705         1.0             1.0                   0.0   \n",
       "26706      26706         0.0             0.0                   0.0   \n",
       "\n",
       "       contact_avoidance  bought_face_mask  wash_hands_frequently  \\\n",
       "26702                1.0               0.0                    0.0   \n",
       "26703                1.0               0.0                    1.0   \n",
       "26704                1.0               1.0                    1.0   \n",
       "26705                0.0               0.0                    0.0   \n",
       "26706                1.0               0.0                    0.0   \n",
       "\n",
       "       avoid_large_gatherings  reduced_outside_home_cont  avoid_touch_face  \\\n",
       "26702                     0.0                        1.0               0.0   \n",
       "26703                     0.0                        0.0               0.0   \n",
       "26704                     1.0                        0.0               1.0   \n",
       "26705                     0.0                        0.0               NaN   \n",
       "26706                     0.0                        0.0               0.0   \n",
       "\n",
       "       dr_recc_h1n1_vacc  dr_recc_seasonal_vacc  chronic_medic_condition  \\\n",
       "26702                0.0                    0.0                      0.0   \n",
       "26703                1.0                    1.0                      0.0   \n",
       "26704                0.0                    0.0                      0.0   \n",
       "26705                0.0                    0.0                      0.0   \n",
       "26706                0.0                    0.0                      0.0   \n",
       "\n",
       "       cont_child_undr_6_mnths  is_health_worker  has_health_insur  \\\n",
       "26702                      0.0               0.0               NaN   \n",
       "26703                      0.0               1.0               1.0   \n",
       "26704                      0.0               0.0               NaN   \n",
       "26705                      0.0               0.0               0.0   \n",
       "26706                      0.0               0.0               1.0   \n",
       "\n",
       "       is_h1n1_vacc_effective  is_h1n1_risky  sick_from_h1n1_vacc  \\\n",
       "26702                     3.0            1.0                  1.0   \n",
       "26703                     4.0            2.0                  2.0   \n",
       "26704                     4.0            4.0                  2.0   \n",
       "26705                     3.0            1.0                  2.0   \n",
       "26706                     5.0            1.0                  1.0   \n",
       "\n",
       "       is_seas_vacc_effective  is_seas_risky  sick_from_seas_vacc  \\\n",
       "26702                     5.0            2.0                  2.0   \n",
       "26703                     5.0            1.0                  1.0   \n",
       "26704                     5.0            4.0                  2.0   \n",
       "26705                     2.0            1.0                  2.0   \n",
       "26706                     5.0            1.0                  1.0   \n",
       "\n",
       "         age_bracket     qualification      race     sex  \\\n",
       "26702      65+ Years      Some College     White  Female   \n",
       "26703  18 - 34 Years  College Graduate     White    Male   \n",
       "26704  55 - 64 Years      Some College     White  Female   \n",
       "26705  18 - 34 Years      Some College  Hispanic  Female   \n",
       "26706      65+ Years      Some College     White    Male   \n",
       "\n",
       "                    income_level marital_status housing_status  \\\n",
       "26702  <= $75,000, Above Poverty    Not Married            Own   \n",
       "26703  <= $75,000, Above Poverty    Not Married           Rent   \n",
       "26704                        NaN    Not Married            Own   \n",
       "26705  <= $75,000, Above Poverty        Married           Rent   \n",
       "26706  <= $75,000, Above Poverty        Married            Own   \n",
       "\n",
       "               employment                census_msa  no_of_adults  \\\n",
       "26702  Not in Labor Force                   Non-MSA           0.0   \n",
       "26703            Employed       MSA, Principle City           1.0   \n",
       "26704                 NaN  MSA, Not Principle  City           0.0   \n",
       "26705            Employed                   Non-MSA           1.0   \n",
       "26706  Not in Labor Force       MSA, Principle City           1.0   \n",
       "\n",
       "       no_of_children  h1n1_vaccine  \n",
       "26702             0.0             0  \n",
       "26703             0.0             0  \n",
       "26704             0.0             0  \n",
       "26705             0.0             0  \n",
       "26706             0.0             0  "
      ]
     },
     "execution_count": 5,
     "metadata": {},
     "output_type": "execute_result"
    }
   ],
   "source": [
    "df.tail()"
   ]
  },
  {
   "cell_type": "code",
   "execution_count": 6,
   "id": "87c7799f",
   "metadata": {},
   "outputs": [
    {
     "data": {
      "text/plain": [
       "(26707, 34)"
      ]
     },
     "execution_count": 6,
     "metadata": {},
     "output_type": "execute_result"
    }
   ],
   "source": [
    "df.shape"
   ]
  },
  {
   "cell_type": "code",
   "execution_count": 7,
   "id": "feaf3b89",
   "metadata": {},
   "outputs": [
    {
     "data": {
      "text/plain": [
       "unique_id                      int64\n",
       "h1n1_worry                   float64\n",
       "h1n1_awareness               float64\n",
       "antiviral_medication         float64\n",
       "contact_avoidance            float64\n",
       "bought_face_mask             float64\n",
       "wash_hands_frequently        float64\n",
       "avoid_large_gatherings       float64\n",
       "reduced_outside_home_cont    float64\n",
       "avoid_touch_face             float64\n",
       "dr_recc_h1n1_vacc            float64\n",
       "dr_recc_seasonal_vacc        float64\n",
       "chronic_medic_condition      float64\n",
       "cont_child_undr_6_mnths      float64\n",
       "is_health_worker             float64\n",
       "has_health_insur             float64\n",
       "is_h1n1_vacc_effective       float64\n",
       "is_h1n1_risky                float64\n",
       "sick_from_h1n1_vacc          float64\n",
       "is_seas_vacc_effective       float64\n",
       "is_seas_risky                float64\n",
       "sick_from_seas_vacc          float64\n",
       "age_bracket                   object\n",
       "qualification                 object\n",
       "race                          object\n",
       "sex                           object\n",
       "income_level                  object\n",
       "marital_status                object\n",
       "housing_status                object\n",
       "employment                    object\n",
       "census_msa                    object\n",
       "no_of_adults                 float64\n",
       "no_of_children               float64\n",
       "h1n1_vaccine                   int64\n",
       "dtype: object"
      ]
     },
     "execution_count": 7,
     "metadata": {},
     "output_type": "execute_result"
    }
   ],
   "source": [
    "df.dtypes"
   ]
  },
  {
   "cell_type": "code",
   "execution_count": 8,
   "id": "037860a6",
   "metadata": {},
   "outputs": [
    {
     "data": {
      "text/plain": [
       "unique_id                        0\n",
       "h1n1_worry                      92\n",
       "h1n1_awareness                 116\n",
       "antiviral_medication            71\n",
       "contact_avoidance              208\n",
       "bought_face_mask                19\n",
       "wash_hands_frequently           42\n",
       "avoid_large_gatherings          87\n",
       "reduced_outside_home_cont       82\n",
       "avoid_touch_face               128\n",
       "dr_recc_h1n1_vacc             2160\n",
       "dr_recc_seasonal_vacc         2160\n",
       "chronic_medic_condition        971\n",
       "cont_child_undr_6_mnths        820\n",
       "is_health_worker               804\n",
       "has_health_insur             12274\n",
       "is_h1n1_vacc_effective         391\n",
       "is_h1n1_risky                  388\n",
       "sick_from_h1n1_vacc            395\n",
       "is_seas_vacc_effective         462\n",
       "is_seas_risky                  514\n",
       "sick_from_seas_vacc            537\n",
       "age_bracket                      0\n",
       "qualification                 1407\n",
       "race                             0\n",
       "sex                              0\n",
       "income_level                  4423\n",
       "marital_status                1408\n",
       "housing_status                2042\n",
       "employment                    1463\n",
       "census_msa                       0\n",
       "no_of_adults                   249\n",
       "no_of_children                 249\n",
       "h1n1_vaccine                     0\n",
       "dtype: int64"
      ]
     },
     "execution_count": 8,
     "metadata": {},
     "output_type": "execute_result"
    }
   ],
   "source": [
    "df.isnull().sum()"
   ]
  },
  {
   "cell_type": "code",
   "execution_count": 9,
   "id": "ecc76a9e",
   "metadata": {},
   "outputs": [
    {
     "name": "stdout",
     "output_type": "stream",
     "text": [
      "<class 'pandas.core.frame.DataFrame'>\n",
      "RangeIndex: 26707 entries, 0 to 26706\n",
      "Data columns (total 34 columns):\n",
      " #   Column                     Non-Null Count  Dtype  \n",
      "---  ------                     --------------  -----  \n",
      " 0   unique_id                  26707 non-null  int64  \n",
      " 1   h1n1_worry                 26615 non-null  float64\n",
      " 2   h1n1_awareness             26591 non-null  float64\n",
      " 3   antiviral_medication       26636 non-null  float64\n",
      " 4   contact_avoidance          26499 non-null  float64\n",
      " 5   bought_face_mask           26688 non-null  float64\n",
      " 6   wash_hands_frequently      26665 non-null  float64\n",
      " 7   avoid_large_gatherings     26620 non-null  float64\n",
      " 8   reduced_outside_home_cont  26625 non-null  float64\n",
      " 9   avoid_touch_face           26579 non-null  float64\n",
      " 10  dr_recc_h1n1_vacc          24547 non-null  float64\n",
      " 11  dr_recc_seasonal_vacc      24547 non-null  float64\n",
      " 12  chronic_medic_condition    25736 non-null  float64\n",
      " 13  cont_child_undr_6_mnths    25887 non-null  float64\n",
      " 14  is_health_worker           25903 non-null  float64\n",
      " 15  has_health_insur           14433 non-null  float64\n",
      " 16  is_h1n1_vacc_effective     26316 non-null  float64\n",
      " 17  is_h1n1_risky              26319 non-null  float64\n",
      " 18  sick_from_h1n1_vacc        26312 non-null  float64\n",
      " 19  is_seas_vacc_effective     26245 non-null  float64\n",
      " 20  is_seas_risky              26193 non-null  float64\n",
      " 21  sick_from_seas_vacc        26170 non-null  float64\n",
      " 22  age_bracket                26707 non-null  object \n",
      " 23  qualification              25300 non-null  object \n",
      " 24  race                       26707 non-null  object \n",
      " 25  sex                        26707 non-null  object \n",
      " 26  income_level               22284 non-null  object \n",
      " 27  marital_status             25299 non-null  object \n",
      " 28  housing_status             24665 non-null  object \n",
      " 29  employment                 25244 non-null  object \n",
      " 30  census_msa                 26707 non-null  object \n",
      " 31  no_of_adults               26458 non-null  float64\n",
      " 32  no_of_children             26458 non-null  float64\n",
      " 33  h1n1_vaccine               26707 non-null  int64  \n",
      "dtypes: float64(23), int64(2), object(9)\n",
      "memory usage: 6.9+ MB\n"
     ]
    }
   ],
   "source": [
    "df.info()"
   ]
  },
  {
   "cell_type": "code",
   "execution_count": 10,
   "id": "3e9b74e8",
   "metadata": {},
   "outputs": [],
   "source": [
    "df[\"h1n1_worry\"]=df[\"h1n1_worry\"].replace(to_replace=\"0\",value=np.nan)\n",
    "df[\"h1n1_worry\"]=df[\"h1n1_worry\"].astype(float)"
   ]
  },
  {
   "cell_type": "code",
   "execution_count": 11,
   "id": "b60b1702",
   "metadata": {},
   "outputs": [
    {
     "data": {
      "text/plain": [
       "1.6184858162690212"
      ]
     },
     "execution_count": 11,
     "metadata": {},
     "output_type": "execute_result"
    }
   ],
   "source": [
    "\n",
    "mean=df[\"h1n1_worry\"].mean()\n",
    "mean "
   ]
  },
  {
   "cell_type": "code",
   "execution_count": 12,
   "id": "e6ebb201",
   "metadata": {},
   "outputs": [],
   "source": [
    "df[\"h1n1_worry\"].replace(np.nan,mean,inplace=True)"
   ]
  },
  {
   "cell_type": "code",
   "execution_count": 13,
   "id": "a61fc1c0",
   "metadata": {},
   "outputs": [],
   "source": [
    "df[\"h1n1_awareness\"]=df[\"h1n1_awareness\"].replace(to_replace=\"0\",value=np.nan)\n",
    "df[\"h1n1_awareness\"]=df[\"h1n1_awareness\"].astype(float)"
   ]
  },
  {
   "cell_type": "code",
   "execution_count": 14,
   "id": "c46937fc",
   "metadata": {},
   "outputs": [
    {
     "data": {
      "text/plain": [
       "1.2625324357865444"
      ]
     },
     "execution_count": 14,
     "metadata": {},
     "output_type": "execute_result"
    }
   ],
   "source": [
    "mean=df[\"h1n1_awareness\"].mean()\n",
    "mean "
   ]
  },
  {
   "cell_type": "code",
   "execution_count": 15,
   "id": "1472c577",
   "metadata": {},
   "outputs": [],
   "source": [
    "df[\"h1n1_awareness\"].replace(np.nan,mean,inplace=True)"
   ]
  },
  {
   "cell_type": "code",
   "execution_count": 16,
   "id": "6a9b0347",
   "metadata": {},
   "outputs": [],
   "source": [
    "df[\"contact_avoidance\"]=df[\"contact_avoidance\"].replace(to_replace=\"0\",value=np.nan)\n",
    "df[\"contact_avoidance\"]=df[\"contact_avoidance\"].astype(float)"
   ]
  },
  {
   "cell_type": "code",
   "execution_count": 17,
   "id": "09a94e5c",
   "metadata": {},
   "outputs": [
    {
     "data": {
      "text/plain": [
       "0.7256122872561229"
      ]
     },
     "execution_count": 17,
     "metadata": {},
     "output_type": "execute_result"
    }
   ],
   "source": [
    "mean=df[\"contact_avoidance\"].mean()\n",
    "mean "
   ]
  },
  {
   "cell_type": "code",
   "execution_count": 18,
   "id": "9b1bdf0a",
   "metadata": {},
   "outputs": [],
   "source": [
    "df[\"contact_avoidance\"].replace(np.nan,mean,inplace=True)"
   ]
  },
  {
   "cell_type": "code",
   "execution_count": 19,
   "id": "3f861108",
   "metadata": {},
   "outputs": [],
   "source": [
    "df[\"antiviral_medication\"]=df[\"antiviral_medication\"].replace(to_replace=\"0\",value=np.nan)\n",
    "df[\"antiviral_medication\"]=df[\"antiviral_medication\"].astype(float)"
   ]
  },
  {
   "cell_type": "code",
   "execution_count": 20,
   "id": "8730af06",
   "metadata": {},
   "outputs": [
    {
     "data": {
      "text/plain": [
       "0.048843670220753865"
      ]
     },
     "execution_count": 20,
     "metadata": {},
     "output_type": "execute_result"
    }
   ],
   "source": [
    "mean=df[\"antiviral_medication\"].mean()\n",
    "mean "
   ]
  },
  {
   "cell_type": "code",
   "execution_count": 21,
   "id": "4bf40de1",
   "metadata": {},
   "outputs": [],
   "source": [
    "df[\"antiviral_medication\"].replace(np.nan,mean,inplace=True)"
   ]
  },
  {
   "cell_type": "code",
   "execution_count": 22,
   "id": "9d88e3b4",
   "metadata": {},
   "outputs": [],
   "source": [
    "df[\"bought_face_mask\"]=df[\"bought_face_mask\"].replace(to_replace=\"0\",value=np.nan)\n",
    "df[\"bought_face_mask\"]=df[\"bought_face_mask\"].astype(float)"
   ]
  },
  {
   "cell_type": "code",
   "execution_count": 23,
   "id": "23705f04",
   "metadata": {},
   "outputs": [
    {
     "data": {
      "text/plain": [
       "0.06898231414868106"
      ]
     },
     "execution_count": 23,
     "metadata": {},
     "output_type": "execute_result"
    }
   ],
   "source": [
    "mean=df[\"bought_face_mask\"].mean()\n",
    "mean "
   ]
  },
  {
   "cell_type": "code",
   "execution_count": 24,
   "id": "ce5f7344",
   "metadata": {},
   "outputs": [],
   "source": [
    "df[\"bought_face_mask\"].replace(np.nan,mean,inplace=True)"
   ]
  },
  {
   "cell_type": "code",
   "execution_count": 25,
   "id": "c18543a2",
   "metadata": {},
   "outputs": [],
   "source": [
    "df[\"wash_hands_frequently\"]=df[\"wash_hands_frequently\"].replace(to_replace=\"0\",value=np.nan)\n",
    "df[\"wash_hands_frequently\"]=df[\"wash_hands_frequently\"].astype(float)"
   ]
  },
  {
   "cell_type": "code",
   "execution_count": 26,
   "id": "0f474ff4",
   "metadata": {},
   "outputs": [
    {
     "data": {
      "text/plain": [
       "0.825614100881305"
      ]
     },
     "execution_count": 26,
     "metadata": {},
     "output_type": "execute_result"
    }
   ],
   "source": [
    "mean=df[\"wash_hands_frequently\"].mean()\n",
    "mean "
   ]
  },
  {
   "cell_type": "code",
   "execution_count": 27,
   "id": "78df956d",
   "metadata": {},
   "outputs": [],
   "source": [
    "df[\"wash_hands_frequently\"].replace(np.nan,mean,inplace=True)"
   ]
  },
  {
   "cell_type": "code",
   "execution_count": 28,
   "id": "76f2571a",
   "metadata": {},
   "outputs": [],
   "source": [
    "df[\"avoid_large_gatherings\"]=df[\"avoid_large_gatherings\"].replace(to_replace=\"0\",value=np.nan)\n",
    "df[\"avoid_large_gatherings\"]=df[\"avoid_large_gatherings\"].astype(float)"
   ]
  },
  {
   "cell_type": "code",
   "execution_count": 29,
   "id": "eb32b5a7",
   "metadata": {},
   "outputs": [
    {
     "data": {
      "text/plain": [
       "0.3586401202103681"
      ]
     },
     "execution_count": 29,
     "metadata": {},
     "output_type": "execute_result"
    }
   ],
   "source": [
    "mean=df[\"avoid_large_gatherings\"].mean()\n",
    "mean "
   ]
  },
  {
   "cell_type": "code",
   "execution_count": 30,
   "id": "a7ea9ffe",
   "metadata": {},
   "outputs": [],
   "source": [
    "df[\"avoid_large_gatherings\"].replace(np.nan,mean,inplace=True)"
   ]
  },
  {
   "cell_type": "code",
   "execution_count": 31,
   "id": "21c694e0",
   "metadata": {},
   "outputs": [],
   "source": [
    "df[\"reduced_outside_home_cont\"]=df[\"reduced_outside_home_cont\"].replace(to_replace=\"0\",value=np.nan)\n",
    "df[\"reduced_outside_home_cont\"]=df[\"reduced_outside_home_cont\"].astype(float)"
   ]
  },
  {
   "cell_type": "code",
   "execution_count": 32,
   "id": "75a739bd",
   "metadata": {},
   "outputs": [
    {
     "data": {
      "text/plain": [
       "0.33731455399061033"
      ]
     },
     "execution_count": 32,
     "metadata": {},
     "output_type": "execute_result"
    }
   ],
   "source": [
    "mean=df[\"reduced_outside_home_cont\"].mean()\n",
    "mean "
   ]
  },
  {
   "cell_type": "code",
   "execution_count": 33,
   "id": "45f6e1fe",
   "metadata": {},
   "outputs": [],
   "source": [
    "df[\"reduced_outside_home_cont\"].replace(np.nan,mean,inplace=True)"
   ]
  },
  {
   "cell_type": "code",
   "execution_count": 34,
   "id": "b6ad4697",
   "metadata": {},
   "outputs": [],
   "source": [
    "df[\"avoid_touch_face\"]=df[\"avoid_touch_face\"].replace(to_replace=\"0\",value=np.nan)\n",
    "df[\"avoid_touch_face\"]=df[\"avoid_touch_face\"].astype(float)"
   ]
  },
  {
   "cell_type": "code",
   "execution_count": 35,
   "id": "6dad6283",
   "metadata": {},
   "outputs": [
    {
     "data": {
      "text/plain": [
       "0.6772640054178111"
      ]
     },
     "execution_count": 35,
     "metadata": {},
     "output_type": "execute_result"
    }
   ],
   "source": [
    "mean=df[\"avoid_touch_face\"].mean()\n",
    "mean "
   ]
  },
  {
   "cell_type": "code",
   "execution_count": 36,
   "id": "c947c8d9",
   "metadata": {},
   "outputs": [],
   "source": [
    "df[\"avoid_touch_face\"].replace(np.nan,mean,inplace=True)"
   ]
  },
  {
   "cell_type": "code",
   "execution_count": 37,
   "id": "f293bad6",
   "metadata": {},
   "outputs": [],
   "source": [
    "df[\"dr_recc_h1n1_vacc\"]=df[\"dr_recc_h1n1_vacc\"].replace(to_replace=\"0\",value=np.nan)\n",
    "df[\"dr_recc_h1n1_vacc\"]=df[\"dr_recc_h1n1_vacc\"].astype(float)"
   ]
  },
  {
   "cell_type": "code",
   "execution_count": 38,
   "id": "e409e147",
   "metadata": {},
   "outputs": [
    {
     "data": {
      "text/plain": [
       "0.2203120544262028"
      ]
     },
     "execution_count": 38,
     "metadata": {},
     "output_type": "execute_result"
    }
   ],
   "source": [
    "mean=df[\"dr_recc_h1n1_vacc\"].mean()\n",
    "mean "
   ]
  },
  {
   "cell_type": "code",
   "execution_count": 39,
   "id": "b3cc6bc3",
   "metadata": {},
   "outputs": [],
   "source": [
    "df[\"dr_recc_h1n1_vacc\"].replace(np.nan,mean,inplace=True)"
   ]
  },
  {
   "cell_type": "code",
   "execution_count": 40,
   "id": "b3b1d084",
   "metadata": {},
   "outputs": [],
   "source": [
    "df[\"dr_recc_seasonal_vacc\"]=df[\"dr_recc_seasonal_vacc\"].replace(to_replace=\"0\",value=np.nan)\n",
    "df[\"dr_recc_seasonal_vacc\"]=df[\"dr_recc_seasonal_vacc\"].astype(float)"
   ]
  },
  {
   "cell_type": "code",
   "execution_count": 41,
   "id": "bbc9a07e",
   "metadata": {},
   "outputs": [
    {
     "data": {
      "text/plain": [
       "0.32973479447590337"
      ]
     },
     "execution_count": 41,
     "metadata": {},
     "output_type": "execute_result"
    }
   ],
   "source": [
    "mean=df[\"dr_recc_seasonal_vacc\"].mean()\n",
    "mean "
   ]
  },
  {
   "cell_type": "code",
   "execution_count": 42,
   "id": "2b377943",
   "metadata": {},
   "outputs": [],
   "source": [
    "df[\"dr_recc_seasonal_vacc\"].replace(np.nan,mean,inplace=True)"
   ]
  },
  {
   "cell_type": "code",
   "execution_count": 43,
   "id": "6421c1d7",
   "metadata": {},
   "outputs": [],
   "source": [
    "df[\"chronic_medic_condition\"]=df[\"chronic_medic_condition\"].replace(to_replace=\"0\",value=np.nan)\n",
    "df[\"chronic_medic_condition\"]=df[\"chronic_medic_condition\"].astype(float)"
   ]
  },
  {
   "cell_type": "code",
   "execution_count": 44,
   "id": "3860b132",
   "metadata": {},
   "outputs": [
    {
     "data": {
      "text/plain": [
       "0.28326080198943115"
      ]
     },
     "execution_count": 44,
     "metadata": {},
     "output_type": "execute_result"
    }
   ],
   "source": [
    "mean=df[\"chronic_medic_condition\"].mean()\n",
    "mean "
   ]
  },
  {
   "cell_type": "code",
   "execution_count": 45,
   "id": "8e8e78d5",
   "metadata": {},
   "outputs": [],
   "source": [
    "df[\"chronic_medic_condition\"].replace(np.nan,mean,inplace=True)"
   ]
  },
  {
   "cell_type": "code",
   "execution_count": 46,
   "id": "9ef0f439",
   "metadata": {},
   "outputs": [],
   "source": [
    "df[\"cont_child_undr_6_mnths\"]=df[\"cont_child_undr_6_mnths\"].replace(to_replace=\"0\",value=np.nan)\n",
    "df[\"cont_child_undr_6_mnths\"]=df[\"cont_child_undr_6_mnths\"].astype(float)"
   ]
  },
  {
   "cell_type": "code",
   "execution_count": 47,
   "id": "7825b971",
   "metadata": {},
   "outputs": [
    {
     "data": {
      "text/plain": [
       "0.0825897168462935"
      ]
     },
     "execution_count": 47,
     "metadata": {},
     "output_type": "execute_result"
    }
   ],
   "source": [
    "mean=df[\"cont_child_undr_6_mnths\"].mean()\n",
    "mean "
   ]
  },
  {
   "cell_type": "code",
   "execution_count": 48,
   "id": "0aaaa9c0",
   "metadata": {},
   "outputs": [],
   "source": [
    "df[\"cont_child_undr_6_mnths\"].replace(np.nan,mean,inplace=True)"
   ]
  },
  {
   "cell_type": "code",
   "execution_count": 49,
   "id": "84d2ae29",
   "metadata": {},
   "outputs": [],
   "source": [
    "df[\"is_health_worker\"]=df[\"is_health_worker\"].replace(to_replace=\"0\",value=np.nan)\n",
    "\n",
    "df[\"is_health_worker\"]=df[\"is_health_worker\"].astype(float)"
   ]
  },
  {
   "cell_type": "code",
   "execution_count": 50,
   "id": "a848fce0",
   "metadata": {},
   "outputs": [
    {
     "data": {
      "text/plain": [
       "0.111917538509053"
      ]
     },
     "execution_count": 50,
     "metadata": {},
     "output_type": "execute_result"
    }
   ],
   "source": [
    "mean=df[\"is_health_worker\"].mean()\n",
    "mean "
   ]
  },
  {
   "cell_type": "code",
   "execution_count": 51,
   "id": "ee62c1c4",
   "metadata": {},
   "outputs": [],
   "source": [
    "df[\"is_health_worker\"].replace(np.nan,mean,inplace=True)"
   ]
  },
  {
   "cell_type": "code",
   "execution_count": 52,
   "id": "c2c4e4af",
   "metadata": {},
   "outputs": [],
   "source": [
    "df[\"has_health_insur\"]=df[\"has_health_insur\"].replace(to_replace=\"0\",value=np.nan)\n",
    "\n",
    "df[\"has_health_insur\"]=df[\"has_health_insur\"].astype(float)"
   ]
  },
  {
   "cell_type": "code",
   "execution_count": 53,
   "id": "ca873ce2",
   "metadata": {},
   "outputs": [
    {
     "data": {
      "text/plain": [
       "0.8797200859142243"
      ]
     },
     "execution_count": 53,
     "metadata": {},
     "output_type": "execute_result"
    }
   ],
   "source": [
    "mean=df[\"has_health_insur\"].mean()\n",
    "mean "
   ]
  },
  {
   "cell_type": "code",
   "execution_count": 54,
   "id": "bab68117",
   "metadata": {},
   "outputs": [],
   "source": [
    "df[\"has_health_insur\"].replace(np.nan,mean,inplace=True)"
   ]
  },
  {
   "cell_type": "code",
   "execution_count": 55,
   "id": "d63f4a47",
   "metadata": {},
   "outputs": [],
   "source": [
    "df[\"is_h1n1_vacc_effective\"]=df[\"is_h1n1_vacc_effective\"].replace(to_replace=\"0\",value=np.nan)\n",
    "\n",
    "df[\"is_h1n1_vacc_effective\"]=df[\"is_h1n1_vacc_effective\"].astype(float)"
   ]
  },
  {
   "cell_type": "code",
   "execution_count": 56,
   "id": "ef954c03",
   "metadata": {},
   "outputs": [
    {
     "data": {
      "text/plain": [
       "3.85062319501444"
      ]
     },
     "execution_count": 56,
     "metadata": {},
     "output_type": "execute_result"
    }
   ],
   "source": [
    "mean=df[\"is_h1n1_vacc_effective\"].mean()\n",
    "mean "
   ]
  },
  {
   "cell_type": "code",
   "execution_count": 57,
   "id": "1b9a20f2",
   "metadata": {},
   "outputs": [],
   "source": [
    "df[\"is_h1n1_vacc_effective\"].replace(np.nan,mean,inplace=True)              "
   ]
  },
  {
   "cell_type": "code",
   "execution_count": 58,
   "id": "98bab59f",
   "metadata": {},
   "outputs": [],
   "source": [
    "df[\"is_h1n1_risky\"]=df[\"is_h1n1_risky\"].replace(to_replace=\"0\",value=np.nan)\n",
    "\n",
    "df[\"is_h1n1_risky\"]=df[\"is_h1n1_risky\"].astype(float)"
   ]
  },
  {
   "cell_type": "code",
   "execution_count": 59,
   "id": "b6af5663",
   "metadata": {},
   "outputs": [
    {
     "data": {
      "text/plain": [
       "2.3425662069227555"
      ]
     },
     "execution_count": 59,
     "metadata": {},
     "output_type": "execute_result"
    }
   ],
   "source": [
    "mean=df[\"is_h1n1_risky\"].mean()\n",
    "mean "
   ]
  },
  {
   "cell_type": "code",
   "execution_count": 60,
   "id": "78df0e43",
   "metadata": {},
   "outputs": [],
   "source": [
    "df[\"is_h1n1_risky\"].replace(np.nan,mean,inplace=True) "
   ]
  },
  {
   "cell_type": "code",
   "execution_count": 61,
   "id": "5b8fec3e",
   "metadata": {},
   "outputs": [],
   "source": [
    "df[\"sick_from_h1n1_vacc\"]=df[\"sick_from_h1n1_vacc\"].replace(to_replace=\"0\",value=np.nan)\n",
    "\n",
    "df[\"sick_from_h1n1_vacc\"]=df[\"sick_from_h1n1_vacc\"].astype(float)"
   ]
  },
  {
   "cell_type": "code",
   "execution_count": 62,
   "id": "4b4c642c",
   "metadata": {},
   "outputs": [
    {
     "data": {
      "text/plain": [
       "2.357669504408635"
      ]
     },
     "execution_count": 62,
     "metadata": {},
     "output_type": "execute_result"
    }
   ],
   "source": [
    "mean=df[\"sick_from_h1n1_vacc\"].mean()\n",
    "mean "
   ]
  },
  {
   "cell_type": "code",
   "execution_count": 63,
   "id": "a42e3daa",
   "metadata": {},
   "outputs": [],
   "source": [
    "df[\"sick_from_h1n1_vacc\"].replace(np.nan,mean,inplace=True) "
   ]
  },
  {
   "cell_type": "code",
   "execution_count": 64,
   "id": "fd770eae",
   "metadata": {},
   "outputs": [],
   "source": [
    "df[\"is_seas_vacc_effective\"]=df[\"is_seas_vacc_effective\"].replace(to_replace=\"0\",value=np.nan)\n",
    "\n",
    "df[\"is_seas_vacc_effective\"]=df[\"is_seas_vacc_effective\"].astype(float)"
   ]
  },
  {
   "cell_type": "code",
   "execution_count": 65,
   "id": "dcf33880",
   "metadata": {},
   "outputs": [
    {
     "data": {
      "text/plain": [
       "4.025985902076586"
      ]
     },
     "execution_count": 65,
     "metadata": {},
     "output_type": "execute_result"
    }
   ],
   "source": [
    "mean=df[\"is_seas_vacc_effective\"].mean()\n",
    "mean "
   ]
  },
  {
   "cell_type": "code",
   "execution_count": 66,
   "id": "909b68b1",
   "metadata": {},
   "outputs": [],
   "source": [
    "df[\"is_seas_vacc_effective\"].replace(np.nan,mean,inplace=True)                             "
   ]
  },
  {
   "cell_type": "code",
   "execution_count": 67,
   "id": "7a676089",
   "metadata": {},
   "outputs": [],
   "source": [
    "df[\"is_seas_risky\"]=df[\"is_seas_risky\"].replace(to_replace=\"0\",value=np.nan)\n",
    "\n",
    "df[\"is_seas_risky\"]=df[\"is_seas_risky\"].astype(float)"
   ]
  },
  {
   "cell_type": "code",
   "execution_count": 68,
   "id": "2a6b9074",
   "metadata": {},
   "outputs": [
    {
     "data": {
      "text/plain": [
       "2.719161608063223"
      ]
     },
     "execution_count": 68,
     "metadata": {},
     "output_type": "execute_result"
    }
   ],
   "source": [
    "mean=df[\"is_seas_risky\"].mean()\n",
    "mean "
   ]
  },
  {
   "cell_type": "code",
   "execution_count": 69,
   "id": "479e95db",
   "metadata": {},
   "outputs": [],
   "source": [
    "df[\"is_seas_risky\"].replace(np.nan,mean,inplace=True)"
   ]
  },
  {
   "cell_type": "code",
   "execution_count": 70,
   "id": "3d3a0652",
   "metadata": {},
   "outputs": [],
   "source": [
    "df[\"sick_from_seas_vacc\"]=df[\"sick_from_seas_vacc\"].replace(to_replace=\"0\",value=np.nan)\n",
    "\n",
    "df[\"sick_from_seas_vacc\"]=df[\"sick_from_seas_vacc\"].astype(float)"
   ]
  },
  {
   "cell_type": "code",
   "execution_count": 71,
   "id": "b0a384ec",
   "metadata": {},
   "outputs": [
    {
     "data": {
      "text/plain": [
       "2.1181123423767674"
      ]
     },
     "execution_count": 71,
     "metadata": {},
     "output_type": "execute_result"
    }
   ],
   "source": [
    "mean=df[\"sick_from_seas_vacc\"].mean()                                  \n",
    "mean "
   ]
  },
  {
   "cell_type": "code",
   "execution_count": 72,
   "id": "9560a35a",
   "metadata": {},
   "outputs": [],
   "source": [
    "df[\"sick_from_seas_vacc\"].replace(np.nan,mean,inplace=True)"
   ]
  },
  {
   "cell_type": "code",
   "execution_count": 73,
   "id": "edfd8a53",
   "metadata": {},
   "outputs": [],
   "source": [
    "df[\"no_of_adults\"]=df[\"no_of_adults\"].replace(to_replace=\"0\",value=np.nan)\n",
    "\n",
    "df[\"no_of_adults\"]=df[\"no_of_adults\"].astype(float)"
   ]
  },
  {
   "cell_type": "code",
   "execution_count": 74,
   "id": "2ad663ad",
   "metadata": {},
   "outputs": [
    {
     "data": {
      "text/plain": [
       "0.8864993574722201"
      ]
     },
     "execution_count": 74,
     "metadata": {},
     "output_type": "execute_result"
    }
   ],
   "source": [
    "mean=df[\"no_of_adults\"].mean()                                  \n",
    "mean "
   ]
  },
  {
   "cell_type": "code",
   "execution_count": 75,
   "id": "385fe084",
   "metadata": {},
   "outputs": [],
   "source": [
    "df[\"no_of_adults\"].replace(np.nan,mean,inplace=True)"
   ]
  },
  {
   "cell_type": "code",
   "execution_count": 76,
   "id": "bd3f2c74",
   "metadata": {},
   "outputs": [],
   "source": [
    "df[\"no_of_children\"]=df[\"no_of_children\"].replace(to_replace=\"0\",value=np.nan)\n",
    "\n",
    "df[\"no_of_children\"]=df[\"no_of_children\"].astype(float)"
   ]
  },
  {
   "cell_type": "code",
   "execution_count": 77,
   "id": "f79bbb7a",
   "metadata": {},
   "outputs": [
    {
     "data": {
      "text/plain": [
       "0.5345831128581148"
      ]
     },
     "execution_count": 77,
     "metadata": {},
     "output_type": "execute_result"
    }
   ],
   "source": [
    "mean=df[\"no_of_children\"].mean()                                  \n",
    "mean "
   ]
  },
  {
   "cell_type": "code",
   "execution_count": 78,
   "id": "504b8989",
   "metadata": {},
   "outputs": [],
   "source": [
    "df[\"no_of_children\"].replace(np.nan,mean,inplace=True)"
   ]
  },
  {
   "cell_type": "code",
   "execution_count": 79,
   "id": "cc9c99f8",
   "metadata": {},
   "outputs": [],
   "source": [
    "mode=df['qualification'].mode().values[0]\n",
    "df['qualification']=df['qualification'].replace(np.nan,mode)"
   ]
  },
  {
   "cell_type": "code",
   "execution_count": 80,
   "id": "9555bfbe",
   "metadata": {},
   "outputs": [],
   "source": [
    "mode=df['income_level'].mode().values[0]\n",
    "df['income_level']=df['income_level'].replace(np.nan,mode)"
   ]
  },
  {
   "cell_type": "code",
   "execution_count": 81,
   "id": "d19d8d00",
   "metadata": {},
   "outputs": [],
   "source": [
    "mode=df['marital_status'].mode().values[0]\n",
    "df['marital_status']=df['marital_status'].replace(np.nan,mode)"
   ]
  },
  {
   "cell_type": "code",
   "execution_count": 82,
   "id": "056223e6",
   "metadata": {},
   "outputs": [],
   "source": [
    "mode=df['housing_status'].mode().values[0]\n",
    "df['housing_status']=df['housing_status'].replace(np.nan,mode)"
   ]
  },
  {
   "cell_type": "code",
   "execution_count": 83,
   "id": "8a29813a",
   "metadata": {},
   "outputs": [],
   "source": [
    "mode=df['employment'].mode().values[0]\n",
    "df['employment']=df['employment'].replace(np.nan,mode)"
   ]
  },
  {
   "cell_type": "code",
   "execution_count": 84,
   "id": "f4426a68",
   "metadata": {},
   "outputs": [
    {
     "data": {
      "text/plain": [
       "unique_id                    0\n",
       "h1n1_worry                   0\n",
       "h1n1_awareness               0\n",
       "antiviral_medication         0\n",
       "contact_avoidance            0\n",
       "bought_face_mask             0\n",
       "wash_hands_frequently        0\n",
       "avoid_large_gatherings       0\n",
       "reduced_outside_home_cont    0\n",
       "avoid_touch_face             0\n",
       "dr_recc_h1n1_vacc            0\n",
       "dr_recc_seasonal_vacc        0\n",
       "chronic_medic_condition      0\n",
       "cont_child_undr_6_mnths      0\n",
       "is_health_worker             0\n",
       "has_health_insur             0\n",
       "is_h1n1_vacc_effective       0\n",
       "is_h1n1_risky                0\n",
       "sick_from_h1n1_vacc          0\n",
       "is_seas_vacc_effective       0\n",
       "is_seas_risky                0\n",
       "sick_from_seas_vacc          0\n",
       "age_bracket                  0\n",
       "qualification                0\n",
       "race                         0\n",
       "sex                          0\n",
       "income_level                 0\n",
       "marital_status               0\n",
       "housing_status               0\n",
       "employment                   0\n",
       "census_msa                   0\n",
       "no_of_adults                 0\n",
       "no_of_children               0\n",
       "h1n1_vaccine                 0\n",
       "dtype: int64"
      ]
     },
     "execution_count": 84,
     "metadata": {},
     "output_type": "execute_result"
    }
   ],
   "source": [
    "df.isnull().sum()"
   ]
  },
  {
   "cell_type": "code",
   "execution_count": 85,
   "id": "2f6436c8",
   "metadata": {},
   "outputs": [
    {
     "name": "stdout",
     "output_type": "stream",
     "text": [
      "<class 'pandas.core.frame.DataFrame'>\n",
      "RangeIndex: 26707 entries, 0 to 26706\n",
      "Data columns (total 34 columns):\n",
      " #   Column                     Non-Null Count  Dtype  \n",
      "---  ------                     --------------  -----  \n",
      " 0   unique_id                  26707 non-null  int64  \n",
      " 1   h1n1_worry                 26707 non-null  float64\n",
      " 2   h1n1_awareness             26707 non-null  float64\n",
      " 3   antiviral_medication       26707 non-null  float64\n",
      " 4   contact_avoidance          26707 non-null  float64\n",
      " 5   bought_face_mask           26707 non-null  float64\n",
      " 6   wash_hands_frequently      26707 non-null  float64\n",
      " 7   avoid_large_gatherings     26707 non-null  float64\n",
      " 8   reduced_outside_home_cont  26707 non-null  float64\n",
      " 9   avoid_touch_face           26707 non-null  float64\n",
      " 10  dr_recc_h1n1_vacc          26707 non-null  float64\n",
      " 11  dr_recc_seasonal_vacc      26707 non-null  float64\n",
      " 12  chronic_medic_condition    26707 non-null  float64\n",
      " 13  cont_child_undr_6_mnths    26707 non-null  float64\n",
      " 14  is_health_worker           26707 non-null  float64\n",
      " 15  has_health_insur           26707 non-null  float64\n",
      " 16  is_h1n1_vacc_effective     26707 non-null  float64\n",
      " 17  is_h1n1_risky              26707 non-null  float64\n",
      " 18  sick_from_h1n1_vacc        26707 non-null  float64\n",
      " 19  is_seas_vacc_effective     26707 non-null  float64\n",
      " 20  is_seas_risky              26707 non-null  float64\n",
      " 21  sick_from_seas_vacc        26707 non-null  float64\n",
      " 22  age_bracket                26707 non-null  object \n",
      " 23  qualification              26707 non-null  object \n",
      " 24  race                       26707 non-null  object \n",
      " 25  sex                        26707 non-null  object \n",
      " 26  income_level               26707 non-null  object \n",
      " 27  marital_status             26707 non-null  object \n",
      " 28  housing_status             26707 non-null  object \n",
      " 29  employment                 26707 non-null  object \n",
      " 30  census_msa                 26707 non-null  object \n",
      " 31  no_of_adults               26707 non-null  float64\n",
      " 32  no_of_children             26707 non-null  float64\n",
      " 33  h1n1_vaccine               26707 non-null  int64  \n",
      "dtypes: float64(23), int64(2), object(9)\n",
      "memory usage: 6.9+ MB\n"
     ]
    }
   ],
   "source": [
    "df.info()"
   ]
  },
  {
   "cell_type": "code",
   "execution_count": 86,
   "id": "ff30be59",
   "metadata": {},
   "outputs": [
    {
     "data": {
      "text/html": [
       "<div>\n",
       "<style scoped>\n",
       "    .dataframe tbody tr th:only-of-type {\n",
       "        vertical-align: middle;\n",
       "    }\n",
       "\n",
       "    .dataframe tbody tr th {\n",
       "        vertical-align: top;\n",
       "    }\n",
       "\n",
       "    .dataframe thead th {\n",
       "        text-align: right;\n",
       "    }\n",
       "</style>\n",
       "<table border=\"1\" class=\"dataframe\">\n",
       "  <thead>\n",
       "    <tr style=\"text-align: right;\">\n",
       "      <th></th>\n",
       "      <th>unique_id</th>\n",
       "      <th>h1n1_worry</th>\n",
       "      <th>h1n1_awareness</th>\n",
       "      <th>antiviral_medication</th>\n",
       "      <th>contact_avoidance</th>\n",
       "      <th>bought_face_mask</th>\n",
       "      <th>wash_hands_frequently</th>\n",
       "      <th>avoid_large_gatherings</th>\n",
       "      <th>reduced_outside_home_cont</th>\n",
       "      <th>avoid_touch_face</th>\n",
       "      <th>dr_recc_h1n1_vacc</th>\n",
       "      <th>dr_recc_seasonal_vacc</th>\n",
       "      <th>chronic_medic_condition</th>\n",
       "      <th>cont_child_undr_6_mnths</th>\n",
       "      <th>is_health_worker</th>\n",
       "      <th>has_health_insur</th>\n",
       "      <th>is_h1n1_vacc_effective</th>\n",
       "      <th>is_h1n1_risky</th>\n",
       "      <th>sick_from_h1n1_vacc</th>\n",
       "      <th>is_seas_vacc_effective</th>\n",
       "      <th>is_seas_risky</th>\n",
       "      <th>sick_from_seas_vacc</th>\n",
       "      <th>age_bracket</th>\n",
       "      <th>qualification</th>\n",
       "      <th>race</th>\n",
       "      <th>sex</th>\n",
       "      <th>income_level</th>\n",
       "      <th>marital_status</th>\n",
       "      <th>housing_status</th>\n",
       "      <th>employment</th>\n",
       "      <th>census_msa</th>\n",
       "      <th>no_of_adults</th>\n",
       "      <th>no_of_children</th>\n",
       "      <th>h1n1_vaccine</th>\n",
       "    </tr>\n",
       "  </thead>\n",
       "  <tbody>\n",
       "    <tr>\n",
       "      <th>0</th>\n",
       "      <td>0</td>\n",
       "      <td>1.0</td>\n",
       "      <td>0.0</td>\n",
       "      <td>0.0</td>\n",
       "      <td>0.0</td>\n",
       "      <td>0.0</td>\n",
       "      <td>0.0</td>\n",
       "      <td>0.0</td>\n",
       "      <td>1.0</td>\n",
       "      <td>1.0</td>\n",
       "      <td>0.000000</td>\n",
       "      <td>0.000000</td>\n",
       "      <td>0.0</td>\n",
       "      <td>0.0</td>\n",
       "      <td>0.0</td>\n",
       "      <td>1.00000</td>\n",
       "      <td>3.0</td>\n",
       "      <td>1.0</td>\n",
       "      <td>2.0</td>\n",
       "      <td>2.0</td>\n",
       "      <td>1.0</td>\n",
       "      <td>2.0</td>\n",
       "      <td>55 - 64 Years</td>\n",
       "      <td>&lt; 12 Years</td>\n",
       "      <td>White</td>\n",
       "      <td>Female</td>\n",
       "      <td>Below Poverty</td>\n",
       "      <td>Not Married</td>\n",
       "      <td>Own</td>\n",
       "      <td>Not in Labor Force</td>\n",
       "      <td>Non-MSA</td>\n",
       "      <td>0.0</td>\n",
       "      <td>0.0</td>\n",
       "      <td>0</td>\n",
       "    </tr>\n",
       "    <tr>\n",
       "      <th>1</th>\n",
       "      <td>1</td>\n",
       "      <td>3.0</td>\n",
       "      <td>2.0</td>\n",
       "      <td>0.0</td>\n",
       "      <td>1.0</td>\n",
       "      <td>0.0</td>\n",
       "      <td>1.0</td>\n",
       "      <td>0.0</td>\n",
       "      <td>1.0</td>\n",
       "      <td>1.0</td>\n",
       "      <td>0.000000</td>\n",
       "      <td>0.000000</td>\n",
       "      <td>0.0</td>\n",
       "      <td>0.0</td>\n",
       "      <td>0.0</td>\n",
       "      <td>1.00000</td>\n",
       "      <td>5.0</td>\n",
       "      <td>4.0</td>\n",
       "      <td>4.0</td>\n",
       "      <td>4.0</td>\n",
       "      <td>2.0</td>\n",
       "      <td>4.0</td>\n",
       "      <td>35 - 44 Years</td>\n",
       "      <td>12 Years</td>\n",
       "      <td>White</td>\n",
       "      <td>Male</td>\n",
       "      <td>Below Poverty</td>\n",
       "      <td>Not Married</td>\n",
       "      <td>Rent</td>\n",
       "      <td>Employed</td>\n",
       "      <td>MSA, Not Principle  City</td>\n",
       "      <td>0.0</td>\n",
       "      <td>0.0</td>\n",
       "      <td>0</td>\n",
       "    </tr>\n",
       "    <tr>\n",
       "      <th>2</th>\n",
       "      <td>2</td>\n",
       "      <td>1.0</td>\n",
       "      <td>1.0</td>\n",
       "      <td>0.0</td>\n",
       "      <td>1.0</td>\n",
       "      <td>0.0</td>\n",
       "      <td>0.0</td>\n",
       "      <td>0.0</td>\n",
       "      <td>0.0</td>\n",
       "      <td>0.0</td>\n",
       "      <td>0.220312</td>\n",
       "      <td>0.329735</td>\n",
       "      <td>1.0</td>\n",
       "      <td>0.0</td>\n",
       "      <td>0.0</td>\n",
       "      <td>0.87972</td>\n",
       "      <td>3.0</td>\n",
       "      <td>1.0</td>\n",
       "      <td>1.0</td>\n",
       "      <td>4.0</td>\n",
       "      <td>1.0</td>\n",
       "      <td>2.0</td>\n",
       "      <td>18 - 34 Years</td>\n",
       "      <td>College Graduate</td>\n",
       "      <td>White</td>\n",
       "      <td>Male</td>\n",
       "      <td>&lt;= $75,000, Above Poverty</td>\n",
       "      <td>Not Married</td>\n",
       "      <td>Own</td>\n",
       "      <td>Employed</td>\n",
       "      <td>MSA, Not Principle  City</td>\n",
       "      <td>2.0</td>\n",
       "      <td>0.0</td>\n",
       "      <td>0</td>\n",
       "    </tr>\n",
       "    <tr>\n",
       "      <th>3</th>\n",
       "      <td>3</td>\n",
       "      <td>1.0</td>\n",
       "      <td>1.0</td>\n",
       "      <td>0.0</td>\n",
       "      <td>1.0</td>\n",
       "      <td>0.0</td>\n",
       "      <td>1.0</td>\n",
       "      <td>1.0</td>\n",
       "      <td>0.0</td>\n",
       "      <td>0.0</td>\n",
       "      <td>0.000000</td>\n",
       "      <td>1.000000</td>\n",
       "      <td>1.0</td>\n",
       "      <td>0.0</td>\n",
       "      <td>0.0</td>\n",
       "      <td>0.87972</td>\n",
       "      <td>3.0</td>\n",
       "      <td>3.0</td>\n",
       "      <td>5.0</td>\n",
       "      <td>5.0</td>\n",
       "      <td>4.0</td>\n",
       "      <td>1.0</td>\n",
       "      <td>65+ Years</td>\n",
       "      <td>12 Years</td>\n",
       "      <td>White</td>\n",
       "      <td>Female</td>\n",
       "      <td>Below Poverty</td>\n",
       "      <td>Not Married</td>\n",
       "      <td>Rent</td>\n",
       "      <td>Not in Labor Force</td>\n",
       "      <td>MSA, Principle City</td>\n",
       "      <td>0.0</td>\n",
       "      <td>0.0</td>\n",
       "      <td>0</td>\n",
       "    </tr>\n",
       "    <tr>\n",
       "      <th>4</th>\n",
       "      <td>4</td>\n",
       "      <td>2.0</td>\n",
       "      <td>1.0</td>\n",
       "      <td>0.0</td>\n",
       "      <td>1.0</td>\n",
       "      <td>0.0</td>\n",
       "      <td>1.0</td>\n",
       "      <td>1.0</td>\n",
       "      <td>0.0</td>\n",
       "      <td>1.0</td>\n",
       "      <td>0.000000</td>\n",
       "      <td>0.000000</td>\n",
       "      <td>0.0</td>\n",
       "      <td>0.0</td>\n",
       "      <td>0.0</td>\n",
       "      <td>0.87972</td>\n",
       "      <td>3.0</td>\n",
       "      <td>3.0</td>\n",
       "      <td>2.0</td>\n",
       "      <td>3.0</td>\n",
       "      <td>1.0</td>\n",
       "      <td>4.0</td>\n",
       "      <td>45 - 54 Years</td>\n",
       "      <td>Some College</td>\n",
       "      <td>White</td>\n",
       "      <td>Female</td>\n",
       "      <td>&lt;= $75,000, Above Poverty</td>\n",
       "      <td>Married</td>\n",
       "      <td>Own</td>\n",
       "      <td>Employed</td>\n",
       "      <td>MSA, Not Principle  City</td>\n",
       "      <td>1.0</td>\n",
       "      <td>0.0</td>\n",
       "      <td>0</td>\n",
       "    </tr>\n",
       "    <tr>\n",
       "      <th>5</th>\n",
       "      <td>5</td>\n",
       "      <td>3.0</td>\n",
       "      <td>1.0</td>\n",
       "      <td>0.0</td>\n",
       "      <td>1.0</td>\n",
       "      <td>0.0</td>\n",
       "      <td>1.0</td>\n",
       "      <td>0.0</td>\n",
       "      <td>0.0</td>\n",
       "      <td>1.0</td>\n",
       "      <td>0.000000</td>\n",
       "      <td>1.000000</td>\n",
       "      <td>0.0</td>\n",
       "      <td>0.0</td>\n",
       "      <td>0.0</td>\n",
       "      <td>0.87972</td>\n",
       "      <td>5.0</td>\n",
       "      <td>2.0</td>\n",
       "      <td>1.0</td>\n",
       "      <td>5.0</td>\n",
       "      <td>4.0</td>\n",
       "      <td>4.0</td>\n",
       "      <td>65+ Years</td>\n",
       "      <td>12 Years</td>\n",
       "      <td>White</td>\n",
       "      <td>Male</td>\n",
       "      <td>&lt;= $75,000, Above Poverty</td>\n",
       "      <td>Married</td>\n",
       "      <td>Own</td>\n",
       "      <td>Employed</td>\n",
       "      <td>MSA, Principle City</td>\n",
       "      <td>2.0</td>\n",
       "      <td>3.0</td>\n",
       "      <td>0</td>\n",
       "    </tr>\n",
       "    <tr>\n",
       "      <th>6</th>\n",
       "      <td>6</td>\n",
       "      <td>0.0</td>\n",
       "      <td>0.0</td>\n",
       "      <td>0.0</td>\n",
       "      <td>0.0</td>\n",
       "      <td>0.0</td>\n",
       "      <td>0.0</td>\n",
       "      <td>0.0</td>\n",
       "      <td>0.0</td>\n",
       "      <td>0.0</td>\n",
       "      <td>0.000000</td>\n",
       "      <td>0.000000</td>\n",
       "      <td>0.0</td>\n",
       "      <td>0.0</td>\n",
       "      <td>0.0</td>\n",
       "      <td>0.87972</td>\n",
       "      <td>4.0</td>\n",
       "      <td>1.0</td>\n",
       "      <td>1.0</td>\n",
       "      <td>4.0</td>\n",
       "      <td>2.0</td>\n",
       "      <td>1.0</td>\n",
       "      <td>55 - 64 Years</td>\n",
       "      <td>&lt; 12 Years</td>\n",
       "      <td>White</td>\n",
       "      <td>Male</td>\n",
       "      <td>&lt;= $75,000, Above Poverty</td>\n",
       "      <td>Not Married</td>\n",
       "      <td>Own</td>\n",
       "      <td>Employed</td>\n",
       "      <td>MSA, Not Principle  City</td>\n",
       "      <td>0.0</td>\n",
       "      <td>0.0</td>\n",
       "      <td>0</td>\n",
       "    </tr>\n",
       "    <tr>\n",
       "      <th>7</th>\n",
       "      <td>7</td>\n",
       "      <td>1.0</td>\n",
       "      <td>0.0</td>\n",
       "      <td>0.0</td>\n",
       "      <td>1.0</td>\n",
       "      <td>0.0</td>\n",
       "      <td>1.0</td>\n",
       "      <td>0.0</td>\n",
       "      <td>0.0</td>\n",
       "      <td>1.0</td>\n",
       "      <td>1.000000</td>\n",
       "      <td>0.000000</td>\n",
       "      <td>1.0</td>\n",
       "      <td>0.0</td>\n",
       "      <td>0.0</td>\n",
       "      <td>1.00000</td>\n",
       "      <td>5.0</td>\n",
       "      <td>2.0</td>\n",
       "      <td>1.0</td>\n",
       "      <td>4.0</td>\n",
       "      <td>2.0</td>\n",
       "      <td>1.0</td>\n",
       "      <td>45 - 54 Years</td>\n",
       "      <td>Some College</td>\n",
       "      <td>White</td>\n",
       "      <td>Female</td>\n",
       "      <td>&lt;= $75,000, Above Poverty</td>\n",
       "      <td>Married</td>\n",
       "      <td>Own</td>\n",
       "      <td>Employed</td>\n",
       "      <td>Non-MSA</td>\n",
       "      <td>2.0</td>\n",
       "      <td>0.0</td>\n",
       "      <td>1</td>\n",
       "    </tr>\n",
       "    <tr>\n",
       "      <th>8</th>\n",
       "      <td>8</td>\n",
       "      <td>0.0</td>\n",
       "      <td>2.0</td>\n",
       "      <td>0.0</td>\n",
       "      <td>1.0</td>\n",
       "      <td>0.0</td>\n",
       "      <td>1.0</td>\n",
       "      <td>1.0</td>\n",
       "      <td>1.0</td>\n",
       "      <td>1.0</td>\n",
       "      <td>0.000000</td>\n",
       "      <td>0.000000</td>\n",
       "      <td>0.0</td>\n",
       "      <td>0.0</td>\n",
       "      <td>0.0</td>\n",
       "      <td>0.87972</td>\n",
       "      <td>4.0</td>\n",
       "      <td>1.0</td>\n",
       "      <td>1.0</td>\n",
       "      <td>4.0</td>\n",
       "      <td>2.0</td>\n",
       "      <td>1.0</td>\n",
       "      <td>45 - 54 Years</td>\n",
       "      <td>College Graduate</td>\n",
       "      <td>White</td>\n",
       "      <td>Male</td>\n",
       "      <td>&gt; $75,000</td>\n",
       "      <td>Married</td>\n",
       "      <td>Own</td>\n",
       "      <td>Employed</td>\n",
       "      <td>MSA, Not Principle  City</td>\n",
       "      <td>1.0</td>\n",
       "      <td>0.0</td>\n",
       "      <td>0</td>\n",
       "    </tr>\n",
       "    <tr>\n",
       "      <th>9</th>\n",
       "      <td>9</td>\n",
       "      <td>2.0</td>\n",
       "      <td>1.0</td>\n",
       "      <td>0.0</td>\n",
       "      <td>1.0</td>\n",
       "      <td>0.0</td>\n",
       "      <td>0.0</td>\n",
       "      <td>1.0</td>\n",
       "      <td>0.0</td>\n",
       "      <td>1.0</td>\n",
       "      <td>0.000000</td>\n",
       "      <td>0.000000</td>\n",
       "      <td>1.0</td>\n",
       "      <td>0.0</td>\n",
       "      <td>0.0</td>\n",
       "      <td>1.00000</td>\n",
       "      <td>4.0</td>\n",
       "      <td>2.0</td>\n",
       "      <td>2.0</td>\n",
       "      <td>4.0</td>\n",
       "      <td>2.0</td>\n",
       "      <td>2.0</td>\n",
       "      <td>55 - 64 Years</td>\n",
       "      <td>12 Years</td>\n",
       "      <td>White</td>\n",
       "      <td>Male</td>\n",
       "      <td>&lt;= $75,000, Above Poverty</td>\n",
       "      <td>Not Married</td>\n",
       "      <td>Own</td>\n",
       "      <td>Not in Labor Force</td>\n",
       "      <td>MSA, Not Principle  City</td>\n",
       "      <td>0.0</td>\n",
       "      <td>0.0</td>\n",
       "      <td>0</td>\n",
       "    </tr>\n",
       "    <tr>\n",
       "      <th>10</th>\n",
       "      <td>10</td>\n",
       "      <td>2.0</td>\n",
       "      <td>1.0</td>\n",
       "      <td>0.0</td>\n",
       "      <td>1.0</td>\n",
       "      <td>0.0</td>\n",
       "      <td>1.0</td>\n",
       "      <td>1.0</td>\n",
       "      <td>0.0</td>\n",
       "      <td>0.0</td>\n",
       "      <td>0.000000</td>\n",
       "      <td>0.000000</td>\n",
       "      <td>1.0</td>\n",
       "      <td>1.0</td>\n",
       "      <td>0.0</td>\n",
       "      <td>0.00000</td>\n",
       "      <td>4.0</td>\n",
       "      <td>1.0</td>\n",
       "      <td>2.0</td>\n",
       "      <td>5.0</td>\n",
       "      <td>4.0</td>\n",
       "      <td>4.0</td>\n",
       "      <td>45 - 54 Years</td>\n",
       "      <td>12 Years</td>\n",
       "      <td>White</td>\n",
       "      <td>Male</td>\n",
       "      <td>&lt;= $75,000, Above Poverty</td>\n",
       "      <td>Married</td>\n",
       "      <td>Rent</td>\n",
       "      <td>Employed</td>\n",
       "      <td>MSA, Not Principle  City</td>\n",
       "      <td>2.0</td>\n",
       "      <td>0.0</td>\n",
       "      <td>1</td>\n",
       "    </tr>\n",
       "    <tr>\n",
       "      <th>11</th>\n",
       "      <td>11</td>\n",
       "      <td>1.0</td>\n",
       "      <td>2.0</td>\n",
       "      <td>0.0</td>\n",
       "      <td>1.0</td>\n",
       "      <td>0.0</td>\n",
       "      <td>1.0</td>\n",
       "      <td>0.0</td>\n",
       "      <td>0.0</td>\n",
       "      <td>0.0</td>\n",
       "      <td>0.000000</td>\n",
       "      <td>0.000000</td>\n",
       "      <td>0.0</td>\n",
       "      <td>0.0</td>\n",
       "      <td>0.0</td>\n",
       "      <td>1.00000</td>\n",
       "      <td>3.0</td>\n",
       "      <td>2.0</td>\n",
       "      <td>2.0</td>\n",
       "      <td>4.0</td>\n",
       "      <td>2.0</td>\n",
       "      <td>1.0</td>\n",
       "      <td>55 - 64 Years</td>\n",
       "      <td>College Graduate</td>\n",
       "      <td>White</td>\n",
       "      <td>Male</td>\n",
       "      <td>&gt; $75,000</td>\n",
       "      <td>Married</td>\n",
       "      <td>Own</td>\n",
       "      <td>Employed</td>\n",
       "      <td>Non-MSA</td>\n",
       "      <td>1.0</td>\n",
       "      <td>2.0</td>\n",
       "      <td>1</td>\n",
       "    </tr>\n",
       "    <tr>\n",
       "      <th>12</th>\n",
       "      <td>12</td>\n",
       "      <td>1.0</td>\n",
       "      <td>1.0</td>\n",
       "      <td>0.0</td>\n",
       "      <td>1.0</td>\n",
       "      <td>0.0</td>\n",
       "      <td>1.0</td>\n",
       "      <td>1.0</td>\n",
       "      <td>0.0</td>\n",
       "      <td>1.0</td>\n",
       "      <td>0.000000</td>\n",
       "      <td>1.000000</td>\n",
       "      <td>0.0</td>\n",
       "      <td>0.0</td>\n",
       "      <td>0.0</td>\n",
       "      <td>1.00000</td>\n",
       "      <td>3.0</td>\n",
       "      <td>2.0</td>\n",
       "      <td>1.0</td>\n",
       "      <td>5.0</td>\n",
       "      <td>4.0</td>\n",
       "      <td>1.0</td>\n",
       "      <td>65+ Years</td>\n",
       "      <td>College Graduate</td>\n",
       "      <td>White</td>\n",
       "      <td>Male</td>\n",
       "      <td>&lt;= $75,000, Above Poverty</td>\n",
       "      <td>Married</td>\n",
       "      <td>Own</td>\n",
       "      <td>Not in Labor Force</td>\n",
       "      <td>MSA, Not Principle  City</td>\n",
       "      <td>1.0</td>\n",
       "      <td>0.0</td>\n",
       "      <td>0</td>\n",
       "    </tr>\n",
       "    <tr>\n",
       "      <th>13</th>\n",
       "      <td>13</td>\n",
       "      <td>1.0</td>\n",
       "      <td>1.0</td>\n",
       "      <td>0.0</td>\n",
       "      <td>1.0</td>\n",
       "      <td>0.0</td>\n",
       "      <td>1.0</td>\n",
       "      <td>0.0</td>\n",
       "      <td>0.0</td>\n",
       "      <td>1.0</td>\n",
       "      <td>0.000000</td>\n",
       "      <td>0.000000</td>\n",
       "      <td>1.0</td>\n",
       "      <td>1.0</td>\n",
       "      <td>0.0</td>\n",
       "      <td>0.87972</td>\n",
       "      <td>3.0</td>\n",
       "      <td>1.0</td>\n",
       "      <td>4.0</td>\n",
       "      <td>4.0</td>\n",
       "      <td>2.0</td>\n",
       "      <td>4.0</td>\n",
       "      <td>35 - 44 Years</td>\n",
       "      <td>Some College</td>\n",
       "      <td>White</td>\n",
       "      <td>Male</td>\n",
       "      <td>&gt; $75,000</td>\n",
       "      <td>Married</td>\n",
       "      <td>Own</td>\n",
       "      <td>Employed</td>\n",
       "      <td>MSA, Not Principle  City</td>\n",
       "      <td>1.0</td>\n",
       "      <td>2.0</td>\n",
       "      <td>0</td>\n",
       "    </tr>\n",
       "    <tr>\n",
       "      <th>14</th>\n",
       "      <td>14</td>\n",
       "      <td>3.0</td>\n",
       "      <td>1.0</td>\n",
       "      <td>0.0</td>\n",
       "      <td>1.0</td>\n",
       "      <td>0.0</td>\n",
       "      <td>1.0</td>\n",
       "      <td>0.0</td>\n",
       "      <td>1.0</td>\n",
       "      <td>1.0</td>\n",
       "      <td>0.000000</td>\n",
       "      <td>0.000000</td>\n",
       "      <td>0.0</td>\n",
       "      <td>0.0</td>\n",
       "      <td>0.0</td>\n",
       "      <td>1.00000</td>\n",
       "      <td>5.0</td>\n",
       "      <td>4.0</td>\n",
       "      <td>2.0</td>\n",
       "      <td>4.0</td>\n",
       "      <td>4.0</td>\n",
       "      <td>2.0</td>\n",
       "      <td>55 - 64 Years</td>\n",
       "      <td>12 Years</td>\n",
       "      <td>White</td>\n",
       "      <td>Male</td>\n",
       "      <td>&lt;= $75,000, Above Poverty</td>\n",
       "      <td>Married</td>\n",
       "      <td>Own</td>\n",
       "      <td>Not in Labor Force</td>\n",
       "      <td>MSA, Not Principle  City</td>\n",
       "      <td>1.0</td>\n",
       "      <td>0.0</td>\n",
       "      <td>0</td>\n",
       "    </tr>\n",
       "    <tr>\n",
       "      <th>15</th>\n",
       "      <td>15</td>\n",
       "      <td>1.0</td>\n",
       "      <td>1.0</td>\n",
       "      <td>0.0</td>\n",
       "      <td>1.0</td>\n",
       "      <td>0.0</td>\n",
       "      <td>0.0</td>\n",
       "      <td>0.0</td>\n",
       "      <td>0.0</td>\n",
       "      <td>0.0</td>\n",
       "      <td>0.000000</td>\n",
       "      <td>1.000000</td>\n",
       "      <td>0.0</td>\n",
       "      <td>0.0</td>\n",
       "      <td>0.0</td>\n",
       "      <td>1.00000</td>\n",
       "      <td>4.0</td>\n",
       "      <td>2.0</td>\n",
       "      <td>2.0</td>\n",
       "      <td>2.0</td>\n",
       "      <td>1.0</td>\n",
       "      <td>1.0</td>\n",
       "      <td>35 - 44 Years</td>\n",
       "      <td>College Graduate</td>\n",
       "      <td>White</td>\n",
       "      <td>Female</td>\n",
       "      <td>&gt; $75,000</td>\n",
       "      <td>Married</td>\n",
       "      <td>Own</td>\n",
       "      <td>Employed</td>\n",
       "      <td>MSA, Not Principle  City</td>\n",
       "      <td>1.0</td>\n",
       "      <td>3.0</td>\n",
       "      <td>0</td>\n",
       "    </tr>\n",
       "    <tr>\n",
       "      <th>16</th>\n",
       "      <td>16</td>\n",
       "      <td>2.0</td>\n",
       "      <td>1.0</td>\n",
       "      <td>0.0</td>\n",
       "      <td>1.0</td>\n",
       "      <td>0.0</td>\n",
       "      <td>1.0</td>\n",
       "      <td>1.0</td>\n",
       "      <td>1.0</td>\n",
       "      <td>1.0</td>\n",
       "      <td>1.000000</td>\n",
       "      <td>1.000000</td>\n",
       "      <td>1.0</td>\n",
       "      <td>0.0</td>\n",
       "      <td>0.0</td>\n",
       "      <td>1.00000</td>\n",
       "      <td>3.0</td>\n",
       "      <td>2.0</td>\n",
       "      <td>1.0</td>\n",
       "      <td>4.0</td>\n",
       "      <td>4.0</td>\n",
       "      <td>1.0</td>\n",
       "      <td>65+ Years</td>\n",
       "      <td>12 Years</td>\n",
       "      <td>White</td>\n",
       "      <td>Female</td>\n",
       "      <td>&lt;= $75,000, Above Poverty</td>\n",
       "      <td>Married</td>\n",
       "      <td>Own</td>\n",
       "      <td>Not in Labor Force</td>\n",
       "      <td>MSA, Principle City</td>\n",
       "      <td>0.0</td>\n",
       "      <td>0.0</td>\n",
       "      <td>1</td>\n",
       "    </tr>\n",
       "    <tr>\n",
       "      <th>17</th>\n",
       "      <td>17</td>\n",
       "      <td>1.0</td>\n",
       "      <td>1.0</td>\n",
       "      <td>0.0</td>\n",
       "      <td>0.0</td>\n",
       "      <td>0.0</td>\n",
       "      <td>1.0</td>\n",
       "      <td>1.0</td>\n",
       "      <td>0.0</td>\n",
       "      <td>1.0</td>\n",
       "      <td>1.000000</td>\n",
       "      <td>1.000000</td>\n",
       "      <td>0.0</td>\n",
       "      <td>0.0</td>\n",
       "      <td>0.0</td>\n",
       "      <td>0.00000</td>\n",
       "      <td>2.0</td>\n",
       "      <td>2.0</td>\n",
       "      <td>4.0</td>\n",
       "      <td>4.0</td>\n",
       "      <td>2.0</td>\n",
       "      <td>1.0</td>\n",
       "      <td>35 - 44 Years</td>\n",
       "      <td>Some College</td>\n",
       "      <td>White</td>\n",
       "      <td>Female</td>\n",
       "      <td>&lt;= $75,000, Above Poverty</td>\n",
       "      <td>Not Married</td>\n",
       "      <td>Own</td>\n",
       "      <td>Employed</td>\n",
       "      <td>MSA, Not Principle  City</td>\n",
       "      <td>1.0</td>\n",
       "      <td>0.0</td>\n",
       "      <td>0</td>\n",
       "    </tr>\n",
       "    <tr>\n",
       "      <th>18</th>\n",
       "      <td>18</td>\n",
       "      <td>1.0</td>\n",
       "      <td>2.0</td>\n",
       "      <td>0.0</td>\n",
       "      <td>1.0</td>\n",
       "      <td>0.0</td>\n",
       "      <td>1.0</td>\n",
       "      <td>0.0</td>\n",
       "      <td>0.0</td>\n",
       "      <td>1.0</td>\n",
       "      <td>1.000000</td>\n",
       "      <td>1.000000</td>\n",
       "      <td>0.0</td>\n",
       "      <td>0.0</td>\n",
       "      <td>0.0</td>\n",
       "      <td>0.87972</td>\n",
       "      <td>5.0</td>\n",
       "      <td>2.0</td>\n",
       "      <td>2.0</td>\n",
       "      <td>5.0</td>\n",
       "      <td>4.0</td>\n",
       "      <td>2.0</td>\n",
       "      <td>65+ Years</td>\n",
       "      <td>College Graduate</td>\n",
       "      <td>White</td>\n",
       "      <td>Male</td>\n",
       "      <td>&gt; $75,000</td>\n",
       "      <td>Married</td>\n",
       "      <td>Own</td>\n",
       "      <td>Employed</td>\n",
       "      <td>Non-MSA</td>\n",
       "      <td>2.0</td>\n",
       "      <td>0.0</td>\n",
       "      <td>0</td>\n",
       "    </tr>\n",
       "    <tr>\n",
       "      <th>19</th>\n",
       "      <td>19</td>\n",
       "      <td>2.0</td>\n",
       "      <td>2.0</td>\n",
       "      <td>0.0</td>\n",
       "      <td>0.0</td>\n",
       "      <td>0.0</td>\n",
       "      <td>1.0</td>\n",
       "      <td>0.0</td>\n",
       "      <td>1.0</td>\n",
       "      <td>1.0</td>\n",
       "      <td>0.000000</td>\n",
       "      <td>0.000000</td>\n",
       "      <td>0.0</td>\n",
       "      <td>0.0</td>\n",
       "      <td>0.0</td>\n",
       "      <td>1.00000</td>\n",
       "      <td>4.0</td>\n",
       "      <td>2.0</td>\n",
       "      <td>1.0</td>\n",
       "      <td>5.0</td>\n",
       "      <td>2.0</td>\n",
       "      <td>1.0</td>\n",
       "      <td>55 - 64 Years</td>\n",
       "      <td>Some College</td>\n",
       "      <td>Black</td>\n",
       "      <td>Female</td>\n",
       "      <td>&lt;= $75,000, Above Poverty</td>\n",
       "      <td>Married</td>\n",
       "      <td>Own</td>\n",
       "      <td>Not in Labor Force</td>\n",
       "      <td>MSA, Not Principle  City</td>\n",
       "      <td>1.0</td>\n",
       "      <td>0.0</td>\n",
       "      <td>0</td>\n",
       "    </tr>\n",
       "  </tbody>\n",
       "</table>\n",
       "</div>"
      ],
      "text/plain": [
       "    unique_id  h1n1_worry  h1n1_awareness  antiviral_medication  \\\n",
       "0           0         1.0             0.0                   0.0   \n",
       "1           1         3.0             2.0                   0.0   \n",
       "2           2         1.0             1.0                   0.0   \n",
       "3           3         1.0             1.0                   0.0   \n",
       "4           4         2.0             1.0                   0.0   \n",
       "5           5         3.0             1.0                   0.0   \n",
       "6           6         0.0             0.0                   0.0   \n",
       "7           7         1.0             0.0                   0.0   \n",
       "8           8         0.0             2.0                   0.0   \n",
       "9           9         2.0             1.0                   0.0   \n",
       "10         10         2.0             1.0                   0.0   \n",
       "11         11         1.0             2.0                   0.0   \n",
       "12         12         1.0             1.0                   0.0   \n",
       "13         13         1.0             1.0                   0.0   \n",
       "14         14         3.0             1.0                   0.0   \n",
       "15         15         1.0             1.0                   0.0   \n",
       "16         16         2.0             1.0                   0.0   \n",
       "17         17         1.0             1.0                   0.0   \n",
       "18         18         1.0             2.0                   0.0   \n",
       "19         19         2.0             2.0                   0.0   \n",
       "\n",
       "    contact_avoidance  bought_face_mask  wash_hands_frequently  \\\n",
       "0                 0.0               0.0                    0.0   \n",
       "1                 1.0               0.0                    1.0   \n",
       "2                 1.0               0.0                    0.0   \n",
       "3                 1.0               0.0                    1.0   \n",
       "4                 1.0               0.0                    1.0   \n",
       "5                 1.0               0.0                    1.0   \n",
       "6                 0.0               0.0                    0.0   \n",
       "7                 1.0               0.0                    1.0   \n",
       "8                 1.0               0.0                    1.0   \n",
       "9                 1.0               0.0                    0.0   \n",
       "10                1.0               0.0                    1.0   \n",
       "11                1.0               0.0                    1.0   \n",
       "12                1.0               0.0                    1.0   \n",
       "13                1.0               0.0                    1.0   \n",
       "14                1.0               0.0                    1.0   \n",
       "15                1.0               0.0                    0.0   \n",
       "16                1.0               0.0                    1.0   \n",
       "17                0.0               0.0                    1.0   \n",
       "18                1.0               0.0                    1.0   \n",
       "19                0.0               0.0                    1.0   \n",
       "\n",
       "    avoid_large_gatherings  reduced_outside_home_cont  avoid_touch_face  \\\n",
       "0                      0.0                        1.0               1.0   \n",
       "1                      0.0                        1.0               1.0   \n",
       "2                      0.0                        0.0               0.0   \n",
       "3                      1.0                        0.0               0.0   \n",
       "4                      1.0                        0.0               1.0   \n",
       "5                      0.0                        0.0               1.0   \n",
       "6                      0.0                        0.0               0.0   \n",
       "7                      0.0                        0.0               1.0   \n",
       "8                      1.0                        1.0               1.0   \n",
       "9                      1.0                        0.0               1.0   \n",
       "10                     1.0                        0.0               0.0   \n",
       "11                     0.0                        0.0               0.0   \n",
       "12                     1.0                        0.0               1.0   \n",
       "13                     0.0                        0.0               1.0   \n",
       "14                     0.0                        1.0               1.0   \n",
       "15                     0.0                        0.0               0.0   \n",
       "16                     1.0                        1.0               1.0   \n",
       "17                     1.0                        0.0               1.0   \n",
       "18                     0.0                        0.0               1.0   \n",
       "19                     0.0                        1.0               1.0   \n",
       "\n",
       "    dr_recc_h1n1_vacc  dr_recc_seasonal_vacc  chronic_medic_condition  \\\n",
       "0            0.000000               0.000000                      0.0   \n",
       "1            0.000000               0.000000                      0.0   \n",
       "2            0.220312               0.329735                      1.0   \n",
       "3            0.000000               1.000000                      1.0   \n",
       "4            0.000000               0.000000                      0.0   \n",
       "5            0.000000               1.000000                      0.0   \n",
       "6            0.000000               0.000000                      0.0   \n",
       "7            1.000000               0.000000                      1.0   \n",
       "8            0.000000               0.000000                      0.0   \n",
       "9            0.000000               0.000000                      1.0   \n",
       "10           0.000000               0.000000                      1.0   \n",
       "11           0.000000               0.000000                      0.0   \n",
       "12           0.000000               1.000000                      0.0   \n",
       "13           0.000000               0.000000                      1.0   \n",
       "14           0.000000               0.000000                      0.0   \n",
       "15           0.000000               1.000000                      0.0   \n",
       "16           1.000000               1.000000                      1.0   \n",
       "17           1.000000               1.000000                      0.0   \n",
       "18           1.000000               1.000000                      0.0   \n",
       "19           0.000000               0.000000                      0.0   \n",
       "\n",
       "    cont_child_undr_6_mnths  is_health_worker  has_health_insur  \\\n",
       "0                       0.0               0.0           1.00000   \n",
       "1                       0.0               0.0           1.00000   \n",
       "2                       0.0               0.0           0.87972   \n",
       "3                       0.0               0.0           0.87972   \n",
       "4                       0.0               0.0           0.87972   \n",
       "5                       0.0               0.0           0.87972   \n",
       "6                       0.0               0.0           0.87972   \n",
       "7                       0.0               0.0           1.00000   \n",
       "8                       0.0               0.0           0.87972   \n",
       "9                       0.0               0.0           1.00000   \n",
       "10                      1.0               0.0           0.00000   \n",
       "11                      0.0               0.0           1.00000   \n",
       "12                      0.0               0.0           1.00000   \n",
       "13                      1.0               0.0           0.87972   \n",
       "14                      0.0               0.0           1.00000   \n",
       "15                      0.0               0.0           1.00000   \n",
       "16                      0.0               0.0           1.00000   \n",
       "17                      0.0               0.0           0.00000   \n",
       "18                      0.0               0.0           0.87972   \n",
       "19                      0.0               0.0           1.00000   \n",
       "\n",
       "    is_h1n1_vacc_effective  is_h1n1_risky  sick_from_h1n1_vacc  \\\n",
       "0                      3.0            1.0                  2.0   \n",
       "1                      5.0            4.0                  4.0   \n",
       "2                      3.0            1.0                  1.0   \n",
       "3                      3.0            3.0                  5.0   \n",
       "4                      3.0            3.0                  2.0   \n",
       "5                      5.0            2.0                  1.0   \n",
       "6                      4.0            1.0                  1.0   \n",
       "7                      5.0            2.0                  1.0   \n",
       "8                      4.0            1.0                  1.0   \n",
       "9                      4.0            2.0                  2.0   \n",
       "10                     4.0            1.0                  2.0   \n",
       "11                     3.0            2.0                  2.0   \n",
       "12                     3.0            2.0                  1.0   \n",
       "13                     3.0            1.0                  4.0   \n",
       "14                     5.0            4.0                  2.0   \n",
       "15                     4.0            2.0                  2.0   \n",
       "16                     3.0            2.0                  1.0   \n",
       "17                     2.0            2.0                  4.0   \n",
       "18                     5.0            2.0                  2.0   \n",
       "19                     4.0            2.0                  1.0   \n",
       "\n",
       "    is_seas_vacc_effective  is_seas_risky  sick_from_seas_vacc    age_bracket  \\\n",
       "0                      2.0            1.0                  2.0  55 - 64 Years   \n",
       "1                      4.0            2.0                  4.0  35 - 44 Years   \n",
       "2                      4.0            1.0                  2.0  18 - 34 Years   \n",
       "3                      5.0            4.0                  1.0      65+ Years   \n",
       "4                      3.0            1.0                  4.0  45 - 54 Years   \n",
       "5                      5.0            4.0                  4.0      65+ Years   \n",
       "6                      4.0            2.0                  1.0  55 - 64 Years   \n",
       "7                      4.0            2.0                  1.0  45 - 54 Years   \n",
       "8                      4.0            2.0                  1.0  45 - 54 Years   \n",
       "9                      4.0            2.0                  2.0  55 - 64 Years   \n",
       "10                     5.0            4.0                  4.0  45 - 54 Years   \n",
       "11                     4.0            2.0                  1.0  55 - 64 Years   \n",
       "12                     5.0            4.0                  1.0      65+ Years   \n",
       "13                     4.0            2.0                  4.0  35 - 44 Years   \n",
       "14                     4.0            4.0                  2.0  55 - 64 Years   \n",
       "15                     2.0            1.0                  1.0  35 - 44 Years   \n",
       "16                     4.0            4.0                  1.0      65+ Years   \n",
       "17                     4.0            2.0                  1.0  35 - 44 Years   \n",
       "18                     5.0            4.0                  2.0      65+ Years   \n",
       "19                     5.0            2.0                  1.0  55 - 64 Years   \n",
       "\n",
       "       qualification   race     sex               income_level marital_status  \\\n",
       "0         < 12 Years  White  Female              Below Poverty    Not Married   \n",
       "1           12 Years  White    Male              Below Poverty    Not Married   \n",
       "2   College Graduate  White    Male  <= $75,000, Above Poverty    Not Married   \n",
       "3           12 Years  White  Female              Below Poverty    Not Married   \n",
       "4       Some College  White  Female  <= $75,000, Above Poverty        Married   \n",
       "5           12 Years  White    Male  <= $75,000, Above Poverty        Married   \n",
       "6         < 12 Years  White    Male  <= $75,000, Above Poverty    Not Married   \n",
       "7       Some College  White  Female  <= $75,000, Above Poverty        Married   \n",
       "8   College Graduate  White    Male                  > $75,000        Married   \n",
       "9           12 Years  White    Male  <= $75,000, Above Poverty    Not Married   \n",
       "10          12 Years  White    Male  <= $75,000, Above Poverty        Married   \n",
       "11  College Graduate  White    Male                  > $75,000        Married   \n",
       "12  College Graduate  White    Male  <= $75,000, Above Poverty        Married   \n",
       "13      Some College  White    Male                  > $75,000        Married   \n",
       "14          12 Years  White    Male  <= $75,000, Above Poverty        Married   \n",
       "15  College Graduate  White  Female                  > $75,000        Married   \n",
       "16          12 Years  White  Female  <= $75,000, Above Poverty        Married   \n",
       "17      Some College  White  Female  <= $75,000, Above Poverty    Not Married   \n",
       "18  College Graduate  White    Male                  > $75,000        Married   \n",
       "19      Some College  Black  Female  <= $75,000, Above Poverty        Married   \n",
       "\n",
       "   housing_status          employment                census_msa  no_of_adults  \\\n",
       "0             Own  Not in Labor Force                   Non-MSA           0.0   \n",
       "1            Rent            Employed  MSA, Not Principle  City           0.0   \n",
       "2             Own            Employed  MSA, Not Principle  City           2.0   \n",
       "3            Rent  Not in Labor Force       MSA, Principle City           0.0   \n",
       "4             Own            Employed  MSA, Not Principle  City           1.0   \n",
       "5             Own            Employed       MSA, Principle City           2.0   \n",
       "6             Own            Employed  MSA, Not Principle  City           0.0   \n",
       "7             Own            Employed                   Non-MSA           2.0   \n",
       "8             Own            Employed  MSA, Not Principle  City           1.0   \n",
       "9             Own  Not in Labor Force  MSA, Not Principle  City           0.0   \n",
       "10           Rent            Employed  MSA, Not Principle  City           2.0   \n",
       "11            Own            Employed                   Non-MSA           1.0   \n",
       "12            Own  Not in Labor Force  MSA, Not Principle  City           1.0   \n",
       "13            Own            Employed  MSA, Not Principle  City           1.0   \n",
       "14            Own  Not in Labor Force  MSA, Not Principle  City           1.0   \n",
       "15            Own            Employed  MSA, Not Principle  City           1.0   \n",
       "16            Own  Not in Labor Force       MSA, Principle City           0.0   \n",
       "17            Own            Employed  MSA, Not Principle  City           1.0   \n",
       "18            Own            Employed                   Non-MSA           2.0   \n",
       "19            Own  Not in Labor Force  MSA, Not Principle  City           1.0   \n",
       "\n",
       "    no_of_children  h1n1_vaccine  \n",
       "0              0.0             0  \n",
       "1              0.0             0  \n",
       "2              0.0             0  \n",
       "3              0.0             0  \n",
       "4              0.0             0  \n",
       "5              3.0             0  \n",
       "6              0.0             0  \n",
       "7              0.0             1  \n",
       "8              0.0             0  \n",
       "9              0.0             0  \n",
       "10             0.0             1  \n",
       "11             2.0             1  \n",
       "12             0.0             0  \n",
       "13             2.0             0  \n",
       "14             0.0             0  \n",
       "15             3.0             0  \n",
       "16             0.0             1  \n",
       "17             0.0             0  \n",
       "18             0.0             0  \n",
       "19             0.0             0  "
      ]
     },
     "execution_count": 86,
     "metadata": {},
     "output_type": "execute_result"
    }
   ],
   "source": [
    "df.head(20)"
   ]
  },
  {
   "cell_type": "code",
   "execution_count": 87,
   "id": "862ed8a4",
   "metadata": {},
   "outputs": [],
   "source": [
    "dummies=pd.get_dummies(df[['race','sex','marital_status','housing_status','employment','census_msa','age_bracket','qualification','income_level']])\n",
    "df=pd.concat([df,dummies],axis=1)"
   ]
  },
  {
   "cell_type": "code",
   "execution_count": 88,
   "id": "94e70549",
   "metadata": {},
   "outputs": [],
   "source": [
    "columns=['race','sex','marital_status','housing_status','employment','census_msa','age_bracket','qualification','income_level']\n",
    "df.drop(columns,axis=1,inplace=True)"
   ]
  },
  {
   "cell_type": "code",
   "execution_count": 89,
   "id": "4a3f56d8",
   "metadata": {},
   "outputs": [
    {
     "name": "stdout",
     "output_type": "stream",
     "text": [
      "<class 'pandas.core.frame.DataFrame'>\n",
      "RangeIndex: 26707 entries, 0 to 26706\n",
      "Data columns (total 53 columns):\n",
      " #   Column                                  Non-Null Count  Dtype  \n",
      "---  ------                                  --------------  -----  \n",
      " 0   unique_id                               26707 non-null  int64  \n",
      " 1   h1n1_worry                              26707 non-null  float64\n",
      " 2   h1n1_awareness                          26707 non-null  float64\n",
      " 3   antiviral_medication                    26707 non-null  float64\n",
      " 4   contact_avoidance                       26707 non-null  float64\n",
      " 5   bought_face_mask                        26707 non-null  float64\n",
      " 6   wash_hands_frequently                   26707 non-null  float64\n",
      " 7   avoid_large_gatherings                  26707 non-null  float64\n",
      " 8   reduced_outside_home_cont               26707 non-null  float64\n",
      " 9   avoid_touch_face                        26707 non-null  float64\n",
      " 10  dr_recc_h1n1_vacc                       26707 non-null  float64\n",
      " 11  dr_recc_seasonal_vacc                   26707 non-null  float64\n",
      " 12  chronic_medic_condition                 26707 non-null  float64\n",
      " 13  cont_child_undr_6_mnths                 26707 non-null  float64\n",
      " 14  is_health_worker                        26707 non-null  float64\n",
      " 15  has_health_insur                        26707 non-null  float64\n",
      " 16  is_h1n1_vacc_effective                  26707 non-null  float64\n",
      " 17  is_h1n1_risky                           26707 non-null  float64\n",
      " 18  sick_from_h1n1_vacc                     26707 non-null  float64\n",
      " 19  is_seas_vacc_effective                  26707 non-null  float64\n",
      " 20  is_seas_risky                           26707 non-null  float64\n",
      " 21  sick_from_seas_vacc                     26707 non-null  float64\n",
      " 22  no_of_adults                            26707 non-null  float64\n",
      " 23  no_of_children                          26707 non-null  float64\n",
      " 24  h1n1_vaccine                            26707 non-null  int64  \n",
      " 25  race_Black                              26707 non-null  uint8  \n",
      " 26  race_Hispanic                           26707 non-null  uint8  \n",
      " 27  race_Other or Multiple                  26707 non-null  uint8  \n",
      " 28  race_White                              26707 non-null  uint8  \n",
      " 29  sex_Female                              26707 non-null  uint8  \n",
      " 30  sex_Male                                26707 non-null  uint8  \n",
      " 31  marital_status_Married                  26707 non-null  uint8  \n",
      " 32  marital_status_Not Married              26707 non-null  uint8  \n",
      " 33  housing_status_Own                      26707 non-null  uint8  \n",
      " 34  housing_status_Rent                     26707 non-null  uint8  \n",
      " 35  employment_Employed                     26707 non-null  uint8  \n",
      " 36  employment_Not in Labor Force           26707 non-null  uint8  \n",
      " 37  employment_Unemployed                   26707 non-null  uint8  \n",
      " 38  census_msa_MSA, Not Principle  City     26707 non-null  uint8  \n",
      " 39  census_msa_MSA, Principle City          26707 non-null  uint8  \n",
      " 40  census_msa_Non-MSA                      26707 non-null  uint8  \n",
      " 41  age_bracket_18 - 34 Years               26707 non-null  uint8  \n",
      " 42  age_bracket_35 - 44 Years               26707 non-null  uint8  \n",
      " 43  age_bracket_45 - 54 Years               26707 non-null  uint8  \n",
      " 44  age_bracket_55 - 64 Years               26707 non-null  uint8  \n",
      " 45  age_bracket_65+ Years                   26707 non-null  uint8  \n",
      " 46  qualification_12 Years                  26707 non-null  uint8  \n",
      " 47  qualification_< 12 Years                26707 non-null  uint8  \n",
      " 48  qualification_College Graduate          26707 non-null  uint8  \n",
      " 49  qualification_Some College              26707 non-null  uint8  \n",
      " 50  income_level_<= $75,000, Above Poverty  26707 non-null  uint8  \n",
      " 51  income_level_> $75,000                  26707 non-null  uint8  \n",
      " 52  income_level_Below Poverty              26707 non-null  uint8  \n",
      "dtypes: float64(23), int64(2), uint8(28)\n",
      "memory usage: 5.8 MB\n"
     ]
    }
   ],
   "source": [
    "df.info()"
   ]
  },
  {
   "cell_type": "code",
   "execution_count": 90,
   "id": "6f5fdfd0",
   "metadata": {},
   "outputs": [
    {
     "data": {
      "text/plain": [
       "unique_id                                 0\n",
       "h1n1_worry                                0\n",
       "h1n1_awareness                            0\n",
       "antiviral_medication                      0\n",
       "contact_avoidance                         0\n",
       "bought_face_mask                          0\n",
       "wash_hands_frequently                     0\n",
       "avoid_large_gatherings                    0\n",
       "reduced_outside_home_cont                 0\n",
       "avoid_touch_face                          0\n",
       "dr_recc_h1n1_vacc                         0\n",
       "dr_recc_seasonal_vacc                     0\n",
       "chronic_medic_condition                   0\n",
       "cont_child_undr_6_mnths                   0\n",
       "is_health_worker                          0\n",
       "has_health_insur                          0\n",
       "is_h1n1_vacc_effective                    0\n",
       "is_h1n1_risky                             0\n",
       "sick_from_h1n1_vacc                       0\n",
       "is_seas_vacc_effective                    0\n",
       "is_seas_risky                             0\n",
       "sick_from_seas_vacc                       0\n",
       "no_of_adults                              0\n",
       "no_of_children                            0\n",
       "h1n1_vaccine                              0\n",
       "race_Black                                0\n",
       "race_Hispanic                             0\n",
       "race_Other or Multiple                    0\n",
       "race_White                                0\n",
       "sex_Female                                0\n",
       "sex_Male                                  0\n",
       "marital_status_Married                    0\n",
       "marital_status_Not Married                0\n",
       "housing_status_Own                        0\n",
       "housing_status_Rent                       0\n",
       "employment_Employed                       0\n",
       "employment_Not in Labor Force             0\n",
       "employment_Unemployed                     0\n",
       "census_msa_MSA, Not Principle  City       0\n",
       "census_msa_MSA, Principle City            0\n",
       "census_msa_Non-MSA                        0\n",
       "age_bracket_18 - 34 Years                 0\n",
       "age_bracket_35 - 44 Years                 0\n",
       "age_bracket_45 - 54 Years                 0\n",
       "age_bracket_55 - 64 Years                 0\n",
       "age_bracket_65+ Years                     0\n",
       "qualification_12 Years                    0\n",
       "qualification_< 12 Years                  0\n",
       "qualification_College Graduate            0\n",
       "qualification_Some College                0\n",
       "income_level_<= $75,000, Above Poverty    0\n",
       "income_level_> $75,000                    0\n",
       "income_level_Below Poverty                0\n",
       "dtype: int64"
      ]
     },
     "execution_count": 90,
     "metadata": {},
     "output_type": "execute_result"
    }
   ],
   "source": [
    "df.isnull().sum()"
   ]
  },
  {
   "cell_type": "code",
   "execution_count": 91,
   "id": "887a980d",
   "metadata": {},
   "outputs": [],
   "source": [
    "def remove_outlier(col):\n",
    "    sorted(col)\n",
    "    Q1,Q3=col.quantile([0.25,0.75])\n",
    "    IQR=Q3-Q1\n",
    "    lower_range=Q1-(1.5*IQR)\n",
    "    upper_range=Q3+(1.5*IQR)\n",
    "    return lower_range,upper_range"
   ]
  },
  {
   "cell_type": "code",
   "execution_count": 92,
   "id": "13b3caf9",
   "metadata": {},
   "outputs": [],
   "source": [
    "lowlotfrontage,upplotfrontage=remove_outlier(df['antiviral_medication'])\n",
    "df[\"antiviral_medication\"]=np.where(df['antiviral_medication']>upplotfrontage,upplotfrontage,df['antiviral_medication'])\n",
    "df[\"antiviral_medication\"]=np.where(df['antiviral_medication']<lowlotfrontage,lowlotfrontage,df['antiviral_medication'])"
   ]
  },
  {
   "cell_type": "code",
   "execution_count": 93,
   "id": "fc2a19cc",
   "metadata": {},
   "outputs": [
    {
     "data": {
      "image/png": "[encoded data removed]",
      "text/plain": [
       "<Figure size 432x288 with 1 Axes>"
      ]
     },
     "metadata": {
      "needs_background": "light"
     },
     "output_type": "display_data"
    }
   ],
   "source": [
    "df.boxplot(column=[\"antiviral_medication\"])\n",
    "plt.show()"
   ]
  },
  {
   "cell_type": "code",
   "execution_count": 94,
   "id": "72ea17e2",
   "metadata": {},
   "outputs": [],
   "source": [
    "lowlotfrontage,upplotfrontage=remove_outlier(df['bought_face_mask'])\n",
    "df[\"bought_face_mask\"]=np.where(df['bought_face_mask']>upplotfrontage,upplotfrontage,df['bought_face_mask'])\n",
    "df[\"bought_face_mask\"]=np.where(df['bought_face_mask']<lowlotfrontage,lowlotfrontage,df['bought_face_mask'])\n",
    "\n",
    "\n",
    "\n",
    "\n",
    "\n",
    "\n",
    "\n",
    "\n",
    "\n"
   ]
  },
  {
   "cell_type": "code",
   "execution_count": 95,
   "id": "a7040183",
   "metadata": {},
   "outputs": [
    {
     "data": {
      "image/png": "[encoded data removed]",
      "text/plain": [
       "<Figure size 432x288 with 1 Axes>"
      ]
     },
     "metadata": {
      "needs_background": "light"
     },
     "output_type": "display_data"
    }
   ],
   "source": [
    "df.boxplot(column=[\"bought_face_mask\"])\n",
    "plt.show()"
   ]
  },
  {
   "cell_type": "code",
   "execution_count": 96,
   "id": "7b325d43",
   "metadata": {},
   "outputs": [],
   "source": [
    "lowlotfrontage,upplotfrontage=remove_outlier(df['wash_hands_frequently'])\n",
    "df[\"wash_hands_frequently\"]=np.where(df['wash_hands_frequently']>upplotfrontage,upplotfrontage,df['wash_hands_frequently'])\n",
    "df[\"wash_hands_frequently\"]=np.where(df['wash_hands_frequently']<lowlotfrontage,lowlotfrontage,df['wash_hands_frequently'])"
   ]
  },
  {
   "cell_type": "code",
   "execution_count": 97,
   "id": "bc6bf720",
   "metadata": {},
   "outputs": [
    {
     "data": {
      "image/png": "[encoded data removed]",
      "text/plain": [
       "<Figure size 432x288 with 1 Axes>"
      ]
     },
     "metadata": {
      "needs_background": "light"
     },
     "output_type": "display_data"
    }
   ],
   "source": [
    "df.boxplot(column=[\"wash_hands_frequently\"])\n",
    "plt.show()"
   ]
  },
  {
   "cell_type": "code",
   "execution_count": 98,
   "id": "e9a1d462",
   "metadata": {},
   "outputs": [],
   "source": [
    "lowlotfrontage,upplotfrontage=remove_outlier(df['dr_recc_h1n1_vacc'])\n",
    "df[\"dr_recc_h1n1_vacc\"]=np.where(df['dr_recc_h1n1_vacc']>upplotfrontage,upplotfrontage,df['dr_recc_h1n1_vacc'])\n",
    "df[\"dr_recc_h1n1_vacc\"]=np.where(df['dr_recc_h1n1_vacc']<lowlotfrontage,lowlotfrontage,df['dr_recc_h1n1_vacc'])"
   ]
  },
  {
   "cell_type": "code",
   "execution_count": 99,
   "id": "8fc7f623",
   "metadata": {},
   "outputs": [
    {
     "data": {
      "image/png": "[encoded data removed]",
      "text/plain": [
       "<Figure size 432x288 with 1 Axes>"
      ]
     },
     "metadata": {
      "needs_background": "light"
     },
     "output_type": "display_data"
    }
   ],
   "source": [
    "df.boxplot(column=[\"dr_recc_h1n1_vacc\"])\n",
    "plt.show()"
   ]
  },
  {
   "cell_type": "code",
   "execution_count": 100,
   "id": "e14d7265",
   "metadata": {},
   "outputs": [],
   "source": [
    "lowlotfrontage,upplotfrontage=remove_outlier(df['cont_child_undr_6_mnths'])\n",
    "df[\"cont_child_undr_6_mnths\"]=np.where(df['cont_child_undr_6_mnths']>upplotfrontage,upplotfrontage,df['cont_child_undr_6_mnths'])\n",
    "df[\"cont_child_undr_6_mnths\"]=np.where(df['cont_child_undr_6_mnths']<lowlotfrontage,lowlotfrontage,df['cont_child_undr_6_mnths'])"
   ]
  },
  {
   "cell_type": "code",
   "execution_count": 101,
   "id": "013a4e40",
   "metadata": {},
   "outputs": [
    {
     "data": {
      "image/png": "[encoded data removed]",
      "text/plain": [
       "<Figure size 432x288 with 1 Axes>"
      ]
     },
     "metadata": {
      "needs_background": "light"
     },
     "output_type": "display_data"
    }
   ],
   "source": [
    "df.boxplot(column=[\"cont_child_undr_6_mnths\"])\n",
    "plt.show()"
   ]
  },
  {
   "cell_type": "code",
   "execution_count": 102,
   "id": "713c6296",
   "metadata": {},
   "outputs": [],
   "source": [
    "lowlotfrontage,upplotfrontage=remove_outlier(df['is_health_worker'])\n",
    "df[\"is_health_worker\"]=np.where(df['is_health_worker']>upplotfrontage,upplotfrontage,df['is_health_worker'])\n",
    "df[\"is_health_worker\"]=np.where(df['is_health_worker']<lowlotfrontage,lowlotfrontage,df['is_health_worker'])"
   ]
  },
  {
   "cell_type": "code",
   "execution_count": 103,
   "id": "f931db24",
   "metadata": {},
   "outputs": [
    {
     "data": {
      "image/png": "[encoded data removed]",
      "text/plain": [
       "<Figure size 432x288 with 1 Axes>"
      ]
     },
     "metadata": {
      "needs_background": "light"
     },
     "output_type": "display_data"
    }
   ],
   "source": [
    "df.boxplot(column=[\"is_health_worker\"])\n",
    "plt.show()"
   ]
  },
  {
   "cell_type": "code",
   "execution_count": 104,
   "id": "22539bd6",
   "metadata": {},
   "outputs": [],
   "source": [
    "lowlotfrontage,upplotfrontage=remove_outlier(df['has_health_insur'])\n",
    "df[\"has_health_insur\"]=np.where(df['has_health_insur']>upplotfrontage,upplotfrontage,df['has_health_insur'])\n",
    "df[\"has_health_insur\"]=np.where(df['has_health_insur']<lowlotfrontage,lowlotfrontage,df['has_health_insur'])"
   ]
  },
  {
   "cell_type": "code",
   "execution_count": 105,
   "id": "86b48fea",
   "metadata": {},
   "outputs": [
    {
     "data": {
      "image/png": "[encoded data removed]",
      "text/plain": [
       "<Figure size 432x288 with 1 Axes>"
      ]
     },
     "metadata": {
      "needs_background": "light"
     },
     "output_type": "display_data"
    }
   ],
   "source": [
    "df.boxplot(column=[\"has_health_insur\"])\n",
    "plt.show()"
   ]
  },
  {
   "cell_type": "code",
   "execution_count": 106,
   "id": "9b93b7e9",
   "metadata": {},
   "outputs": [],
   "source": [
    "lowlotfrontage,upplotfrontage=remove_outlier(df['is_seas_vacc_effective'])\n",
    "df[\"is_seas_vacc_effective\"]=np.where(df['is_seas_vacc_effective']>upplotfrontage,upplotfrontage,df['is_seas_vacc_effective'])\n",
    "df[\"is_seas_vacc_effective\"]=np.where(df['is_seas_vacc_effective']<lowlotfrontage,lowlotfrontage,df['is_seas_vacc_effective'])"
   ]
  },
  {
   "cell_type": "code",
   "execution_count": 107,
   "id": "582eb2af",
   "metadata": {},
   "outputs": [
    {
     "data": {
      "image/png": "[encoded data removed]",
      "text/plain": [
       "<Figure size 432x288 with 1 Axes>"
      ]
     },
     "metadata": {
      "needs_background": "light"
     },
     "output_type": "display_data"
    }
   ],
   "source": [
    "df.boxplot(column=[\"is_seas_vacc_effective\"])\n",
    "plt.show()"
   ]
  },
  {
   "cell_type": "code",
   "execution_count": 108,
   "id": "9d2282e7",
   "metadata": {},
   "outputs": [],
   "source": [
    "lowlotfrontage,upplotfrontage=remove_outlier(df['sick_from_seas_vacc'])\n",
    "df[\"sick_from_seas_vacc\"]=np.where(df['sick_from_seas_vacc']>upplotfrontage,upplotfrontage,df['sick_from_seas_vacc'])\n",
    "df[\"sick_from_seas_vacc\"]=np.where(df['sick_from_seas_vacc']<lowlotfrontage,lowlotfrontage,df['sick_from_seas_vacc'])"
   ]
  },
  {
   "cell_type": "code",
   "execution_count": 109,
   "id": "e0dbbe36",
   "metadata": {},
   "outputs": [
    {
     "data": {
      "image/png": "[encoded data removed]",
      "text/plain": [
       "<Figure size 432x288 with 1 Axes>"
      ]
     },
     "metadata": {
      "needs_background": "light"
     },
     "output_type": "display_data"
    }
   ],
   "source": [
    "df.boxplot(column=[\"sick_from_seas_vacc\"])\n",
    "plt.show()"
   ]
  },
  {
   "cell_type": "code",
   "execution_count": 110,
   "id": "3973a42c",
   "metadata": {},
   "outputs": [],
   "source": [
    "lowlotfrontage,upplotfrontage=remove_outlier(df['no_of_adults'])\n",
    "df[\"no_of_adults\"]=np.where(df['no_of_adults']>upplotfrontage,upplotfrontage,df['no_of_adults'])\n",
    "df[\"no_of_adults\"]=np.where(df['no_of_adults']<lowlotfrontage,lowlotfrontage,df['no_of_adults'])"
   ]
  },
  {
   "cell_type": "code",
   "execution_count": 111,
   "id": "f8ef4f83",
   "metadata": {},
   "outputs": [
    {
     "data": {
      "image/png": "[encoded data removed]",
      "text/plain": [
       "<Figure size 432x288 with 1 Axes>"
      ]
     },
     "metadata": {
      "needs_background": "light"
     },
     "output_type": "display_data"
    }
   ],
   "source": [
    "df.boxplot(column=[\"no_of_adults\"])\n",
    "plt.show()"
   ]
  },
  {
   "cell_type": "code",
   "execution_count": 112,
   "id": "a4ca602a",
   "metadata": {},
   "outputs": [],
   "source": [
    "lowlotfrontage,upplotfrontage=remove_outlier(df['no_of_children'])\n",
    "df[\"no_of_children\"]=np.where(df['no_of_children']>upplotfrontage,upplotfrontage,df['no_of_children'])\n",
    "df[\"no_of_children\"]=np.where(df['no_of_children']<lowlotfrontage,lowlotfrontage,df['no_of_children'])"
   ]
  },
  {
   "cell_type": "code",
   "execution_count": 113,
   "id": "73af77a3",
   "metadata": {},
   "outputs": [
    {
     "data": {
      "image/png": "[encoded data removed]",
      "text/plain": [
       "<Figure size 432x288 with 1 Axes>"
      ]
     },
     "metadata": {
      "needs_background": "light"
     },
     "output_type": "display_data"
    }
   ],
   "source": [
    "df.boxplot(column=[\"no_of_children\"])\n",
    "plt.show()"
   ]
  },
  {
   "cell_type": "code",
   "execution_count": null,
   "id": "b89c5e64",
   "metadata": {},
   "outputs": [],
   "source": []
  },
  {
   "cell_type": "code",
   "execution_count": 114,
   "id": "110be3b9",
   "metadata": {},
   "outputs": [
    {
     "data": {
      "image/png": "[encoded data removed]",
      "text/plain": [
       "<Figure size 432x288 with 1 Axes>"
      ]
     },
     "metadata": {
      "needs_background": "light"
     },
     "output_type": "display_data"
    }
   ],
   "source": [
    "df.boxplot(column=[\"race_Black\"])\n",
    "plt.show()"
   ]
  },
  {
   "cell_type": "code",
   "execution_count": 115,
   "id": "8c0892eb",
   "metadata": {},
   "outputs": [],
   "source": [
    "lowlotfrontage,upplotfrontage=remove_outlier(df['race_Hispanic'])\n",
    "df[\"race_Hispanic\"]=np.where(df['race_Hispanic']>upplotfrontage,upplotfrontage,df['race_Hispanic'])\n",
    "df[\"race_Hispanic\"]=np.where(df['race_Hispanic']<lowlotfrontage,lowlotfrontage,df['race_Hispanic'])"
   ]
  },
  {
   "cell_type": "code",
   "execution_count": 116,
   "id": "0f1e0ab1",
   "metadata": {},
   "outputs": [
    {
     "data": {
      "image/png": "[encoded data removed]",
      "text/plain": [
       "<Figure size 432x288 with 1 Axes>"
      ]
     },
     "metadata": {
      "needs_background": "light"
     },
     "output_type": "display_data"
    }
   ],
   "source": [
    "df.boxplot(column=[\"race_Hispanic\"])\n",
    "plt.show()"
   ]
  },
  {
   "cell_type": "code",
   "execution_count": 117,
   "id": "7773aa29",
   "metadata": {},
   "outputs": [],
   "source": [
    "lowlotfrontage,upplotfrontage=remove_outlier(df['race_Other or Multiple'])\n",
    "df[\"race_Other or Multiple\"]=np.where(df['race_Other or Multiple']>upplotfrontage,upplotfrontage,df['race_Other or Multiple'])\n",
    "df[\"race_Other or Multiple\"]=np.where(df['race_Other or Multiple']<lowlotfrontage,lowlotfrontage,df['race_Other or Multiple'])"
   ]
  },
  {
   "cell_type": "code",
   "execution_count": 118,
   "id": "1ddfc2ba",
   "metadata": {},
   "outputs": [
    {
     "data": {
      "image/png": "[encoded data removed]",
      "text/plain": [
       "<Figure size 432x288 with 1 Axes>"
      ]
     },
     "metadata": {
      "needs_background": "light"
     },
     "output_type": "display_data"
    }
   ],
   "source": [
    "df.boxplot(column=[\"race_Other or Multiple\"])\n",
    "plt.show()"
   ]
  },
  {
   "cell_type": "code",
   "execution_count": 119,
   "id": "33b4f77a",
   "metadata": {},
   "outputs": [],
   "source": [
    "lowlotfrontage,upplotfrontage=remove_outlier(df['race_White'])\n",
    "df[\"race_White\"]=np.where(df['race_White']>upplotfrontage,upplotfrontage,df['race_White'])\n",
    "df[\"race_White\"]=np.where(df['race_White']<lowlotfrontage,lowlotfrontage,df['race_White'])"
   ]
  },
  {
   "cell_type": "code",
   "execution_count": 120,
   "id": "73a0e753",
   "metadata": {},
   "outputs": [
    {
     "data": {
      "image/png": "[encoded data removed]",
      "text/plain": [
       "<Figure size 432x288 with 1 Axes>"
      ]
     },
     "metadata": {
      "needs_background": "light"
     },
     "output_type": "display_data"
    }
   ],
   "source": [
    "df.boxplot(column=[\"race_White\"])\n",
    "plt.show()"
   ]
  },
  {
   "cell_type": "code",
   "execution_count": 121,
   "id": "47ed69da",
   "metadata": {},
   "outputs": [],
   "source": [
    "lowlotfrontage,upplotfrontage=remove_outlier(df['housing_status_Own'])\n",
    "df[\"housing_status_Own\"]=np.where(df['housing_status_Own']>upplotfrontage,upplotfrontage,df['housing_status_Own'])\n",
    "df[\"housing_status_Own\"]=np.where(df['housing_status_Own']<lowlotfrontage,lowlotfrontage,df['housing_status_Own'])"
   ]
  },
  {
   "cell_type": "code",
   "execution_count": 122,
   "id": "ff26ced4",
   "metadata": {},
   "outputs": [
    {
     "data": {
      "image/png": "[encoded data removed]",
      "text/plain": [
       "<Figure size 432x288 with 1 Axes>"
      ]
     },
     "metadata": {
      "needs_background": "light"
     },
     "output_type": "display_data"
    }
   ],
   "source": [
    "df.boxplot(column=[\"housing_status_Own\"])\n",
    "plt.show()"
   ]
  },
  {
   "cell_type": "code",
   "execution_count": 123,
   "id": "c53ca13d",
   "metadata": {},
   "outputs": [],
   "source": [
    "lowlotfrontage,upplotfrontage=remove_outlier(df['housing_status_Rent'])\n",
    "df[\"housing_status_Rent\"]=np.where(df['housing_status_Rent']>upplotfrontage,upplotfrontage,df['housing_status_Rent'])\n",
    "df[\"housing_status_Rent\"]=np.where(df['housing_status_Rent']<lowlotfrontage,lowlotfrontage,df['housing_status_Rent'])"
   ]
  },
  {
   "cell_type": "code",
   "execution_count": 124,
   "id": "635cbf01",
   "metadata": {},
   "outputs": [
    {
     "data": {
      "image/png": "[encoded data removed]",
      "text/plain": [
       "<Figure size 432x288 with 1 Axes>"
      ]
     },
     "metadata": {
      "needs_background": "light"
     },
     "output_type": "display_data"
    }
   ],
   "source": [
    "df.boxplot(column=[\"housing_status_Rent\"])\n",
    "plt.show()"
   ]
  },
  {
   "cell_type": "code",
   "execution_count": 125,
   "id": "038cc5b2",
   "metadata": {},
   "outputs": [],
   "source": [
    "lowlotfrontage,upplotfrontage=remove_outlier(df['employment_Unemployed'])\n",
    "df[\"employment_Unemployed\"]=np.where(df['employment_Unemployed']>upplotfrontage,upplotfrontage,df['employment_Unemployed'])\n",
    "df[\"employment_Unemployed\"]=np.where(df['employment_Unemployed']<lowlotfrontage,lowlotfrontage,df['employment_Unemployed'])"
   ]
  },
  {
   "cell_type": "code",
   "execution_count": 126,
   "id": "ddb9d263",
   "metadata": {},
   "outputs": [
    {
     "data": {
      "image/png": "[encoded data removed]",
      "text/plain": [
       "<Figure size 432x288 with 1 Axes>"
      ]
     },
     "metadata": {
      "needs_background": "light"
     },
     "output_type": "display_data"
    }
   ],
   "source": [
    "df.boxplot(column=[\"employment_Unemployed\"])\n",
    "plt.show()"
   ]
  },
  {
   "cell_type": "code",
   "execution_count": 127,
   "id": "e29bbeae",
   "metadata": {},
   "outputs": [
    {
     "data": {
      "text/plain": [
       "unique_id                                 0\n",
       "h1n1_worry                                0\n",
       "h1n1_awareness                            0\n",
       "antiviral_medication                      0\n",
       "contact_avoidance                         0\n",
       "bought_face_mask                          0\n",
       "wash_hands_frequently                     0\n",
       "avoid_large_gatherings                    0\n",
       "reduced_outside_home_cont                 0\n",
       "avoid_touch_face                          0\n",
       "dr_recc_h1n1_vacc                         0\n",
       "dr_recc_seasonal_vacc                     0\n",
       "chronic_medic_condition                   0\n",
       "cont_child_undr_6_mnths                   0\n",
       "is_health_worker                          0\n",
       "has_health_insur                          0\n",
       "is_h1n1_vacc_effective                    0\n",
       "is_h1n1_risky                             0\n",
       "sick_from_h1n1_vacc                       0\n",
       "is_seas_vacc_effective                    0\n",
       "is_seas_risky                             0\n",
       "sick_from_seas_vacc                       0\n",
       "no_of_adults                              0\n",
       "no_of_children                            0\n",
       "h1n1_vaccine                              0\n",
       "race_Black                                0\n",
       "race_Hispanic                             0\n",
       "race_Other or Multiple                    0\n",
       "race_White                                0\n",
       "sex_Female                                0\n",
       "sex_Male                                  0\n",
       "marital_status_Married                    0\n",
       "marital_status_Not Married                0\n",
       "housing_status_Own                        0\n",
       "housing_status_Rent                       0\n",
       "employment_Employed                       0\n",
       "employment_Not in Labor Force             0\n",
       "employment_Unemployed                     0\n",
       "census_msa_MSA, Not Principle  City       0\n",
       "census_msa_MSA, Principle City            0\n",
       "census_msa_Non-MSA                        0\n",
       "age_bracket_18 - 34 Years                 0\n",
       "age_bracket_35 - 44 Years                 0\n",
       "age_bracket_45 - 54 Years                 0\n",
       "age_bracket_55 - 64 Years                 0\n",
       "age_bracket_65+ Years                     0\n",
       "qualification_12 Years                    0\n",
       "qualification_< 12 Years                  0\n",
       "qualification_College Graduate            0\n",
       "qualification_Some College                0\n",
       "income_level_<= $75,000, Above Poverty    0\n",
       "income_level_> $75,000                    0\n",
       "income_level_Below Poverty                0\n",
       "dtype: int64"
      ]
     },
     "execution_count": 127,
     "metadata": {},
     "output_type": "execute_result"
    }
   ],
   "source": [
    "df.isnull().sum()"
   ]
  },
  {
   "cell_type": "markdown",
   "id": "d8dfa062",
   "metadata": {},
   "source": [
    "# logistic regression"
   ]
  },
  {
   "cell_type": "code",
   "execution_count": 128,
   "id": "a0907560",
   "metadata": {},
   "outputs": [],
   "source": [
    "x=df.drop(['h1n1_vaccine'],axis=1)\n",
    "y=df[['h1n1_vaccine']]"
   ]
  },
  {
   "cell_type": "code",
   "execution_count": 129,
   "id": "45bcc44e",
   "metadata": {},
   "outputs": [],
   "source": [
    "x_train,x_test,y_train,y_test = train_test_split(x, y,train_size=0.7,test_size=0.3,random_state=1)"
   ]
  },
  {
   "cell_type": "code",
   "execution_count": 130,
   "id": "3f218b2e",
   "metadata": {},
   "outputs": [
    {
     "name": "stderr",
     "output_type": "stream",
     "text": [
      "C:\\Users\\91709\\anaconda3\\lib\\site-packages\\sklearn\\utils\\validation.py:63: DataConversionWarning: A column-vector y was passed when a 1d array was expected. Please change the shape of y to (n_samples, ), for example using ravel().\n",
      "  return f(*args, **kwargs)\n"
     ]
    },
    {
     "data": {
      "text/plain": [
       "LogisticRegression()"
      ]
     },
     "execution_count": 130,
     "metadata": {},
     "output_type": "execute_result"
    }
   ],
   "source": [
    "reg=LogisticRegression()\n",
    "reg.fit(x_train,y_train)"
   ]
  },
  {
   "cell_type": "code",
   "execution_count": 131,
   "id": "4e0e5d85",
   "metadata": {},
   "outputs": [
    {
     "data": {
      "text/plain": [
       "0.7899860917941586"
      ]
     },
     "execution_count": 131,
     "metadata": {},
     "output_type": "execute_result"
    }
   ],
   "source": [
    "reg.score(x_train,y_train)"
   ]
  },
  {
   "cell_type": "code",
   "execution_count": 132,
   "id": "813700e3",
   "metadata": {},
   "outputs": [
    {
     "data": {
      "text/plain": [
       "0.7945838013228503"
      ]
     },
     "execution_count": 132,
     "metadata": {},
     "output_type": "execute_result"
    }
   ],
   "source": [
    "reg.score(x_test,y_test)"
   ]
  },
  {
   "cell_type": "code",
   "execution_count": 135,
   "id": "a6c96264",
   "metadata": {},
   "outputs": [],
   "source": [
    "# firt Creating model with all the features\n",
    "x = df.drop(['h1n1_vaccine'],axis=1)\n",
    "y= df['h1n1_vaccine']\n",
    "x_train, x_test,y_train,y_test = train_test_split(x,y,test_size = 0.20, random_state=1)\n",
    "sc = StandardScaler()\n",
    "x_train = sc.fit_transform(x_train)\n",
    "x_test = sc.transform(x_test)\n",
    "model = LogisticRegression()\n",
    "model.fit(x_train,y_train)\n",
    "y_pred= model.predict(x_test)"
   ]
  },
  {
   "cell_type": "code",
   "execution_count": 136,
   "id": "e2280cd8",
   "metadata": {},
   "outputs": [],
   "source": [
    "# Creating Function for viewing Result of the predicted\n",
    "def res(y_valid):\n",
    "    cm1 = confusion_matrix(y_test,y_valid)\n",
    "    ConfusionMatrixDisplay(cm1).plot().ax_.set(ylabel = 'Actual value', xlabel ='Predicted value')\n",
    "    print('Accuracy',accuracy_score(y_test,y_valid))\n",
    "    print(classification_report(y_test,y_valid))\n",
    "    plt.show()"
   ]
  },
  {
   "cell_type": "code",
   "execution_count": 137,
   "id": "1850501d",
   "metadata": {},
   "outputs": [
    {
     "name": "stdout",
     "output_type": "stream",
     "text": [
      "Accuracy 0.8436915013103706\n",
      "              precision    recall  f1-score   support\n",
      "\n",
      "           0       0.86      0.95      0.91      4220\n",
      "           1       0.71      0.43      0.54      1122\n",
      "\n",
      "    accuracy                           0.84      5342\n",
      "   macro avg       0.79      0.69      0.72      5342\n",
      "weighted avg       0.83      0.84      0.83      5342\n",
      "\n"
     ]
    },
    {
     "data": {
      "image/png": "[encoded data removed]",
      "text/plain": [
       "<Figure size 432x288 with 2 Axes>"
      ]
     },
     "metadata": {
      "needs_background": "light"
     },
     "output_type": "display_data"
    }
   ],
   "source": [
    "res(y_pred)"
   ]
  },
  {
   "cell_type": "code",
   "execution_count": null,
   "id": "5034d247",
   "metadata": {},
   "outputs": [],
   "source": []
  },
  {
   "cell_type": "code",
   "execution_count": null,
   "id": "54d20546",
   "metadata": {},
   "outputs": [],
   "source": []
  },
  {
   "cell_type": "code",
   "execution_count": null,
   "id": "d72014a0",
   "metadata": {},
   "outputs": [],
   "source": []
  },
  {
   "cell_type": "code",
   "execution_count": null,
   "id": "08be0e1c",
   "metadata": {},
   "outputs": [],
   "source": []
  },
  {
   "cell_type": "code",
   "execution_count": null,
   "id": "8b6bb720",
   "metadata": {},
   "outputs": [],
   "source": []
  },
  {
   "cell_type": "code",
   "execution_count": null,
   "id": "f18e0df0",
   "metadata": {},
   "outputs": [],
   "source": []
  },
  {
   "cell_type": "code",
   "execution_count": null,
   "id": "758f3b2c",
   "metadata": {},
   "outputs": [],
   "source": []
  },
  {
   "cell_type": "code",
   "execution_count": null,
   "id": "73b5455e",
   "metadata": {},
   "outputs": [],
   "source": []
  },
  {
   "cell_type": "code",
   "execution_count": null,
   "id": "018dfb3a",
   "metadata": {},
   "outputs": [],
   "source": []
  }
 ],
 "metadata": {
  "kernelspec": {
   "display_name": "Python 3 (ipykernel)",
   "language": "python",
   "name": "python3"
  },
  "language_info": {
   "codemirror_mode": {
    "name": "ipython",
    "version": 3
   },
   "file_extension": ".py",
   "mimetype": "text/x-python",
   "name": "python",
   "nbconvert_exporter": "python",
   "pygments_lexer": "ipython3",
   "version": "3.9.7"
  }
 },
 "nbformat": 4,
 "nbformat_minor": 5
}
