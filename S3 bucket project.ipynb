{
  "cells": [
    {
      "cell_type": "code",
      "execution_count": null,
      "id": "ce2af94a",
      "metadata": {
        "id": "ce2af94a"
      },
      "outputs": [],
      "source": [
        "# pip install sagemaker"
      ]
    },
    {
      "cell_type": "code",
      "execution_count": null,
      "id": "f14a0b7c",
      "metadata": {
        "id": "f14a0b7c"
      },
      "outputs": [],
      "source": [
        "# pip install s3fs "
      ]
    },
    {
      "cell_type": "code",
      "execution_count": null,
      "id": "bbc0a0f8",
      "metadata": {
        "id": "bbc0a0f8"
      },
      "outputs": [],
      "source": [
        "# pip install boto3"
      ]
    },
    {
      "cell_type": "code",
      "execution_count": null,
      "id": "9c04945b",
      "metadata": {
        "id": "9c04945b"
      },
      "outputs": [],
      "source": [
        "import sagemaker\n",
        "import boto3\n",
        "from sagemaker.amazon.amazon_estimator import get_image_uri \n",
        "from sagemaker.session import s3_input, Session\n",
        "import pandas as pd \n",
        "import matplotlib.pyplot as plt\n",
        "import numpy as np\n",
        "import seaborn as sns\n",
        "import boto3, re, sys, math, json, os, sagemaker, urllib.request\n",
        "from sagemaker import get_execution_role\n",
        "import numpy as np\n",
        "import pandas as pd\n",
        "import matplotlib.pyplot as plt\n",
        "from IPython.display import Image\n",
        "from IPython.display import display\n",
        "from time import gmtime, strftime\n",
        "from sagemaker.predictor import csv_serializer"
      ]
    },
    {
      "cell_type": "code",
      "execution_count": null,
      "id": "86c01f54",
      "metadata": {
        "scrolled": true,
        "id": "86c01f54",
        "outputId": "e4e5b5db-6270-41a9-dad9-0a686acc5135"
      },
      "outputs": [
        {
          "name": "stdout",
          "output_type": "stream",
          "text": [
            "us-east-1\n"
          ]
        }
      ],
      "source": [
        "bucket = 'modeltestbucket' # <--- CHANGE THIS VARIABLE TO A UNIQUE NAME FOR YOUR BUCKET\n",
        "my_region = boto3.session.Session().region_name # set the region of the instance\n",
        "print(my_region)\n"
      ]
    },
    {
      "cell_type": "markdown",
      "id": "8dccb56e",
      "metadata": {
        "id": "8dccb56e"
      },
      "source": [
        "# I have already manually created bucket in aws, if not we can also  create bucket here"
      ]
    },
    {
      "cell_type": "code",
      "execution_count": null,
      "id": "109a02b2",
      "metadata": {
        "id": "109a02b2"
      },
      "outputs": [],
      "source": [
        "# bucket_name = 'modeltestbucket' # <--- CHANGE THIS VARIABLE TO A UNIQUE NAME FOR YOUR BUCKET\n",
        "# s3 = boto3.resource('s3')\n",
        "# try:\n",
        "#     if  my_region == 'us-east-1':\n",
        "#       s3.create_bucket(Bucket=bucket_name)\n",
        "#     else: \n",
        "#       s3.create_bucket(Bucket=bucket_name, CreateBucketConfiguration={ 'LocationConstraint': 'us-west-2' })\n",
        "#     print('S3 bucket created successfully')\n",
        "# except Exception as e:\n",
        "#     print('S3 error: ',e)"
      ]
    },
    {
      "cell_type": "code",
      "execution_count": null,
      "id": "772120e6",
      "metadata": {
        "id": "772120e6",
        "outputId": "db301acb-d869-471e-975e-d3a2fff0acd2"
      },
      "outputs": [
        {
          "name": "stdout",
          "output_type": "stream",
          "text": [
            "s3://modeltestbucket/xgboost-as-a-built-in-algo/output\n"
          ]
        }
      ],
      "source": [
        "# setting the model path or output path in our s3 bucket where we will store our formatted files\n",
        "bucket_name = 'modeltestbucket'\n",
        "prefix = 'xgboost-as-a-built-in-algo'\n",
        "output_path ='s3://{}/{}/output'.format(bucket_name, prefix)\n",
        "print(output_path)"
      ]
    },
    {
      "cell_type": "markdown",
      "id": "0789079d",
      "metadata": {
        "id": "0789079d"
      },
      "source": [
        "# uploading/downloading of files into or from s3 bucket"
      ]
    },
    {
      "cell_type": "markdown",
      "id": "18f414af",
      "metadata": {
        "id": "18f414af"
      },
      "source": [
        "# Loading CSV File From S3 Bucket Using URI"
      ]
    },
    {
      "cell_type": "code",
      "execution_count": null,
      "id": "77c7f0d0",
      "metadata": {
        "id": "77c7f0d0",
        "outputId": "9e0ab3ab-6c03-4811-af7c-c251f37b4819"
      },
      "outputs": [
        {
          "data": {
            "text/html": [
              "<div>\n",
              "<style scoped>\n",
              "    .dataframe tbody tr th:only-of-type {\n",
              "        vertical-align: middle;\n",
              "    }\n",
              "\n",
              "    .dataframe tbody tr th {\n",
              "        vertical-align: top;\n",
              "    }\n",
              "\n",
              "    .dataframe thead th {\n",
              "        text-align: right;\n",
              "    }\n",
              "</style>\n",
              "<table border=\"1\" class=\"dataframe\">\n",
              "  <thead>\n",
              "    <tr style=\"text-align: right;\">\n",
              "      <th></th>\n",
              "      <th>Id</th>\n",
              "      <th>MSSubClass</th>\n",
              "      <th>MSZoning</th>\n",
              "      <th>LotFrontage</th>\n",
              "      <th>LotArea</th>\n",
              "      <th>Street</th>\n",
              "      <th>Alley</th>\n",
              "      <th>LotShape</th>\n",
              "      <th>LandContour</th>\n",
              "      <th>Utilities</th>\n",
              "      <th>...</th>\n",
              "      <th>PoolArea</th>\n",
              "      <th>PoolQC</th>\n",
              "      <th>Fence</th>\n",
              "      <th>MiscFeature</th>\n",
              "      <th>MiscVal</th>\n",
              "      <th>MoSold</th>\n",
              "      <th>YrSold</th>\n",
              "      <th>SaleType</th>\n",
              "      <th>SaleCondition</th>\n",
              "      <th>SalePrice</th>\n",
              "    </tr>\n",
              "  </thead>\n",
              "  <tbody>\n",
              "    <tr>\n",
              "      <th>0</th>\n",
              "      <td>1</td>\n",
              "      <td>60</td>\n",
              "      <td>RL</td>\n",
              "      <td>65.0</td>\n",
              "      <td>8450</td>\n",
              "      <td>Pave</td>\n",
              "      <td>NaN</td>\n",
              "      <td>Reg</td>\n",
              "      <td>Lvl</td>\n",
              "      <td>AllPub</td>\n",
              "      <td>...</td>\n",
              "      <td>0</td>\n",
              "      <td>NaN</td>\n",
              "      <td>NaN</td>\n",
              "      <td>NaN</td>\n",
              "      <td>0</td>\n",
              "      <td>2</td>\n",
              "      <td>2008</td>\n",
              "      <td>WD</td>\n",
              "      <td>Normal</td>\n",
              "      <td>208500</td>\n",
              "    </tr>\n",
              "    <tr>\n",
              "      <th>1</th>\n",
              "      <td>2</td>\n",
              "      <td>20</td>\n",
              "      <td>RL</td>\n",
              "      <td>80.0</td>\n",
              "      <td>9600</td>\n",
              "      <td>Pave</td>\n",
              "      <td>NaN</td>\n",
              "      <td>Reg</td>\n",
              "      <td>Lvl</td>\n",
              "      <td>AllPub</td>\n",
              "      <td>...</td>\n",
              "      <td>0</td>\n",
              "      <td>NaN</td>\n",
              "      <td>NaN</td>\n",
              "      <td>NaN</td>\n",
              "      <td>0</td>\n",
              "      <td>5</td>\n",
              "      <td>2007</td>\n",
              "      <td>WD</td>\n",
              "      <td>Normal</td>\n",
              "      <td>181500</td>\n",
              "    </tr>\n",
              "    <tr>\n",
              "      <th>2</th>\n",
              "      <td>3</td>\n",
              "      <td>60</td>\n",
              "      <td>RL</td>\n",
              "      <td>68.0</td>\n",
              "      <td>11250</td>\n",
              "      <td>Pave</td>\n",
              "      <td>NaN</td>\n",
              "      <td>IR1</td>\n",
              "      <td>Lvl</td>\n",
              "      <td>AllPub</td>\n",
              "      <td>...</td>\n",
              "      <td>0</td>\n",
              "      <td>NaN</td>\n",
              "      <td>NaN</td>\n",
              "      <td>NaN</td>\n",
              "      <td>0</td>\n",
              "      <td>9</td>\n",
              "      <td>2008</td>\n",
              "      <td>WD</td>\n",
              "      <td>Normal</td>\n",
              "      <td>223500</td>\n",
              "    </tr>\n",
              "    <tr>\n",
              "      <th>3</th>\n",
              "      <td>4</td>\n",
              "      <td>70</td>\n",
              "      <td>RL</td>\n",
              "      <td>60.0</td>\n",
              "      <td>9550</td>\n",
              "      <td>Pave</td>\n",
              "      <td>NaN</td>\n",
              "      <td>IR1</td>\n",
              "      <td>Lvl</td>\n",
              "      <td>AllPub</td>\n",
              "      <td>...</td>\n",
              "      <td>0</td>\n",
              "      <td>NaN</td>\n",
              "      <td>NaN</td>\n",
              "      <td>NaN</td>\n",
              "      <td>0</td>\n",
              "      <td>2</td>\n",
              "      <td>2006</td>\n",
              "      <td>WD</td>\n",
              "      <td>Abnorml</td>\n",
              "      <td>140000</td>\n",
              "    </tr>\n",
              "    <tr>\n",
              "      <th>4</th>\n",
              "      <td>5</td>\n",
              "      <td>60</td>\n",
              "      <td>RL</td>\n",
              "      <td>84.0</td>\n",
              "      <td>14260</td>\n",
              "      <td>Pave</td>\n",
              "      <td>NaN</td>\n",
              "      <td>IR1</td>\n",
              "      <td>Lvl</td>\n",
              "      <td>AllPub</td>\n",
              "      <td>...</td>\n",
              "      <td>0</td>\n",
              "      <td>NaN</td>\n",
              "      <td>NaN</td>\n",
              "      <td>NaN</td>\n",
              "      <td>0</td>\n",
              "      <td>12</td>\n",
              "      <td>2008</td>\n",
              "      <td>WD</td>\n",
              "      <td>Normal</td>\n",
              "      <td>250000</td>\n",
              "    </tr>\n",
              "  </tbody>\n",
              "</table>\n",
              "<p>5 rows × 81 columns</p>\n",
              "</div>"
            ],
            "text/plain": [
              "   Id  MSSubClass MSZoning  LotFrontage  LotArea Street Alley LotShape  \\\n",
              "0   1          60       RL         65.0     8450   Pave   NaN      Reg   \n",
              "1   2          20       RL         80.0     9600   Pave   NaN      Reg   \n",
              "2   3          60       RL         68.0    11250   Pave   NaN      IR1   \n",
              "3   4          70       RL         60.0     9550   Pave   NaN      IR1   \n",
              "4   5          60       RL         84.0    14260   Pave   NaN      IR1   \n",
              "\n",
              "  LandContour Utilities  ... PoolArea PoolQC Fence MiscFeature MiscVal MoSold  \\\n",
              "0         Lvl    AllPub  ...        0    NaN   NaN         NaN       0      2   \n",
              "1         Lvl    AllPub  ...        0    NaN   NaN         NaN       0      5   \n",
              "2         Lvl    AllPub  ...        0    NaN   NaN         NaN       0      9   \n",
              "3         Lvl    AllPub  ...        0    NaN   NaN         NaN       0      2   \n",
              "4         Lvl    AllPub  ...        0    NaN   NaN         NaN       0     12   \n",
              "\n",
              "  YrSold  SaleType  SaleCondition  SalePrice  \n",
              "0   2008        WD         Normal     208500  \n",
              "1   2007        WD         Normal     181500  \n",
              "2   2008        WD         Normal     223500  \n",
              "3   2006        WD        Abnorml     140000  \n",
              "4   2008        WD         Normal     250000  \n",
              "\n",
              "[5 rows x 81 columns]"
            ]
          },
          "execution_count": 70,
          "metadata": {},
          "output_type": "execute_result"
        }
      ],
      "source": [
        "bucket='modeltestbucket'\n",
        "\n",
        "path1='s3://modeltestbucket/train-1.csv'\n",
        "path2='s3://modeltestbucket/test-2.csv'\n",
        "\n",
        "train=pd.read_csv(path1)\n",
        "test=pd.read_csv(path2)\n",
        "\n",
        "train.head()"
      ]
    },
    {
      "cell_type": "code",
      "execution_count": null,
      "id": "66ca799a",
      "metadata": {
        "id": "66ca799a",
        "outputId": "e45d281d-e717-434e-fec4-caa57925370c"
      },
      "outputs": [
        {
          "data": {
            "text/plain": [
              "((1460, 81), (1459, 80))"
            ]
          },
          "execution_count": 71,
          "metadata": {},
          "output_type": "execute_result"
        }
      ],
      "source": [
        "train.shape, test.shape"
      ]
    },
    {
      "cell_type": "markdown",
      "id": "67884cd0",
      "metadata": {
        "id": "67884cd0"
      },
      "source": [
        "# Store the train and test data in our s3 bucket"
      ]
    },
    {
      "cell_type": "code",
      "execution_count": null,
      "id": "848e0fba",
      "metadata": {
        "id": "848e0fba",
        "outputId": "c728064c-bc02-4a9f-9143-ce6b93578507"
      },
      "outputs": [
        {
          "name": "stdout",
          "output_type": "stream",
          "text": [
            "Success: Data loaded into dataframe.\n"
          ]
        }
      ],
      "source": [
        "import pandas as pd\n",
        "import urllib\n",
        "try:\n",
        "    dataset_train = pd.read_csv(\"C:/Users/santh/S3 Bucket to Sage Maker-AWS/Data/train-1.csv\")\n",
        "    dataset_test = pd.read_csv(\"C:/Users/santh/S3 Bucket to Sage Maker-AWS/Data/test-2.csv\")\n",
        "    print('Success: Data loaded into dataframe.')\n",
        "#     data.head()\n",
        "except Exception as e:\n",
        "    print('Data load error: ',e)\n"
      ]
    },
    {
      "cell_type": "code",
      "execution_count": null,
      "id": "98016859",
      "metadata": {
        "id": "98016859",
        "outputId": "698bf9d7-1054-478b-bb89-3478e83a0df0"
      },
      "outputs": [
        {
          "data": {
            "text/plain": [
              "((1460, 81), (1459, 80))"
            ]
          },
          "execution_count": 64,
          "metadata": {},
          "output_type": "execute_result"
        }
      ],
      "source": [
        "dataset_train.shape, dataset_test.shape"
      ]
    },
    {
      "cell_type": "markdown",
      "id": "9eed5093",
      "metadata": {
        "id": "9eed5093"
      },
      "source": [
        "# Loading CSV File From S3 Bucket Using Boto3"
      ]
    },
    {
      "cell_type": "code",
      "execution_count": null,
      "id": "0e3de06e",
      "metadata": {
        "id": "0e3de06e",
        "outputId": "a41f0c95-68f0-4e53-cf29-931dc4543072"
      },
      "outputs": [
        {
          "name": "stdout",
          "output_type": "stream",
          "text": [
            "modeltestbucket\n"
          ]
        }
      ],
      "source": [
        "conn=boto3.client('s3')\n",
        "list_buckets = conn.list_buckets()\n",
        " \n",
        "for bucket in list_buckets['Buckets']:\n",
        "    print(bucket['Name'])"
      ]
    },
    {
      "cell_type": "code",
      "execution_count": null,
      "id": "90a98b98",
      "metadata": {
        "collapsed": true,
        "id": "90a98b98"
      },
      "outputs": [],
      "source": [
        "obj = conn.get_object(Bucket='modeltestbucket', Key='train-1.csv')\n",
        "obj['Body'].read().decode('utf-8')"
      ]
    },
    {
      "cell_type": "code",
      "execution_count": null,
      "id": "57d7e578",
      "metadata": {
        "collapsed": true,
        "id": "57d7e578"
      },
      "outputs": [],
      "source": [
        "obj2 = conn.get_object(Bucket='modeltestbucket', Key='test-2.csv')\n",
        "obj2['Body'].read().decode('utf-8') "
      ]
    },
    {
      "cell_type": "code",
      "execution_count": null,
      "id": "3b3bd6dd",
      "metadata": {
        "id": "3b3bd6dd"
      },
      "outputs": [],
      "source": [
        "conn.download_file(Filename='train_downloadfile.csv', Bucket='modeltestbucket', Key='train-1.csv')"
      ]
    },
    {
      "cell_type": "code",
      "execution_count": null,
      "id": "9709a4c3",
      "metadata": {
        "id": "9709a4c3"
      },
      "outputs": [],
      "source": [
        "conn.download_file(Filename='test_downloadfile.csv', Bucket='modeltestbucket', Key='test-2.csv')"
      ]
    },
    {
      "cell_type": "markdown",
      "id": "0f5e0459",
      "metadata": {
        "id": "0f5e0459"
      },
      "source": [
        "# we will keep dataset_test aside for the modelbuilding. But we will do data cleaning both on train and test data."
      ]
    },
    {
      "cell_type": "code",
      "execution_count": null,
      "id": "cf182ed6",
      "metadata": {
        "id": "cf182ed6"
      },
      "outputs": [],
      "source": [
        ""
      ]
    },
    {
      "cell_type": "markdown",
      "id": "8dc7ac24",
      "metadata": {
        "id": "8dc7ac24"
      },
      "source": [
        "# Train Data PreProcessing"
      ]
    },
    {
      "cell_type": "markdown",
      "id": "8a8db44b",
      "metadata": {
        "id": "8a8db44b"
      },
      "source": [
        "Dealing with null values"
      ]
    },
    {
      "cell_type": "code",
      "execution_count": null,
      "id": "cf2ceea9",
      "metadata": {
        "id": "cf2ceea9"
      },
      "outputs": [],
      "source": [
        "train['LotFrontage']=train['LotFrontage'].fillna(train['LotFrontage'].mean())\n",
        "train.drop(['Alley'],axis=1,inplace=True)\n",
        "train['BsmtCond']=train['BsmtCond'].fillna(train['BsmtCond'].mode()[0])\n",
        "train['BsmtQual']=train['BsmtQual'].fillna(train['BsmtQual'].mode()[0])\n",
        "train['FireplaceQu']=train['FireplaceQu'].fillna(train['FireplaceQu'].mode()[0])\n",
        "train['GarageType']=train['GarageType'].fillna(train['GarageType'].mode()[0])\n",
        "train.drop(['GarageYrBlt'],axis=1,inplace=True)\n",
        "train['GarageFinish']=train['GarageFinish'].fillna(train['GarageFinish'].mode()[0])\n",
        "train['GarageQual']=train['GarageQual'].fillna(train['GarageQual'].mode()[0])\n",
        "train['GarageCond']=train['GarageCond'].fillna(train['GarageCond'].mode()[0])\n",
        "train.drop(['PoolQC','Fence','MiscFeature'],axis=1,inplace=True)\n",
        "train.drop(['Id'],axis=1,inplace=True)\n",
        "train['MasVnrType']=train['MasVnrType'].fillna(train['MasVnrType'].mode()[0])\n",
        "train['MasVnrArea']=train['MasVnrArea'].fillna(train['MasVnrArea'].mode()[0])\n",
        "train['BsmtExposure']=train['BsmtExposure'].fillna(train['BsmtExposure'].mode()[0])\n",
        "train['BsmtFinType2']=train['BsmtFinType2'].fillna(train['BsmtFinType2'].mode()[0])\n",
        "train.dropna(inplace=True)"
      ]
    },
    {
      "cell_type": "code",
      "execution_count": null,
      "id": "96d21ebb",
      "metadata": {
        "id": "96d21ebb",
        "outputId": "ff0b76ea-3834-4081-a393-97366f6e574d"
      },
      "outputs": [
        {
          "data": {
            "text/plain": [
              "((1422, 75), (1459, 80))"
            ]
          },
          "execution_count": 73,
          "metadata": {},
          "output_type": "execute_result"
        }
      ],
      "source": [
        "train.shape, test.shape"
      ]
    },
    {
      "cell_type": "markdown",
      "id": "d6354c0a",
      "metadata": {
        "id": "d6354c0a"
      },
      "source": [
        "# Convert categorical to numerical data"
      ]
    },
    {
      "cell_type": "code",
      "execution_count": null,
      "id": "259cf9fe",
      "metadata": {
        "id": "259cf9fe",
        "outputId": "836be06f-cbf2-40b1-9ae4-1f17a3acc1aa"
      },
      "outputs": [
        {
          "data": {
            "text/plain": [
              "Index(['MSZoning', 'Street', 'LotShape', 'LandContour', 'Utilities',\n",
              "       'LotConfig', 'LandSlope', 'Neighborhood', 'Condition1', 'Condition2',\n",
              "       'BldgType', 'HouseStyle', 'RoofStyle', 'RoofMatl', 'Exterior1st',\n",
              "       'Exterior2nd', 'MasVnrType', 'ExterQual', 'ExterCond', 'Foundation',\n",
              "       'BsmtQual', 'BsmtCond', 'BsmtExposure', 'BsmtFinType1', 'BsmtFinType2',\n",
              "       'Heating', 'HeatingQC', 'CentralAir', 'Electrical', 'KitchenQual',\n",
              "       'Functional', 'FireplaceQu', 'GarageType', 'GarageFinish', 'GarageQual',\n",
              "       'GarageCond', 'PavedDrive', 'SaleType', 'SaleCondition'],\n",
              "      dtype='object')"
            ]
          },
          "execution_count": 74,
          "metadata": {},
          "output_type": "execute_result"
        }
      ],
      "source": [
        "from sklearn.preprocessing import label_binarize,LabelEncoder\n",
        "cat_bf=train.select_dtypes(exclude=np.number)\n",
        "cat_bf.columns"
      ]
    },
    {
      "cell_type": "code",
      "execution_count": null,
      "id": "21ff09a5",
      "metadata": {
        "id": "21ff09a5",
        "outputId": "9c97c36f-3a5c-4564-c8c8-393d24d4b28f"
      },
      "outputs": [
        {
          "name": "stderr",
          "output_type": "stream",
          "text": [
            "D:\\Anaconda\\lib\\site-packages\\sklearn\\preprocessing\\_label.py:115: DataConversionWarning: A column-vector y was passed when a 1d array was expected. Please change the shape of y to (n_samples, ), for example using ravel().\n",
            "  y = column_or_1d(y, warn=True)\n"
          ]
        }
      ],
      "source": [
        "lb=LabelEncoder()\n",
        "for i in cat_bf.columns:\n",
        "    train[i]=lb.fit_transform(np.array(train[i]).reshape(-1,1))"
      ]
    },
    {
      "cell_type": "code",
      "execution_count": null,
      "id": "32fc7b87",
      "metadata": {
        "id": "32fc7b87"
      },
      "outputs": [],
      "source": [
        "train.to_csv('formattedtrain.csv',',')  # saving this dataframe to csv\n",
        "\n"
      ]
    },
    {
      "cell_type": "code",
      "execution_count": null,
      "id": "2f193e59",
      "metadata": {
        "id": "2f193e59",
        "outputId": "5488019e-1ed5-43a6-8a83-93d4b1a5030c"
      },
      "outputs": [
        {
          "data": {
            "text/plain": [
              "<AxesSubplot:>"
            ]
          },
          "execution_count": 17,
          "metadata": {},
          "output_type": "execute_result"
        },
        {
          "data": {
            "image/png": "[encoded data removed]",
            "text/plain": [
              "<Figure size 432x288 with 1 Axes>"
            ]
          },
          "metadata": {
            "needs_background": "light"
          },
          "output_type": "display_data"
        }
      ],
      "source": [
        "sns.heatmap(train.corr(),yticklabels=False,cbar=False,cmap='YlGnBu')"
      ]
    },
    {
      "cell_type": "markdown",
      "id": "53193899",
      "metadata": {
        "id": "53193899"
      },
      "source": [
        "# Uploading this Cleaned Dataset to s3 bucket"
      ]
    },
    {
      "cell_type": "code",
      "execution_count": null,
      "id": "cf63b8ef",
      "metadata": {
        "id": "cf63b8ef"
      },
      "outputs": [],
      "source": [
        "conn.upload_file(Bucket='modeltestbucket', \n",
        "               Filename='formattedtrain.csv', \n",
        "               Key='/formattedtrain.csv')"
      ]
    },
    {
      "cell_type": "code",
      "execution_count": null,
      "id": "d0707141",
      "metadata": {
        "id": "d0707141"
      },
      "outputs": [],
      "source": [
        ""
      ]
    }
  ],
  "metadata": {
    "kernelspec": {
      "display_name": "Python 3 (ipykernel)",
      "language": "python",
      "name": "python3"
    },
    "language_info": {
      "codemirror_mode": {
        "name": "ipython",
        "version": 3
      },
      "file_extension": ".py",
      "mimetype": "text/x-python",
      "name": "python",
      "nbconvert_exporter": "python",
      "pygments_lexer": "ipython3",
      "version": "3.9.7"
    },
    "colab": {
      "name": "EDA_File.ipynb",
      "provenance": []
    }
  },
  "nbformat": 4,
  "nbformat_minor": 5
}