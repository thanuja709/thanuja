{
 "cells": [
  {
   "cell_type": "code",
   "execution_count": 1,
   "id": "1fdfe94f",
   "metadata": {},
   "outputs": [],
   "source": [
    "import numpy as np\n",
    "import pandas as pd\n",
    "import matplotlib.pyplot as plt\n",
    "import seaborn as sns\n",
    "from sklearn.model_selection import train_test_split\n",
    "from sklearn.linear_model import LogisticRegression\n",
    "from sklearn.linear_model import LinearRegression \n",
    "from sklearn import metrics\n",
    "from warnings import filterwarnings\n",
    "from sklearn import preprocessing\n",
    "from sklearn.preprocessing import StandardScaler\n",
    "from sklearn.metrics import ConfusionMatrixDisplay\n",
    "from sklearn.metrics import confusion_matrix\n",
    "from sklearn.metrics import accuracy_score\n",
    "from sklearn.metrics import classification_report\n"
   ]
  },
  {
   "cell_type": "code",
   "execution_count": 2,
   "id": "aa1207ff",
   "metadata": {},
   "outputs": [],
   "source": [
    "df=pd.read_csv(\"https://raw.githubusercontent.com/Premalatha-success/Supervised-Learning/main/wisc_bc_data.csv\")"
   ]
  },
  {
   "cell_type": "code",
   "execution_count": 3,
   "id": "9512c018",
   "metadata": {},
   "outputs": [],
   "source": [
    "pd.set_option('display.max_columns', None)  # or 1000\n",
    "pd.set_option('display.max_rows', None)  # or 100"
   ]
  },
  {
   "cell_type": "code",
   "execution_count": 4,
   "id": "e66f4ebf",
   "metadata": {},
   "outputs": [
    {
     "data": {
      "text/html": [
       "<div>\n",
       "<style scoped>\n",
       "    .dataframe tbody tr th:only-of-type {\n",
       "        vertical-align: middle;\n",
       "    }\n",
       "\n",
       "    .dataframe tbody tr th {\n",
       "        vertical-align: top;\n",
       "    }\n",
       "\n",
       "    .dataframe thead th {\n",
       "        text-align: right;\n",
       "    }\n",
       "</style>\n",
       "<table border=\"1\" class=\"dataframe\">\n",
       "  <thead>\n",
       "    <tr style=\"text-align: right;\">\n",
       "      <th></th>\n",
       "      <th>id</th>\n",
       "      <th>diagnosis</th>\n",
       "      <th>radius_mean</th>\n",
       "      <th>texture_mean</th>\n",
       "      <th>perimeter_mean</th>\n",
       "      <th>area_mean</th>\n",
       "      <th>smoothness_mean</th>\n",
       "      <th>compactness_mean</th>\n",
       "      <th>concavity_mean</th>\n",
       "      <th>points_mean</th>\n",
       "      <th>symmetry_mean</th>\n",
       "      <th>dimension_mean</th>\n",
       "      <th>radius_se</th>\n",
       "      <th>texture_se</th>\n",
       "      <th>perimeter_se</th>\n",
       "      <th>area_se</th>\n",
       "      <th>smoothness_se</th>\n",
       "      <th>compactness_se</th>\n",
       "      <th>concavity_se</th>\n",
       "      <th>points_se</th>\n",
       "      <th>symmetry_se</th>\n",
       "      <th>dimension_se</th>\n",
       "      <th>radius_worst</th>\n",
       "      <th>texture_worst</th>\n",
       "      <th>perimeter_worst</th>\n",
       "      <th>area_worst</th>\n",
       "      <th>smoothness_worst</th>\n",
       "      <th>compactness_worst</th>\n",
       "      <th>concavity_worst</th>\n",
       "      <th>points_worst</th>\n",
       "      <th>symmetry_worst</th>\n",
       "      <th>dimension_worst</th>\n",
       "    </tr>\n",
       "  </thead>\n",
       "  <tbody>\n",
       "    <tr>\n",
       "      <th>0</th>\n",
       "      <td>87139402</td>\n",
       "      <td>B</td>\n",
       "      <td>12.32</td>\n",
       "      <td>12.39</td>\n",
       "      <td>78.85</td>\n",
       "      <td>464.1</td>\n",
       "      <td>0.10280</td>\n",
       "      <td>0.06981</td>\n",
       "      <td>0.03987</td>\n",
       "      <td>0.03700</td>\n",
       "      <td>0.1959</td>\n",
       "      <td>0.05955</td>\n",
       "      <td>0.2360</td>\n",
       "      <td>0.6656</td>\n",
       "      <td>1.670</td>\n",
       "      <td>17.43</td>\n",
       "      <td>0.008045</td>\n",
       "      <td>0.011800</td>\n",
       "      <td>0.01683</td>\n",
       "      <td>0.012410</td>\n",
       "      <td>0.01924</td>\n",
       "      <td>0.002248</td>\n",
       "      <td>13.50</td>\n",
       "      <td>15.64</td>\n",
       "      <td>86.97</td>\n",
       "      <td>549.1</td>\n",
       "      <td>0.1385</td>\n",
       "      <td>0.1266</td>\n",
       "      <td>0.12420</td>\n",
       "      <td>0.09391</td>\n",
       "      <td>0.2827</td>\n",
       "      <td>0.06771</td>\n",
       "    </tr>\n",
       "    <tr>\n",
       "      <th>1</th>\n",
       "      <td>8910251</td>\n",
       "      <td>B</td>\n",
       "      <td>10.60</td>\n",
       "      <td>18.95</td>\n",
       "      <td>69.28</td>\n",
       "      <td>346.4</td>\n",
       "      <td>0.09688</td>\n",
       "      <td>0.11470</td>\n",
       "      <td>0.06387</td>\n",
       "      <td>0.02642</td>\n",
       "      <td>0.1922</td>\n",
       "      <td>0.06491</td>\n",
       "      <td>0.4505</td>\n",
       "      <td>1.1970</td>\n",
       "      <td>3.430</td>\n",
       "      <td>27.10</td>\n",
       "      <td>0.007470</td>\n",
       "      <td>0.035810</td>\n",
       "      <td>0.03354</td>\n",
       "      <td>0.013650</td>\n",
       "      <td>0.03504</td>\n",
       "      <td>0.003318</td>\n",
       "      <td>11.88</td>\n",
       "      <td>22.94</td>\n",
       "      <td>78.28</td>\n",
       "      <td>424.8</td>\n",
       "      <td>0.1213</td>\n",
       "      <td>0.2515</td>\n",
       "      <td>0.19160</td>\n",
       "      <td>0.07926</td>\n",
       "      <td>0.2940</td>\n",
       "      <td>0.07587</td>\n",
       "    </tr>\n",
       "    <tr>\n",
       "      <th>2</th>\n",
       "      <td>905520</td>\n",
       "      <td>B</td>\n",
       "      <td>11.04</td>\n",
       "      <td>16.83</td>\n",
       "      <td>70.92</td>\n",
       "      <td>373.2</td>\n",
       "      <td>0.10770</td>\n",
       "      <td>0.07804</td>\n",
       "      <td>0.03046</td>\n",
       "      <td>0.02480</td>\n",
       "      <td>0.1714</td>\n",
       "      <td>0.06340</td>\n",
       "      <td>0.1967</td>\n",
       "      <td>1.3870</td>\n",
       "      <td>1.342</td>\n",
       "      <td>13.54</td>\n",
       "      <td>0.005158</td>\n",
       "      <td>0.009355</td>\n",
       "      <td>0.01056</td>\n",
       "      <td>0.007483</td>\n",
       "      <td>0.01718</td>\n",
       "      <td>0.002198</td>\n",
       "      <td>12.41</td>\n",
       "      <td>26.44</td>\n",
       "      <td>79.93</td>\n",
       "      <td>471.4</td>\n",
       "      <td>0.1369</td>\n",
       "      <td>0.1482</td>\n",
       "      <td>0.10670</td>\n",
       "      <td>0.07431</td>\n",
       "      <td>0.2998</td>\n",
       "      <td>0.07881</td>\n",
       "    </tr>\n",
       "    <tr>\n",
       "      <th>3</th>\n",
       "      <td>868871</td>\n",
       "      <td>B</td>\n",
       "      <td>11.28</td>\n",
       "      <td>13.39</td>\n",
       "      <td>73.00</td>\n",
       "      <td>384.8</td>\n",
       "      <td>0.11640</td>\n",
       "      <td>0.11360</td>\n",
       "      <td>0.04635</td>\n",
       "      <td>0.04796</td>\n",
       "      <td>0.1771</td>\n",
       "      <td>0.06072</td>\n",
       "      <td>0.3384</td>\n",
       "      <td>1.3430</td>\n",
       "      <td>1.851</td>\n",
       "      <td>26.33</td>\n",
       "      <td>0.011270</td>\n",
       "      <td>0.034980</td>\n",
       "      <td>0.02187</td>\n",
       "      <td>0.019650</td>\n",
       "      <td>0.01580</td>\n",
       "      <td>0.003442</td>\n",
       "      <td>11.92</td>\n",
       "      <td>15.77</td>\n",
       "      <td>76.53</td>\n",
       "      <td>434.0</td>\n",
       "      <td>0.1367</td>\n",
       "      <td>0.1822</td>\n",
       "      <td>0.08669</td>\n",
       "      <td>0.08611</td>\n",
       "      <td>0.2102</td>\n",
       "      <td>0.06784</td>\n",
       "    </tr>\n",
       "    <tr>\n",
       "      <th>4</th>\n",
       "      <td>9012568</td>\n",
       "      <td>B</td>\n",
       "      <td>15.19</td>\n",
       "      <td>13.21</td>\n",
       "      <td>97.65</td>\n",
       "      <td>711.8</td>\n",
       "      <td>0.07963</td>\n",
       "      <td>0.06934</td>\n",
       "      <td>0.03393</td>\n",
       "      <td>0.02657</td>\n",
       "      <td>0.1721</td>\n",
       "      <td>0.05544</td>\n",
       "      <td>0.1783</td>\n",
       "      <td>0.4125</td>\n",
       "      <td>1.338</td>\n",
       "      <td>17.72</td>\n",
       "      <td>0.005012</td>\n",
       "      <td>0.014850</td>\n",
       "      <td>0.01551</td>\n",
       "      <td>0.009155</td>\n",
       "      <td>0.01647</td>\n",
       "      <td>0.001767</td>\n",
       "      <td>16.20</td>\n",
       "      <td>15.73</td>\n",
       "      <td>104.50</td>\n",
       "      <td>819.1</td>\n",
       "      <td>0.1126</td>\n",
       "      <td>0.1737</td>\n",
       "      <td>0.13620</td>\n",
       "      <td>0.08178</td>\n",
       "      <td>0.2487</td>\n",
       "      <td>0.06766</td>\n",
       "    </tr>\n",
       "  </tbody>\n",
       "</table>\n",
       "</div>"
      ],
      "text/plain": [
       "         id diagnosis  radius_mean  texture_mean  perimeter_mean  area_mean  \\\n",
       "0  87139402         B        12.32         12.39           78.85      464.1   \n",
       "1   8910251         B        10.60         18.95           69.28      346.4   \n",
       "2    905520         B        11.04         16.83           70.92      373.2   \n",
       "3    868871         B        11.28         13.39           73.00      384.8   \n",
       "4   9012568         B        15.19         13.21           97.65      711.8   \n",
       "\n",
       "   smoothness_mean  compactness_mean  concavity_mean  points_mean  \\\n",
       "0          0.10280           0.06981         0.03987      0.03700   \n",
       "1          0.09688           0.11470         0.06387      0.02642   \n",
       "2          0.10770           0.07804         0.03046      0.02480   \n",
       "3          0.11640           0.11360         0.04635      0.04796   \n",
       "4          0.07963           0.06934         0.03393      0.02657   \n",
       "\n",
       "   symmetry_mean  dimension_mean  radius_se  texture_se  perimeter_se  \\\n",
       "0         0.1959         0.05955     0.2360      0.6656         1.670   \n",
       "1         0.1922         0.06491     0.4505      1.1970         3.430   \n",
       "2         0.1714         0.06340     0.1967      1.3870         1.342   \n",
       "3         0.1771         0.06072     0.3384      1.3430         1.851   \n",
       "4         0.1721         0.05544     0.1783      0.4125         1.338   \n",
       "\n",
       "   area_se  smoothness_se  compactness_se  concavity_se  points_se  \\\n",
       "0    17.43       0.008045        0.011800       0.01683   0.012410   \n",
       "1    27.10       0.007470        0.035810       0.03354   0.013650   \n",
       "2    13.54       0.005158        0.009355       0.01056   0.007483   \n",
       "3    26.33       0.011270        0.034980       0.02187   0.019650   \n",
       "4    17.72       0.005012        0.014850       0.01551   0.009155   \n",
       "\n",
       "   symmetry_se  dimension_se  radius_worst  texture_worst  perimeter_worst  \\\n",
       "0      0.01924      0.002248         13.50          15.64            86.97   \n",
       "1      0.03504      0.003318         11.88          22.94            78.28   \n",
       "2      0.01718      0.002198         12.41          26.44            79.93   \n",
       "3      0.01580      0.003442         11.92          15.77            76.53   \n",
       "4      0.01647      0.001767         16.20          15.73           104.50   \n",
       "\n",
       "   area_worst  smoothness_worst  compactness_worst  concavity_worst  \\\n",
       "0       549.1            0.1385             0.1266          0.12420   \n",
       "1       424.8            0.1213             0.2515          0.19160   \n",
       "2       471.4            0.1369             0.1482          0.10670   \n",
       "3       434.0            0.1367             0.1822          0.08669   \n",
       "4       819.1            0.1126             0.1737          0.13620   \n",
       "\n",
       "   points_worst  symmetry_worst  dimension_worst  \n",
       "0       0.09391          0.2827          0.06771  \n",
       "1       0.07926          0.2940          0.07587  \n",
       "2       0.07431          0.2998          0.07881  \n",
       "3       0.08611          0.2102          0.06784  \n",
       "4       0.08178          0.2487          0.06766  "
      ]
     },
     "execution_count": 4,
     "metadata": {},
     "output_type": "execute_result"
    }
   ],
   "source": [
    "df.head(5)"
   ]
  },
  {
   "cell_type": "code",
   "execution_count": 5,
   "id": "cf72df1c",
   "metadata": {},
   "outputs": [
    {
     "data": {
      "text/html": [
       "<div>\n",
       "<style scoped>\n",
       "    .dataframe tbody tr th:only-of-type {\n",
       "        vertical-align: middle;\n",
       "    }\n",
       "\n",
       "    .dataframe tbody tr th {\n",
       "        vertical-align: top;\n",
       "    }\n",
       "\n",
       "    .dataframe thead th {\n",
       "        text-align: right;\n",
       "    }\n",
       "</style>\n",
       "<table border=\"1\" class=\"dataframe\">\n",
       "  <thead>\n",
       "    <tr style=\"text-align: right;\">\n",
       "      <th></th>\n",
       "      <th>id</th>\n",
       "      <th>diagnosis</th>\n",
       "      <th>radius_mean</th>\n",
       "      <th>texture_mean</th>\n",
       "      <th>perimeter_mean</th>\n",
       "      <th>area_mean</th>\n",
       "      <th>smoothness_mean</th>\n",
       "      <th>compactness_mean</th>\n",
       "      <th>concavity_mean</th>\n",
       "      <th>points_mean</th>\n",
       "      <th>symmetry_mean</th>\n",
       "      <th>dimension_mean</th>\n",
       "      <th>radius_se</th>\n",
       "      <th>texture_se</th>\n",
       "      <th>perimeter_se</th>\n",
       "      <th>area_se</th>\n",
       "      <th>smoothness_se</th>\n",
       "      <th>compactness_se</th>\n",
       "      <th>concavity_se</th>\n",
       "      <th>points_se</th>\n",
       "      <th>symmetry_se</th>\n",
       "      <th>dimension_se</th>\n",
       "      <th>radius_worst</th>\n",
       "      <th>texture_worst</th>\n",
       "      <th>perimeter_worst</th>\n",
       "      <th>area_worst</th>\n",
       "      <th>smoothness_worst</th>\n",
       "      <th>compactness_worst</th>\n",
       "      <th>concavity_worst</th>\n",
       "      <th>points_worst</th>\n",
       "      <th>symmetry_worst</th>\n",
       "      <th>dimension_worst</th>\n",
       "    </tr>\n",
       "  </thead>\n",
       "  <tbody>\n",
       "    <tr>\n",
       "      <th>564</th>\n",
       "      <td>911320502</td>\n",
       "      <td>B</td>\n",
       "      <td>13.17</td>\n",
       "      <td>18.22</td>\n",
       "      <td>84.28</td>\n",
       "      <td>537.3</td>\n",
       "      <td>0.07466</td>\n",
       "      <td>0.05994</td>\n",
       "      <td>0.04859</td>\n",
       "      <td>0.02870</td>\n",
       "      <td>0.1454</td>\n",
       "      <td>0.05549</td>\n",
       "      <td>0.2023</td>\n",
       "      <td>0.6850</td>\n",
       "      <td>1.236</td>\n",
       "      <td>16.89</td>\n",
       "      <td>0.005969</td>\n",
       "      <td>0.01493</td>\n",
       "      <td>0.01564</td>\n",
       "      <td>0.008463</td>\n",
       "      <td>0.01093</td>\n",
       "      <td>0.001672</td>\n",
       "      <td>14.90</td>\n",
       "      <td>23.89</td>\n",
       "      <td>95.10</td>\n",
       "      <td>687.6</td>\n",
       "      <td>0.1282</td>\n",
       "      <td>0.1965</td>\n",
       "      <td>0.18760</td>\n",
       "      <td>0.10450</td>\n",
       "      <td>0.2235</td>\n",
       "      <td>0.06925</td>\n",
       "    </tr>\n",
       "    <tr>\n",
       "      <th>565</th>\n",
       "      <td>898677</td>\n",
       "      <td>B</td>\n",
       "      <td>10.26</td>\n",
       "      <td>14.71</td>\n",
       "      <td>66.20</td>\n",
       "      <td>321.6</td>\n",
       "      <td>0.09882</td>\n",
       "      <td>0.09159</td>\n",
       "      <td>0.03581</td>\n",
       "      <td>0.02037</td>\n",
       "      <td>0.1633</td>\n",
       "      <td>0.07005</td>\n",
       "      <td>0.3380</td>\n",
       "      <td>2.5090</td>\n",
       "      <td>2.394</td>\n",
       "      <td>19.33</td>\n",
       "      <td>0.017360</td>\n",
       "      <td>0.04671</td>\n",
       "      <td>0.02611</td>\n",
       "      <td>0.012960</td>\n",
       "      <td>0.03675</td>\n",
       "      <td>0.006758</td>\n",
       "      <td>10.88</td>\n",
       "      <td>19.48</td>\n",
       "      <td>70.89</td>\n",
       "      <td>357.1</td>\n",
       "      <td>0.1360</td>\n",
       "      <td>0.1636</td>\n",
       "      <td>0.07162</td>\n",
       "      <td>0.04074</td>\n",
       "      <td>0.2434</td>\n",
       "      <td>0.08488</td>\n",
       "    </tr>\n",
       "    <tr>\n",
       "      <th>566</th>\n",
       "      <td>873885</td>\n",
       "      <td>M</td>\n",
       "      <td>15.28</td>\n",
       "      <td>22.41</td>\n",
       "      <td>98.92</td>\n",
       "      <td>710.6</td>\n",
       "      <td>0.09057</td>\n",
       "      <td>0.10520</td>\n",
       "      <td>0.05375</td>\n",
       "      <td>0.03263</td>\n",
       "      <td>0.1727</td>\n",
       "      <td>0.06317</td>\n",
       "      <td>0.2054</td>\n",
       "      <td>0.4956</td>\n",
       "      <td>1.344</td>\n",
       "      <td>19.53</td>\n",
       "      <td>0.003290</td>\n",
       "      <td>0.01395</td>\n",
       "      <td>0.01774</td>\n",
       "      <td>0.006009</td>\n",
       "      <td>0.01172</td>\n",
       "      <td>0.002575</td>\n",
       "      <td>17.80</td>\n",
       "      <td>28.03</td>\n",
       "      <td>113.80</td>\n",
       "      <td>973.1</td>\n",
       "      <td>0.1301</td>\n",
       "      <td>0.3299</td>\n",
       "      <td>0.36300</td>\n",
       "      <td>0.12260</td>\n",
       "      <td>0.3175</td>\n",
       "      <td>0.09772</td>\n",
       "    </tr>\n",
       "    <tr>\n",
       "      <th>567</th>\n",
       "      <td>911201</td>\n",
       "      <td>B</td>\n",
       "      <td>14.53</td>\n",
       "      <td>13.98</td>\n",
       "      <td>93.86</td>\n",
       "      <td>644.2</td>\n",
       "      <td>0.10990</td>\n",
       "      <td>0.09242</td>\n",
       "      <td>0.06895</td>\n",
       "      <td>0.06495</td>\n",
       "      <td>0.1650</td>\n",
       "      <td>0.06121</td>\n",
       "      <td>0.3060</td>\n",
       "      <td>0.7213</td>\n",
       "      <td>2.143</td>\n",
       "      <td>25.70</td>\n",
       "      <td>0.006133</td>\n",
       "      <td>0.01251</td>\n",
       "      <td>0.01615</td>\n",
       "      <td>0.011360</td>\n",
       "      <td>0.02207</td>\n",
       "      <td>0.003563</td>\n",
       "      <td>15.80</td>\n",
       "      <td>16.93</td>\n",
       "      <td>103.10</td>\n",
       "      <td>749.9</td>\n",
       "      <td>0.1347</td>\n",
       "      <td>0.1478</td>\n",
       "      <td>0.13730</td>\n",
       "      <td>0.10690</td>\n",
       "      <td>0.2606</td>\n",
       "      <td>0.07810</td>\n",
       "    </tr>\n",
       "    <tr>\n",
       "      <th>568</th>\n",
       "      <td>9012795</td>\n",
       "      <td>M</td>\n",
       "      <td>21.37</td>\n",
       "      <td>15.10</td>\n",
       "      <td>141.30</td>\n",
       "      <td>1386.0</td>\n",
       "      <td>0.10010</td>\n",
       "      <td>0.15150</td>\n",
       "      <td>0.19320</td>\n",
       "      <td>0.12550</td>\n",
       "      <td>0.1973</td>\n",
       "      <td>0.06183</td>\n",
       "      <td>0.3414</td>\n",
       "      <td>1.3090</td>\n",
       "      <td>2.407</td>\n",
       "      <td>39.06</td>\n",
       "      <td>0.004426</td>\n",
       "      <td>0.02675</td>\n",
       "      <td>0.03437</td>\n",
       "      <td>0.013430</td>\n",
       "      <td>0.01675</td>\n",
       "      <td>0.004367</td>\n",
       "      <td>22.69</td>\n",
       "      <td>21.84</td>\n",
       "      <td>152.10</td>\n",
       "      <td>1535.0</td>\n",
       "      <td>0.1192</td>\n",
       "      <td>0.2840</td>\n",
       "      <td>0.40240</td>\n",
       "      <td>0.19660</td>\n",
       "      <td>0.2730</td>\n",
       "      <td>0.08666</td>\n",
       "    </tr>\n",
       "  </tbody>\n",
       "</table>\n",
       "</div>"
      ],
      "text/plain": [
       "            id diagnosis  radius_mean  texture_mean  perimeter_mean  \\\n",
       "564  911320502         B        13.17         18.22           84.28   \n",
       "565     898677         B        10.26         14.71           66.20   \n",
       "566     873885         M        15.28         22.41           98.92   \n",
       "567     911201         B        14.53         13.98           93.86   \n",
       "568    9012795         M        21.37         15.10          141.30   \n",
       "\n",
       "     area_mean  smoothness_mean  compactness_mean  concavity_mean  \\\n",
       "564      537.3          0.07466           0.05994         0.04859   \n",
       "565      321.6          0.09882           0.09159         0.03581   \n",
       "566      710.6          0.09057           0.10520         0.05375   \n",
       "567      644.2          0.10990           0.09242         0.06895   \n",
       "568     1386.0          0.10010           0.15150         0.19320   \n",
       "\n",
       "     points_mean  symmetry_mean  dimension_mean  radius_se  texture_se  \\\n",
       "564      0.02870         0.1454         0.05549     0.2023      0.6850   \n",
       "565      0.02037         0.1633         0.07005     0.3380      2.5090   \n",
       "566      0.03263         0.1727         0.06317     0.2054      0.4956   \n",
       "567      0.06495         0.1650         0.06121     0.3060      0.7213   \n",
       "568      0.12550         0.1973         0.06183     0.3414      1.3090   \n",
       "\n",
       "     perimeter_se  area_se  smoothness_se  compactness_se  concavity_se  \\\n",
       "564         1.236    16.89       0.005969         0.01493       0.01564   \n",
       "565         2.394    19.33       0.017360         0.04671       0.02611   \n",
       "566         1.344    19.53       0.003290         0.01395       0.01774   \n",
       "567         2.143    25.70       0.006133         0.01251       0.01615   \n",
       "568         2.407    39.06       0.004426         0.02675       0.03437   \n",
       "\n",
       "     points_se  symmetry_se  dimension_se  radius_worst  texture_worst  \\\n",
       "564   0.008463      0.01093      0.001672         14.90          23.89   \n",
       "565   0.012960      0.03675      0.006758         10.88          19.48   \n",
       "566   0.006009      0.01172      0.002575         17.80          28.03   \n",
       "567   0.011360      0.02207      0.003563         15.80          16.93   \n",
       "568   0.013430      0.01675      0.004367         22.69          21.84   \n",
       "\n",
       "     perimeter_worst  area_worst  smoothness_worst  compactness_worst  \\\n",
       "564            95.10       687.6            0.1282             0.1965   \n",
       "565            70.89       357.1            0.1360             0.1636   \n",
       "566           113.80       973.1            0.1301             0.3299   \n",
       "567           103.10       749.9            0.1347             0.1478   \n",
       "568           152.10      1535.0            0.1192             0.2840   \n",
       "\n",
       "     concavity_worst  points_worst  symmetry_worst  dimension_worst  \n",
       "564          0.18760       0.10450          0.2235          0.06925  \n",
       "565          0.07162       0.04074          0.2434          0.08488  \n",
       "566          0.36300       0.12260          0.3175          0.09772  \n",
       "567          0.13730       0.10690          0.2606          0.07810  \n",
       "568          0.40240       0.19660          0.2730          0.08666  "
      ]
     },
     "execution_count": 5,
     "metadata": {},
     "output_type": "execute_result"
    }
   ],
   "source": [
    "df.tail(5)"
   ]
  },
  {
   "cell_type": "code",
   "execution_count": 6,
   "id": "ef60751e",
   "metadata": {},
   "outputs": [
    {
     "data": {
      "text/plain": [
       "(569, 32)"
      ]
     },
     "execution_count": 6,
     "metadata": {},
     "output_type": "execute_result"
    }
   ],
   "source": [
    "df.shape"
   ]
  },
  {
   "cell_type": "code",
   "execution_count": 7,
   "id": "55d9d553",
   "metadata": {},
   "outputs": [
    {
     "data": {
      "text/plain": [
       "id                     int64\n",
       "diagnosis             object\n",
       "radius_mean          float64\n",
       "texture_mean         float64\n",
       "perimeter_mean       float64\n",
       "area_mean            float64\n",
       "smoothness_mean      float64\n",
       "compactness_mean     float64\n",
       "concavity_mean       float64\n",
       "points_mean          float64\n",
       "symmetry_mean        float64\n",
       "dimension_mean       float64\n",
       "radius_se            float64\n",
       "texture_se           float64\n",
       "perimeter_se         float64\n",
       "area_se              float64\n",
       "smoothness_se        float64\n",
       "compactness_se       float64\n",
       "concavity_se         float64\n",
       "points_se            float64\n",
       "symmetry_se          float64\n",
       "dimension_se         float64\n",
       "radius_worst         float64\n",
       "texture_worst        float64\n",
       "perimeter_worst      float64\n",
       "area_worst           float64\n",
       "smoothness_worst     float64\n",
       "compactness_worst    float64\n",
       "concavity_worst      float64\n",
       "points_worst         float64\n",
       "symmetry_worst       float64\n",
       "dimension_worst      float64\n",
       "dtype: object"
      ]
     },
     "execution_count": 7,
     "metadata": {},
     "output_type": "execute_result"
    }
   ],
   "source": [
    "df.dtypes"
   ]
  },
  {
   "cell_type": "code",
   "execution_count": 8,
   "id": "12117983",
   "metadata": {},
   "outputs": [
    {
     "data": {
      "text/plain": [
       "id                   0\n",
       "diagnosis            0\n",
       "radius_mean          0\n",
       "texture_mean         0\n",
       "perimeter_mean       0\n",
       "area_mean            0\n",
       "smoothness_mean      0\n",
       "compactness_mean     0\n",
       "concavity_mean       0\n",
       "points_mean          0\n",
       "symmetry_mean        0\n",
       "dimension_mean       0\n",
       "radius_se            0\n",
       "texture_se           0\n",
       "perimeter_se         0\n",
       "area_se              0\n",
       "smoothness_se        0\n",
       "compactness_se       0\n",
       "concavity_se         0\n",
       "points_se            0\n",
       "symmetry_se          0\n",
       "dimension_se         0\n",
       "radius_worst         0\n",
       "texture_worst        0\n",
       "perimeter_worst      0\n",
       "area_worst           0\n",
       "smoothness_worst     0\n",
       "compactness_worst    0\n",
       "concavity_worst      0\n",
       "points_worst         0\n",
       "symmetry_worst       0\n",
       "dimension_worst      0\n",
       "dtype: int64"
      ]
     },
     "execution_count": 8,
     "metadata": {},
     "output_type": "execute_result"
    }
   ],
   "source": [
    "df.isnull().sum()"
   ]
  },
  {
   "cell_type": "code",
   "execution_count": 9,
   "id": "42096d2d",
   "metadata": {},
   "outputs": [
    {
     "data": {
      "text/plain": [
       "<AxesSubplot:xlabel='diagnosis', ylabel='count'>"
      ]
     },
     "execution_count": 9,
     "metadata": {},
     "output_type": "execute_result"
    },
    {
     "data": {
      "image/png": "[encoded data removed]",
      "text/plain": [
       "<Figure size 432x288 with 1 Axes>"
      ]
     },
     "metadata": {
      "needs_background": "light"
     },
     "output_type": "display_data"
    }
   ],
   "source": [
    "sns.countplot(x=\"diagnosis\",data=df)"
   ]
  },
  {
   "cell_type": "code",
   "execution_count": 10,
   "id": "a3c5a3bf",
   "metadata": {},
   "outputs": [
    {
     "data": {
      "text/plain": [
       "<AxesSubplot:>"
      ]
     },
     "execution_count": 10,
     "metadata": {},
     "output_type": "execute_result"
    },
    {
     "data": {
      "image/png": "[encoded data removed]",
      "text/plain": [
       "<Figure size 432x288 with 2 Axes>"
      ]
     },
     "metadata": {
      "needs_background": "light"
     },
     "output_type": "display_data"
    }
   ],
   "source": [
    "sns.heatmap(df.isnull(),yticklabels=False,cmap=\"viridis\")\n"
   ]
  },
  {
   "cell_type": "code",
   "execution_count": 11,
   "id": "1aaa2078",
   "metadata": {},
   "outputs": [],
   "source": [
    "dummies=pd.get_dummies(df[['diagnosis']])\n",
    "df=pd.concat([df,dummies],axis=1)"
   ]
  },
  {
   "cell_type": "code",
   "execution_count": 12,
   "id": "22b8ecb4",
   "metadata": {},
   "outputs": [],
   "source": [
    "columns=['diagnosis']\n",
    "df.drop(columns,axis=1,inplace=True)"
   ]
  },
  {
   "cell_type": "code",
   "execution_count": 13,
   "id": "3bd52011",
   "metadata": {},
   "outputs": [
    {
     "name": "stdout",
     "output_type": "stream",
     "text": [
      "<class 'pandas.core.frame.DataFrame'>\n",
      "RangeIndex: 569 entries, 0 to 568\n",
      "Data columns (total 33 columns):\n",
      " #   Column             Non-Null Count  Dtype  \n",
      "---  ------             --------------  -----  \n",
      " 0   id                 569 non-null    int64  \n",
      " 1   radius_mean        569 non-null    float64\n",
      " 2   texture_mean       569 non-null    float64\n",
      " 3   perimeter_mean     569 non-null    float64\n",
      " 4   area_mean          569 non-null    float64\n",
      " 5   smoothness_mean    569 non-null    float64\n",
      " 6   compactness_mean   569 non-null    float64\n",
      " 7   concavity_mean     569 non-null    float64\n",
      " 8   points_mean        569 non-null    float64\n",
      " 9   symmetry_mean      569 non-null    float64\n",
      " 10  dimension_mean     569 non-null    float64\n",
      " 11  radius_se          569 non-null    float64\n",
      " 12  texture_se         569 non-null    float64\n",
      " 13  perimeter_se       569 non-null    float64\n",
      " 14  area_se            569 non-null    float64\n",
      " 15  smoothness_se      569 non-null    float64\n",
      " 16  compactness_se     569 non-null    float64\n",
      " 17  concavity_se       569 non-null    float64\n",
      " 18  points_se          569 non-null    float64\n",
      " 19  symmetry_se        569 non-null    float64\n",
      " 20  dimension_se       569 non-null    float64\n",
      " 21  radius_worst       569 non-null    float64\n",
      " 22  texture_worst      569 non-null    float64\n",
      " 23  perimeter_worst    569 non-null    float64\n",
      " 24  area_worst         569 non-null    float64\n",
      " 25  smoothness_worst   569 non-null    float64\n",
      " 26  compactness_worst  569 non-null    float64\n",
      " 27  concavity_worst    569 non-null    float64\n",
      " 28  points_worst       569 non-null    float64\n",
      " 29  symmetry_worst     569 non-null    float64\n",
      " 30  dimension_worst    569 non-null    float64\n",
      " 31  diagnosis_B        569 non-null    uint8  \n",
      " 32  diagnosis_M        569 non-null    uint8  \n",
      "dtypes: float64(30), int64(1), uint8(2)\n",
      "memory usage: 139.0 KB\n"
     ]
    }
   ],
   "source": [
    "df.info()"
   ]
  },
  {
   "cell_type": "code",
   "execution_count": 14,
   "id": "889b6aa5",
   "metadata": {},
   "outputs": [],
   "source": [
    "df.drop(['id'],axis=1,inplace=True)"
   ]
  },
  {
   "cell_type": "code",
   "execution_count": 15,
   "id": "409118e2",
   "metadata": {},
   "outputs": [
    {
     "data": {
      "text/plain": [
       "0"
      ]
     },
     "execution_count": 15,
     "metadata": {},
     "output_type": "execute_result"
    }
   ],
   "source": [
    "df.drop_duplicates(inplace=True)\n",
    "dpl=df.duplicated()\n",
    "dpl.sum()"
   ]
  },
  {
   "cell_type": "code",
   "execution_count": 16,
   "id": "8e05d920",
   "metadata": {},
   "outputs": [],
   "source": [
    "def remove_outlier(col):\n",
    "    sorted(col)\n",
    "    Q1,Q3=col.quantile([0.25,0.75])\n",
    "    IQR=Q3-Q1\n",
    "    lower_range=Q1-(1.5*IQR)\n",
    "    upper_range=Q3+(1.5*IQR)\n",
    "    return lower_range,upper_range"
   ]
  },
  {
   "cell_type": "code",
   "execution_count": 17,
   "id": "6ebe5c17",
   "metadata": {},
   "outputs": [
    {
     "data": {
      "image/png": "[encoded data removed]",
      "text/plain": [
       "<Figure size 432x288 with 1 Axes>"
      ]
     },
     "metadata": {
      "needs_background": "light"
     },
     "output_type": "display_data"
    }
   ],
   "source": [
    "df.boxplot(column=[\"perimeter_mean\"])\n",
    "plt.show()"
   ]
  },
  {
   "cell_type": "code",
   "execution_count": 18,
   "id": "60014345",
   "metadata": {},
   "outputs": [],
   "source": [
    "lowlotfrontage,upplotfrontage=remove_outlier(df['radius_mean'])\n",
    "df[\"radius_mean\"]=np.where(df['radius_mean']>upplotfrontage,upplotfrontage,df['radius_mean'])\n",
    "df[\"radius_mean\"]=np.where(df['radius_mean']<lowlotfrontage,lowlotfrontage,df['radius_mean'])"
   ]
  },
  {
   "cell_type": "code",
   "execution_count": 19,
   "id": "5f61e8df",
   "metadata": {},
   "outputs": [
    {
     "data": {
      "image/png": "[encoded data removed]",
      "text/plain": [
       "<Figure size 432x288 with 1 Axes>"
      ]
     },
     "metadata": {
      "needs_background": "light"
     },
     "output_type": "display_data"
    }
   ],
   "source": [
    "df.boxplot(column=[\"radius_mean\"])\n",
    "plt.show()"
   ]
  },
  {
   "cell_type": "code",
   "execution_count": 20,
   "id": "363ebcdd",
   "metadata": {},
   "outputs": [],
   "source": [
    "lowlotfrontage,upplotfrontage=remove_outlier(df['radius_mean'])\n",
    "df[\"texture_mean\"]=np.where(df['texture_mean']>upplotfrontage,upplotfrontage,df['texture_mean'])\n",
    "df[\"texture_mean\"]=np.where(df['texture_mean']<lowlotfrontage,lowlotfrontage,df['texture_mean'])"
   ]
  },
  {
   "cell_type": "code",
   "execution_count": 21,
   "id": "430cf81b",
   "metadata": {},
   "outputs": [
    {
     "data": {
      "image/png": "[encoded data removed]",
      "text/plain": [
       "<Figure size 432x288 with 1 Axes>"
      ]
     },
     "metadata": {
      "needs_background": "light"
     },
     "output_type": "display_data"
    }
   ],
   "source": [
    "df.boxplot(column=[\"texture_mean\"])\n",
    "plt.show()"
   ]
  },
  {
   "cell_type": "code",
   "execution_count": 22,
   "id": "d4db9382",
   "metadata": {},
   "outputs": [],
   "source": [
    "lowlotfrontage,upplotfrontage=remove_outlier(df['perimeter_mean'])\n",
    "df[\"perimeter_mean\"]=np.where(df['perimeter_mean']>upplotfrontage,upplotfrontage,df['perimeter_mean'])\n",
    "df[\"perimeter_mean\"]=np.where(df['perimeter_mean']<lowlotfrontage,lowlotfrontage,df['perimeter_mean'])"
   ]
  },
  {
   "cell_type": "code",
   "execution_count": 23,
   "id": "1b14debd",
   "metadata": {},
   "outputs": [
    {
     "data": {
      "image/png": "[encoded data removed]",
      "text/plain": [
       "<Figure size 432x288 with 1 Axes>"
      ]
     },
     "metadata": {
      "needs_background": "light"
     },
     "output_type": "display_data"
    }
   ],
   "source": [
    "df.boxplot(column=[\"perimeter_mean\"])\n",
    "plt.show()"
   ]
  },
  {
   "cell_type": "code",
   "execution_count": 24,
   "id": "6888154a",
   "metadata": {},
   "outputs": [],
   "source": [
    "lowlotfrontage,upplotfrontage=remove_outlier(df['area_mean'])\n",
    "df[\"area_mean\"]=np.where(df['area_mean']>upplotfrontage,upplotfrontage,df['area_mean'])\n",
    "df[\"area_mean\"]=np.where(df['area_mean']<lowlotfrontage,lowlotfrontage,df['area_mean'])"
   ]
  },
  {
   "cell_type": "code",
   "execution_count": 25,
   "id": "c2cdd96b",
   "metadata": {},
   "outputs": [
    {
     "data": {
      "image/png": "[encoded data removed]",
      "text/plain": [
       "<Figure size 432x288 with 1 Axes>"
      ]
     },
     "metadata": {
      "needs_background": "light"
     },
     "output_type": "display_data"
    }
   ],
   "source": [
    "df.boxplot(column=[\"area_mean\"])\n",
    "plt.show()"
   ]
  },
  {
   "cell_type": "code",
   "execution_count": 26,
   "id": "f3d7b9c2",
   "metadata": {},
   "outputs": [],
   "source": [
    "lowlotfrontage,upplotfrontage=remove_outlier(df['smoothness_mean'])\n",
    "df[\"smoothness_mean\"]=np.where(df['smoothness_mean']>upplotfrontage,upplotfrontage,df['smoothness_mean'])\n",
    "df[\"smoothness_mean\"]=np.where(df['smoothness_mean']<lowlotfrontage,lowlotfrontage,df['smoothness_mean'])"
   ]
  },
  {
   "cell_type": "code",
   "execution_count": 27,
   "id": "9224ca7e",
   "metadata": {},
   "outputs": [
    {
     "data": {
      "image/png": "[encoded data removed]",
      "text/plain": [
       "<Figure size 432x288 with 1 Axes>"
      ]
     },
     "metadata": {
      "needs_background": "light"
     },
     "output_type": "display_data"
    }
   ],
   "source": [
    "df.boxplot(column=[\"smoothness_mean\"])\n",
    "plt.show()"
   ]
  },
  {
   "cell_type": "code",
   "execution_count": 28,
   "id": "624ca428",
   "metadata": {},
   "outputs": [],
   "source": [
    "lowlotfrontage,upplotfrontage=remove_outlier(df['compactness_mean'])\n",
    "df[\"compactness_mean\"]=np.where(df['compactness_mean']>upplotfrontage,upplotfrontage,df['compactness_mean'])\n",
    "df[\"compactness_mean\"]=np.where(df['compactness_mean']<lowlotfrontage,lowlotfrontage,df['compactness_mean'])"
   ]
  },
  {
   "cell_type": "code",
   "execution_count": 29,
   "id": "2ad63449",
   "metadata": {},
   "outputs": [
    {
     "data": {
      "image/png": "[encoded data removed]",
      "text/plain": [
       "<Figure size 432x288 with 1 Axes>"
      ]
     },
     "metadata": {
      "needs_background": "light"
     },
     "output_type": "display_data"
    }
   ],
   "source": [
    "df.boxplot(column=[\"compactness_mean\"])\n",
    "plt.show()"
   ]
  },
  {
   "cell_type": "code",
   "execution_count": 30,
   "id": "62662506",
   "metadata": {},
   "outputs": [],
   "source": [
    "lowlotfrontage,upplotfrontage=remove_outlier(df['concavity_mean'])\n",
    "df[\"concavity_mean\"]=np.where(df['concavity_mean']>upplotfrontage,upplotfrontage,df['concavity_mean'])\n",
    "df[\"concavity_mean\"]=np.where(df['concavity_mean']<lowlotfrontage,lowlotfrontage,df['concavity_mean'])"
   ]
  },
  {
   "cell_type": "code",
   "execution_count": 31,
   "id": "17478fda",
   "metadata": {},
   "outputs": [
    {
     "data": {
      "image/png": "[encoded data removed]",
      "text/plain": [
       "<Figure size 432x288 with 1 Axes>"
      ]
     },
     "metadata": {
      "needs_background": "light"
     },
     "output_type": "display_data"
    }
   ],
   "source": [
    "df.boxplot(column=[\"concavity_mean\"])\n",
    "plt.show()"
   ]
  },
  {
   "cell_type": "code",
   "execution_count": 32,
   "id": "33444734",
   "metadata": {},
   "outputs": [],
   "source": [
    "lowlotfrontage,upplotfrontage=remove_outlier(df['points_mean'])\n",
    "df[\"points_mean\"]=np.where(df['points_mean']>upplotfrontage,upplotfrontage,df['points_mean'])\n",
    "df[\"points_mean\"]=np.where(df['points_mean']<lowlotfrontage,lowlotfrontage,df['points_mean'])"
   ]
  },
  {
   "cell_type": "code",
   "execution_count": 33,
   "id": "e149ece0",
   "metadata": {},
   "outputs": [
    {
     "data": {
      "image/png": "[encoded data removed]",
      "text/plain": [
       "<Figure size 432x288 with 1 Axes>"
      ]
     },
     "metadata": {
      "needs_background": "light"
     },
     "output_type": "display_data"
    }
   ],
   "source": [
    "df.boxplot(column=[\"points_mean\"])\n",
    "plt.show()"
   ]
  },
  {
   "cell_type": "code",
   "execution_count": 34,
   "id": "b1976586",
   "metadata": {},
   "outputs": [],
   "source": [
    "lowlotfrontage,upplotfrontage=remove_outlier(df['symmetry_mean'])\n",
    "df[\"symmetry_mean\"]=np.where(df['symmetry_mean']>upplotfrontage,upplotfrontage,df['symmetry_mean'])\n",
    "df[\"symmetry_mean\"]=np.where(df['symmetry_mean']<lowlotfrontage,lowlotfrontage,df['symmetry_mean'])"
   ]
  },
  {
   "cell_type": "code",
   "execution_count": 35,
   "id": "0798feed",
   "metadata": {},
   "outputs": [
    {
     "data": {
      "image/png": "[encoded data removed]",
      "text/plain": [
       "<Figure size 432x288 with 1 Axes>"
      ]
     },
     "metadata": {
      "needs_background": "light"
     },
     "output_type": "display_data"
    }
   ],
   "source": [
    "df.boxplot(column=[\"symmetry_mean\"])\n",
    "plt.show()"
   ]
  },
  {
   "cell_type": "code",
   "execution_count": 36,
   "id": "802e4b79",
   "metadata": {},
   "outputs": [],
   "source": [
    "lowlotfrontage,upplotfrontage=remove_outlier(df['dimension_mean'])\n",
    "df[\"dimension_mean\"]=np.where(df['dimension_mean']>upplotfrontage,upplotfrontage,df['dimension_mean'])\n",
    "df[\"dimension_mean\"]=np.where(df['dimension_mean']<lowlotfrontage,lowlotfrontage,df['dimension_mean'])"
   ]
  },
  {
   "cell_type": "code",
   "execution_count": 37,
   "id": "47c58699",
   "metadata": {},
   "outputs": [
    {
     "data": {
      "image/png": "[encoded data removed]",
      "text/plain": [
       "<Figure size 432x288 with 1 Axes>"
      ]
     },
     "metadata": {
      "needs_background": "light"
     },
     "output_type": "display_data"
    }
   ],
   "source": [
    "df.boxplot(column=[\"dimension_mean\"])\n",
    "plt.show()"
   ]
  },
  {
   "cell_type": "code",
   "execution_count": 38,
   "id": "adbc219e",
   "metadata": {},
   "outputs": [],
   "source": [
    "lowlotfrontage,upplotfrontage=remove_outlier(df['radius_se'])\n",
    "df[\"radius_se\"]=np.where(df['radius_se']>upplotfrontage,upplotfrontage,df['radius_se'])\n",
    "df[\"radius_se\"]=np.where(df['radius_se']<lowlotfrontage,lowlotfrontage,df['radius_se'])"
   ]
  },
  {
   "cell_type": "code",
   "execution_count": 39,
   "id": "bea907a4",
   "metadata": {},
   "outputs": [
    {
     "data": {
      "image/png": "[encoded data removed]",
      "text/plain": [
       "<Figure size 432x288 with 1 Axes>"
      ]
     },
     "metadata": {
      "needs_background": "light"
     },
     "output_type": "display_data"
    }
   ],
   "source": [
    "df.boxplot(column=[\"radius_se\"])\n",
    "plt.show()"
   ]
  },
  {
   "cell_type": "code",
   "execution_count": 40,
   "id": "7c964a4c",
   "metadata": {},
   "outputs": [],
   "source": [
    "lowlotfrontage,upplotfrontage=remove_outlier(df['texture_se'])\n",
    "df[\"texture_se\"]=np.where(df['texture_se']>upplotfrontage,upplotfrontage,df['texture_se'])\n",
    "df[\"texture_se\"]=np.where(df['texture_se']<lowlotfrontage,lowlotfrontage,df['texture_se'])"
   ]
  },
  {
   "cell_type": "code",
   "execution_count": 41,
   "id": "eb287ab5",
   "metadata": {},
   "outputs": [
    {
     "data": {
      "image/png": "[encoded data removed]",
      "text/plain": [
       "<Figure size 432x288 with 1 Axes>"
      ]
     },
     "metadata": {
      "needs_background": "light"
     },
     "output_type": "display_data"
    }
   ],
   "source": [
    "df.boxplot(column=[\"texture_se\"])\n",
    "plt.show()"
   ]
  },
  {
   "cell_type": "code",
   "execution_count": 42,
   "id": "f741e028",
   "metadata": {},
   "outputs": [],
   "source": [
    "lowlotfrontage,upplotfrontage=remove_outlier(df['perimeter_se'])\n",
    "df[\"perimeter_se\"]=np.where(df['perimeter_se']>upplotfrontage,upplotfrontage,df['perimeter_se'])\n",
    "df[\"perimeter_se\"]=np.where(df['perimeter_se']<lowlotfrontage,lowlotfrontage,df['perimeter_se'])"
   ]
  },
  {
   "cell_type": "code",
   "execution_count": 43,
   "id": "e189764e",
   "metadata": {},
   "outputs": [
    {
     "data": {
      "image/png": "[encoded data removed]",
      "text/plain": [
       "<Figure size 432x288 with 1 Axes>"
      ]
     },
     "metadata": {
      "needs_background": "light"
     },
     "output_type": "display_data"
    }
   ],
   "source": [
    "df.boxplot(column=[\"perimeter_se\"])\n",
    "plt.show()"
   ]
  },
  {
   "cell_type": "code",
   "execution_count": 44,
   "id": "99a999f6",
   "metadata": {},
   "outputs": [],
   "source": [
    "lowlotfrontage,upplotfrontage=remove_outlier(df['area_se'])\n",
    "df[\"area_se\"]=np.where(df['area_se']>upplotfrontage,upplotfrontage,df['area_se'])\n",
    "df[\"area_se\"]=np.where(df['area_se']<lowlotfrontage,lowlotfrontage,df['area_se'])"
   ]
  },
  {
   "cell_type": "code",
   "execution_count": 45,
   "id": "99d0f478",
   "metadata": {},
   "outputs": [
    {
     "data": {
      "image/png": "[encoded data removed]",
      "text/plain": [
       "<Figure size 432x288 with 1 Axes>"
      ]
     },
     "metadata": {
      "needs_background": "light"
     },
     "output_type": "display_data"
    }
   ],
   "source": [
    "df.boxplot(column=[\"area_se\"])\n",
    "plt.show()\n"
   ]
  },
  {
   "cell_type": "code",
   "execution_count": 46,
   "id": "e8971e50",
   "metadata": {},
   "outputs": [],
   "source": [
    "lowlotfrontage,upplotfrontage=remove_outlier(df['smoothness_se'])\n",
    "df[\"smoothness_se\"]=np.where(df['smoothness_se']>upplotfrontage,upplotfrontage,df['smoothness_se'])\n",
    "df[\"smoothness_se\"]=np.where(df['smoothness_se']<lowlotfrontage,lowlotfrontage,df['smoothness_se'])"
   ]
  },
  {
   "cell_type": "code",
   "execution_count": 47,
   "id": "8d724043",
   "metadata": {},
   "outputs": [
    {
     "data": {
      "image/png": "[encoded data removed]",
      "text/plain": [
       "<Figure size 432x288 with 1 Axes>"
      ]
     },
     "metadata": {
      "needs_background": "light"
     },
     "output_type": "display_data"
    }
   ],
   "source": [
    "df.boxplot(column=[\"smoothness_se\"])\n",
    "plt.show()"
   ]
  },
  {
   "cell_type": "code",
   "execution_count": 48,
   "id": "3cad6a8e",
   "metadata": {},
   "outputs": [],
   "source": [
    "lowlotfrontage,upplotfrontage=remove_outlier(df['compactness_mean'])\n",
    "df[\"compactness_mean\"]=np.where(df['compactness_mean']>upplotfrontage,upplotfrontage,df['compactness_mean'])\n",
    "df[\"compactness_mean\"]=np.where(df['compactness_mean']<lowlotfrontage,lowlotfrontage,df['compactness_mean'])"
   ]
  },
  {
   "cell_type": "code",
   "execution_count": 49,
   "id": "1c8d9a44",
   "metadata": {},
   "outputs": [
    {
     "data": {
      "image/png": "[encoded data removed]",
      "text/plain": [
       "<Figure size 432x288 with 1 Axes>"
      ]
     },
     "metadata": {
      "needs_background": "light"
     },
     "output_type": "display_data"
    }
   ],
   "source": [
    "df.boxplot(column=[\"compactness_mean\"])\n",
    "plt.show()"
   ]
  },
  {
   "cell_type": "code",
   "execution_count": 50,
   "id": "deaab0f7",
   "metadata": {},
   "outputs": [],
   "source": [
    "lowlotfrontage,upplotfrontage=remove_outlier(df['concavity_se'])\n",
    "df[\"concavity_se\"]=np.where(df['concavity_se']>upplotfrontage,upplotfrontage,df['concavity_se'])\n",
    "df[\"concavity_se\"]=np.where(df['concavity_se']<lowlotfrontage,lowlotfrontage,df['concavity_se'])"
   ]
  },
  {
   "cell_type": "code",
   "execution_count": 51,
   "id": "2caef31d",
   "metadata": {},
   "outputs": [
    {
     "data": {
      "image/png": "[encoded data removed]",
      "text/plain": [
       "<Figure size 432x288 with 1 Axes>"
      ]
     },
     "metadata": {
      "needs_background": "light"
     },
     "output_type": "display_data"
    }
   ],
   "source": [
    "df.boxplot(column=[\"concavity_se\"])\n",
    "plt.show()"
   ]
  },
  {
   "cell_type": "code",
   "execution_count": 52,
   "id": "a93cfb54",
   "metadata": {},
   "outputs": [],
   "source": [
    "lowlotfrontage,upplotfrontage=remove_outlier(df['points_se'])\n",
    "df[\"points_se\"]=np.where(df['points_se']>upplotfrontage,upplotfrontage,df['points_se'])\n",
    "df[\"points_se\"]=np.where(df['points_se']<lowlotfrontage,lowlotfrontage,df['points_se'])"
   ]
  },
  {
   "cell_type": "code",
   "execution_count": 53,
   "id": "e441c0eb",
   "metadata": {},
   "outputs": [
    {
     "data": {
      "image/png": "[encoded data removed]",
      "text/plain": [
       "<Figure size 432x288 with 1 Axes>"
      ]
     },
     "metadata": {
      "needs_background": "light"
     },
     "output_type": "display_data"
    }
   ],
   "source": [
    "df.boxplot(column=[\"points_se\"])\n",
    "plt.show()"
   ]
  },
  {
   "cell_type": "code",
   "execution_count": 54,
   "id": "3312c6d6",
   "metadata": {},
   "outputs": [],
   "source": [
    "lowlotfrontage,upplotfrontage=remove_outlier(df['symmetry_se'])\n",
    "df[\"symmetry_se\"]=np.where(df['symmetry_se']>upplotfrontage,upplotfrontage,df['symmetry_se'])\n",
    "df[\"symmetry_se\"]=np.where(df['symmetry_se']<lowlotfrontage,lowlotfrontage,df['symmetry_se'])"
   ]
  },
  {
   "cell_type": "code",
   "execution_count": 55,
   "id": "6a934466",
   "metadata": {},
   "outputs": [
    {
     "data": {
      "image/png": "[encoded data removed]",
      "text/plain": [
       "<Figure size 432x288 with 1 Axes>"
      ]
     },
     "metadata": {
      "needs_background": "light"
     },
     "output_type": "display_data"
    }
   ],
   "source": [
    "df.boxplot(column=[\"symmetry_se\"])\n",
    "plt.show()"
   ]
  },
  {
   "cell_type": "code",
   "execution_count": 56,
   "id": "bf20849c",
   "metadata": {},
   "outputs": [],
   "source": [
    "lowlotfrontage,upplotfrontage=remove_outlier(df['dimension_se'])\n",
    "df['dimension_se']=np.where(df['dimension_se']>upplotfrontage,upplotfrontage,df['dimension_se'])\n",
    "df['dimension_se']=np.where(df['dimension_se']<lowlotfrontage,lowlotfrontage,df['dimension_se'])"
   ]
  },
  {
   "cell_type": "code",
   "execution_count": 57,
   "id": "8f9d07d0",
   "metadata": {
    "scrolled": true
   },
   "outputs": [
    {
     "data": {
      "image/png": "[encoded data removed]",
      "text/plain": [
       "<Figure size 432x288 with 1 Axes>"
      ]
     },
     "metadata": {
      "needs_background": "light"
     },
     "output_type": "display_data"
    }
   ],
   "source": [
    "df.boxplot(column=[\"dimension_se\"])\n",
    "plt.show()"
   ]
  },
  {
   "cell_type": "code",
   "execution_count": 58,
   "id": "1e2b064e",
   "metadata": {},
   "outputs": [],
   "source": [
    "lowdiagnosis,uppdiagnosis=remove_outlier(df['radius_worst'])\n",
    "df[\"radius_worst\"]=np.where(df['radius_worst']>uppdiagnosis,uppdiagnosis,df['radius_worst'])\n",
    "df[\"radius_worst\"]=np.where(df['radius_worst']<lowdiagnosis,lowdiagnosis,df['radius_worst'])\n"
   ]
  },
  {
   "cell_type": "code",
   "execution_count": 59,
   "id": "558f3e8e",
   "metadata": {},
   "outputs": [
    {
     "data": {
      "image/png": "[encoded data removed]",
      "text/plain": [
       "<Figure size 432x288 with 1 Axes>"
      ]
     },
     "metadata": {
      "needs_background": "light"
     },
     "output_type": "display_data"
    }
   ],
   "source": [
    "df.boxplot(column=[\"radius_worst\"])\n",
    "plt.show()\n"
   ]
  },
  {
   "cell_type": "code",
   "execution_count": 60,
   "id": "6bafdc8b",
   "metadata": {},
   "outputs": [],
   "source": [
    "lowlotfrontage,upplotfrontage=remove_outlier(df['texture_worst'])\n",
    "df['texture_worst']=np.where(df['texture_worst']>upplotfrontage,upplotfrontage,df['texture_worst'])\n",
    "df['texture_worst']=np.where(df['texture_worst']<lowlotfrontage,lowlotfrontage,df['texture_worst'])"
   ]
  },
  {
   "cell_type": "code",
   "execution_count": 61,
   "id": "04a80465",
   "metadata": {},
   "outputs": [
    {
     "data": {
      "image/png": "[encoded data removed]",
      "text/plain": [
       "<Figure size 432x288 with 1 Axes>"
      ]
     },
     "metadata": {
      "needs_background": "light"
     },
     "output_type": "display_data"
    }
   ],
   "source": [
    "df.boxplot(column=[\"texture_worst\"])\n",
    "plt.show()"
   ]
  },
  {
   "cell_type": "code",
   "execution_count": 62,
   "id": "77bac3f0",
   "metadata": {},
   "outputs": [],
   "source": [
    "lowdiagnosis,uppdiagnosis=remove_outlier(df['perimeter_worst'])\n",
    "df[\"perimeter_worst\"]=np.where(df['perimeter_worst']>uppdiagnosis,uppdiagnosis,df['perimeter_worst'])\n",
    "df[\"perimeter_worst\"]=np.where(df['perimeter_worst']<lowdiagnosis,lowdiagnosis,df['perimeter_worst'])"
   ]
  },
  {
   "cell_type": "code",
   "execution_count": 63,
   "id": "0f4f3cb8",
   "metadata": {},
   "outputs": [
    {
     "data": {
      "image/png": "[encoded data removed]",
      "text/plain": [
       "<Figure size 432x288 with 1 Axes>"
      ]
     },
     "metadata": {
      "needs_background": "light"
     },
     "output_type": "display_data"
    }
   ],
   "source": [
    "df.boxplot(column=[\"perimeter_worst\"])\n",
    "plt.show()"
   ]
  },
  {
   "cell_type": "code",
   "execution_count": 64,
   "id": "94b6dbe3",
   "metadata": {},
   "outputs": [],
   "source": [
    "lowdiagnosis,uppdiagnosis=remove_outlier(df['area_worst'])\n",
    "df[\"area_worst\"]=np.where(df['area_worst']>uppdiagnosis,uppdiagnosis,df['area_worst'])\n",
    "df[\"area_worst\"]=np.where(df['area_worst']<lowdiagnosis,lowdiagnosis,df['area_worst'])"
   ]
  },
  {
   "cell_type": "code",
   "execution_count": 65,
   "id": "db495579",
   "metadata": {},
   "outputs": [
    {
     "data": {
      "image/png": "[encoded data removed]",
      "text/plain": [
       "<Figure size 432x288 with 1 Axes>"
      ]
     },
     "metadata": {
      "needs_background": "light"
     },
     "output_type": "display_data"
    }
   ],
   "source": [
    "df.boxplot(column=[\"area_worst\"])\n",
    "plt.show()"
   ]
  },
  {
   "cell_type": "code",
   "execution_count": 66,
   "id": "64815c68",
   "metadata": {},
   "outputs": [],
   "source": [
    "lowdiagnosis,uppdiagnosis=remove_outlier(df['smoothness_worst'])\n",
    "df[\"smoothness_worst\"]=np.where(df['smoothness_worst']>uppdiagnosis,uppdiagnosis,df['smoothness_worst'])\n",
    "df[\"smoothness_worst\"]=np.where(df['smoothness_worst']<lowdiagnosis,lowdiagnosis,df['smoothness_worst'])"
   ]
  },
  {
   "cell_type": "code",
   "execution_count": 67,
   "id": "4517be32",
   "metadata": {},
   "outputs": [
    {
     "data": {
      "image/png": "[encoded data removed]",
      "text/plain": [
       "<Figure size 432x288 with 1 Axes>"
      ]
     },
     "metadata": {
      "needs_background": "light"
     },
     "output_type": "display_data"
    }
   ],
   "source": [
    "df.boxplot(column=[\"smoothness_worst\"])\n",
    "plt.show()"
   ]
  },
  {
   "cell_type": "code",
   "execution_count": 68,
   "id": "2a25d2d1",
   "metadata": {},
   "outputs": [],
   "source": [
    "lowdiagnosis,uppdiagnosis=remove_outlier(df['compactness_worst'])\n",
    "df[\"compactness_worst\"]=np.where(df['compactness_worst']>uppdiagnosis,uppdiagnosis,df['compactness_worst'])\n",
    "df[\"compactness_worst\"]=np.where(df['compactness_worst']<lowdiagnosis,lowdiagnosis,df['compactness_worst'])"
   ]
  },
  {
   "cell_type": "code",
   "execution_count": 69,
   "id": "ae7b584c",
   "metadata": {},
   "outputs": [
    {
     "data": {
      "image/png": "[encoded data removed]",
      "text/plain": [
       "<Figure size 432x288 with 1 Axes>"
      ]
     },
     "metadata": {
      "needs_background": "light"
     },
     "output_type": "display_data"
    }
   ],
   "source": [
    "df.boxplot(column=[\"compactness_worst\"])\n",
    "plt.show()"
   ]
  },
  {
   "cell_type": "code",
   "execution_count": 70,
   "id": "e56bd2c5",
   "metadata": {},
   "outputs": [],
   "source": [
    "lowdiagnosis,uppdiagnosis=remove_outlier(df['concavity_worst'])\n",
    "df[\"concavity_worst\"]=np.where(df['concavity_worst']>uppdiagnosis,uppdiagnosis,df['concavity_worst'])\n",
    "df[\"concavity_worst\"]=np.where(df['concavity_worst']<lowdiagnosis,lowdiagnosis,df['concavity_worst'])"
   ]
  },
  {
   "cell_type": "code",
   "execution_count": 71,
   "id": "2c96b334",
   "metadata": {},
   "outputs": [
    {
     "data": {
      "image/png": "[encoded data removed]",
      "text/plain": [
       "<Figure size 432x288 with 1 Axes>"
      ]
     },
     "metadata": {
      "needs_background": "light"
     },
     "output_type": "display_data"
    }
   ],
   "source": [
    "df.boxplot(column=[\"concavity_worst\"])\n",
    "plt.show()"
   ]
  },
  {
   "cell_type": "code",
   "execution_count": 72,
   "id": "7549de83",
   "metadata": {},
   "outputs": [],
   "source": [
    "lowdiagnosis,uppdiagnosis=remove_outlier(df['symmetry_worst'])\n",
    "df[\"symmetry_worst\"]=np.where(df['symmetry_worst']>uppdiagnosis,uppdiagnosis,df['symmetry_worst'])\n",
    "df[\"symmetry_worst\"]=np.where(df['symmetry_worst']<lowdiagnosis,lowdiagnosis,df['symmetry_worst'])"
   ]
  },
  {
   "cell_type": "code",
   "execution_count": 73,
   "id": "85b091e4",
   "metadata": {},
   "outputs": [
    {
     "data": {
      "image/png": "[encoded data removed]",
      "text/plain": [
       "<Figure size 432x288 with 1 Axes>"
      ]
     },
     "metadata": {
      "needs_background": "light"
     },
     "output_type": "display_data"
    }
   ],
   "source": [
    "df.boxplot(column=[\"symmetry_worst\"])\n",
    "plt.show()"
   ]
  },
  {
   "cell_type": "code",
   "execution_count": 74,
   "id": "93ae1eaf",
   "metadata": {},
   "outputs": [],
   "source": [
    "lowdiagnosis,uppdiagnosis=remove_outlier(df['dimension_worst'])\n",
    "df[\"dimension_worst\"]=np.where(df['dimension_worst']>uppdiagnosis,uppdiagnosis,df['dimension_worst'])\n",
    "df[\"dimension_worst\"]=np.where(df['dimension_worst']<lowdiagnosis,lowdiagnosis,df['dimension_worst'])"
   ]
  },
  {
   "cell_type": "code",
   "execution_count": 75,
   "id": "cec37fae",
   "metadata": {},
   "outputs": [
    {
     "data": {
      "image/png": "[encoded data removed]",
      "text/plain": [
       "<Figure size 432x288 with 1 Axes>"
      ]
     },
     "metadata": {
      "needs_background": "light"
     },
     "output_type": "display_data"
    }
   ],
   "source": [
    "df.boxplot(column=[\"dimension_worst\"])\n",
    "plt.show()"
   ]
  },
  {
   "cell_type": "markdown",
   "id": "cc4b8127",
   "metadata": {},
   "source": [
    "# logistic regression"
   ]
  },
  {
   "cell_type": "code",
   "execution_count": 76,
   "id": "948f0564",
   "metadata": {},
   "outputs": [],
   "source": [
    "x=df.drop(['diagnosis_B'],axis=1)\n",
    "y=df[['diagnosis_M']]"
   ]
  },
  {
   "cell_type": "code",
   "execution_count": 77,
   "id": "04c36e4d",
   "metadata": {},
   "outputs": [],
   "source": [
    "x_train, x_test, y_train, y_test = train_test_split(x, y,train_size=0.3,test_size=0.2,random_state=1)"
   ]
  },
  {
   "cell_type": "code",
   "execution_count": 78,
   "id": "1e277867",
   "metadata": {},
   "outputs": [
    {
     "name": "stderr",
     "output_type": "stream",
     "text": [
      "C:\\Users\\91709\\anaconda3\\lib\\site-packages\\sklearn\\utils\\validation.py:63: DataConversionWarning: A column-vector y was passed when a 1d array was expected. Please change the shape of y to (n_samples, ), for example using ravel().\n",
      "  return f(*args, **kwargs)\n",
      "C:\\Users\\91709\\anaconda3\\lib\\site-packages\\sklearn\\linear_model\\_logistic.py:763: ConvergenceWarning: lbfgs failed to converge (status=1):\n",
      "STOP: TOTAL NO. of ITERATIONS REACHED LIMIT.\n",
      "\n",
      "Increase the number of iterations (max_iter) or scale the data as shown in:\n",
      "    https://scikit-learn.org/stable/modules/preprocessing.html\n",
      "Please also refer to the documentation for alternative solver options:\n",
      "    https://scikit-learn.org/stable/modules/linear_model.html#logistic-regression\n",
      "  n_iter_i = _check_optimize_result(\n"
     ]
    },
    {
     "data": {
      "text/plain": [
       "LogisticRegression()"
      ]
     },
     "execution_count": 78,
     "metadata": {},
     "output_type": "execute_result"
    }
   ],
   "source": [
    "reg=LogisticRegression()\n",
    "reg.fit(x_train,y_train)"
   ]
  },
  {
   "cell_type": "code",
   "execution_count": 79,
   "id": "950d4320",
   "metadata": {},
   "outputs": [
    {
     "data": {
      "text/plain": [
       "0.9941176470588236"
      ]
     },
     "execution_count": 79,
     "metadata": {},
     "output_type": "execute_result"
    }
   ],
   "source": [
    "reg.score(x_train,y_train)"
   ]
  },
  {
   "cell_type": "code",
   "execution_count": 80,
   "id": "5273a444",
   "metadata": {},
   "outputs": [
    {
     "data": {
      "text/plain": [
       "0.9912280701754386"
      ]
     },
     "execution_count": 80,
     "metadata": {},
     "output_type": "execute_result"
    }
   ],
   "source": [
    "reg.score(x_test,y_test)"
   ]
  },
  {
   "cell_type": "code",
   "execution_count": 81,
   "id": "1b4087f0",
   "metadata": {},
   "outputs": [],
   "source": [
    "# firt Creating model with all the features\n",
    "x = df.drop(['diagnosis_M'],axis=1)\n",
    "y= df['diagnosis_B']\n",
    "x_train, x_test,y_train,y_test = train_test_split(x,y,test_size = 0.20, random_state=1)\n",
    "sc = StandardScaler()\n",
    "x_train = sc.fit_transform(x_train)\n",
    "x_test = sc.transform(x_test)\n",
    "model = LogisticRegression()\n",
    "model.fit(x_train,y_train)\n",
    "y_pred= model.predict(x_test)"
   ]
  },
  {
   "cell_type": "code",
   "execution_count": 82,
   "id": "8fed1706",
   "metadata": {},
   "outputs": [],
   "source": [
    "# Creating Function for viewing Result of the predicted\n",
    "def res(y_valid):\n",
    "    cm1 = confusion_matrix(y_test,y_valid)\n",
    "    ConfusionMatrixDisplay(cm1).plot().ax_.set(ylabel = 'Actual value', xlabel ='Predicted value')\n",
    "    print('Accuracy',accuracy_score(y_test,y_valid))\n",
    "    print(classification_report(y_test,y_valid))\n",
    "    plt.show()"
   ]
  },
  {
   "cell_type": "code",
   "execution_count": 83,
   "id": "3303729f",
   "metadata": {},
   "outputs": [
    {
     "name": "stdout",
     "output_type": "stream",
     "text": [
      "Accuracy 0.9912280701754386\n",
      "              precision    recall  f1-score   support\n",
      "\n",
      "           0       1.00      0.97      0.99        37\n",
      "           1       0.99      1.00      0.99        77\n",
      "\n",
      "    accuracy                           0.99       114\n",
      "   macro avg       0.99      0.99      0.99       114\n",
      "weighted avg       0.99      0.99      0.99       114\n",
      "\n"
     ]
    },
    {
     "data": {
      "image/png": "[encoded data removed]",
      "text/plain": [
       "<Figure size 432x288 with 2 Axes>"
      ]
     },
     "metadata": {
      "needs_background": "light"
     },
     "output_type": "display_data"
    }
   ],
   "source": [
    "res(y_pred)"
   ]
  },
  {
   "cell_type": "code",
   "execution_count": 84,
   "id": "e61e5ff6",
   "metadata": {},
   "outputs": [],
   "source": [
    "from sklearn.neighbors import KNeighborsClassifier\n",
    "from scipy.stats import zscore"
   ]
  },
  {
   "cell_type": "code",
   "execution_count": 85,
   "id": "d2e7421c",
   "metadata": {},
   "outputs": [
    {
     "data": {
      "text/html": [
       "<div>\n",
       "<style scoped>\n",
       "    .dataframe tbody tr th:only-of-type {\n",
       "        vertical-align: middle;\n",
       "    }\n",
       "\n",
       "    .dataframe tbody tr th {\n",
       "        vertical-align: top;\n",
       "    }\n",
       "\n",
       "    .dataframe thead th {\n",
       "        text-align: right;\n",
       "    }\n",
       "</style>\n",
       "<table border=\"1\" class=\"dataframe\">\n",
       "  <thead>\n",
       "    <tr style=\"text-align: right;\">\n",
       "      <th></th>\n",
       "      <th>radius_mean</th>\n",
       "      <th>texture_mean</th>\n",
       "      <th>perimeter_mean</th>\n",
       "      <th>area_mean</th>\n",
       "      <th>smoothness_mean</th>\n",
       "      <th>compactness_mean</th>\n",
       "      <th>concavity_mean</th>\n",
       "      <th>points_mean</th>\n",
       "      <th>symmetry_mean</th>\n",
       "      <th>dimension_mean</th>\n",
       "      <th>radius_se</th>\n",
       "      <th>texture_se</th>\n",
       "      <th>perimeter_se</th>\n",
       "      <th>area_se</th>\n",
       "      <th>smoothness_se</th>\n",
       "      <th>compactness_se</th>\n",
       "      <th>concavity_se</th>\n",
       "      <th>points_se</th>\n",
       "      <th>symmetry_se</th>\n",
       "      <th>dimension_se</th>\n",
       "      <th>radius_worst</th>\n",
       "      <th>texture_worst</th>\n",
       "      <th>perimeter_worst</th>\n",
       "      <th>area_worst</th>\n",
       "      <th>smoothness_worst</th>\n",
       "      <th>compactness_worst</th>\n",
       "      <th>concavity_worst</th>\n",
       "      <th>points_worst</th>\n",
       "      <th>symmetry_worst</th>\n",
       "      <th>dimension_worst</th>\n",
       "      <th>diagnosis_B</th>\n",
       "    </tr>\n",
       "  </thead>\n",
       "  <tbody>\n",
       "    <tr>\n",
       "      <th>count</th>\n",
       "      <td>5.690000e+02</td>\n",
       "      <td>5.690000e+02</td>\n",
       "      <td>5.690000e+02</td>\n",
       "      <td>5.690000e+02</td>\n",
       "      <td>5.690000e+02</td>\n",
       "      <td>5.690000e+02</td>\n",
       "      <td>5.690000e+02</td>\n",
       "      <td>5.690000e+02</td>\n",
       "      <td>5.690000e+02</td>\n",
       "      <td>5.690000e+02</td>\n",
       "      <td>5.690000e+02</td>\n",
       "      <td>5.690000e+02</td>\n",
       "      <td>5.690000e+02</td>\n",
       "      <td>5.690000e+02</td>\n",
       "      <td>5.690000e+02</td>\n",
       "      <td>5.690000e+02</td>\n",
       "      <td>5.690000e+02</td>\n",
       "      <td>5.690000e+02</td>\n",
       "      <td>5.690000e+02</td>\n",
       "      <td>5.690000e+02</td>\n",
       "      <td>5.690000e+02</td>\n",
       "      <td>5.690000e+02</td>\n",
       "      <td>5.690000e+02</td>\n",
       "      <td>5.690000e+02</td>\n",
       "      <td>5.690000e+02</td>\n",
       "      <td>5.690000e+02</td>\n",
       "      <td>5.690000e+02</td>\n",
       "      <td>5.690000e+02</td>\n",
       "      <td>5.690000e+02</td>\n",
       "      <td>5.690000e+02</td>\n",
       "      <td>5.690000e+02</td>\n",
       "    </tr>\n",
       "    <tr>\n",
       "      <th>mean</th>\n",
       "      <td>2.552147e-16</td>\n",
       "      <td>-2.029230e-16</td>\n",
       "      <td>-3.871147e-16</td>\n",
       "      <td>7.882779e-17</td>\n",
       "      <td>1.191587e-15</td>\n",
       "      <td>4.877957e-18</td>\n",
       "      <td>1.022420e-16</td>\n",
       "      <td>7.024258e-18</td>\n",
       "      <td>-3.707247e-17</td>\n",
       "      <td>1.910988e-15</td>\n",
       "      <td>2.489709e-16</td>\n",
       "      <td>-2.313127e-16</td>\n",
       "      <td>-7.692538e-17</td>\n",
       "      <td>2.946286e-17</td>\n",
       "      <td>2.665316e-16</td>\n",
       "      <td>-2.356053e-17</td>\n",
       "      <td>-3.795051e-17</td>\n",
       "      <td>1.439973e-16</td>\n",
       "      <td>-5.808671e-16</td>\n",
       "      <td>9.990056e-17</td>\n",
       "      <td>-7.301326e-16</td>\n",
       "      <td>-3.861391e-16</td>\n",
       "      <td>-1.717041e-17</td>\n",
       "      <td>-1.229245e-16</td>\n",
       "      <td>3.344327e-16</td>\n",
       "      <td>5.229170e-17</td>\n",
       "      <td>-7.199865e-17</td>\n",
       "      <td>2.224348e-16</td>\n",
       "      <td>-2.722876e-16</td>\n",
       "      <td>-1.351194e-17</td>\n",
       "      <td>-5.073075e-18</td>\n",
       "    </tr>\n",
       "    <tr>\n",
       "      <th>std</th>\n",
       "      <td>1.000880e+00</td>\n",
       "      <td>1.000880e+00</td>\n",
       "      <td>1.000880e+00</td>\n",
       "      <td>1.000880e+00</td>\n",
       "      <td>1.000880e+00</td>\n",
       "      <td>1.000880e+00</td>\n",
       "      <td>1.000880e+00</td>\n",
       "      <td>1.000880e+00</td>\n",
       "      <td>1.000880e+00</td>\n",
       "      <td>1.000880e+00</td>\n",
       "      <td>1.000880e+00</td>\n",
       "      <td>1.000880e+00</td>\n",
       "      <td>1.000880e+00</td>\n",
       "      <td>1.000880e+00</td>\n",
       "      <td>1.000880e+00</td>\n",
       "      <td>1.000880e+00</td>\n",
       "      <td>1.000880e+00</td>\n",
       "      <td>1.000880e+00</td>\n",
       "      <td>1.000880e+00</td>\n",
       "      <td>1.000880e+00</td>\n",
       "      <td>1.000880e+00</td>\n",
       "      <td>1.000880e+00</td>\n",
       "      <td>1.000880e+00</td>\n",
       "      <td>1.000880e+00</td>\n",
       "      <td>1.000880e+00</td>\n",
       "      <td>1.000880e+00</td>\n",
       "      <td>1.000880e+00</td>\n",
       "      <td>1.000880e+00</td>\n",
       "      <td>1.000880e+00</td>\n",
       "      <td>1.000880e+00</td>\n",
       "      <td>1.000880e+00</td>\n",
       "    </tr>\n",
       "    <tr>\n",
       "      <th>min</th>\n",
       "      <td>-2.122184e+00</td>\n",
       "      <td>-2.896043e+00</td>\n",
       "      <td>-2.073821e+00</td>\n",
       "      <td>-1.626699e+00</td>\n",
       "      <td>-2.800558e+00</td>\n",
       "      <td>-1.699191e+00</td>\n",
       "      <td>-1.177440e+00</td>\n",
       "      <td>-1.291295e+00</td>\n",
       "      <td>-2.669855e+00</td>\n",
       "      <td>-1.971880e+00</td>\n",
       "      <td>-1.342941e+00</td>\n",
       "      <td>-1.727281e+00</td>\n",
       "      <td>-1.385466e+00</td>\n",
       "      <td>-1.160026e+00</td>\n",
       "      <td>-2.144171e+00</td>\n",
       "      <td>-1.298098e+00</td>\n",
       "      <td>-1.461044e+00</td>\n",
       "      <td>-2.116403e+00</td>\n",
       "      <td>-1.852580e+00</td>\n",
       "      <td>-1.515968e+00</td>\n",
       "      <td>-1.800893e+00</td>\n",
       "      <td>-2.252978e+00</td>\n",
       "      <td>-1.763105e+00</td>\n",
       "      <td>-1.398716e+00</td>\n",
       "      <td>-2.677510e+00</td>\n",
       "      <td>-1.559587e+00</td>\n",
       "      <td>-1.362240e+00</td>\n",
       "      <td>-1.745063e+00</td>\n",
       "      <td>-2.436155e+00</td>\n",
       "      <td>-1.771202e+00</td>\n",
       "      <td>-1.297676e+00</td>\n",
       "    </tr>\n",
       "    <tr>\n",
       "      <th>25%</th>\n",
       "      <td>-7.080771e-01</td>\n",
       "      <td>-7.697401e-01</td>\n",
       "      <td>-7.110704e-01</td>\n",
       "      <td>-7.193810e-01</td>\n",
       "      <td>-7.237785e-01</td>\n",
       "      <td>-7.762471e-01</td>\n",
       "      <td>-7.770901e-01</td>\n",
       "      <td>-7.511308e-01</td>\n",
       "      <td>-7.231654e-01</td>\n",
       "      <td>-7.648199e-01</td>\n",
       "      <td>-7.486422e-01</td>\n",
       "      <td>-7.507268e-01</td>\n",
       "      <td>-7.797939e-01</td>\n",
       "      <td>-7.048727e-01</td>\n",
       "      <td>-7.088254e-01</td>\n",
       "      <td>-6.929263e-01</td>\n",
       "      <td>-7.270727e-01</td>\n",
       "      <td>-7.230329e-01</td>\n",
       "      <td>-7.442244e-01</td>\n",
       "      <td>-7.551890e-01</td>\n",
       "      <td>-6.925011e-01</td>\n",
       "      <td>-7.552307e-01</td>\n",
       "      <td>-7.076603e-01</td>\n",
       "      <td>-7.041009e-01</td>\n",
       "      <td>-6.999628e-01</td>\n",
       "      <td>-7.194426e-01</td>\n",
       "      <td>-7.818702e-01</td>\n",
       "      <td>-7.563999e-01</td>\n",
       "      <td>-6.914798e-01</td>\n",
       "      <td>-7.436156e-01</td>\n",
       "      <td>-1.297676e+00</td>\n",
       "    </tr>\n",
       "    <tr>\n",
       "      <th>50%</th>\n",
       "      <td>-2.076408e-01</td>\n",
       "      <td>1.090877e-01</td>\n",
       "      <td>-2.303295e-01</td>\n",
       "      <td>-2.906340e-01</td>\n",
       "      <td>-2.895864e-02</td>\n",
       "      <td>-2.146581e-01</td>\n",
       "      <td>-3.439642e-01</td>\n",
       "      <td>-4.003299e-01</td>\n",
       "      <td>-5.891024e-02</td>\n",
       "      <td>-1.659685e-01</td>\n",
       "      <td>-2.973876e-01</td>\n",
       "      <td>-1.856572e-01</td>\n",
       "      <td>-2.939721e-01</td>\n",
       "      <td>-4.296716e-01</td>\n",
       "      <td>-2.058731e-01</td>\n",
       "      <td>-2.810204e-01</td>\n",
       "      <td>-2.017650e-01</td>\n",
       "      <td>-1.224864e-01</td>\n",
       "      <td>-2.005545e-01</td>\n",
       "      <td>-2.272763e-01</td>\n",
       "      <td>-2.648538e-01</td>\n",
       "      <td>-3.941976e-02</td>\n",
       "      <td>-2.832903e-01</td>\n",
       "      <td>-3.438521e-01</td>\n",
       "      <td>-4.078051e-02</td>\n",
       "      <td>-2.661248e-01</td>\n",
       "      <td>-2.131581e-01</td>\n",
       "      <td>-2.234689e-01</td>\n",
       "      <td>-1.006315e-01</td>\n",
       "      <td>-2.066671e-01</td>\n",
       "      <td>7.706085e-01</td>\n",
       "    </tr>\n",
       "    <tr>\n",
       "      <th>75%</th>\n",
       "      <td>5.145457e-01</td>\n",
       "      <td>1.083369e+00</td>\n",
       "      <td>5.452832e-01</td>\n",
       "      <td>4.685234e-01</td>\n",
       "      <td>6.607414e-01</td>\n",
       "      <td>5.508135e-01</td>\n",
       "      <td>5.927146e-01</td>\n",
       "      <td>6.768071e-01</td>\n",
       "      <td>5.746279e-01</td>\n",
       "      <td>5.482866e-01</td>\n",
       "      <td>4.630598e-01</td>\n",
       "      <td>5.688684e-01</td>\n",
       "      <td>4.693601e-01</td>\n",
       "      <td>4.214744e-01</td>\n",
       "      <td>5.275817e-01</td>\n",
       "      <td>3.896541e-01</td>\n",
       "      <td>5.842510e-01</td>\n",
       "      <td>5.670840e-01</td>\n",
       "      <td>5.228157e-01</td>\n",
       "      <td>5.435099e-01</td>\n",
       "      <td>5.686221e-01</td>\n",
       "      <td>6.730849e-01</td>\n",
       "      <td>5.854938e-01</td>\n",
       "      <td>4.925901e-01</td>\n",
       "      <td>6.184018e-01</td>\n",
       "      <td>6.250965e-01</td>\n",
       "      <td>5.785783e-01</td>\n",
       "      <td>7.125100e-01</td>\n",
       "      <td>5.626793e-01</td>\n",
       "      <td>5.468131e-01</td>\n",
       "      <td>7.706085e-01</td>\n",
       "    </tr>\n",
       "    <tr>\n",
       "      <th>max</th>\n",
       "      <td>2.348480e+00</td>\n",
       "      <td>1.116284e+00</td>\n",
       "      <td>2.429814e+00</td>\n",
       "      <td>2.250380e+00</td>\n",
       "      <td>2.737521e+00</td>\n",
       "      <td>2.541404e+00</td>\n",
       "      <td>2.647422e+00</td>\n",
       "      <td>2.818714e+00</td>\n",
       "      <td>2.521318e+00</td>\n",
       "      <td>2.517947e+00</td>\n",
       "      <td>2.280613e+00</td>\n",
       "      <td>2.548261e+00</td>\n",
       "      <td>2.343091e+00</td>\n",
       "      <td>2.110995e+00</td>\n",
       "      <td>2.382192e+00</td>\n",
       "      <td>6.143482e+00</td>\n",
       "      <td>2.551236e+00</td>\n",
       "      <td>2.502259e+00</td>\n",
       "      <td>2.423376e+00</td>\n",
       "      <td>2.491558e+00</td>\n",
       "      <td>2.460307e+00</td>\n",
       "      <td>2.815558e+00</td>\n",
       "      <td>2.525225e+00</td>\n",
       "      <td>2.287627e+00</td>\n",
       "      <td>2.595949e+00</td>\n",
       "      <td>2.641905e+00</td>\n",
       "      <td>2.619251e+00</td>\n",
       "      <td>2.685877e+00</td>\n",
       "      <td>2.443918e+00</td>\n",
       "      <td>2.482456e+00</td>\n",
       "      <td>7.706085e-01</td>\n",
       "    </tr>\n",
       "  </tbody>\n",
       "</table>\n",
       "</div>"
      ],
      "text/plain": [
       "        radius_mean  texture_mean  perimeter_mean     area_mean  \\\n",
       "count  5.690000e+02  5.690000e+02    5.690000e+02  5.690000e+02   \n",
       "mean   2.552147e-16 -2.029230e-16   -3.871147e-16  7.882779e-17   \n",
       "std    1.000880e+00  1.000880e+00    1.000880e+00  1.000880e+00   \n",
       "min   -2.122184e+00 -2.896043e+00   -2.073821e+00 -1.626699e+00   \n",
       "25%   -7.080771e-01 -7.697401e-01   -7.110704e-01 -7.193810e-01   \n",
       "50%   -2.076408e-01  1.090877e-01   -2.303295e-01 -2.906340e-01   \n",
       "75%    5.145457e-01  1.083369e+00    5.452832e-01  4.685234e-01   \n",
       "max    2.348480e+00  1.116284e+00    2.429814e+00  2.250380e+00   \n",
       "\n",
       "       smoothness_mean  compactness_mean  concavity_mean   points_mean  \\\n",
       "count     5.690000e+02      5.690000e+02    5.690000e+02  5.690000e+02   \n",
       "mean      1.191587e-15      4.877957e-18    1.022420e-16  7.024258e-18   \n",
       "std       1.000880e+00      1.000880e+00    1.000880e+00  1.000880e+00   \n",
       "min      -2.800558e+00     -1.699191e+00   -1.177440e+00 -1.291295e+00   \n",
       "25%      -7.237785e-01     -7.762471e-01   -7.770901e-01 -7.511308e-01   \n",
       "50%      -2.895864e-02     -2.146581e-01   -3.439642e-01 -4.003299e-01   \n",
       "75%       6.607414e-01      5.508135e-01    5.927146e-01  6.768071e-01   \n",
       "max       2.737521e+00      2.541404e+00    2.647422e+00  2.818714e+00   \n",
       "\n",
       "       symmetry_mean  dimension_mean     radius_se    texture_se  \\\n",
       "count   5.690000e+02    5.690000e+02  5.690000e+02  5.690000e+02   \n",
       "mean   -3.707247e-17    1.910988e-15  2.489709e-16 -2.313127e-16   \n",
       "std     1.000880e+00    1.000880e+00  1.000880e+00  1.000880e+00   \n",
       "min    -2.669855e+00   -1.971880e+00 -1.342941e+00 -1.727281e+00   \n",
       "25%    -7.231654e-01   -7.648199e-01 -7.486422e-01 -7.507268e-01   \n",
       "50%    -5.891024e-02   -1.659685e-01 -2.973876e-01 -1.856572e-01   \n",
       "75%     5.746279e-01    5.482866e-01  4.630598e-01  5.688684e-01   \n",
       "max     2.521318e+00    2.517947e+00  2.280613e+00  2.548261e+00   \n",
       "\n",
       "       perimeter_se       area_se  smoothness_se  compactness_se  \\\n",
       "count  5.690000e+02  5.690000e+02   5.690000e+02    5.690000e+02   \n",
       "mean  -7.692538e-17  2.946286e-17   2.665316e-16   -2.356053e-17   \n",
       "std    1.000880e+00  1.000880e+00   1.000880e+00    1.000880e+00   \n",
       "min   -1.385466e+00 -1.160026e+00  -2.144171e+00   -1.298098e+00   \n",
       "25%   -7.797939e-01 -7.048727e-01  -7.088254e-01   -6.929263e-01   \n",
       "50%   -2.939721e-01 -4.296716e-01  -2.058731e-01   -2.810204e-01   \n",
       "75%    4.693601e-01  4.214744e-01   5.275817e-01    3.896541e-01   \n",
       "max    2.343091e+00  2.110995e+00   2.382192e+00    6.143482e+00   \n",
       "\n",
       "       concavity_se     points_se   symmetry_se  dimension_se  radius_worst  \\\n",
       "count  5.690000e+02  5.690000e+02  5.690000e+02  5.690000e+02  5.690000e+02   \n",
       "mean  -3.795051e-17  1.439973e-16 -5.808671e-16  9.990056e-17 -7.301326e-16   \n",
       "std    1.000880e+00  1.000880e+00  1.000880e+00  1.000880e+00  1.000880e+00   \n",
       "min   -1.461044e+00 -2.116403e+00 -1.852580e+00 -1.515968e+00 -1.800893e+00   \n",
       "25%   -7.270727e-01 -7.230329e-01 -7.442244e-01 -7.551890e-01 -6.925011e-01   \n",
       "50%   -2.017650e-01 -1.224864e-01 -2.005545e-01 -2.272763e-01 -2.648538e-01   \n",
       "75%    5.842510e-01  5.670840e-01  5.228157e-01  5.435099e-01  5.686221e-01   \n",
       "max    2.551236e+00  2.502259e+00  2.423376e+00  2.491558e+00  2.460307e+00   \n",
       "\n",
       "       texture_worst  perimeter_worst    area_worst  smoothness_worst  \\\n",
       "count   5.690000e+02     5.690000e+02  5.690000e+02      5.690000e+02   \n",
       "mean   -3.861391e-16    -1.717041e-17 -1.229245e-16      3.344327e-16   \n",
       "std     1.000880e+00     1.000880e+00  1.000880e+00      1.000880e+00   \n",
       "min    -2.252978e+00    -1.763105e+00 -1.398716e+00     -2.677510e+00   \n",
       "25%    -7.552307e-01    -7.076603e-01 -7.041009e-01     -6.999628e-01   \n",
       "50%    -3.941976e-02    -2.832903e-01 -3.438521e-01     -4.078051e-02   \n",
       "75%     6.730849e-01     5.854938e-01  4.925901e-01      6.184018e-01   \n",
       "max     2.815558e+00     2.525225e+00  2.287627e+00      2.595949e+00   \n",
       "\n",
       "       compactness_worst  concavity_worst  points_worst  symmetry_worst  \\\n",
       "count       5.690000e+02     5.690000e+02  5.690000e+02    5.690000e+02   \n",
       "mean        5.229170e-17    -7.199865e-17  2.224348e-16   -2.722876e-16   \n",
       "std         1.000880e+00     1.000880e+00  1.000880e+00    1.000880e+00   \n",
       "min        -1.559587e+00    -1.362240e+00 -1.745063e+00   -2.436155e+00   \n",
       "25%        -7.194426e-01    -7.818702e-01 -7.563999e-01   -6.914798e-01   \n",
       "50%        -2.661248e-01    -2.131581e-01 -2.234689e-01   -1.006315e-01   \n",
       "75%         6.250965e-01     5.785783e-01  7.125100e-01    5.626793e-01   \n",
       "max         2.641905e+00     2.619251e+00  2.685877e+00    2.443918e+00   \n",
       "\n",
       "       dimension_worst   diagnosis_B  \n",
       "count     5.690000e+02  5.690000e+02  \n",
       "mean     -1.351194e-17 -5.073075e-18  \n",
       "std       1.000880e+00  1.000880e+00  \n",
       "min      -1.771202e+00 -1.297676e+00  \n",
       "25%      -7.436156e-01 -1.297676e+00  \n",
       "50%      -2.066671e-01  7.706085e-01  \n",
       "75%       5.468131e-01  7.706085e-01  \n",
       "max       2.482456e+00  7.706085e-01  "
      ]
     },
     "execution_count": 85,
     "metadata": {},
     "output_type": "execute_result"
    }
   ],
   "source": [
    "xscaled=x.apply(zscore) # convert all attributes\n",
    "xscaled.describe()"
   ]
  },
  {
   "cell_type": "code",
   "execution_count": 86,
   "id": "429653da",
   "metadata": {},
   "outputs": [],
   "source": [
    "x_train , x_test, y_train,y_test=train_test_split(xscaled,y,test_size=0.30,random_state=1)"
   ]
  },
  {
   "cell_type": "code",
   "execution_count": 87,
   "id": "4e23c15e",
   "metadata": {},
   "outputs": [
    {
     "data": {
      "text/plain": [
       "KNeighborsClassifier(n_neighbors=3)"
      ]
     },
     "execution_count": 87,
     "metadata": {},
     "output_type": "execute_result"
    }
   ],
   "source": [
    "NNH =KNeighborsClassifier(n_neighbors=3)\n",
    "NNH.fit(x_train,y_train)"
   ]
  },
  {
   "cell_type": "code",
   "execution_count": 88,
   "id": "fbb7bbc7",
   "metadata": {},
   "outputs": [
    {
     "data": {
      "text/plain": [
       "0.9974874371859297"
      ]
     },
     "execution_count": 88,
     "metadata": {},
     "output_type": "execute_result"
    }
   ],
   "source": [
    "predicted_label=NNH.predict(x_test)\n",
    "NNH.score(x_train,y_train)"
   ]
  },
  {
   "cell_type": "code",
   "execution_count": 89,
   "id": "7e8a90e7",
   "metadata": {},
   "outputs": [
    {
     "data": {
      "text/plain": [
       "0.9941520467836257"
      ]
     },
     "execution_count": 89,
     "metadata": {},
     "output_type": "execute_result"
    }
   ],
   "source": [
    "NNH.score(x_test,y_test)"
   ]
  },
  {
   "cell_type": "code",
   "execution_count": null,
   "id": "f2b59cd8",
   "metadata": {},
   "outputs": [],
   "source": []
  },
  {
   "cell_type": "code",
   "execution_count": null,
   "id": "439b87fd",
   "metadata": {},
   "outputs": [],
   "source": []
  }
 ],
 "metadata": {
  "kernelspec": {
   "display_name": "Python 3 (ipykernel)",
   "language": "python",
   "name": "python3"
  },
  "language_info": {
   "codemirror_mode": {
    "name": "ipython",
    "version": 3
   },
   "file_extension": ".py",
   "mimetype": "text/x-python",
   "name": "python",
   "nbconvert_exporter": "python",
   "pygments_lexer": "ipython3",
   "version": "3.9.7"
  }
 },
 "nbformat": 4,
 "nbformat_minor": 5
}
